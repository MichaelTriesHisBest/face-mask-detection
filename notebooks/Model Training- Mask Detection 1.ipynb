{
 "cells": [
  {
   "cell_type": "code",
<<<<<<< HEAD
   "execution_count": 4,
=======
   "execution_count": 2,
>>>>>>> 93a8d083bac81946b6531b5cabf0820191bd57a0
   "metadata": {
    "ExecuteTime": {
     "end_time": "2020-11-16T02:43:55.518669Z",
     "start_time": "2020-11-16T02:43:52.620853Z"
    },
    "code_folding": []
   },
   "outputs": [],
   "source": [
    "# our nice list of imports is in here\n",
    "#i hate this, but the notebook won't recognize our custom modules w/o it\n",
    "import sys\n",
    "sys.path.append(\"..\")\n",
    "import lib\n",
    "from lib import utils\n",
    "\n",
    "import numpy as np\n",
    "import pandas as pd\n",
    "import os\n",
    "import urllib\n",
    "import random\n",
    "from shutil import copyfile\n",
    "import matplotlib.pyplot as plt\n",
    "import cv2\n",
    "import matplotlib.patches as patches\n",
    "\n",
    "import tensorflow as tf\n",
    "import keras\n",
    "from keras.utils import to_categorical\n",
    "from keras.layers import Flatten, Dense, Conv2D, MaxPooling2D, Dropout\n",
    "from keras.models import Sequential        # keras is only compatible with python 3.6 or lower\n",
    "from tensorflow.keras.preprocessing.image import ImageDataGenerator, array_to_img, img_to_array, load_img\n",
    "from tensorflow.keras.callbacks import TensorBoard, ModelCheckpoint\n",
    "from tensorflow.keras.models import load_model\n",
    "from tensorflow.keras.applications.mobilenet_v2 import preprocess_input\n",
    "\n",
    "\n",
    "from skimage import io, data\n",
    "from skimage.util import img_as_ubyte\n",
    "from skimage.transform import rescale\n",
    "\n",
    "import sklearn\n",
    "from sklearn.preprocessing import LabelEncoder\n",
    "\n",
    "from mtcnn.mtcnn import MTCNN\n",
    "\n",
    "from IPython.display import clear_output\n",
    "\n",
    "import seaborn as sns\n",
    "%matplotlib inline\n",
    "sns.set_style(\"darkgrid\")"
   ]
  },
  {
   "cell_type": "markdown",
   "metadata": {},
   "source": [
    "# Face Mask Detection\n",
    "\n",
    "\n",
    "### Brief Overview\n",
    "\n",
    "Simply put, our goal is to create a neural network that will (1) identify face masks or lack thereof on a human face, and (2) determine whether that facemask is correctly worn.\n",
    "\n",
    "\n",
    "Luckily for us, Kaggle had a contest earlier this year related to (1) -- so a dataset was readily available, and it has proven to be quite effective at training a mask/no-mask neural net with our testing images. (Kaggle)\n",
    "\n",
    "\n",
    "However, the dataset is extremely lacking when it comes to incorrect mask usage.  We did locate an additional dataset that consists only of faces with correctly worn masks and incorrectly worn masks. (CMFD/IMFD)\n",
    "\n",
    "### Data\n",
    "\n",
    "1. Training Data - We have training data from both datasets.  The images in each set have been pre-processed with relevant data written to CSV files to ease the process load.\n",
    "  + Kaggle Dataset -- \n",
    "2. Testing Data - Our testing data consists of \n",
    "\n",
    "\n",
    "### Models\n",
    "\n",
    "To that end, we need a few different models:\n",
    "1. One to predict whether there's a mask on a face or no mask\n",
    "  + For this, we will use the Kaggle Dataset, and focus on the two largest features available in it: whether there is a face mask or not.\n",
    "  + Potentially, we could add the data from the CMFD/IMFD dataset as representations of masks for the training set, since we'll be determining whether they're correct or incorrectly worn in the next stage.  The only concern there is a dataset that's very, very heavy on masks vs. no masks\n",
    "2. One to predict whether, given a mask is on a face, it is worn correctly\n",
    "  + For this, we will use the CMFD/IMFD dataset.  There are only two features to this dataset: correctly worn and incorrectly worn face masks.\n",
    "\n",
    "\n"
   ]
  },
  {
   "cell_type": "code",
<<<<<<< HEAD
   "execution_count": 5,
=======
   "execution_count": 3,
>>>>>>> 93a8d083bac81946b6531b5cabf0820191bd57a0
   "metadata": {
    "ExecuteTime": {
     "end_time": "2020-11-16T02:43:55.601643Z",
     "start_time": "2020-11-16T02:43:55.555302Z"
    }
   },
   "outputs": [],
   "source": [
    "# define directory paths for easier navigation\n",
    "NOTEBOOK_DIR = !pwd\n",
    "NOTEBOOK_DIR = NOTEBOOK_DIR[0]\n",
    "ROOT_DIR = os.path.abspath(os.path.join(NOTEBOOK_DIR, os.pardir))\n",
    "DATA_DIR = os.path.join(ROOT_DIR, 'data')\n",
    "IMAGES_DIR = os.path.join(DATA_DIR, 'images')\n",
    "IMG_DATA_DIR = os.path.join(DATA_DIR, 'img_data')\n",
    "KAGGLE_DIR = os.path.join(IMAGES_DIR, 'kaggle')\n",
    "HC_DATA_DIR = os.path.join(DATA_DIR, 'haar_cascades')\n",
    "\n",
    "# MNM_TRIAL_DIR = os.path.join(IMAGES_DIR, 'mnm_trial')\n",
    "# MNM_TRAINING = os.path.join(MNM_TRIAL_DIR, 'training')\n",
    "# MNM_TESTING = os.path.join(MNM_TRIAL_DIR, 'testing')\n",
    "\n",
    "PRAJNA_SRC_DIR = os.path.join(DATA_DIR, 'prajna-dataset')\n",
    "PMASK_SRC = os.path.join(PRAJNA_SRC_DIR, 'mask')\n",
    "PNOMASK_SRC = os.path.join(PRAJNA_SRC_DIR, 'nomask')\n",
    "\n",
    "PTRAINING_DIR = os.path.join(PRAJNA_SRC_DIR, 'dest/train')\n",
    "PTESTING_DIR = os.path.join(PRAJNA_SRC_DIR, 'dest/test')\n",
    "PVAL_DIR = os.path.join(PRAJNA_SRC_DIR, 'dest/val')\n",
    "\n",
    "PTRAINING_MASK = os.path.join(PRAJNA_SRC_DIR, 'dest/train/mask')\n",
    "PTESTING_MASK = os.path.join(PRAJNA_SRC_DIR, 'dest/test/mask')\n",
    "PVAL_MASK = os.path.join(PRAJNA_SRC_DIR, 'dest/val/mask')\n",
    "\n",
    "PTRAINING_NOMASK = os.path.join(PRAJNA_SRC_DIR, 'dest/train/nomask')\n",
    "PTESTING_NOMASK = os.path.join(PRAJNA_SRC_DIR, 'dest/test/nomask')\n",
    "PVAL_NOMASK = os.path.join(PRAJNA_SRC_DIR, 'dest/val/nomask')\n",
    "\n",
    "\n",
    "\n",
    "# MASK_SRC_DIR=os.path.join(MNM_TRIAL_DIR, 'mask')\n",
    "# TRAINING_MASK=os.path.join(MNM_TRAINING, 'mask')\n",
    "# TESTING_MASK=os.path.join(MNM_TESTING, 'mask')\n",
    "\n",
    "# NOMASK_SRC_DIR=os.path.join(MNM_TRIAL_DIR, 'nomask')\n",
    "# TRAINING_NOMASK=os.path.join(MNM_TRAINING, 'nomask')\n",
    "# TESTING_NOMASK=os.path.join(MNM_TESTING, 'nomask')\n",
    "\n",
    "KAGGLE_IMAGES_DIR = \"https://github.com/brtonnies/face-mask-detection/blob/data-branch/data/images\"\n",
    "# CMFD_IMAGES_DIR = \"https://github.com/brtonnies/face-mask-detection/blob/data-branch/data/images/CMFD/images\"\n",
    "# IMFD_IMAGES_DIR = \"https://github.com/brtonnies/face-mask-detection/blob/data-branch/data/images/IMFD/images\""
   ]
  },
  {
   "cell_type": "markdown",
   "metadata": {
    "pycharm": {
     "name": "#%%\n"
    }
   },
   "source": [
    "# Mask vs. No Mask (MNM)"
   ]
  },
  {
   "cell_type": "code",
   "execution_count": null,
   "metadata": {
    "ExecuteTime": {
     "end_time": "2020-11-12T20:23:06.319969Z",
     "start_time": "2020-11-12T20:23:06.317684Z"
    }
   },
   "outputs": [],
   "source": []
  },
  {
   "cell_type": "code",
   "execution_count": null,
   "metadata": {
    "ExecuteTime": {
     "end_time": "2020-11-12T20:23:06.660624Z",
     "start_time": "2020-11-12T20:23:06.658847Z"
    }
   },
   "outputs": [],
   "source": []
  },
  {
   "cell_type": "code",
   "execution_count": null,
   "metadata": {},
   "outputs": [],
   "source": []
  },
  {
   "cell_type": "markdown",
   "metadata": {},
   "source": [
    "## Model Preparations\n",
    "\n",
    "+ We keep pre-compiled versions of our different models on hand (again, to reduce process/load times)\n",
    "+ Unless the training data changes, we default to using those existing models"
   ]
  },
  {
   "cell_type": "markdown",
   "metadata": {
    "ExecuteTime": {
     "end_time": "2020-11-12T20:23:08.127649Z",
     "start_time": "2020-11-12T20:23:08.125432Z"
    }
   },
   "source": [
    "1. First model used ONLY Prajna Dataset (97% acc)\n",
    "2. Second model is training now, with additional 'no mask' images from Kaggle\n",
    "3. Third will have additional 'mask' images from kaggle\n",
    "\n",
    "**DON'T FORGET TO REVERT IMAGES TO BEST MODEL VERSION**"
   ]
  },
  {
   "cell_type": "code",
   "execution_count": null,
   "metadata": {
    "ExecuteTime": {
     "end_time": "2020-11-12T20:23:08.590623Z",
     "start_time": "2020-11-12T20:23:08.588383Z"
    }
   },
   "outputs": [],
   "source": []
  },
  {
   "cell_type": "code",
   "execution_count": null,
   "metadata": {
    "ExecuteTime": {
     "end_time": "2020-11-12T20:23:09.142895Z",
     "start_time": "2020-11-12T20:23:09.141052Z"
    }
   },
   "outputs": [],
   "source": []
  },
  {
   "cell_type": "code",
<<<<<<< HEAD
   "execution_count": 9,
=======
   "execution_count": 4,
>>>>>>> 93a8d083bac81946b6531b5cabf0820191bd57a0
   "metadata": {
    "ExecuteTime": {
     "end_time": "2020-11-16T02:44:01.692900Z",
     "start_time": "2020-11-16T02:43:59.685703Z"
    }
   },
   "outputs": [],
   "source": [
    "def split_data(src, train, test, split_size):\n",
    "    dataset = []\n",
    "    \n",
    "    for unitData in os.listdir(src):\n",
    "        data = os.path.join(src, unitData)\n",
    "        if(os.path.getsize(data) > 0 and os.path.isfile(data)):\n",
    "            dataset.append(unitData)\n",
    "        else:\n",
    "            print('Skipped ' + unitData)\n",
    "            print('Invalid file i.e zero size')\n",
    "    \n",
    "    train_set_length = int(len(dataset) * split_size)\n",
    "    test_set_length = int(len(dataset) - train_set_length)\n",
    "    shuffled_set = random.sample(dataset, len(dataset))\n",
    "    train_set = dataset[0:train_set_length]\n",
    "    test_set = dataset[-test_set_length:]\n",
    "       \n",
    "    for unitData in train_set:\n",
    "        temp_train_set = os.path.join(src, unitData)\n",
    "        final_train_set = os.path.join(train, unitData)\n",
    "        \n",
    "        copyfile(temp_train_set, final_train_set)\n",
    "    \n",
    "    for unitData in test_set:\n",
    "        temp_test_set = os.path.join(src, unitData)\n",
    "        final_test_set = os.path.join(test, unitData)\n",
    "        copyfile(temp_test_set, final_test_set)\n",
    "\n",
    "        \n",
    "split_size = 0.8\n",
    "split_data(PMASK_SRC, PTRAINING_MASK, PTESTING_MASK, split_size)\n",
    "split_data(PNOMASK_SRC, PTRAINING_NOMASK, PTESTING_NOMASK, split_size)\n"
   ]
  },
  {
   "cell_type": "code",
   "execution_count": null,
   "metadata": {
    "ExecuteTime": {
     "end_time": "2020-11-12T20:23:11.386097Z",
     "start_time": "2020-11-12T20:23:11.384123Z"
    }
   },
   "outputs": [],
   "source": []
  },
  {
   "cell_type": "code",
   "execution_count": null,
   "metadata": {
    "ExecuteTime": {
     "end_time": "2020-11-12T20:23:11.807979Z",
     "start_time": "2020-11-12T20:23:11.805661Z"
    }
   },
   "outputs": [],
   "source": []
  },
  {
   "cell_type": "markdown",
   "metadata": {
    "ExecuteTime": {
     "start_time": "2020-11-11T19:57:01.408Z"
    }
   },
   "source": [
    "## Keras Sequential Model\n",
    "\n",
    "#### Building the Model\n",
    "In this proposed method, the Face Mask detection model is built using the Sequential API of the keras library. This allows us to create the new layers for our model step by step. The various layers used for our CNN model is described below.\n",
    "\n",
    "1. The first layer is Conv2D with **100 kernels** of size $3\\times3$. \n",
    "  + The activation function is ‘ReLu’.  \n",
    "  + The input size is set to $150\\times 150 \\times 3$ for all the images to be trained and tested\n",
    "\n",
    "2. MaxPooling2D is used for the second layer with pool size of $2 \\times 2$.\n",
    "\n",
    "3. The next layer is another Conv2D layer \n",
    "  + Has its own 100 kernels of the same size: $3\\times3$ \n",
    "  + Activation function is ‘ReLu’. \n",
    "  + The layer is followed by another MaxPooling2D layer with pool size $2 \\times 2$.\n",
    "\n",
    "4. Then the Flatten() layer to flatten *all* the layers into a single dimension.\n",
    "\n",
    "5. **NEW:** After the Flatten layer, we added dropout (0.5) layer to prevent the model from overfitting -- which was killing us in early trials.\n",
    "\n",
    "6. Then we used the Dense layer \n",
    "  + 50 'units' \n",
    "  + Activation function: ‘ReLu’.\n",
    "\n",
    "7. The last layer of our model will be another Dense Layer, with only two units and activation function ‘Softmax’. The softmax function outputs a vector representing the probability distributions of each of the input units. Here, two input units are used. The softmax function will output a vector with two probability distribution values: is there a mask on this face or not?"
   ]
  },
  {
   "cell_type": "code",
<<<<<<< HEAD
   "execution_count": 10,
=======
   "execution_count": 5,
>>>>>>> 93a8d083bac81946b6531b5cabf0820191bd57a0
   "metadata": {
    "ExecuteTime": {
     "end_time": "2020-11-16T02:44:04.296529Z",
     "start_time": "2020-11-16T02:44:03.854475Z"
    }
   },
   "outputs": [],
   "source": [
    "from keras.models import Sequential\n",
    "from keras.layers import Conv2D, MaxPooling2D\n",
    "from keras.layers import Activation, Dropout, Flatten, Dense\n",
    "\n",
    "kernel_size = (3, 3)\n",
    "image_shape = (150, 150, 3)\n",
    "\n",
    "model = tf.keras.models.Sequential([\n",
    "#     tf.keras.layers.Conv2D(100, kernel_size, activation='relu', input_shape=image_shape, strides=2),\n",
    "    tf.keras.layers.Conv2D(\n",
    "        100, \n",
    "        kernel_size, \n",
    "        activation='relu', \n",
    "        input_shape=image_shape, \n",
    "        use_bias=True,                           # NEW\n",
    "        bias_initializer='zeros',                # NEW\n",
    "        strides=2),\n",
    "    tf.keras.layers.MaxPooling2D(2,2),\n",
    "    \n",
    "#     tf.keras.layers.Conv2D(32, (3,3), activation='tanh'),\n",
    "#     tf.keras.layers.MaxPooling2D(2,2),\n",
    "    \n",
    "    tf.keras.layers.Conv2D(100, kernel_size, activation='relu'),\n",
    "    tf.keras.layers.MaxPooling2D(2,2),\n",
    "    \n",
    "    tf.keras.layers.Flatten(),\n",
    "    tf.keras.layers.Dropout(0.5),   # previously we were way overfitting, so we added dropout\n",
<<<<<<< HEAD
    "    tf.keras.layers.Dense(140, activation= layer),\n",
=======
    "    tf.keras.layers.Dense(50, activation='relu'),\n",
>>>>>>> 93a8d083bac81946b6531b5cabf0820191bd57a0
    "    tf.keras.layers.Dense(2, activation='softmax'),\n",
    "])\n",
    "\n",
    "opt = tf.keras.optimizers.Adam(learning_rate=1e-2, epsilon=1e-4)\n",
    "model.compile(optimizer='adam', loss='binary_crossentropy', metrics=['acc'])"
   ]
  },
  {
   "cell_type": "code",
   "execution_count": null,
   "metadata": {},
   "outputs": [],
   "source": []
  },
  {
   "cell_type": "code",
<<<<<<< HEAD
   "execution_count": 11,
=======
   "execution_count": 6,
>>>>>>> 93a8d083bac81946b6531b5cabf0820191bd57a0
   "metadata": {
    "ExecuteTime": {
     "end_time": "2020-11-16T02:44:06.158282Z",
     "start_time": "2020-11-16T02:44:05.936506Z"
    }
   },
   "outputs": [
    {
     "name": "stdout",
     "output_type": "stream",
     "text": [
      "Found 1102 images belonging to 2 classes.\n",
      "Found 278 images belonging to 2 classes.\n"
     ]
    }
   ],
   "source": [
    "train_datagen = ImageDataGenerator(rescale=1.0/255,\n",
    "                                   rotation_range=40,\n",
    "                                   width_shift_range=0.2,\n",
    "                                   height_shift_range=0.2,\n",
    "                                   shear_range=0.2,\n",
    "                                   zoom_range=0.2,\n",
    "                                   horizontal_flip=True,\n",
    "                                   fill_mode='nearest')\n",
    "\n",
    "train_generator = train_datagen.flow_from_directory(PTRAINING_DIR, \n",
    "                                                    batch_size=10, \n",
    "                                                    target_size=(150, 150))\n",
    "\n",
    "validation_datagen = ImageDataGenerator(rescale=1.0/255)\n",
    "\n",
    "validation_generator = validation_datagen.flow_from_directory(PTESTING_DIR, \n",
    "                                                              batch_size=10, \n",
    "                                                              target_size=(150, 150))\n",
    "\n",
    "# (1) train the all data extended model\n",
    "# (2) re-train prajna, prajna-kaggle-mask to save new checkpoints (and load them :D)\n",
    "# (3) also try and do one model where only new masks are added to the set\n",
    "\n",
    "model_path = '../models/mnm/prajna'\n",
    "checkpoint_path = '../models/mnm/prajna.checkpoint'\n",
    "\n",
    "# model_path = '../models/mnm/prajna-kaggle-nomask-extend'\n",
    "# checkpoint_path = '../models/mnm/prajna-kaggle-nomask-extend-{epoch:03d}.model'\n",
    "# model_path = '../models/mnm/prajna-kaggle-mask-extend'\n",
    "# checkpoint_path = '../models/mnm/prajna-kaggle-mask-extend-{epoch:03d}.model'\n",
    "# model_path = '../models/mnm/prajna-kaggle-all-extend'\n",
    "# checkpoint_path = '../models/mnm/prajna-kaggle-all-extend-{epoch:03d}.model'\n",
    "\n",
    "\n",
    "# NOTE: here's something cool - we can use checkpoints\n",
    "#       to save/load the weights from previous model training\n",
    "# if os.path.exists(checkpoint_path):\n",
    "#     model.load_weights(os.path.join(checkpoint_path, 'variables/variables'))\n",
    "    \n",
    "# alternatively, we can load the whole model from the checkpoint state\n",
    "# if os.path.exist(checkpoint_path):\n",
    "#     model = load_model(checkpoint_path_path)\n",
    "\n",
    "checkpoint = ModelCheckpoint(\n",
    "    checkpoint_path, \n",
    "    monitor = 'val_loss', \n",
    "    verbose = 1, \n",
    "    save_best_only = True,\n",
    "    mode = 'auto'\n",
    ")\n"
   ]
  },
  {
   "cell_type": "code",
<<<<<<< HEAD
   "execution_count": 12,
=======
   "execution_count": 7,
>>>>>>> 93a8d083bac81946b6531b5cabf0820191bd57a0
   "metadata": {
    "ExecuteTime": {
     "end_time": "2020-11-16T03:37:54.023554Z",
     "start_time": "2020-11-16T02:44:07.313035Z"
    }
   },
   "outputs": [
    {
     "name": "stdout",
     "output_type": "stream",
     "text": [
<<<<<<< HEAD
      "Epoch 1/20\n",
      "110/111 [============================>.] - ETA: 1s - loss: 0.6200 - acc: 0.6484\n",
      "Epoch 00001: val_loss improved from inf to 0.26975, saving model to ../models/mnm/prajna_softmax_leakyRELUalpha.01.checkpoint\n",
      "WARNING:tensorflow:From /Users/kellymcgaw/opt/anaconda3/envs/mm/lib/python3.6/site-packages/tensorflow_core/python/ops/resource_variable_ops.py:1781: calling BaseResourceVariable.__init__ (from tensorflow.python.ops.resource_variable_ops) with constraint is deprecated and will be removed in a future version.\n",
      "Instructions for updating:\n",
      "If using Keras pass *_constraint arguments to layers.\n",
      "INFO:tensorflow:Assets written to: ../models/mnm/prajna_softmax_leakyRELUalpha.01.checkpoint/assets\n",
      "111/111 [==============================] - 150s 1s/step - loss: 0.6180 - acc: 0.6497 - val_loss: 0.2698 - val_acc: 0.9245\n",
      "Epoch 2/20\n",
      "110/111 [============================>.] - ETA: 1s - loss: 0.3565 - acc: 0.8581\n",
      "Epoch 00002: val_loss improved from 0.26975 to 0.17098, saving model to ../models/mnm/prajna_softmax_leakyRELUalpha.01.checkpoint\n",
      "INFO:tensorflow:Assets written to: ../models/mnm/prajna_softmax_leakyRELUalpha.01.checkpoint/assets\n",
      "111/111 [==============================] - 138s 1s/step - loss: 0.3543 - acc: 0.8593 - val_loss: 0.1710 - val_acc: 0.9532\n",
      "Epoch 3/20\n",
      "110/111 [============================>.] - ETA: 1s - loss: 0.3034 - acc: 0.8819\n",
      "Epoch 00003: val_loss improved from 0.17098 to 0.12910, saving model to ../models/mnm/prajna_softmax_leakyRELUalpha.01.checkpoint\n",
      "INFO:tensorflow:Assets written to: ../models/mnm/prajna_softmax_leakyRELUalpha.01.checkpoint/assets\n",
      "111/111 [==============================] - 134s 1s/step - loss: 0.3020 - acc: 0.8829 - val_loss: 0.1291 - val_acc: 0.9604\n",
      "Epoch 4/20\n",
      "110/111 [============================>.] - ETA: 1s - loss: 0.2491 - acc: 0.9075\n",
      "Epoch 00004: val_loss did not improve from 0.12910\n",
      "111/111 [==============================] - 129s 1s/step - loss: 0.2493 - acc: 0.9074 - val_loss: 0.1383 - val_acc: 0.9460\n",
      "Epoch 5/20\n",
      "110/111 [============================>.] - ETA: 1s - loss: 0.2434 - acc: 0.9048\n",
      "Epoch 00005: val_loss improved from 0.12910 to 0.11400, saving model to ../models/mnm/prajna_softmax_leakyRELUalpha.01.checkpoint\n",
      "INFO:tensorflow:Assets written to: ../models/mnm/prajna_softmax_leakyRELUalpha.01.checkpoint/assets\n",
      "111/111 [==============================] - 129s 1s/step - loss: 0.2436 - acc: 0.9038 - val_loss: 0.1140 - val_acc: 0.9532\n",
      "Epoch 6/20\n",
      "110/111 [============================>.] - ETA: 1s - loss: 0.2062 - acc: 0.9249\n",
      "Epoch 00006: val_loss improved from 0.11400 to 0.09853, saving model to ../models/mnm/prajna_softmax_leakyRELUalpha.01.checkpoint\n",
      "INFO:tensorflow:Assets written to: ../models/mnm/prajna_softmax_leakyRELUalpha.01.checkpoint/assets\n",
      "111/111 [==============================] - 129s 1s/step - loss: 0.2090 - acc: 0.9238 - val_loss: 0.0985 - val_acc: 0.9640\n",
      "Epoch 7/20\n",
      "110/111 [============================>.] - ETA: 1s - loss: 0.1716 - acc: 0.9313\n",
      "Epoch 00007: val_loss improved from 0.09853 to 0.06806, saving model to ../models/mnm/prajna_softmax_leakyRELUalpha.01.checkpoint\n",
      "INFO:tensorflow:Assets written to: ../models/mnm/prajna_softmax_leakyRELUalpha.01.checkpoint/assets\n",
      "111/111 [==============================] - 129s 1s/step - loss: 0.1703 - acc: 0.9319 - val_loss: 0.0681 - val_acc: 0.9712\n",
      "Epoch 8/20\n",
      "110/111 [============================>.] - ETA: 1s - loss: 0.1567 - acc: 0.9423\n",
      "Epoch 00008: val_loss improved from 0.06806 to 0.06086, saving model to ../models/mnm/prajna_softmax_leakyRELUalpha.01.checkpoint\n",
      "INFO:tensorflow:Assets written to: ../models/mnm/prajna_softmax_leakyRELUalpha.01.checkpoint/assets\n",
      "111/111 [==============================] - 129s 1s/step - loss: 0.1559 - acc: 0.9428 - val_loss: 0.0609 - val_acc: 0.9748\n",
      "Epoch 9/20\n",
      "110/111 [============================>.] - ETA: 1s - loss: 0.1610 - acc: 0.9396\n",
      "Epoch 00009: val_loss improved from 0.06086 to 0.05156, saving model to ../models/mnm/prajna_softmax_leakyRELUalpha.01.checkpoint\n",
      "INFO:tensorflow:Assets written to: ../models/mnm/prajna_softmax_leakyRELUalpha.01.checkpoint/assets\n",
      "111/111 [==============================] - 130s 1s/step - loss: 0.1601 - acc: 0.9401 - val_loss: 0.0516 - val_acc: 0.9856\n",
      "Epoch 10/20\n",
      "110/111 [============================>.] - ETA: 1s - loss: 0.1564 - acc: 0.9341\n",
      "Epoch 00010: val_loss improved from 0.05156 to 0.04845, saving model to ../models/mnm/prajna_softmax_leakyRELUalpha.01.checkpoint\n",
      "INFO:tensorflow:Assets written to: ../models/mnm/prajna_softmax_leakyRELUalpha.01.checkpoint/assets\n",
      "111/111 [==============================] - 140s 1s/step - loss: 0.1559 - acc: 0.9347 - val_loss: 0.0484 - val_acc: 0.9892\n",
      "Epoch 11/20\n",
      "110/111 [============================>.] - ETA: 1s - loss: 0.1717 - acc: 0.9341\n",
      "Epoch 00011: val_loss did not improve from 0.04845\n",
      "111/111 [==============================] - 141s 1s/step - loss: 0.1714 - acc: 0.9347 - val_loss: 0.0591 - val_acc: 0.9784\n",
      "Epoch 12/20\n",
      "110/111 [============================>.] - ETA: 1s - loss: 0.1234 - acc: 0.9570\n",
      "Epoch 00012: val_loss improved from 0.04845 to 0.03464, saving model to ../models/mnm/prajna_softmax_leakyRELUalpha.01.checkpoint\n",
      "INFO:tensorflow:Assets written to: ../models/mnm/prajna_softmax_leakyRELUalpha.01.checkpoint/assets\n",
      "111/111 [==============================] - 140s 1s/step - loss: 0.1225 - acc: 0.9574 - val_loss: 0.0346 - val_acc: 0.9856\n",
      "Epoch 13/20\n",
      "110/111 [============================>.] - ETA: 1s - loss: 0.1287 - acc: 0.9524\n",
      "Epoch 00013: val_loss did not improve from 0.03464\n",
      "111/111 [==============================] - 136s 1s/step - loss: 0.1278 - acc: 0.9528 - val_loss: 0.0476 - val_acc: 0.9928\n",
      "Epoch 14/20\n",
      "110/111 [============================>.] - ETA: 1s - loss: 0.1078 - acc: 0.9560\n",
      "Epoch 00014: val_loss did not improve from 0.03464\n",
      "111/111 [==============================] - 131s 1s/step - loss: 0.1080 - acc: 0.9555 - val_loss: 0.0458 - val_acc: 0.9856\n",
      "Epoch 15/20\n",
      "110/111 [============================>.] - ETA: 1s - loss: 0.1022 - acc: 0.9689\n",
      "Epoch 00015: val_loss improved from 0.03464 to 0.03437, saving model to ../models/mnm/prajna_softmax_leakyRELUalpha.01.checkpoint\n",
      "INFO:tensorflow:Assets written to: ../models/mnm/prajna_softmax_leakyRELUalpha.01.checkpoint/assets\n",
      "111/111 [==============================] - 134s 1s/step - loss: 0.1017 - acc: 0.9691 - val_loss: 0.0344 - val_acc: 0.9928\n",
      "Epoch 16/20\n",
      "110/111 [============================>.] - ETA: 1s - loss: 0.1191 - acc: 0.9634\n",
      "Epoch 00016: val_loss improved from 0.03437 to 0.02679, saving model to ../models/mnm/prajna_softmax_leakyRELUalpha.01.checkpoint\n",
      "INFO:tensorflow:Assets written to: ../models/mnm/prajna_softmax_leakyRELUalpha.01.checkpoint/assets\n",
      "111/111 [==============================] - 129s 1s/step - loss: 0.1196 - acc: 0.9628 - val_loss: 0.0268 - val_acc: 0.9964\n",
      "Epoch 17/20\n",
      "110/111 [============================>.] - ETA: 1s - loss: 0.0864 - acc: 0.9689\n",
      "Epoch 00017: val_loss did not improve from 0.02679\n",
      "111/111 [==============================] - 129s 1s/step - loss: 0.0858 - acc: 0.9691 - val_loss: 0.0854 - val_acc: 0.9712\n",
      "Epoch 18/20\n",
      "110/111 [============================>.] - ETA: 1s - loss: 0.0815 - acc: 0.9698\n",
      "Epoch 00018: val_loss did not improve from 0.02679\n",
      "111/111 [==============================] - 126s 1s/step - loss: 0.0808 - acc: 0.9701 - val_loss: 0.0304 - val_acc: 0.9892\n",
      "Epoch 19/20\n",
      "110/111 [============================>.] - ETA: 1s - loss: 0.1127 - acc: 0.9625\n",
      "Epoch 00019: val_loss did not improve from 0.02679\n",
      "111/111 [==============================] - 125s 1s/step - loss: 0.1117 - acc: 0.9628 - val_loss: 0.0452 - val_acc: 0.9820\n",
      "Epoch 20/20\n",
      "110/111 [============================>.] - ETA: 1s - loss: 0.0717 - acc: 0.9734\n",
      "Epoch 00020: val_loss did not improve from 0.02679\n",
      "111/111 [==============================] - 125s 1s/step - loss: 0.0716 - acc: 0.9737 - val_loss: 0.0496 - val_acc: 0.9820\n"
     ]
    },
    {
     "data": {
      "image/png": "iVBORw0KGgoAAAANSUhEUgAABCIAAAD/CAYAAAAkPnexAAAABHNCSVQICAgIfAhkiAAAAAlwSFlzAAALEgAACxIB0t1+/AAAADh0RVh0U29mdHdhcmUAbWF0cGxvdGxpYiB2ZXJzaW9uMy4yLjIsIGh0dHA6Ly9tYXRwbG90bGliLm9yZy+WH4yJAAAgAElEQVR4nOzdd3gU5fbA8e/sbEl2ExI6mECQ3qTEhkggoEjVC4QS9KIUQREpRkUgIgFpInK94hXUn9xrAQUNoCAiVwEpIioISIsKkkuClAgJbNqWmd8fC4GYTQghdTmf58lDMrMz857Jhp05877nVXRd1xFCCCGEEEIIIYQoBYayboAQQgghhBBCCCFuHJKIEEIIIYQQQgghRKmRRIQQQgghhBBCCCFKjSQihBBCCCGEEEIIUWokESGEEEIIIYQQQohSI4kIIYQQQgghhBBClBpJRAghhBBCCCGEEKLUSCJCiDIwfPhwzp49e03b/Pzzz4wbN66EWlRxrFy5kscee6ysmyGEEEJUSGVxDeKLn91Dhgxh/fr1Bb5m4cKFzJgxo5RaJETFIokIIcrA9u3br3mbW265hddee60EWiOEEEKIG4VcgwghygNjWTdAiBvN5MmTAXjkkUd46623eOihh2jVqhUJCQnExMRgNBp58803cTgcnD17lj59+jBhwgR27tzJiy++yNq1a5k0aRIBAQEkJCRw8uRJmjRpwksvvYTNZsv3uBkZGcTFxZGYmEhqaio2m4358+dTv359zpw5w7Rp0zh69CgGg4Ho6GgefvjhfJdfKTo6mmHDhtGtWzcAXn75ZQCGDh3Kc889x7lz5wDo1KkTEyZMyLXt8uXL2bRpE4sXLwbgyJEjDB06lM2bN7Nq1SqWL1+O0+kkLS2NkSNH8uCDDxb6PC9evJivv/6arKwsMjMzee655+jatSsul4uXX36ZzZs3o6oqbdu2Zdq0aRgMBq/LzWZzoY8phBBClGdldQ1ypZMnTxIXF0dycjK6rtOnTx8effRRXC4XL774Irt378ZkMhEaGsqcOXOwWCxel195vN9//53o6Gi2bt2K2WzG7XYTGRnJf/7zH44cOcKiRYtQFAVVVZk4cSK33357rjbldy0zZsyYfK+drtWvv/7KjBkzSE1NRVEUhg8fTp8+fUhPT2fy5MkkJiZiMBho0aIFM2bMIDMz0+tyg0GeIwvfIO9kIUrZnDlzAHj33XepXbs2AI0aNeKLL77g3nvvZcmSJcydO5eVK1eyfPly3nrrLa9dKPfv388777zDunXrSE5Ovmr3wC1btlCpUiWWL1/Ol19+ScuWLVm6dCkA06dPp169eqxfv57ly5ezYsUKEhMT811+pQEDBrBy5UoA3G43n332GQMGDGDFihWEhoayatUqli5dSmJiIhcuXMi1ba9evdi1axdnzpwBPF03+/XrR1ZWFh9//DFvvfUWq1ev5h//+EfORUFhJCcn8+233/L++++zZs0annrqqZwnOcuWLePAgQN8+umnrF27lvT0dNatW5fvciGEEMJXlNU1yJWeeeYZ7rzzTtasWcOHH37IZ599xueff86ePXv4/vvv+eyzz1i5ciV16tQhISEh3+VXuvnmm2nUqBEbN24EYNu2bYSGhtKgQQPmzZvHtGnTWLlyJePHj2fnzp152pTftUxB107XwuVyMXr0aIYMGcKaNWt4++23WbBgAT/99BP//e9/SU9P59NPP+WTTz4B4Pjx4/kuF8JXSI8IIcqB2267DQBFUVi8eDGbN29m7dq1HDlyBF3XyczMzLNNREREztP6xo0bk5aWVuAxunfvTp06dXj//fdJTEzk+++/p23btgB8++23PPvsswAEBgaydu3aApdfqWfPnsybN48zZ85w8OBB6tWrR7169YiIiGDUqFH88ccftG/fnqeffprAwMBc2wYEBNC1a1c+++wzhg4dypo1a1i6dCk2m43FixfzzTffcOzYMQ4fPkxGRkahz2dISAjz5s1jzZo1JCYmsnfvXtLT03Ni+tvf/oafnx8Ar776KgCPP/641+VCCCGELyuNa5BLMjIy2L17N0uWLAE81xb9+vVjy5YtxMbGoqoqAwYMoEOHDnTr1o1WrVpx/vx5r8v/qn///qxatYru3buzcuVKBg4cCHgeejz55JN06tSJu+++m5EjR+bZNr9rmXr16uV77XQtjh07RnZ2Nvfddx8ANWvW5L777mPr1q307duXf/zjHwwZMoT27dvzyCOPEBYWhsFg8LpcCF8hPSKEKAesVivg+YDu27cvBw4coHnz5kycOBGj0Yiu63m2uXTDDJ6LB2+vudKyZcuIjY3Fz8+P+++/n969e+dsYzQaURQl57XHjx/Hbrfnu/xK/v7+dOvWjbVr1xIfH8+AAQMAaNWqFV9//TWDBg0iOTmZAQMGsH///jztGjhwIKtXr2br1q00aNCAOnXqcPLkSfr06UNycjK33nprniEdV3PgwAEGDRqE3W7n7rvv5tFHH81ZZzTmzr+mpKRw+vTpfJcLIYQQvqw0rkEu0TQtz2s1TcPlclGpUiU+/fRTnnvuOVRVZcKECSxdujTf5X/Vo0cP9u7dy5EjR/jhhx/o3r07AE899RTLli2jZcuWrFy5koceeijPtvldyxR07XQt3G53ruspAF3Xcblc1KlTh//+97+MGjUKu93OsGHD2LhxY77LhfAVkogQogyoqorL5cqzPDExEbvdzoQJE+jSpQs7d+7E4XCgadp1H3Pbtm307duXAQMGcPPNN7Nx40bcbjcAd911F/Hx8QBcuHCBRx55hGPHjuW7/K8GDhzIqlWr2L17d874yvnz5/PGG29w7733EhsbS8OGDfn111/zbNumTRsA/vWvf+V88O/fv58qVarwxBNP0KFDBzZt2gSQ096r+eGHH2jZsiXDhg3jjjvu4Ouvv84V69q1a3POa1xcHJ9//nm+y4UQQghfUhbXIJcEBATQunXrnETChQsXWL16Ne3bt2fTpk0MHTqUtm3bMnbsWPr06cP+/fvzXf5XFouFXr16MWnSJO677z78/f1xuVx06dKFzMxMBg8ezLRp00hISMDhcOTZ3tu1TEHXTteifv36GI1GNmzYAMCpU6f48ssvad++PcuWLWPy5Ml06NCBZ599lg4dOnDw4MF8lwvhK2RohhBloHv37gwZMoSFCxfmWt6kSRMiIyPp0aMHZrOZxo0b07BhQxITE6+7aOLw4cN54YUXcsYZtmnThl9++QWAF154gbi4OO6//350Xeexxx6jZcuW+S7/q5YtW6KqKt27d8disQCeQliTJk2id+/emM1mmjRpQq9evby2bcCAATlJC4C7776bTz75hO7du6MoCnfccQdVqlTJU58iP71792bDhg306NEDTdPo3LkzaWlp2O12oqOjSU5Opl+/fui6zh133MGQIUNQFMXrciGEEMKXlMU1yJXmz5/PjBkzWLlyJQ6Hg/vvv59+/fqhaRpbtmyhd+/eWK1WgoKCePHFF6ldu7bX5d4MGDCADz74gLi4OMDTC3LKlCk888wzOb08Z8+e7TUeb9cyBV07XQuTycQbb7zBzJkzWbhwIW63mzFjxtCuXTtatWrF999/T8+ePfH396d27doMGTIEk8nkdbkQvkLRi9K/SAghhBBCCCGEEKIIpEeEED7kwQcfzCnK+FdLly4lICCglFtUcmbPnu218jV4pidr165dKbdICCGEuHHdSNcgl9jtdq81JwBsNhvLli0r5RYJUXFIjwghhBBCCCGEEEKUGilWKYQQQgghhBBCiFIjiQghhBBCCCGEEEKUmgpdI0LTNNzu4h1ZoqpKse+zPPDVuMB3Y/PVuEBiq4h8NS7wzdhMJrWsm3BDKe7rEV98T14isVU8vhoX+G5svhoXSGwVTUHXIxU6EeF266SmZhTrPoODrcW+z/LAV+MC343NV+MCia0i8tW4wDdjq149sKybcEMp7usRX3xPXiKxVTy+Ghf4bmy+GhdIbBVNQdcjMjRDCCGEEEIIIYQQpUYSEUIIIYQQQgghhCg1JZaI2Lt3L0OGDMmzfOPGjURFRTFo0CBWrFgBeMZWvvDCCwwaNIghQ4aQmJhYUs0SQgghhBBCCCFEGSqRGhFvv/02n332Gf7+/rmWO51O5syZwyeffIK/vz+DBw+mc+fO/PTTTzgcDpYvX86ePXuYO3cuixYtKommCSGEEEIIIYQQ18TtdnHu3BlcLkeJ7P/UKQVdr5jFKo1GM5UrV0dVC59eKJFERN26dVm4cCETJ07MtfzIkSPUrVuXoKAgAG699VZ+/PFH9uzZQ0REBABt2rRh//79JdEsIYQQ18gSvwLbrOkYkpOoEhJKeuw0sqMGlnWzhPBJ8fFGZs2ykJysEBJiIzY2m6goV1k3SwghBHDu3Bn8/KzYbLVQFKXY96+qBtxurdj3W9J0XSc9/Tznzp2hWrXahd6uRBIR3bp1IykpKc9yu91OYODlypk2mw273Y7dbicgICBnuaqquFwujMaCm6eqCsHB1uJrOJ43QHHvszzw1bjAd2Pz1bhAYqsolA+XoT49DiXDU8FZTTpO4NPjsFrN6IMfLOPWFR9f+p2Jiis+3khMjB+ZmZ6L26QkhZgYPyBLkhFCCFEOuFyOEktCVGSKomCzVcJuT72m7Up1+s6AgADS09Nzfk5PTycwMDDPck3TrpqEAJm+81r4alzgu7H5alxQcWK7sjeAVsjeAGUVW1HamouuQ3Y2+PkBYP58DYFPjc9JQlyiZGSgxMZyrkef4mx+maoo78drIdN3VjyzZllykhCXZGYqzJplkUSEEEKUE5KE8K4o56VUExENGjQgMTGR1NRUrFYrP/74IyNGjEBRFDZt2kTPnj3Zs2cPjRs3Ls1mCSFEHpb4FQTGjEXJzAQu9gaIGQtQ7oYm5NvWrGycER0xpJzBkHIG3WzBGdkFANuUZzH++guGlBSUlDMY/kzB0b0X55e8D0DgM+MwpJ7zejxDct4eb0KI65Oc7P0iLr/lQgghbizr1q0hMfEYo0ePLeumFItSmb5zzZo1LF++HJPJxKRJkxgxYgTR0dFERUVRs2ZNunbtitlsJjo6mjlz5jB58uTSaJYQIh+W+BVUCW9BtZpBVAlvgSV+RVk3qfRkZQFgmzU958b+EiUzE9v0qWXRKu90HcPx/xEwdZLXtlZ6agxVb7uFyt27EPT3QdhempmzXk08hmK/gDs0FMe995E5ZjxZffrlrE/97EvctW/yeliteg2MP+wsmZiu0w393hUVWkiI9wJl+S0XQghRvsXHGwkPt1GzZgDh4Tbi40u1D0C5V2JnIzQ0NGd6zvvvvz9neZcuXejSpUuu1xoMBmbMmFFSTRFCXIOK1BPgeqkH9mPasxv18EGMhw+hHj6EVr0GqRu35fvU33Dyj5zvbVMno9WshbtZM1xNm6PdFFIyDdV1DKdPoR49gvOuuz3HfmEKfh+8i8F+If/NgAuvLUKvWhWtWnW0mrVy1p1f+nGBh3Q3akz6CzNyvRcAdH9/tFq1qdyrK1nRD2GfOgO9evXri6+Y3EjvXVF0mqYRFxdHQkICZrOZmTNnEhYWlrN+3759zJ07F13XqV69Oi+//DIWi6XE2xUbm52rRgSAv79ObGx2iR9bCCFE8SrJuj8ffvgBX3+9AVVVad26LU88MY59+/bw+uuvYjQaCQwMZNq0maSkpDB79nSMRiOqqvL889OpXr1GMURXPCQtI0QFVqS6AG43ytmzoCjo1apBdjb+7y3xdM9PScHv4+UoWV56Asx4odzezBV4HjIzMf72C+rhQxgPH8KQfJwLi5cAYH3tFfxWxaP7++Nq3BRnZBdcrVoDoIWEoiYdz3MsrUZNzzfZ2Vg+W4X6x4nL6wIroU+eDI+OAbcb0/atuJo299yoXzF2rjC/N9P2rVg+XYmacBjj4YMYzp1DVxRSjp4Amw13o8ZkRT+Iu0kzrPNmo545nbetoXXIjn6oyOf1UpvytLVbT2z/eBn/xa9jXreW9EmxZA19FApR26ck2WbGee0ZEvD8JFxtw3GH3QyqWjaNE+XGV199le+U4bquM3XqVF577TXCwsL4+OOPSU5Opn79+iXeLs+FaRazZllISlIAheeek1kzhBCivOrTxz/PsgcecDF8uJOZM73X/ZkyxVP3588/FUaM8Mu1fs2aqyeek5L+x+7dP7J48RJUVSU2diLbt29lz57ddOrUmcGDh7Bt2xbOn7/ADz/spEmTpowdG8PevT9x4cJ5SUQIIa6f16e/E8Zg3L0Ld6PGaDfdhOO+HgAEDeyD4Y8TGFLOoJw9i6LrZA4dgX3eP0BVsT0/yZOYqFoN/pKEuET94wSVO96J8+4IHB064YzoiF4pqNTizU9BT8ENScexzXkRRfNMhaSbTLgbNga7HQICyJg4hfRJU9HqhuW5QU2Pnea1N0D69FkXD2zh7N7DKOfOYkw4jHroIMaEQ5gaeWrcqMeOEtz/AQC0qlVxNWmGu2kz3DVqYvvnK7nbO/ZxrK++gpJ6jtRPv0Cr3wDjwf1YVn6Cu0lTsnv3wdWsGe4mzcBkAiBryNDL7QoI8N7W2GnXfX6zowaSHTUwT0HH9KnTyRr8dwImP0PglIlgUMkaPvK6j1cUhj9O4Pef/8u/F8ufKVRpF47u54ercVOy7/8bmeOfBkA5dQqC6pVia0VZ27VrV75Thv/+++8EBwfz7rvv8ssvv9CpU6dSSUJcEhXlIirKxZkzVlq0UC/VjhVCCFHBnDjhvb7PuXPXV/fn119/oX37iJyJHVq3bsPvvx9hyJBhvPfeEsaPH0316jVo3rwlvXv/jaVL3+Xpp8diswXw2GNjruvYxU0SEUJUQMqpU9imTcn79Dc7G+vbnid72d165CQidH8r7oaNcba7G61aNbRq1XHd4nnyj9HIn4eOogdXBoOBKuEtvPcECApCq1Ubvw8/wP+dt0hdvgpn53tQj/7mGTLQrj16QClU6ne7PTM8GI0Yd/1AwF9uwOFiD45Z07nw2iIynnoWV7PmuJs2x31z/ZwbeQB3g0b5Hibf3gB/6bmgV66Cs117nO3aA54ZGEjNwF07hNRPPsN4+KCnV8Ohg1hWfAQWS972ulyoR3/z7Ptiz4nMoY+S+ejjuXpSXG9bi5u7YSPSVqzGvGE9jk6dATDu+gF3aF30mjVL9NiXWD5ZTuC40Z73hZ9fTo2PXO2sUYOMKdMu9oo5iJJxcZYmt5uqt7UEi4Xgxk1xNfUkixwdOuFu3iL3ca53VpL82l9C+xX5K2jK8HPnzvHTTz8xdepUwsLCePzxx2nZsiV33XVXgfss7unEq1QxMGmSRkSEieBg09U3qEB8ebpcX43NV+MC343NV+OCso3t1CkFVb1cYjH/HgwGQkL0i73bcgsN1VFVAzVqeN/+yv3n2atBoXHjJhw6tB9d11BVlb1799CjRy+++mo9vXs/wPjxMbz77hLWrl1FWFg92rYNZ+TIx9mwYT3Llr3L889Pv+a4C0tRru2zUBIRQlQAytk/MX27HfO2bzBt34ox4TD5lS/TFYWzew+jVamas+z8u8sK3L9+xWvz6wlgn/uK5wbJ4cC4e1fOEAbLx8uxvfISuqriatMWZ4dOOO6OwNmhY56u+lfedFUpzE2X3Y5557eohw5dvqH/5TDn3/4Pjvt6oNjteW7qLzEkJ+Hs0NHTjiK61BugSKxWnB0jcXaMvLxM16lWK9j7610uLry26PLPpmu7+biutl4PRcHRzZPwQtMIHDMKw5kzZEycTObwUdccx1VlZmJZHY/75ga42t2Fs117MkeOJnPYo5h2/ZBPL5bZ3s+Ny4V95ktYf/8Vfe8+LF+sxfDBu6RPnkpG8xYoKSlUGjEETCZMO7ajOJ3AlbOSZOFqE55nt1rduuiBlVDOp2E4njep5w6rBwEBWN77N4GxE1Gys3PvF6lpUZIKmjI8ODiYsLAwGjZsCEBERAT79++/aiKiuKcTDw62EhPj2V/qtU3LXu754nS5l/hqbL4aF/hubL4aF5RtbLqu43ZrhXptQXV/8tuHqhoK3L+m6YSE1KFly1aMGjUMXddp1ao1HTp04uDBA8yY8QJWqxWj0cjEibHous6MGVNR1cUYDAbGjo0pdPuLQtfzfhYWNJ24JCKEKIeU82koOzZDu06gKNhenIb/0vfQrVacd96FfeCD+L/5L9TTp/Jsq4WEotWqXeRjX/XputmMq93li/KMcTE477ob0/YtmLdtxf9f/8T/7cWk/Po/AEwbvwJ/fwyJxwh8LibvEApdxxERifGwZ2iDevgQjnu74ejZGzU5iaDB/QFw16qNu2kzMh8ZgTukDgDOTp3RQut478ERElrkc1BiFCX/2hPlsb3XymDg/LKPCZgykYCpk/Fb9j72OfNxtu9w/btOOo7/f97B74P/YDh7lsxHRmBvdxdaaJ2c4TLZ9W4GrqFniMVC1iPD8Qu2knbxg1M5cwYMnqcRhtRzKE4nxu++RdFzp/4u9bpRU87k2W3a0hU4unbHtH0bQY8MzrM+9dMvcN51NwGzpuckIf66X0lElJzw8PB8pwyvU6cO6enpJCYmEhYWxo8//kj//v3LpJ1uN+zZY6BaNZ2wMJk5QwghKpIr6/4kJyuEhHiSENdT96dnz8sTQERH/z3XuhYtWrJkyQd5tnnzzX8X+XglTdF1vcJ+ujmd7mLPiPlqBtFX44KKEdtVu19nZGDauQPzti2Ytm/BuOcnFE3j7JaduJs2Qz14AOXCBVxtw8Fsztmnt6e/FxYsLNubGLsd468JuNreCkDwPRGYft6Lrih5buYAdIMhp4YDgFalChkxE8kc9QQ4nRh3/Yi7aVPP0BEvytt5uNr7sby1t7Cu6e9M1zGvX0fA88+hHv8fqZ+tzxm6UhS2Kc/iv+RtABzde5H56GM4744o1LCVwrhabNVqBnl/7yoK5995P89y1+13oNWsheHkHxh//CHPeuddd6NXrVrgflNOpV1jFLkV9ATiRndp1oxffvkFXdeZPXs2Bw8eJCMjg0GDBrFjxw5eeeUVdF2nbdu2PP/881fdZ3FfjwQHW0lMzKBp0wDGj3cwaZKj2PZd1irCZ3ZR+WpsvhoX+G5svhoXlG1sJ08mUqtW2NVfWERX6xFR3nk7PwVdj0gi4i989Q/XV+OC8h9bfjeeGY+NIWvIULQ6dTGvX0fQw9HoRiOu8NtwdOiIpXtXzjVrAwVMG1cRxpcrqecw7fiWSo8Mxtttow6kz3oJV5NmXmeYKIzydB4K834sT+0trCL9nWVk4Be/gqy/PwKKgnHPblwtbrn6cI2MDCyfrSK73wAwm/F75y3U5CQyhz2KVqdu0YPIx9Viy69uiju0Dmd3HyjycUtqvyCJiNJWEomI1NQMevWy4nLBl1+W38+4a1XeP7Ovh6/G5qtxge/G5qtxgSQiyrNrTUTI0Awh/qLYbhKzslCcDmyzpnsvpvjqfHSbjczxT+PsEEHqRytx3tEOLhZRM18seliQMqsLcA304Mo4evTKfwhFaB0yR46+rmNUhPNwpYrW3iKzWnNm91DO/klQ395oISHY58zHcPpUnr8z5+134v/v/8Nv6bsYUlNJCwrG0aMXWSNGlWkY+c6gcp2zkmzqOp27/v0kNq6YjQQrO7pOp/V17Vn4ishIF/Pnmzl7FqpUKevWCCGEEMUn/7KcQtyALvVeUJOOo+h6Th0DS/wKcLlQTp9GPXgA05bNWFZ+jGnzxpxtA0cOJbjnvVS5ozVV64dQvW4NbHHP5zuloI5C1rBHPd8HBOLscm9OEsIXpcdOQ/fPPd9ycU0xKSA+3kh4uI2aNQMID7cRH1++8sx6lapcWPwOSlY2wVH3E/DEY7n+zgKeeIwqt92C/+LXcUZEkvrpFzi697zm45TEeciOGsiFBQtxh9ZBVxTcoXWueyjNmTMKgz59hJG8xTHC0FA4RhgjeYth/33kutssfENkpAtdV9i6tXz9PQshhBDXSz7ZhLhISUvF9oKXKTEvFo+zvTQL9djvudZl33sfzsgugKewne5vxRl+K1q16ujVquNsE45509f59AQIRa8UVHIBlTNlNcXkjSA+3pirMnNSkkJMjB+QdV1FkYqbo1sPznaMpFLTxlgyc9dAMOhusv0qYd/xXZELd5bkebjeXixpaXDokEq7dm4AHn7Yn7NnDXzIQ3zIQ7leqyRX2BGTopi1basRFKSzZYvK3/5Wfv6WhRBCiOsliQhx47HbMf5yGOPhQyipqWQ+4ZkuL+ihgahnTnvdxJCchP3lV8HpRKvuSTJo1aqj1aiR85q0jz/1um1JdeuuiC7dzPny2MWyMGuWJdf0UACZmQqzZlnKVSICwG32x5R53us6U9YFJrzSgIkTHdSqpbNhg8r775txOrniS+HddzOpUUNnyRITixZdXp+SoqDrec/DlCkW6tfXaNxYw2YrjSghPR2+/15l2zaVbduM7N1rwGSCX36x4+8PU6dmM2qUH6dP5+2YGBIiiQjhYTTC6tUZNGhQcccMCyGEEN5IIkJUWFfWcqji7el6Vhbq0SO4m7cAwH/hq/i/uwT1f8dyXqIFB5P5+BgwGEiPmUilJ0dhSEnJcywtJJSsh4cVqZ3SE0CUpN27DSQleS/umZysMHWqhX37DDRsqFG/vkbDhhqNGmnUr1/yN7unTyts3Kjy228GfvvNwNGjBn7/3cBh6lCP/+V5/f+ow3//a+Txx53UqqVjtyskJyuYzWA06phM4Oenc6nEcu3aOrff7sZs1jEa4b33vBfBPHfOQLduNhRFp2FDja1bMzAYYN8+T3Lg1luvP1aHA3bvVmnZ0k1AALzzjpmZMy2YTDq33uomJsZBRIQ7p05n+/Zupk/Pf45xIS5p0UKSEEIIIXyPJCJEhfTXmSjUpOMEThiDec2nKAYD6uGDqL8fRXG7STn0O3rVquhBQTjDw8l68O+4mjTD3awZ7rCbweB5Iunsci/2F+eWSO+FG6Y4oShx6emwaZOR2293U7OmTkKCAUUBb/MfhYToVK2q43IprFtn5M8/Pe/1xo3dbNvm6ZEyd66ZrCyFBg20nK8aNfSciUvi441XzIFtyzUHttJhmXsAACAASURBVMsFv/56Ocnw228GjhwxMHasgx49XBw9amDcOH9MJp169Tz7vuceN/Pen8XL5x/LU6RxfuVZ/Pxzes6yfv1c9OuXf4+OHj1c9Ohxef3GjUavSZlatTTmzMnm0CEDaWnKpT95pk+3sHWrEaNRp2FDK02batx5p5sRI5yA55x6Pw86kydnX0xqGNm2TeX771UyMjy9NXr0cNGnj5OWLd3ceac7314YJTHHuPA9LhfMm2emRQtNhmcIIUQFUlazpD355CiefXYKYWH1vK7v3/9+li79BEsBM/OVBklEVEAVceq/4qRcOE/A1El5azlkZ2NZtwZ3g4a4mzQj+4G+uJs1R/fzAyDr4WFX7dUgvRdEeXT+PGzYYGTtWiObNhnJzFSYOzeL4cOd9O3rQlGyeO4570/Wo6JcTJjgAODcOfjtNwNZWZdft3u3ynffqbmWde/u5L33soiPNzJunB9O5+WaC2PH+rFrl5PZs7P54w+FTp0u32XXquVJNqiqJyvSpo2b776zU7eup8fCJfEtoxgzTiHOGUtd/sf/qEucaRbtZvcDin6jFRvrvYfBtGnZ9Orlolev3K+fPTub/fud/P67hb17dXbvVjl/XslJRNx7rxVV9fTC2LVLzXUeYmL8yM72/NysmZuHHnLSoYObu+/2tL9uXZ26dd1XbXNUlEsSD6JARiOsWWPi558lESGEEBWF14emMZ7h4HJf4SGJiArmRn5TqwmHCZzwBMY9P6G487nAVxTO7dh9XceR3gsVz1+fVvvCU2W3G1TVk4Ro0SKA7GyFmjU1Bg920ru3K6fooZ8fREe7MJmu/mS9cmW4/fbc3bxXrMhE0zw310eOeHo01KjhSSTMnGnJufm+xOVSWLHCxOzZ2YSE6CxalEnDhp4ExF8nffHzw+sQEE+7+hExa3Cx/s6utYdBkyYaTZpoBAebSU31/J966b8WXYeICDcHDhjYulVF03Kfh+xshSpVNLZsycg5X0KUlM6dXSxdaiI7G8r4AZYQQoiLgvrknd0r+4G+ZA0fiW1mnNcC+AFTJpIdNRDlzz+pNGJIrvX2NesLPN6UKc8yYEA0bdveyqFDB3jjjdcIDq6M3X6BtLRU7r+/L3379i90+//44wRz576Iy+VCURTGj3+GRo0aM2tWHMnJSTgcDgYP/jv33HMfb775L3bv/hFN0+jatRsDBz5Y6OPkRxIRFUFmJsbffsGQmIht1nTvszrMjPOdm+fsbEy7fsC09RtM27fi6NmbzMef9BSGVI1kjI/B7/3/oJ45k2fTolbbFxVXRZkx4kr5JU5OnlT4/HMjn39uxGqFDz7IpFIleOGFbFq3dnPbbVrOsIK/up4n6wbD5Sf4nTtfTvKdOOG99sSFC5e3K+oxS6onwPXuV1U9/yoKxMV5ajXUrOl9Wt1z5xRJQohSERnp4v/+z8z336tERFy9p40QQoiyZTiR7HW5cu5skfd5//19+OKLtbRteyvr1q0lPPw26tdvQKdOXUhJOcOTT466pkTEv/71Kv37DyIiIpJff01g7twXWbhwMbt3/8j//d/7KIrC999/B8CXX67j9dffolq16qxbt6bIMVxJEhEl6JqHUDidnj6YioJ5/Tr8PlqKmnDIU+tA09AV7zcF4JnVwTr3RTImTS2BSK5Poc+DrlPpwf6Yt29FycpCNxhwtW6DFhTsWV25CqlrNwDgbtREZqIQQP4zRsycWf5mjADviZPx4/2YN0/n9989WYZGjdz06XO57SNHOsukrSEhuteaCzfarA5yHkRZa9/ejcmks2mTJCKEEKK8SFu9Lt91WkgoatLxvMtD6wCgV62aZ3v1Kse78867eOONf3L+fBr79v3E/PmvsXjx63zzzSasVhsu17Vd9x47dozWrcMBaNSoCadPn8JqtfHUUxOZN28WGRnp3HdfDwDi4mbx5puv8+eff9KuXftrOk5+JBFRQq42hEJJScH0/XcYDx9EPXwQY8Jh1N9+5ey2H9Buro/hRDLqL4dxN2tBdt/+uJo2w920OUHRfVGTkvIcT/f3R3FefPNpGta5M3F07YbrtjsuV1srA/mdB8P/EsFswbTtGxRNI235KlAUtFq1yXxkOM67O+K8qz36xSTEX0ktB3FJcnL+M0bExFhYsMDzVDsuzkLlyjq1a2vUrq1z002ef63W/PddXEM+LlyA3383kJqq8PzzeRMnDodCUhJMmpRN794uGjcuH1Xy86u5cKPN6iDnQZS1gAC45x4XbnfZfZ4LIYQovPTYacX+0NRgMNC5873Mnz+XiIhIPvroA1q2bEXfvv3ZvftHduzYdk37q1evHvv2/USHDp349dcEqlSpSkpKCgkJh5gzZz7Z2dlERfWia9fubNr0NXFxs9F1nSFDBnLvvd2oVat2kWOBEkpEaJpGXFwcCQkJmM1mZs6cSVhYWM761atX88477xAYGEjfvn0ZMGAAAH369CEwMBCA0NBQ5syZUxLNKxX5DqGYFkt21EBMO7YTdHFckLtuGK6mzXB07Z4z+DNr+Eiyho/Ms9/02Divb2r7goU5N+Hqb79iXbQQ26vzcYfWIfuBvvDwQ3Bz01JPSuR3HgLmvAiAq1FjHJFdcsrT2//xeqH3famWQ3CwldTUjKtvIHxKQoKBt982cdNNutdkRKVK0LGj58lhdjYsW2YiNTX36x5/3MGMGdlkZMCwYf7cdJNGrVo6N92kc+SIwpIl5pwijklJChMm+PHzzw5attRIS1Po1MlFw4Y6Bw8amDfPTFqagt1u4OxZG2lpCm+/nUnnzm6++cbI8OH+BcbjckFMjKOYzk7xkFkdPOQ8iPLgvfeyyroJQgghCqmkHpr26vUAAwf+jY8+WsUff5xg/vw5bNjwBUFBQaiqisNR+GvJMWMm8NJLM/nwww9wuVxMnjyVqlWrcvbsnwwb9iD+/laio/+O2WymUqVKDB36IIGBgdx+eztq1qx1XXEAKLrubdK367NhwwY2btzI3Llz2bNnD2+++SaLFi0C4OzZs0RFRbFq1aqLAQ1l9uzZVK9enUGDBrF69epCH8fpdBf7DWhx3dRWqxmE4uXU6iiknE5DST2HevQIrsZNyVPh7SoKM9RBuXAe8xefY/l0JebNG1GcTlJXrMYZ2cUz4b3JVCJJCcMfJzDt2I6acAjjoUOY13+Ot6PowNl9CWjXmUmD4vudlTe+GhdcX2wnTijMm2fmo49M2GzwxBPZvPaaJc/T6gUL8taISE+HkycV/vjDwIkTCg0baoSHa5w6pTBkiD8nTiicOaOg64X723jttUyio13s22dg7Fg/KlXSqVZNxWp1ERSkM2SIk2bNPPvfvVslOFhn1Cg/Tp3KW+ghNFRj9+50L0cpH+T9WLFUrx5Y1k24oRT39UhB70mn0/MRXlH54t/bJb4am6/GBb4bm6/GBWUb28mTidSqFXb1FxaRqhpwu8tHr9ii8HZ+CroeKZEeEbt27SIiIgKANm3asH///px1SUlJNG3alOBgT5f7W265hb179xIaGkpmZibDhw/H5XIRExNDmzZtSqJ5pUK7KQQ1Oe8QCi3UU0xRD66MK/y2Iu27MLM66IGVyB44mOyBg1HOnSX4m//ibN8BAOv8uVjWrSH7b/3I7hOFu1Fj4BpqObjdqMeOoh465BlaknCYjGcm4W7SFNM3m6g0bjS6quJu0BD8/eEvPSI856FOsSQhxI0jKwvmzTPzf/9nRtM8dRMmTHBQtapOvXp6oZ5W22zQoIFOgwa5x1jXrKmzYYPnQ83phFOnFG691eY1IaEoOt9+m06lShAc7Ek2tmql8c03nu09H5C5n1zWrKnTo4enPXFx0s1fCFE0/fr5U7u2zr/+Jb0jhBBC5O/gwf288cZreZbfc89911TQsiSVSCLCbrcTcMVTflVVcblcGI1GwsLC+O2330hJScFms7Fjxw7q1auHn58fI0aMYMCAARw7doyRI0eyfv16jMb8m6iqCsHBBQzwLgJVNVzfPk+cgFq10GfPRh81EiX78s2FbrWiz5pV7G2+qmArhoYjCL6YYVNuC8ewayfW+XOxvTwHvVVr9BYtUD5djZLhuZlSk44T+PQ4rOnnoUF99MZNoFEjlJ3fod57T05cuqJA/foYM9PQg63Qvy/O9ndCkyZgseD+cBnq6Mdz9lsS5+G6f2fllK/GBdcW28VRO2gafPedgf79daZN0wkLUwHPcIcRI2DECB1PXxsA88WvoqleHerUgf/9L++6OnXg1lvzH2ZxtdhGjACrVWfqVDh+3LO/F1/UGTz4+tpc0uT9KETZq1FDZ/NmNef/RSGEEMKb5s1b8vrrb5V1MwpUIomIgIAA0tMvdzHWNC0noRAUFMTkyZMZO3YstWrVokWLFlSuXJmbb76ZsLAwFEXh5ptvJjg4mDNnzlC7dv5Pzd1uvfwMzdB1/D78ANvzk0iPnUbWiFFYXnXk7WHQow+UQXeiXHHd1xvu643hjxNYPluFZfVK1NWr8tZyyMjA+EwMAPbYaWSOfxql6k1YRzzmKZ7ZrDmuRk3IqfaXmgFGK9RtCJluyMyAHn2wvFKy56EidD8rStHDihBXURUmNpcLVqwwsnixmdWrM6hSBVatyimjQmpqybZx8mSj154LkydnkZqa/++uMLH16OH5ulJJx3O9bvT3Y0UjQzN8U2Ski5UrTRw4YKBly4rbfVcIISoqXddRJBOcR1GqPeQzI/31CQ8PZ8uWLQDs2bOHxo0b56xzuVzs3buXpUuX8tJLL3H06FHCw8P55JNPmDt3LgCnTp3CbrdTvXr1kmhesVNOnaLSkEEEThiDq1VrHF27AZ4hFGd3HyDlVBpndx8odzM6aLVvIvOxMaR+8TVKlvdunjpwbu1/cwpn6tWqkR43k+zoh3C1bkuBUw5cVN7PQ0m7NF1jUpIBXVdISjIQE+NHfPz15wHj442Eh9uoWTOA8HBbseyzrOk6rF+v0rmzlQkT/LFa4exZz3/4l5IQpSEqysWCBVmEhmooik5oqOa17oQQQpSWyEjPsLLNm682yZsQQojiZjSaSU8/X6Sbbl+m6zrp6ecxGq+tZ2+J3LV07dqV7du3Ex0dja7rzJ49mzVr1pCRkcGgQYMwmUz069cPi8XCsGHDqFKlCv3792fy5MkMHjwYRVGYPXt2gcMyygvzhi8IHDcaJSMD+4tzyBw5Ggwlkt8pUQXNdeu6484yaJHvmD4973SNmZkKTz3lx9atToKCIChIJyhIp2NHN40aaWRkeEb5qKpCUJCOn1/e/V5KcFzad1KSQkyMH1Bxb5YzM2HgQH927jTSoIHGkiWZ9OrlKrMuyFFRrgp7LoUQvqdWLZ1mzdxs3mzkySedZd0cIYS4oVSuXJ1z585gt5dMN1ZFUSpsksNoNFO58rV1IiiRO32DwcCMGTNyLWvQoEHO908++SRPPvlkrvVms5lXXnmlJJpTonQ/f9z1bubCwjdzij5WRCUx1+2NLCsLpkyxsHWrkZMnvSemsrJg0yYjaWkKGRmeO+3XXsukUSONn39Wuf9+FfDUWrFYPImKf/4zi3vucfPzz4Y8wwbAk+CYNctS4W6eT59WqFFDx98fmjXTGDAgiwcfdFIBcpFCCFGqnnyyfE3zK4QQNwpVNVKtWskV2/fFoaIFkcv8IjB/9SVqQgKZY8bh7BhJakSnCl81qqTmur0RpKbC9u1Gtm1TCQjQiY11YLHAnj0qzZu7SUuD1FRv0zXqOdM1OhyQlqZgtXqyoA0aaLz/vsYffzhIS1NITVU4f94z+wLAuXOKt8lIAEhOVli3zsiCBWbq1tWoW1enbl2NevU07rzTjc129ZiKUtOiMHLv18bo0Q4OHDDwyScmNm3KoFEjjXnzZPYIIYTIz4ABFSvRLIQQQngjiYhroNgvYJsWi//7/8HV4hYyH33MM2i9gichLinMtKDisrfeMvHxxyb27fPUfrBadXr18lwgKgp8/XUGipJ3CAXkna7RbIbq1S93xapWTWfQIJ3UVO9dbzt2dBMaqpOUlPe9FxKi4+enU7WqzqFDKhs2KDgcntft2mXHZtN57z0TK1YYc5IUYWGehMWdd7r59NOSGfLhbShJbKwFVfVMxVm1qhReE0KIwkhMVDh9WuH22+X/TSGEEBWTJCIKyfTtNgLHjcaQdJyMsU+RPnFK6VbOE6Xmr70BJk7Mpm5dna1bVX78UeXDDzMxGuHECQNWq86zzzro0MFNeLgb8xU1Wi7lpzw371nF3sMgNjY73wRHly5uunTxdJnQNDh1SiEx0cBNN3mSHRaLjtEI332nEh9vRNcVFEXn+HE7s2Z5r2nxzDN+REXZAXjzTRN79+Yulla1qs6LL3qSK6+9Zubw4dy9QL780phnv6BQvbrGjBnSC0IIIQrrmWf8OHVKYcuWG6cLrxBCCN8iiYhCUM6cISi6H1qt2qR+uh7Xne3KukmihHh7aj9unB+gYDDotGmjceaMQu3aOnFxhb95Lomih4VNcBgMULu2Tu3a7pxlgwa5GDTI8zqHwxPnyZMGzGbP0A5vrpiRl19/NfDDD7kTESEhl5/MHT6cd/2FC97jOHXKN3oUCSEqBk3TiIuLIyEhAbPZzMyZMwkLC8tZ/+9//5tPPvmEKlWqADB9+nTq169fVs31KjLSxfTpfpw4oeQkmIUQQoiKRBIRBTAkHkMLq4devTpp732E87Y7ICCgrJslitH587B/v8rPPxvYt09l1SojLlfep/ZVq2rs3JlOpUpl0sx8FUeCw2yG+vV16tf3JCpCQrwP+QgNvXyxO39+NpB/IuaNN/JOBxsebst3KIkQQpSWr776CofDwfLly9mzZw9z585l0aJFOesPHDjASy+9RMuWLcuwlQXr3NnN9OnwzTcqgwdLzQghhBAVT8WbZ7KEWOJXUCW8BUaLiSptmxM49EGqtGuLef06AJyRXSQJUcGlpChs3Khy4IDnbZ+QYKBhw0D69LEydaofW7aouPK5njt7Vil3SYiSEhubjb9/7uTAX2talKf9CiHEtdi1axcREREAtGnThv379+daf+DAAd566y0GDx7Mm2++WRZNvKpmzTRq1NDYvFmeJwkhhKiYJBGBJwkRGDMWNek4iq6jJifht24tzltvx3lX+7JunshHfLyR8HAbFouB8HAb8fG5L8jcbpg3z8zDD/vRpo2N5s0DiI62snSpCYD69TWmTMnmww8z+PlnOz//nJ7rqf+VbqSn9lFRLhYsyCI0VENRdEJDNRYsuL5ClSW5XyGEuBZ2u52AKx4sqKqK64osdK9evYiLi+Pdd99l165dbNq0qSyaWSBFgchIN1u3qmhSr1IIIUQFpOi6XmHvsJxOd7HMtVolvAVq0vE8y92hdTi7+8B177888LV5ab3NRGE06jRqpHH77e6LQwegbVsbNpvOLbdo3HKLm1atPP8GBRV+v/7+epncMPva7+xKElvF46txgW/GVr16YFk3odyaM2cOrVu3pmfPngB07NiRLVu2AKDrOna7ncBAz/lbunQpqampjBkzpsB9apqG2118l1OqasDtLjjDcOwYWK1Qo0axHbZUFCa2ispXY/PVuMB3Y/PVuEBiq2hMJjXfddKnDzAkJ13TclH2vM3s4HIp/Pabge7dLycMdu5MzzWTxdWU1AwXQgghyofw8HA2bdpEz5492bNnD40bN85ZZ7fb6d27N+vWrcNqtbJz506ioqKuuk+3Wy/WZFZhkmPBwZ5/U1OL7bClwhcTf5f4amy+Ghf4bmy+GhdIbBVNQQ9GJBEBaCGhXntEaCGhZdAaUZCUFIWlS035zuzgcsHkyY6cn68lCXFJScxwIYQQonzo2rUr27dvJzo6Gl3XmT17NmvWrCEjI4NBgwbx1FNP8fDDD2M2m7nrrrvo1KlTWTc5X6tXG9m3z8ALLziu/mIhhBCiHJFEBJAeO43AmLEomZk5y3R/f9Jjp5Vhq8SVkpMVFi0y8/77JrKyoGpVnZQUmYFBCCHEtTEYDMyYMSPXsgYNGuR836dPH/r06VPazSqS/fsNLF5sJibGIfW0hRBCVChSrBLIjhrIhQULcYfWQVcU3KF1uLBgIdlRA8u6aTe89HSYMMHCHXfYWLLExAMPuNi6NYMXX5QZGIQQQtzYIiPduFwK27fnPwZXCCGEKI+kR8RF2VEDyY4a6JNjcyqi06cVatTQsVohIUHlkUecjB7toE4dT/KhcWMNqeUghBDiRnb77W6sVp1Nm4x06+Yu6+YIIYQQhSaJCFFu6Drs2KHy6qtmdu1S2b3bTlAQfP55BgYvfXcu1XKQ5JEQQogbkcUCd9/tZvNmIyA9AoUQQlQcMjRD5IiPNxIebqNmzQDCw23Ex5dOnkrX4csvVXr1stKnj5X9+w2MH+9AvdjT1FsSQgghhBDQpYuLKlV07PaybokQQghReNIjQgCeJERMjF/OlJhJSQoxMX5AVokPdzh0yMCQIVbq1NGYOzeLwYOd+PuX6CGFEEIInzBihJMRI5xl3QwhhBDimkgiQgAwa5YlJwlxSWamwvTpFqKiXOgX60Iq3mfNLFB8vDFXLYdnn80mO1vhxAmFKVMcNG+usXx5Bh06uDGZiiEYIYQQ4gbjdCKfoUIIISoMSUQIwDM9pjcnT3qWnz2r0KqVjapVdapVu/w1cKCTyEg3djt8952aa52fn/eeFuPH+wEKd9zhwuUCoxE6d5YiW0IIIURRvPGGiddfN7NvXzpGubITQghRAZTIx5WmacTFxZGQkIDZbGbmzJmEhYXlrF+9ejXvvPMOgYGB9O3blwEDBlx1G1EyHA4wmyEkRCcpKW8yonZtT1cIg0Fn9GgHKSkKKSkGUlIUjh410KGDZ9jG778bePBBa65tAwJ0zGY9T08LUKhWTWPNmswi9bAQQgghxGWhoTopKQZ27zZwxx1aWTdHCCGEuKoSSUR89dVXOBwOli9fzp49e5g7dy6LFi0C4OzZs/zzn/9k1apVVKpUiaFDh3LXXXdx8ODBfLcRxU/T4KOPjMyZY2Hp0kxiY7Nz9VwA8PfXeeEFTxXuypXh+ecd+e6vQQONdevScyUqUlIU3n7bez/RP/9UJAkhhBBCFIOICBcGg87mzUbuuCP/z2ohhBCivCiRRMSuXbuIiIgAoE2bNuzfvz9nXVJSEk2bNiU4OBiAW265hb1797Jv3758txHF64cfDMTG+rFnj8ptt7kxGrlYkDIrVy2H2NjsQheqtFrhttsuPYW5PMxi3Tqj154WISF6MUQihBBCiMqVoW1bjU2bjEycKIkIIYQQ5V+JJCLsdjsBAQE5P6uqisvlwmg0EhYWxm+//UZKSgo2m40dO3ZQr169ArfJj6oqBAdb811fFKpqKPZ9lgeX4hozRuHttw3cdJPOf/6jMXgwKIofACNGwIgROnApSWC++FV0s2bB6NE6GRmXkxFWq86sWRTbefb135kvktgqHl+NC3w7NnHj6NTJxauvmklNhYvPeoQQQohyq0QSEQEBAaSnp+f8rGlaTkIhKCiIyZMnM3bsWGrVqkWLFi2oXLlygdvkx+3WSU3NKNa2Bwdbi32fZS07G2rUsJKWlkHNmmYmTIBx4xwEBEBaWskeu0cPeOUVY56eFj16uEhNLZ5j+OLvDHw3LpDYKiJfjQt8M7bq1QPLugmilN1/vwurlZxZroQQQojyrEQSEeHh4WzatImePXuyZ88eGjdunLPO5XKxd+9eli5disvlYtiwYTz11FO43e58txFFo+ueoRHTplmYP18nMtKTgChtUVGuQg/xEEIIIcS1a9FCo0ULGZYhhBCiYiiRRETXrl3Zvn070dHR6LrO7NmzWbNmDRkZGQwaNAiTyUS/fv2wWCwMGzaMKlWqeN1GFN3hwwZiYy1s3WqkaVM31aqVdYuEEEIIUZLOn/dMpd21q1sKQgshhCjXFF2vuJ34nE63DM3w4pVXzMyfbyYgAJ57LpuhQ51Uq1bx48qPL/zOvPHVuEBiq4h8NS7wzdhkaEbpKu7rkaK+J//9bxPPPefHjh12GjQon5d3vvj3domvxuarcYHvxuarcYHEVtEUdD1iKMV2iBLkdoPr4uiHsDCNv//dyXffpfPoo06uUmpDCCGEED6gc2fPhcDmzfLBL4QQonyTREQFFB9vJDzcRs2aAYSH25gzx8w991h5+20TAP37u3j55WyqVi2fT0OEEEIIUfzq1dOpV88zjacQQghRnkkiooKJjzcSE+NHUpIBXVdISjLwj39Y+OMPhXr1JPEghBBC3MgiI11s26bikLqVQgghyjFJRFQws2ZZyMzMW4HKaoUePWRmCiGEEOJGFhnpJiNDYfdutaybIoQQQuRL+u5VIG43JCd7L4N94oSUxxZCCCFudJ06udi6NZ3GjbWybooQQgiRL+kRUUFs3qxyzz1WrFbv60NCZFiGEEIIcaOz2aBJE02m7xRCCFGuSSKinEtIMPDgg/4MHGjFblcYPNiJv3/upIO/v05sbHYZtVAIIYQQ5cmhQwbGjfMjJUWyEUIIIconSUSUY0uXmoiMtPL99yrTpmWxfXs6s2dns2BBFqGhGoqiExqqsWBBFlFRUh9CCCGEEJCZCR99ZGLrVqkTIYQQonySGhHlTFYWpKUp1Kyp0769i2HDDDz9tCPXVJxRUS5JPAghhBBFoGkacXFxJCQkYDabmTlzJmFhYXleN3XqVIKCgnjmmWfKoJXXp3VrjeBgnU2bjPTtK9cLQgghyh/pEVFO6DqsXGmkfXsbMTF+ANx8s87s2dm5khBCCCGEKLqvvvoKh8PB8uXLefrpp5k7d26e13z00Uf88ssvZdC64qGq0LGji82bVXS5hBBCCFEOSSKiHNi5U6VHDyuPP+5PcLDO6NEy+bcQQghREnbt2kVERAQAbdq0Yf/+/bnW//TTT+zdu5dBgwaVRfOKTefObk6eNHD4sFzqCSGEWdVawgAAIABJREFUKH9kaEYZW77cyNix/tSqpfHaa5kMGOBClSGdQgghRImw2+0EBATk/KyqKi6XC6PRyOnTp3n99dd5/fXX+eKLLwq9T1VVCA7OZ1qrIlBVw3Xv74EHYOFCnYwMP4KDi6lhxaA4YiuvfDU2X40LfDc2X40LJDZfIomIMpCaCqdOGWjSRKN7dxexsdk8+qgDm62sWyaEEEL4toCAANLT03N+1jQNo9FzObR+/XrOnTvHqFGjOHPmDFlZWdSvX59+/foVuE+3Wyc1NaPY2hgcbL3u/QUGwnffeb5PTS2GRhWT4oitvPLV2Hw1LvDd2Hw1LpDYKprq1QPzXSeJiBIUH29k1iwLyckKISE6zz2XzfnzCvPnWwgJ0fj66wyCgmD8eBmKIYQQQpSG8PBwNm3aRM+ePdmzZw+NGzfOWffwww/z8MMPA7By5UqOHj161SREeadpnjpU0ttSCCFEeSKJiBISH28kJsaPzEzPHN5JSQrjxvmh6wodO7qIi8tGkem9hRBCiFLVtWtXtm/fTnR0NLquM3v2bNasWUNGRkaFrwvxVz//bGDAAH8WL84iMtJd1s0RQgghckgiooTMmmXJSUJcousK1appfPxxpiQhhBBCiDJgMBiY8f/s3Xl4E+X2wPHvzGTtAqUsBVpWBQQUsKLigmziVVAEKpsKKIgLP9yKiFCFIhS4uKGiuG94FYQqgopLFfXKdQOkCCqoINCqFVpKaZsmTWZ+fwQKpSuQNAvn8zw8tJOZyXsmSTNz5n3P++CD5ZaddtppFdYL9Z4QAG3b6hQWKqxda5JEhBBCiKBSq1LKpaWl/m5H2MnOrjzTkJurSBJCCCGEEH4XGQnnn+/h889lXIYQQojgUqtExNChQ0lLSwvpObXrWnx85RN3V7VcCCGEEMLXevXy8PPPGjk5chdECCFE8KhVIuLdd9/l4osvZtGiRYwePZrly5eXqzh9LF3XmTFjBiNGjGD06NHs2rWr3OOrVq1iyJAhJCUl8cYbb5QtHzx4MKNHj2b06NFMmzbtBEMKDikpTuz28kkHu90gJcUZoBYJIYQQ4lTTp48bQHpFCCGECCq1qhGhqiqXXHIJACtWrGDJkiWkp6czZMiQSgs7ZWRk4HK5WLZsGZs2bWL+/PksXry47PEFCxbw3nvvERERwcCBAxk4cCA2mw2AJUuW+CKugEtKcuNylXDnnd64EhK8SYikJHeAWyaEEEKIU0Xnzjp33umkUyc90E0RQgghytQqEbFgwQI+/fRTzjvvPCZMmECXLl3QdZ2hQ4dWmojYsGEDPXv2BKBbt25s2bKl3OMdOnTg4MGDmEwmDMNAURR++eUXHA4H48aNw+12k5ycTLdu3XwQYuC0a6cDCq+84mDAAElACCGEEKJuqSqkpMg04UIIIYJLrRIRrVu35p133iEiIqKscKWqqixatKjS9QsLC4mKiir7XdM03G43JpP36dq1a0dSUhJ2u53+/ftTr149bDYb48ePZ9iwYfzxxx9MmDCBDz/8sGybymiaQkxMRK2DrQ1NU322z+3bveMxe/a0EBNj8ck+T5Qv4wo24RpbuMYFElsoCte4ILxjEwLA7YYNGzRatNBp3lxqVQkhhAi8WiUiDMNg4cKFTJ8+nVtuuYVBgwYxePBgEhISKl0/KiqqXA0JXdfLEgq//PILn3/+OZ9++ikRERFMmTKFNWvW0K9fP1q1aoWiKLRp04aYmBj27t1Ls2bNqmyXx2OQn198PPHWKCYmwmf7/OYbG40aQVRUMfn5PtnlCfNlXMEmXGML17hAYgtF4RoXhGdsjRtHB7oJIoi89pqZ++6zAYYMFRVCCBEUalWscunSpUyePBmAZ599ljfffLPa9RMTE/nyyy8B2LRpE+3bty97LDo6GpvNhtVqRdM0YmNjKSgoYMWKFcyfPx+AnJwcCgsLady48QkFFSz693dz110uma5TCCGEEAGRnm5i1izrod8UsrJUkpNtpKfX6l6UEEII4Re1LlZptXq/xMxmM0oNV9b9+/dn3bp1jBw5EsMwmDt3LqtXr6a4uJgRI0YwYsQIrr32WsxmMy1btmTIkCEATJs2jVGjRqEoCnPnzq12WEYouOoqudsghBBCiMBJS7PicJQ/b3M4FNLSrNIrQgghRMDU6kq/X79+XHvttXTp0oWtW7fSt2/fatdXVZUHH3yw3LLTTjut7OdRo0YxatSoCts98sgjtWlOSNi7V+HAAWjb1kCtVb8TIYQQQgjfys6u/OZRVcuFEEKIulCrRMTEiRPp06cPO3fuZPDgwZxxxhn+blfIe/ddE9On28jMLKRZMykMJYQQQoi6Fx9vkJVVMekQHy/nJkIIIQKnVvfqd+3axZdffsmOHTvIyMhgxowZ/m5XyNu0SaNJE52mTeWLXgghhBCBkZLixG4vfy5itxtMn+7kwQctbNki3TaFEELUvVp9+0ydOhWAjRs3kpWVRX6gp4AIAZs3q3TtqkuhSiGEEMKP/vnnH3777Td27tzJ9OnT+fnnnwPdpKCSlOTm0UdLSEjQURSDhASdRx8toWdPD+npZgYOjOCdd0K7JpcQQojQU6tEhM1m45ZbbiEuLo758+ezb98+f7crpBUVwfbtKl27egLdFCGEECKsTZ06lX379vHYY49x0UUXMXfu3EA3KegkJbnZuLGInJxCNm4sIinJTVycwccfF3PWWR5uucXOrFlWPHLaIoQQoo7UKhFhGAZ79+6luLiY4uJiDhw44O92hbQtWzR0XZFEhBBCCOFnbrebc889l4KCAgYOHIiu64FuUsiIizN4+20HN9zg4qmnLNx6qy3QTRJCCHGKqFVfvEmTJpGRkcGgQYPo168fgwcP9ne7QtoZZ3h49VUH550niQghhBDCn0pLS5k3bx7du3fnm2++wSO39Y+LxQILFjjp0kWneXNJ4gghhKgbtUpEbN68mfHjxwPeqTxF9erXhyuukLm5hRBCCH+bP38+69atY9iwYWRkZPDQQw8Fukkh6frrS8t+fv55M3FxBoMGybmMEEII/6jV0IwvvvhC7jAchzfeMPHTT1KFWgghhPC3Jk2a0K9fPwoKCti5cyeqKt+/J8PjgdWrTdx0k505cyxSN0IIIYRf1Orbev/+/fTs2ZPhw4czYsQIRo4c6e92hazCQrj7bhvvvy8VqIUQQgh/u+eee9i6dSsLFizAbDbLFOMnSdNgxQoHY8a4eOIJK9ddZ0cmSxNCCOFrtbpafuaZZ/zdjrCxZYuGYUihSiGEEKIuFBQU0LdvX1577TUWLFjAf//730A3KeRZLPDww966EdOmWRkwIILPPivGJrUshRBC+EitEhHvvPNOhWWTJk3yeWPCQWamt5NJ165S8EkIIYTwt9LSUl566SU6derEb7/9RlFRUaCbFDbGjCnljDM8/PyzJkkIIYQQPlWroRmNGjWiUaNGNGzYkJycHP766y9/tytkZWZqNG2qExdnBLopQgghRNibOnUqubm5TJw4kW+//ZbU1NRANymsnHeeztix3kKWn36qMW+e1I0QQghx8mrVI+LYmhA33XSTXxoTDrZuVenWTb6hhRBCiLqQmJhIQUEBy5Yto3Xr1nTp0qXa9XVdJzU1lW3btmGxWJgzZw6tWrUqe/yjjz7iueeeQ1EURowYwbBhw/wdQsj44gsTzzxj4ccfNRYvdlC/fqBbJIQQIlTVKhGxc+fOsp/37t0rPSKq8eGHxRw4oAS6GUIIIcQp4ZFHHmHXrl0kJiaycuVK1q9fz3333Vfl+hkZGbhcLpYtW8amTZuYP38+ixcvBsDj8fDII4+Qnp5OREQEAwYMoF+/fsTGxtZVOEFt1iwnbdvqTJ9u5V//iuS661y8/LKF7GyF+HiDlBQnSUky5acQQoia1SoRMWPGDBRFwTAMbDYb9957r7/bFbLsdrDbZViGEEIIURe+//57li5dCsDYsWMZPnx4tetv2LCBnj17AtCtWze2bNlS9pimaXzwwQeYTCZyc3MBiIyM9FPLQ4+iwA03lHLGGTrXXWdj9mwr4L35kpWlkJxsA0okGSGEEKJGtaoR8cILL3DfffexZMkSRowYwYUXXujvdoWk994z8eCDFtzy/SuEEELUCbfbja57C0Truo6iVN8rsbCwkKioqLLfNU3DfdQXt8lk4uOPP+bqq6+me/fumEwyHfexevTw4D2E5Y+1w6GQlmYNSJuEEEKEllp9u06ZMoULLriATp06sXPnTtasWcMjjzzi77aFnPffN/G//2nMmOEKdFOEEEKIU8LAgQMZNWoUXbt2ZfPmzQwYMKDa9aOiosrNrKHreoVkw2WXXcall17Kfffdx8qVK0lKSqp2n5qmEBMTceJBVNif6tP9+cPff1ee8MnOrv5YhEJsJypcYwvXuCB8YwvXuEBiCye1SkTk5OQwatQoACZMmMDo0aOrXb+mQlCrVq3i5ZdfRlVVkpKSuPbaa2vcJhRkZqp07SqFKoUQQgh/e+SRR8p6P8TFxbF27Vo6duxIXl5etdslJiaydu1aBgwYwKZNm2jfvn3ZY4WFhdx666289NJLWCwW7HY7qlpz51GPxyA/v/jkAjpKTEyET/fnD/HxkWRlVUxGREfD3r3FmM2VbxcKsZ2ocI0tXOOC8I0tXOMCiS3UNG4cXeVjte5vuHPnTtq0acPu3bvLukBWpbpCUAALFizgvffeIyIigoEDBzJw4EC+/fbbarcJdgcPwu+/qzIuUgghhKgDbdu2Lfu5TZs29OnTp1bb9e/fn3Xr1jFy5EgMw2Du3LmsXr2a4uJiRowYwVVXXcV1112HyWSiQ4cODBo0yF8hhLSUFCfJyTYcjiPJCE0zKChQuOKKCJ58soSOHas/XxRCCHHqqlUiYvr06dx1113k5ubSpEkTZs2aVe361RWCAujQoQMHDx7EZDJhGAaKotS4TbD78UcNw1Bk6k4hhBCiDgwZMuSEtlNVlQcffLDcstNOO63s5xEjRjBixIiTatupwHvjpYS0NGu5WTMsFpg61cobb5iZPdsZ6GYKIYQIUrVKRHTs2JF58+bRqVMnMjIyOOOMM6pdv6pCUIfHYLZr146kpCTsdjv9+/enXr16NW4T7HJzFRo0MOjSRbL/QgghhAh/SUnuSnuCXnCBh4gI7wximzap2O3QoYOcHwkhhDiiVlf599xzz3EVq6yuENQvv/zC559/zqeffkpERARTpkxhzZo1tSoedSxfF4fy7vPEioSMHg3XX6+jKHaftsdXwrn4SbjGFq5xgcQWisI1Lgjv2IQIhEaNvEkIw4Dp0238+KPKvfe6mDhRinkLIYTw8kuxyuoKQUVHR2Oz2bBarWiaRmxsLAUFBdVuUxVfF4eC8CwSAuEbF4RvbOEaF0hsoShc44LwjK264lAieFnT3yIybRZqdhax8QkUpczEmTQ80M06YYoCr7zi4N57rcyebeWDD0y8/DI0bRrolgkhhAi04y5WuWvXrhqLVdZUCGrEiBFce+21mM1mWrZsyZAhQzCZTBW2CRUHD8LAgRFMn+7k8sulRoQQQgghjo81/S2ik29HcTgA0LL2EJ18O0BIJyOaNDF4+eUS3nnHzbRpNs49F1avVunWTYZqCCHEqUwxDMOoaaXNmzczY8YM9u3bR5MmTUhNTaVLly510b5qlZZ6gqJHxLp1GkOGRLB0aTF9+wZnIiIc7/gdFq6xhWtcILGFonCNC8IzNukRUbd8cT4Sm9gZLWtPheWehBbkbdx6UvsOFjk5Cq+/HsFddxWhaeB0gtUa6Fb5Tjj+LYHwjQvCN7ZwjQsktlBT3flIzZNjA1u3bsXhcGCxWMjPz+eee+7xWePCQWam9zBKoUohhBBCnAg1O+u4loeiuDiD2bMNNA3++Ufhggsiee45MzV0tBVCCBGGapWIWL58OUuWLKFXr17MmzeP008/3d/tCimZmRoJCXpZcSYhhBBCiOOhxycc1/JQZxjQsaPO/ffbGDzYzo4dSqCbJIQQog7VKhHRoEEDmjRpQlFREeeffz4HDhzwd7tCSmamRpcuwTkkQwghhBDBryhlJoa9/MxbBlAydFhgGuRncXEGr7/u4IknHPz0k0bfvpG88IKZmgcMCyGECAe1SkRER0eTkZGBoigsXbqUvLw8f7crZHg8cO65Hi69VBIRQgghhDgxzqThHHz0STwJLTAUBU98AnpcU2zL3kDJzQ108/xCUWDkSDdffllEjx4evv5aQ1EgPd1EYmIkcXFRJCZGkp5e69rqQgghQkStEhFz5syhefPmTJ48mT/++IPU1FQ/Nyt0aBo8+WQJ119fGuimCCGEECKEOZOGk7dxK25nKXk//MSBN9MpGXU9Rr16gW6aXzVvbvDmmw6efLKE9HQTd91lIytLxTAUsrJUkpNtPklGSIJDCCGCR63+AkdFRdGpUycA7rvvPr82KNQUFUFEhDerL4QQQgjhK54zz6L4zLO8v7jdYArfC2dF8Z5PpaVZcTrLn1Q5HAqTJ9tISioE4P33TeTmKjRoYJT9a9TIIC6u6nEd6ekmkpNtOBzefWdlKSQn24ASkpLcfotLCCFE5cL3G62O3H23jR07VDIywmuqFSGEEEIEB9OPmdQbP4YDLy7Bc1bgp0/3p+zsyu/sFB91mvXii2a++qr8KWzHjh6++MK70tixNnbtUomN9SYpYmIMVq82lSUhDnM4FNLSrJKIEEKIAJBExEnatEnjzDOlPoQQQggh/MPTPAEcDurdciP7P/kSIiMD3SS/iY83yMqqmIxISDjS2+E//3Gwf79S7p/FcuTxDh10DAPy8hS2bVPJy1PIz688wVFV4kMIIYR/SSLiJOTnwx9/qFx3ndSHEEIIIYR/GA0bcvDp56l/zSCi7p9K4WOLAt0kv0lJcZYbQgFgtxukpDiP+t27rHnzyodiTJ/uqrAsMTGy0gSHzQZbt6p07qz7oPVCCCFqq1bFKkXlNm/WAOjaVXpECCGEEMJ/Snv2ovjOydj/8xrWlemBbo7fJCW5efTREhISdBTFICFB59FHT76OQ0qKE7u9fOLCZDLQdejTJ5LvvpNTYiGEqEvSI+IkbNrkTUR06SKJCCGEEEL4V/GUaVj++wWWD1bjHJwU6Ob4TVKS2+d1G7z7KyEtzUp2tkJ8vLeXRb9+bpYvN9O9u7dHxPLlJpo3N7jwQo8UIhdCCD+SRMRJ6NHDzX33QWxsoFsihBBCiLBnNnPgzRUY9eoHuiUhqaoEx4QJ3iG2ug6PP25h+3aNc8/1cPfdTvr1k4SEEEL4g/RDOwnnnaeTnFxxHKIQQgghhD8YMQ1AVVGzs7C9sSTQzQkrqgqffFLMvHkl/PWXwrXXRnDppRF8+60W6KYJIUTYkUTECSoshA0bVEpKAt0SIYQQQpxq7E89TtTdkzD/94tANyWs2O0wfnwp33xTxMKFDoqKFEwmb22JggJwy0yfQgjhE5KIOEHr12tccUWkZMmFEEIIUeeKUlLxnHY60RMnoOTmBro5YcdigWuvdfO//xVxzjne+hGpqVYuuCCS114z43TWsAMhhBDVkkTECTo8Y4YUqhRCCCFEnYuMpODZl1H35xF9521gVD6VpTg56lFnypdf7iY21uCee2ycd14kzz1nprgY0tNNJCZGYrWqJCZGkp4uJdiEEKImkog4QZmZKq1a6TRoEOiWCCGEEOJU5DmrC0UzZ2P9+EOpF1EHLrvMw4cfFvPWW8W0aaNz//02xo2zk5xsIytLxTAUsrJUkpNtkowQQogayF/JE5SZqdGtm/SGEEIIIUTgOG66FTwenIMGB7oppwRFgd69PfTu7eCbbzRuucWGw1F+Wg2HQyEtzerzKUiFECKc+CURoes6qampbNu2DYvFwpw5c2jVqhUAe/fuJTk5uWzdn3/+mcmTJzNq1CgGDx5MdHQ0AAkJCcybN88fzTtpeXmwe7fK2LGlgW6KEEIIIY5DdecoAO+99x6vvvoqmqbRvn17UlNTUdUg7kCqKDhuneT9uaTEOwdlRERg23SK6NHDw99/Vz63Z3a2zPkphBDV8UsiIiMjA5fLxbJly9i0aRPz589n8eLFADRu3JglS7zdB3/44Qcee+wxhg8fjvNQ1Z/DjwWzqChYubKYFi30QDdFCCGEEMehunOUkpISFi5cyOrVq7Hb7SQnJ7N27Vr69esX4FbXgtNJzIBLcXftRuFjiwLdmlNGfLxBVlbFpIOmwWefafTtK71nhRCiMn5J8W/YsIGePXsC0K1bN7Zs2VJhHcMwmD17NqmpqWiaxi+//ILD4WDcuHGMGTOGTZs2+aNpPmGxwIUXemjRQgpDCSGEEKGkunMUi8XC0qVLsdvtALjdbqxWa0DaedysVlyXXob9P69hXZke6NacMlJSnNjt5c8HLRaDBg0MNm2SmdWEEKIqfukRUVhYSFRUVNnvmqbhdrsxmY483WeffUa7du1o27YtADabjfHjxzNs2DD++OMPJkyYwIcfflhum2DxzjsmGjUy6NlTstxCCCFEKKnuHEVVVRo1agR4e2gWFxdz0UUX1bhPTVOIifHdcAhNU09sf2mz0b/+L9H33Im918XQpo3P2uQrJxxbkBo/HiIiDB54APbsgRYtYPZsg2uuMfB4TNhsJt5+G5YvV5g92+D00wPd4uMXbq/Z0cI1tnCNCyS2cOKXq/yoqCiKiorKftd1vUJCYdWqVYwZM6bs9zZt2tCqVSsURaFNmzbExMSwd+9emjVrVuXz+PqL37vPmt8Ac+eqnHuuwVVXhU6PiHB+Y4drbOEaF0hsoShc44Lwjk1UVNM5iq7rPPTQQ+zcuZMnn3wSRal5rL/HY5CfX+yzNsbERJzw/tRFz9Og78Vw7bXkr/oQzGaftcsXTia2YHXFFd5/R8d2+C1WUgK7dplZs8bKu+8qjB1bSnKyi8aNQ+ccMhxfs8PCNbZwjQsktlDTuHF0lY/5JRGRmJjI2rVrGTBgAJs2baJ9+/YV1tm6dSuJiYllv69YsYLt27eTmppKTk4OhYWFNG7cuNrn8fUXP9T8BsjNVdi1K4qxY53k54dOscpwfGMfFq6xhWtcILGFonCNC8Iztuq++E91NZ2jzJgxA4vFwtNPPx3cRSqroLdqTeEjj2N/4jHUvFz0uKaBbtIp78YbSxkwwM1DD1l45RUzy5aZmTHDyQ03hM55pBBC+JpfEhH9+/dn3bp1jBw5EsMwmDt3LqtXr6a4uJgRI0aQl5dHZGRkubsM11xzDdOmTWPUqFEoisLcuXODclhGZqb3pKRrVylUKYQQQoSa6s5RzjzzTFasWEH37t0ZO3YsAGPGjKF///4BbvXxcQ5Ownnl1RCE51Gnqrg4g4cfdnLrrS7mzLESGentEeFygarKSyWEOPUohmGETt+wY5SWeuq8R8Rjj1mYN8/Kr78epH59nz61X4XjHb/DwjW2cI0LJLZQFK5xQXjGJj0i6pavz0d89Z5UCg4QmTaLontTMBo29EHLTl44ft4OO5HYnnrKzBtvmLn/fheXX+6mFiOB6py8ZqEnXOMCiS3UVHc+Enp9DgPs559V2rTRQyoJIYQQQohTj7p7N7b/vEb0XRMhdO87hbX27XUMA8aOtTNokJ3vv5dTcyHEqUH+2h2nZ54pYdWq8MpUCSGEECL8eM48i6KZs7F+tIaGHVrRKK4+sYmdsaa/FeimiUP69/fw5ZfFPPRQCTt2qAwcGMm//20hPd1EYmIkcXFRJCZGkp4uYzd86fDxtVpVOb5CBIh86o6TqnrH+QkhhBBCBDu9QSyGqqLm5wOgZe0hOvl2AJxJwwPZNHGIyQRjx5aSlFTK4sUWPB5ITrbhcHjHaWRlKSQn24ASkpLcgW1sGEhPN8nxFSIISI+I4/DddyqTJ1vJyQnCAXxCCCGEEMeInPsgil6+wLbicBCZNitALRJViYqCKVNcvPWWuewi+TCHQyE11SojbE5Qbu6R4zl1qq3S45uWZq3rZglxSpNExHH46isTS5ZYsNvlW0AIIYQQwU/Nzjqu5SLwsrMrv+GVk6PSr19E2e/FQTRSOJiGkpSUwPr1Ks8+a+aWW2x07x5Jx45R7N3rPa4FBZVvV9VxF0L4hyQijkNmpsppp+nUqxfolgghhBBC1EyPT6jyMfuix73zR4qgEh9f+Q2vmBidESNKy37v0yeS3r0jmDnTymefaQFLTBwe6pCVpWIYCllZKsnJNp8kI2pKcBgG7NihsHy5iT//9CYS3nnHxIABkTzwgI3vvtPo2tXDzJklaJr3uCYkVH58qzruQgj/kBoRxyEzU6NHD0+gmyGEEEIIUStFKTOJTr4dxeEoW2bYbLhPb0/Ugw9ge/0ViubMx3XpvwLYSnG0lBRnuRoGAHa7wbx5zrIaBh4PXHddKV98ofHii2YWL7ZgsRjce6+LO+5wYRig66Bp/mljSYm3B8GePSrTp1srHepw7702srJcREUZREcbtGxplJ1H796tYLVCvXoGNhuVTltaVS2Hgwed/POPwsaNGj/8oLF/v/fxhQsdXHutmz59PLz8soNzzvHQtGnF5EJVxzclxcn8+RYaNzYYN640KKdSFSKcSCKilv75R+HPP1W6dJE7B0IIIYQIDYcLUkamzULNzkKPT6AoZSbOpOGYP/uEqPvvo/61wyhMTcMx8fYAt1YAh5INJaSlWcnOVoiP914kH11IUdPgjjtc3HGHd4jGt99qfPGFiTPP9F7ob9+uMmhQBBdf7OaSSzz06uWmdWuD9HRTtfs9rKAAdu1Syc5WyM1V2L7dWz9h1iwnANdcY+e776q/jDh4kHJ1F/r3d9OjhzchdtVVEfz1l7djtslkEB0NV19dyoIF3v3fdJONTz4xVZrgeOwxCzk5Ch066AwYUEpios4553jo0MFbC6VpU4OBA6suOlnV8R082M2YMXY++cRERoaJhQtLpEC9EH6kGEbolr0pLfUNYlYcAAAgAElEQVSQn+/bfmgxMRGV7vPHH1XGj7ezcGEJF14Yer0iqoorHIRrbOEaF0hsoShc44LwjK1x4+hAN+GU4uvzkTp9T7pc2F96DufgJPSmzVD37MaIicGI9s841HD8vB0WTLH9+qvKokUWvvhC488/vRf8DRvqFBYqOJ1HLu4tFoMBA9w0aGCQl6fw/PMlANx8s42VK81l69lsBp066Xz4oTe+9983UVgILVoY3Hqrjb//rjjaOyFB53//K6KwUOHgQW/ypGVL72XHu++ayMtTOHhQobAQDh5U6NxZ5/rrvUNPrrgigg0bVKBitwRFMfj990Kiok7+OB37mhkGvPSSmVmzrERFGTz2WAn/+pec9wcTiS20VHc+IomIY4TjGwDCNy4I39jCNS6Q2EJRuMYF4RmbJCLqVkgnIo5Rf+iVmLb9QuEDs3AOH+Wdt9yHwvHzdlgwxmYY8NtvKl9+qTFrlpWSksrHG9Svb5CQ4E00WK3w9dca+/YpJCTodO5sw2wurnKowrFDKMA71OHRR09uOszExEiysipPcGzcWHTC+z1aVa/Ztm0qt91m49dfVdavLwq5nhHB+F70FYkttFR3PiLFKoUQQgghBABFMx7E06o19e64jZgB/TBt+D7QTRInQVGgXTud8eNLcTqrWsfg118LWbvWm4QAuOACD1dd5ebss3WaNKm8hsNhSUluHn20hIQEHUXxJjRONgkB3loOx85Ud7iWg7916KCzZk0xy5c7ypIQu3ZJ0QghfEkSEbV0+eURLF5srnlFIYQQQogQ5e6WSP57H1Ow6FnU7GwaXNEPy3ur6rQN1vS3iE3sTKO4+sQmdsaa/ladPn+4qmpWCF/MFpGU5GbjxiJycgrZuLHopJMQh/fpjwRHbVmtlBXXXL3axAUXRLJwoQVP6I3UECIoSSKiFnJyvJV5fdw7UQghhBAi+KgqzuGj2P/1BoqmpuDq0w8AbcdvVHlb3Ues6W8RnXw7WtYeFMNAy9pDdPLtkozwgUD2MDhR/khwnIiePd0MHOhm7lwrQ4bY2bNHekcIcbLk0roWNm/2HqauXfUAt0QIIYQQom4YUdEUT54KkZFQWkr9kUk06NUDyycf+vaJPB4sa97H/uxTRE25q9xUowCKw0Fk2izfPucpKNA9DEJZTAw891wJixY52LJFo3fvSFatkskHhTgZkoiohcxMDUUxyqZEEkIIIYQ4pZjNHJz/CKgq9a8bTr1RSdifeqLWQyjMX6zF9vILqPdNpd74McT070Xk/VO9D6oq9W4dR9QD01AKCyvdXs3ag/XN11Hy9/sjulNGsPQwCEWKAsOHu/n88yI6dfKg1+H9yfR0E4mJkcTFRZGYGEl6uiRBROiTd3EtZGZqtGun+2SaICGEEEKIUFTa91L2f/419hefI2Lug1g+/aRsckUtaw/Rd0zEsmolREai7d6FJyGBg8+8BEDU1GRMO37HsFjQElqgt2yFntDCu7GisH/NZ+hxTWnQ/xK0rD0Vn1zTqHfnRIx7zLh698V59VCcAwd5e2sIUYdatjR4911H2ZDtpUtNtGhhcNFF/rlheeysJFlZCsnJNkB6s4jQJj0iaqFLFw9Dh8oHXQghhBCnOIsFx22TMGJjOXaUvFLqwrrmPczf/A/DZEJPaFn2WMHL/yF308+4CwrZ/80PHHhrJY5bJ5U97unUGaNhQ4pSZmLY7eX2a9jtHHzyGfZ/tBbHTbdi+mkr0bffilp4EAB11x9QRU8KIfzhcBLC7YbFiy0MHWrnwQctLFt2Yj0XCgthxw6Fr7/W2LjxyOXZ5MlW7rqr/NSoAA6HQlqa1WfxhILDvUKsVlV6hYQJeQVrYcoUV6CbIIQQQggRNNS//6r8AUUhb+PWCos9HTsd2rD6e2DOpOEARKbNQs3OQo9PoChlZtly99nnUDRzNtq2X9DjmgIQPeUuzN9+jevSf1EyeCiufpdBRMQJRiZE7ZlM8P77xcycaWXRIiuKYmAYR3ou3H23jexsJ1266OTkKPzzj0pkpMG4caUADBtmZ/16jaKiI4mG3r3dvPWWt07K9u1qlfVhs7MV7r/fyiWXuLnwQk9Y99yWXiHhSTEM4+Tn7DmGruukpqaybds2LBYLc+bMoVWrVgDs3buX5OTksnV//vlnJk+ezIgRI6rcpiqlpR7y84t92vaYmIhy+yws9E7fYw7xmTuPjSuchGts4RoXSGyhKFzjgvCMrXHj6EA34ZTi6/ORUHhPxiZ2rnQIhSehRaWJiMP8EZvpm6+xrVyBddVK1H17MSIiKb5tEsVTU8qtZ01/q8oEhy+Ewut2IsI1LvBtbB07RpKbW3Nn865dPXzyifc5FyywUFCg0KSJQVycTlycQcuWOm3bHrk8S0yMJCur4n6bNNEpLFQoLlYwmw3OP99D794ehg0rpWNHe1i9ZlUdg4QEnY0biwLQIv8Ix89adecjfukRkZGRgcvlYtmyZWzatIn58+ezePHiQ41pzJIlSwD44YcfeOyxxxg+fHi12wTS009bePppC7/8UojNFujWCCGEEEIEXlHKTKKTby83w4Vht1OUMrPO2+LucQGFPS6gMG0B5v99hfXdd8p6S1BYSPT0KeixsdhffqGsvYenBQV8mowQp668vKqm9PTWlIiL02nSxCjXc+Hee2vudZ2S4izXGwC8067OmuXkyivdfPutxtq1Jj77TGPOHCs9erjp2BF+/FFl+3aVXr08NGrk8/vOfldUBN9/r7FunUZWVuXHNjv71JtGNT3dRFqalexshfh47/S7odorxC+JiA0bNtCzZ08AunXrxpYtWyqsYxgGs2fP5uGHH0bTtFptEwibN2u0aKFLEkIIIYQQ4pCahlAEhKZR2rMXpT17lS0ybf8Fy5r3UQ/kV1j98LSgkogQvhAfb1R6wZyQYHDBBSdeyNJ7kVlS5cXnJZd4uOQSDzNnwt9/K2VJh7ffNvPUUxYUxaBLF52+fd306ePhvPM8qGrwXdC63d6hLgATJ9p4910TpaUKJpOBxQKuSnI2qgqvvmpmxIjSU+JaLdyGqPglEVFYWEjUUek+TdNwu92YTEee7rPPPqNdu3a0bdu21tsEQmamN5MohBAisDweN/v378Xt9m3dnpwcBT+MUqwTJpOFBg0ao2lS8knUPWfS8KC/iHcndid36280SmiMQsXPuZqdRcTChylN7I777ESM6HoBaKUIB1X1XEhJqaLIw3FISnLX6kKzadMj7/H773cyaFApn31mYu1ajSeesLBkicGWLUWkp5u46y4bTmfgLmhLSmDDBo2vvvL2eti5UyUzswhVhU6dPDRrpnPRRd7EyUcfmSocW4vFoFkzgylTbDz0kIWMjOJy8YejOXOsVRYulUTEIVFRURQVHRmvo+t6hYTCqlWrGDNmzHFtcyxNU4iJ8W0xIk1Ty/b555+Qk6PSowc+f566dnRc4SZcYwvXuEBiC0XBENeuXX8QERFJVFRzFOXU6455LMMwKCw8QGFhHq1atQ50c0JGdXWsDnM4HNx4442kpaVx2mmnBailwmcsFvSEhEprWhhR0UTOfdD7s6Lgad+B0sTuFD7yxJHbs0LUQk09F+qapsHZZ+ucfbaLyZPhwAHYsUNFVSEtzVqWhDjM4VCYNu3IBe3nn2vUq2fQuLH3X217HFTV08Lp9H6kNA1eecXMjBlWSkoUVNXgrLN0kpLcOBzeGXknTSott8+qju3QoW6++krjo49MxMV5kxAZGRqJiR5iY0/6EAaNnTsVXn7ZUuVQlFAdouKXv7CJiYmsXbuWAQMGsGnTJtq3b19hna1bt5KYmHhc2xzL4zH8Wqzyv//VgAjat3eQn6/79HnqWjgWPzksXGML17hAYgtFwRCXw+GgXr3G6LoBldzZPFGapuLxhObfeLs9moKC/RVeGylWWbWaalL9+OOPzJw5k5ycnAC2UvhaVTUtChc8iqtff0w/bMS8cT2mjesxbfu5LAkRfdtNqH9m407s7u010f1c9GbNy+376CKYscEwREUETG17LgRC/frexARUfeGan+9dbhhw/fV2XK4j60VFGUyY4GLaNBceD0yfbqVRoyOJisaNdbZu1UhNtZYbOnD77TYWLtTZvVtl2TIHPXp46NhRZ+zYUi6+2E2PHh7q16+5/YeP7bHnIz17eujZ09t7vbAQbrrJO/3v6NGl3Habi+bNQ7uXxJo1Jm64wYamgd0OR/0JK2M2w3ffqZx3Xmidy/glEdG/f3/WrVvHyJEjMQyDuXPnsnr1aoqLixkxYgR5eXlERkaWu6NV2TaB1q6dzvTpTjp3Dq0XVQghwpX0hChPjsfxq6kmlcvl4qmnnuLee+8NRPOEn9RU06K0Tz9K+/SrsJ3ntNPRdv6O/fnFRBwapO781xUULFkGgP2xh4hc+LAUwRQhpbp6FuBNRKxeXczevQp796qH/lfKrokKCmDlSjP795ffR716RoWhA263wu+/q4wbV0rDht79n3++h/PP9/3Q96go+PDDYp580sILL5h56SUzw4eXMnmyqyy2YFdQAMuWmWnWzODKK91cfLGbe+5xMXp0KevWaRWGqJjNBjabwZVXRnLllaXcf7+z3Kwrwcwv03fWlbqYvjNchGtcEL6xhWtcILGFomCI6++/d9G0afXTOh+ttoW4QrlHBFR+XKRHRNVSUlK47LLL6NXLW9Cwd+/eZGRkVBgOOnr0aFJTU2s1NONUnL7zRIVsbE4npi2bMW9cj14/BufwUVBaSqP4hlSWDqxpGtNQErKvWS2Ea2w1xXVs0UPw1rN49NHjqxHhckFursK+fd5ExahRdgyj4idCUQxycgqPL4gq1PY1271b4emnLSxdaubjj4tp317H5QKLxSfN8Llt21Ref93OkiXeKVlHjSrl8cdLKqxX2bnN5Ze7WbzYwqJFFjQNMjMLy83OEkh1Pn1nODAM+PJLja5dPcTEBLo1Qgghjke4VZYWvnMiNalq4uuaVcFQk8VfQje2CIjrBf28CSw7QGkpKIr3pPEYanZWiMZZUei+ZjUL19hqimv8eIiIMHjgAdizB1q0gNmzDUaNsgDHd6XepMmRn1u0gN27K67TooXv6u3V9jWLiYFnnoEFC3Tq1fMWuBg1SqGwUGHqVJ2LL/ZJc3wiOVlh0SIVq9Vg+HCDiRN1zjlHBSrGOX48jB9/9BBV72s2Zw5MmqTz3XeQkBCBYcDSpQpDhtS+vkddk0REFf7+W2HYsAjmzi3hpptKa95ACCFEnRo82F5h2aBBbsaNK62ysvT06d5CXLm5CuPHe7+ZFcU7a8bKlZUMvDxGUVEh8+fPobDwIAcO5HPVVUNo3/4MHn/8YQzDoHHjJsycOZvffvutwjKrNUjPBE4xJ1KTqia+rlkVrndpIfxii42vvAimHp9A4Wdfov2xE+eVVwfvbdhaCLfX7GjhGltt4rriCu+/o+VXnOX2uEybVnlPi2nTSsjP981NgBN5zfLzvfnCTp0sLF5spm9fjfPOc3PnnS4af7KMjktSae7Zw59aC34Zk0rXf1/jk7ZWJS8P/vMfC9df76JBA+je3URKisrEiSbM5uKyNh8vmw0uucS77YYNKmPHRnL//d5SA0OGuFFVHwdSC9Ij4gRs2qQB0LWrTN0phBCh5s8/K6+dcOx41uOVlZXFpZdeRq9efdm3by+TJt2M1Wpj1qy5tG7dhrffXs4ff/zBggVpFZZ16HDGST238I2a6lgJcTyqKoJZlDIT25v/wf7qi3iaTKdk7DhKxtyIHtc0gK0Vwr+CbeaQoykK3H67i/HjXbz5ppmnnrLw3nXv8DyTiMR78Z/g2U2DlyfxNZx0MqKyIRTt2+u8+KKZt982U1Ki0Ly5d7aQAQO8xycmxnTSyaDDzjlHZ8WKYlJTrdx2m51nn/WQmurkwguD59pWakQc43CWbf58CwsXWtixo5CIMOixFa4ZXwjf2MI1LpDYQlEwxHU8NSISEyPJyqqY+k9I0Nm4sajcsuOpEbFv314WL34SwzCIiIjkm2/W4XK5WLXqo3LrDRr0rwrL/EVqRASe1IiovXCM7ehZM8oVwdR1LGszsL34HNaMjzHMZhzjJlA0e36gm3xcwvE1OyxcYwvXuMB3sZWWgrvFmbTUK44l2UVLrrvod2JiDB5+2EnDhgbr16v89JNGgwYG9esbZf8nJBgVehpUVoNDVQ10XSEiwuCaa0oZP76Ujh3Ln3v443XTdVi+3MS8eVbcbli/vqhOh2pIj4gTkJmp0aGDHhZJCCGEONWkpDgr7R6akuI8qf2++eYSzjyzC0OGXMPGjev5+uuvaNSoEXv27KZFi5a8/vortGjRqtJlvXr1OdmwhBBByJk0HGfS8IoXEaqKq99luPpdhrrjd+wvv4DePN77mNuNdWW6d9hGsA7gFiKMmc3QVK84rAqgBXtwu+H331XMZu89+w8+MLFokbXCurt3H8Rmg/nzLaxaZaJ+fdi6VaWkpHwPTF1XqF9fZ/36olpNV+orqgojRrgZNMjNb7+p2GzeJMwjj1gYP76Uxo0D1ydBEhGVMAzIzFS59NLg6boihBCi9vzVPfSiiy7h4Yfn8fHHa6hfvz6apjF58jTmzXsQVVVp2LAhw4dfS5MmTSosE0KcuvS2p1E0e17Z75a1GdSbOAH9/qmUXH8DjhvGoye0CGALhTi1mDZ8j4HCkaKPR+SqjVm9unzdqHvvdXHTTaXk5yvk5yvs369QUHAkj9i6tU7nzjr5+QolFSe7AKCgQKnTJMTR7HY46yxvD4z16zUef9zCc89ZuOMOF02a6Dz8cN0Pp5GhGceIiYlg//5itm5VsVigffvQndLtaNJFK/SEa1wgsYWiYIjreKfvrC2ZvlOcLBmaUXsS2yGGgXndf7G/8CyWD98HwHX5QA4uXIQR06Dq4R4BIK9Z6AnXuMA3sVmXvUH0PXfiMEWjFBVi50jmQD+UnCi+fxaOSXdyIhUej2d46NHq8nX77TeF2bOtrFljxpuMObmpXKtS3flIAGpnBj9FgTPP1MMmCSGEEEIIIYKIolB68SUUvPIf8r7fjGPSXaj/5GDUq481/S2i7/o/tKw9KIaBlrWH6OTbsaa/FehWCxHa3G4iZ6ZQ7/ZbKT33fIrXf8+6G58mS2uJjkKW1pIvrnsK1+ChRDzxKOrff53Q06SkOLHby9/r98XwUF86/XSDV18toXFjnaOTEOCdZSwtreIwFF+TREQlPvlEY8UKGbUihBBCCCH8S2/RkqL7U8l//xNQVSLnpKI4y1+wKA4HkbMeOOnnsqa/RWxiZxrF1Sc2sbMkN8SpRdcxb1yPY/zNHFj2DkbDhnT99zVY/9pC7j8HsP61hTMfu56Dz77M/owvvTVdDANtx2/H9TRJSW4efbSEhAQdRTFISNB91sPA1/btq3w2sezsk5tlrDbkarsSL75o4e+/Fa65JvjeLEIIIYQQIgwp3hN/9c/sSh8+fHdW/TObmMv7ojdtih7XFD2uGXrTpjj/NQDPWV3A6UTJz8do1Ag0rWx7a/pb5aYaPdzTAgjYsI9AOXroS2yAh74I/9N+3Y7esCFGbEPy31rpLZhQHUVBb90GANurLxF1/1QK0xZQMubGss9pTZKS3EGZeDhWfLxBVlbFmOLj/V+9QXpEHMMwYPNmla5dZViGEEIIIYSoW3p8QuXLmzbz/qAouPpeihHbEC0rC+sHq4hcMBfT1h8BMP2YSaOz2tEooRGxXc8g5rJe1BszksiZ08uSEIcpDgeRabP8Gk+wOZyQkaEvpwZLxkfEXN6XqGn3eBfUlIQ4hnPQYEovvoToKXcR/X83Q1HVNR5CUSCHkUgi4hh79sC+fSpdu8qMGUIIIYQQom4VpczEOOZiybDbKZo5GwC9WXMKFz7FgaVvs3/tOnJ/2sHerH04h1zjfTyhBQfnP0LxHXfj6t3Xm7DYvRt1795Kn0/N2kPMgEvRfv7J+/vuXZi/+hJ19y5w1+6ObqgM+VDycomado8kZE4FhoH9iceod91wPK3bUPTAgye2m9iGHHhjBUVTU7Cmv0WDK/qi/brdx40NnEAOI5FExDE2bvT+L4kIIYQQQghR15xJwzn46JN4ElpgKAqehBYcfPTJ6ocOWCxg9RaX05s2o2TcBIqnzaDw8ae9CYvP/1dlTwsjIhLDZsOIigLA+t4qYoZeScPuZ9GoZRNMZ7SnftIglEOJDO33XzFt+N77u2H4tYfBcSc43G5M336D9c3XiZyTSr0br6dBrx7Yn18MgFJUhJqfX+mmanYWOJ2gB1+v6FBJ9ASN4mKibxtP1JyZOK8eQv7qj05uelxVpXjyVA68tRIlL6/K4VOh6lre4A9a40HjD1pzLW/UyfNKjYhj/PKLgslk0KlT8P0REkIIUXvBNP2dEEIcD2fScJ//vSpKmVmuRgR4e1oUPvJ4uecqGTYS95lnoe3ehbp7F/Y/96D8/jtGtHcaPtsrLxLx7NPe7SMiweVEOabnhOJwEJUyFaN+fYyISPToet76FeDt2m4yeZMn1Yy3r7KmRYkDz1ld0X7/reyfu2s3HLdOAl0n5urLUXQdw2zG07oNntNOx3NoWIsen4CnWXO0v/6s8Hx6fAL2F5/D/tzTOAcNwTl4KO6zz6l1TQB/8Vdtj3D+jlSKijB//x2FKTNx3JHss9ewtFcf8r7LhIgIAMyffULpRZeUJQHrgq9ft0DWjlEMw/B/JQo/8fW83eCdv3XHjmJiY32624CT+YRDT7jGBRJbKAqGuP7+exdNm7aq1brHfrGC94S7sruKmqbi8fgu+Txp0s1MmTKdVq1a+2yf1ansuFQ3b7fwPV+fjwTD581fJLbAOpGLmGPjUnfvwvTzT2i7//AmKp59mpou8zxNm5G3eRsA9a4bhvWTjzA0zdsbIyICzxkdObD8XQAiZz2AtnMH5s8/RS2ueDwNVUU5qteCJ6EFzqThFKXMBMD81Zd44hPQW7T0JjwqOQZVfT/oDWKxv/QclrWfopSW4mnZmpKkayi+74GAJSRiEzujZe2psNwT15T9n3+N0bAh6DrKgXwMixUsFmIa1SP/gKOSvXkdz3dksKnuc6b9uBnPGR3BbPYmvCIj/dYObcdvNLiwO+5uZ1Pw/Kve99tJqulvSK1ft9JSlAMHUAvyUQ4cwIiKxtOuvXe4ylNPoBQcQD3gfcz6wWqUkpIKz+VJaEHexq0nHVN15yPSI6IS4ZaEEEKIcFR/8IAKy5yDhlAyboJ3+rtKxgBHTb8XZ9JwlNxc6o0f7V2ueAsVH1j5QV00WwghAsYXPS30lq1wtTyS/LS+v7rKC+WCl19HOSaZUDLyetznng/FxSjFRSjFxRixDcseV/Jy0Xb+XmG7Iw3QOfDS696eDq3bVCg+WHrxJdW2/3D8VSVkSvteipK/H8ua97GtTMe86YeyJIT1zddxn32O92LXH5xOtO3bMP20BdPWLbg7dfYOGamElvM39ucXU3zf/Sh799LorHZljxmKQiOLhaL7U3Hc8n+ou3cRM/RKDIsFzBa037ajlJaW25/icBA5Yzqu3v28yY0QY/vPa0TdezfFd0+h+J77/JqEAPC0PZ2C518l+s6JNLi0JwWLX6C0b3+/Pmdk2qzKz23uvbvs/Rt7zploe3aXW6dk6DUcfOYlUBQiHvk3SonD21upXn2oJAkBVPm+8yVJRBzlzz8VbrtNYeJElbPOkqEZQggRqqoav6nszzvhfU6fPoVhw0Zy9tnn8PPPW3n66SeIiWlAYeFBDhzI56qrhjDkULG46qxdm8Hbby/ncIfEOXMWUK9ePRYufIiff95Kaamb8eNv5qKLLqmwrGfP3ifcfiGE8IeqhnwUpc7B3f28Cuu7rroaVzX7K3zcO+yjqp4AekILXFcOOqk2H07IVHUH2ohpgHPU9ThHXQ8eb904peAA0ffciVJaivuMjjgHJ+EcPBRP29PLtqt1jxPDQP37L5T8fDwdOwEQM7A/ph82lA1zMWw2HGPHo8cnVH4cGjbEefVQ77qRkRTOmQ+uUhSXE5tq4Cwown1WV+/KFgul518ALheKy4X2c+V3urW9/9CoYxv0hg3xnN6ewpmzcXc/D+VAPkpBgbfOiBpkJQZLS4mcOZ2IF57F1asPjptuqbOndl11NfmdO1Nv3Bjqj7qG4inTvEkQH1ByczFlbsT8w0ZwOimePqPK5IBy8GDZz44xN6J4POiHEg1G/fp4WhxJHOZu+dU7tORQcq3Kz1kVNWV8SRIRR9m4USM9XeXmmwPdEiGEEDWprgdDlSduh4pVGQ0blm1f26EZV101mDVr3uPss8/hgw/eIzGxO23bnkavXn3Zt28vkybdXKtExJ49u3noocex2WwsWJDGd999jdVq48CBfJ5//jVyc/eRnv4Wum5UWCaJCCFEsKmph8GJqjLBcWgIRp3RNO9z16tP7safsL63EtvKt4mcP4fI+XMoePxpnKOux7piGdGT76hyrL3l/dWYv/4K009bMf20BTUvj9JuZ5P/8RcAlJ57Pq6LeuLp1Bl357PwtGkLJhPubmdXXttjzr/LkhhEReG4eWLZ45aYCIqOSrDoTZtx8Knnyn6v8uKzUSOK70hG+3U7pu3bMGze3iaWNe9T747bMCIicJ/WDk+79njatccxdjxGo0bl9lGXtSeUvFzqTbgBy3+/oPiW//POLFPJcBx/8rQ9nf0fZBB93+SyOirH7ahhJPbHH8G+5BW03bsAb+8W99mJFE+fUeO5DYDjzsnVP9cxPUUC+Tnzyyul6zqpqals27YNi8XCnDlzaNXqSCZm8+bNzJ8/H8MwaNy4MQ899BBWq5XBgwcTfegFTEhIYN68ef5oXpUyM1VMJoOOHaU3hBBChDJ/fLGef/4FPP304xQUHGDz5h94+OEneOaZRXzxxVoiIiJx13KauwYNYpkzZyYRERHs2vUHZ57ZhZycXXTu7INUz4kAABKqSURBVC3k1rBhI26+eSJLlrxSYZkQQgQjfxTX9FeC42QYcXGUjL+FkvG3oP6ZjXXVO5T26gNA1P1Tq5wW1Jk0HNvby7F8+jHujp1wDhyEu1Nn3Gd1K1u3KHVOpc/pj+NQZeHS2fMr3W9pjws5+PDjaL9uw/Trdszff4vt7eU4rr8BAPsTj2F74zWMqChMP20t69Xh78KHanY2ph8zKXhiMc6R1/l8/7UWEcHBJxZ7x3kCloyP0Navx/7WGxVfM4cD04+bMWduxPTDRkyZP6Dt+J3cX3dDTARERFDaLRHHDTfhPjsRd5euGNH1AP+c2wTyc+aXRERGRgYul4tly5axadMm5s+fz+LF3mlzDMPggQce4IknnqBVq1YsX76c7Oxs4uPjAViyZIk/mlSj9HQTzzxjwe2GCy+MJCXFWSfzpwohhPA9f3yxqqpKnz6X8vDD8+nZszdLl77OmWd2YciQa9i4cT1ff/1VjfsoLCzkxRefJT39PQDuvvv/MAyD1q1bs3btp2XrzJhxH0OGXFNh2aOPLjrh9gshRKjxR4LDV/Tm8d6ZOg5R8iof+ne4O/3Bx57EiIo+oaENvj4Ox/sdqbduQ0nrNuUXFhWVzR7hadMWT6czsXz4fuUzqEy5G/viRejNmqE3bY7erBmeFi1xDhvpXamkxDvzRA2zqBxub2yTOIpS5+BMGk7ehi1lF+oBd6joVOR996Dt3lVWxFXL2kP03d73ipK/n+hpUwBvHRX32Yne437ouDkm3AYTbqt09/5KGgTqc+aXRMSGDRvo2bMnAN26dWPLli1lj+3cuZOYmBheffVVtm/fTq9evWjbti2ZmZk4HA7GjRuH2+0mOTmZbt26VfUUPpWebiI52YbT6X27ZGUpJCfbgBJJRgghRIjyxxfrwIGDGD78apYufYe//vqThx+ex8cfr6F+/fpomobLVd3IZ4iMjOSss7oybtz12O12oqOj2bdvLwMGXMX69d9x223j8Xg83HjjBHr0uLDCMiGEEMFJT2hR7Vh7o179um5StU76O/KoLv6uq67GddXVNIqrPEal8CB648Zoe/Zg/v5b1Lw8PC1blyUi6o8Zifm7b/A0bYberDl602a4z+yC4//uAMD+1ONE/jutbHYHLedvou+cWBZHUFEUFLe7wkwySkkJkWmzyH93DQeaJ+A+OxH90LSyxyOYk3PHyy/Td6akpHDZZZfRq1cvAHr37k1GRgYmk4kNGzZw44038vbbb9OqVStuvfVWbrrpJmJjY8nMzGTYsGH88ccfTJgwgQ8//BBTNeN8fDVdVmJiJFlZFbOTCQk6GzcWnfT+g0EoTCl1osI1tnCNCyS2UBQMcR3P9J3Hw9fTd9Y1mb4z8GT6ztqT2EJPuMYFvo0tmKbEDNRrVuVUo8dOBVlSgpq/v+xC3Lr0P5i2/oj6119of/2J+vdfeNqcxoEV3ildGzWPrdDTotL9BolGcfVRKrnENhSFfTkHqtwuHD9rdT59Z1RUFEVFRy7gdV0vSyjExMTQqlUrTj/dW2G2Z8+ebNmyhbFjx9KqVSsURaFNmzbExMSwd+9emjWrOlOkaQoxMREn3d7s7Mq7AWVn+2b/wUDT1LCJ5VjhGlu4xgUSWygKhrhychQ0zT/Vun29361bt/DUU49XWH7ppZcxdOgwnz6XooTPd5UQQoSqYKxpUddqXcPAZivXG8A58jqc1e340Mwlx6qLKSZPRJVFJetgJopQ4pdERGJiImvXrmXAgAFs2rSJ9u3blz3WokULioqK2LVrF61atWL9+vVcc801rFixgu3bt5OamkpOTg6FhYU0bty42ufxeAyfZI3i4yPJyqqYjIiP983+g0E4ZtgOC9fYwjUukNhCUTDEZRiGX3ou+KNHxBlndOLJJ5+t9DFfP5dhVPyukh4RQghR98Kp2/yJ8FcyJtQu7INmxpcg55dERP/+/Vm3bh0jR47EMAzmzp3L6tWrKS4uZsSIEaSlpTF58mQMw+Dss8+md+/euFwupk2bxqhR/9/evcdGVW1xHP9OZzqgLUKxQPRCESr4IgoFDJJAE5VAeBoKlFpEhD8EUWwvClhtaAMUVCx/EIiUgMFCFEWNMRF8RE0TRGKrvF+C0hA0SJEGz1D6oPv+cdOhU7i9cG+ZmX3m9/mLOftk2CvrnOzVNeeRhcfjoaioqNXbMtrSq6/W8s9/tqem5koz4pZbDK++2mpvTkREwswYg6eVh1nFmptwd6WIiMj/7GY0Y2z7w15Xx1yfm/KMiHBpy3syP/rIx7Jl7Th92sM//mFc99aMaPg182Zxa2xujQsUm42iIa6qqj9o3/5WEhJua9NmhK3PiDDGEAhc4NKliyQnh97GqCsiwkvPiLh+is0+bo0L3BubG+Nq/tYMt/5h78a8hf0ZETbKyGggI6PBlQeAiIgbJCV14fz5szhOdZt+r8fjsfbKAp/PT1JS67cxioiI2K7pSgv9reYeakSIiIgVvF7fVb/8twUVNbGlsbGRgoICjh49it/vZ+nSpfTseeWtI9988w1r1qzB5/ORkZHBlCnu+sVNREQkGtycx4+LiIiIRKGvv/6auro6tm7dyvz581mxYkVwrL6+nuXLl7Nx40ZKS0vZunUrZ8+ejeBsRURE3EmNCBEREYkZFRUVDBs2DID+/ftz4MCB4NiJEydISUmhY8eO+P1+Bg4cSHl5eaSmKiIi4lq6NUNERERihuM4JCYmBj97vV4aGhrw+Xw4jkOHDlcerJWQkIDjOP/1O71eD5063dpmc/R649r0+6KJYrOPW+MC98bm1rhAsbmJ1Y2I+HjvTXkyuFufNu7WuMC9sbk1LlBsNnJrXODu2CRUYmIigUAg+LmxsTH4uvCWY4FAIKQx8Z/ExcUR18bXmMbFedv2C6OIYrOPW+MC98bm1rhAsbmFbs0QERGRmJGWlkZZWRkAe/bsoW/fvsGx1NRUKisrqa6upq6ujvLycgYMGBCpqYqIiLiWx9j6zjIRERGRG9T01oxjx45hjKGoqIhDhw5x8eJFMjMzg2/NMMaQkZFBdnZ2pKcsIiLiOmpEiIiIiIiIiEjY6NYMEREREREREQkbNSJEREREREREJGzUiBARERERERGRsLH69Z3/q6YHVR09ehS/38/SpUvp2bNncLzpQVU+n4+MjAymTJkSwdlev/r6evLy8jh9+jR1dXXMmTOHxx57LDj+zjvvsG3bNjp37gxAYWEhvXv3jtR0b9gTTzwRfI1a9+7dWb58eXDM1pwBfPzxx3zyyScA1NbWcvjwYXbu3Mltt90G2Jm3vXv3snLlSkpLS6msrGTRokV4PB769OnD4sWLiWv2nrv/dj5Gm+axHT58mCVLluD1evH7/bz++uskJyeH7N/acRttmsd28OBBZs+ezV133QVAVlYWo0ePDu5rU96ax5Wbm0tVVRUAp0+f5qGHHmLVqlUh+9uUM7Gb6hF71rXmVI/YkzfVI1fYsra5tRYB1SNXMTHoiy++MAsXLjTGGPPzzz+b2bNnB8fq6urM448/bqqrq01tba2ZOHGi+fPPPyM11Ruybds2s3TpUmOMMX/99ZdJT08PGZ8/f77Zv39/BGb2/7t06ZKZMGHCNcdszllLBQUF5v333w/ZZlveSkpKzNixY83kyZONMcY8++yz5ocffjDGGJOfn2++/PLLkP1bOx+jTcvYsrOzzaFDh4wxxrz33numqKgoZP/Wjtto0zK2Dz74wGzYsOE/7m9L3lrG1aS6utqMHz/enDlzJmS7TTkT+6kesY/qEXvypnrkClvWNrfWIsaoHrmWmLw1o6KigmHDhgHQv39/Dhw4EBw7ceIEKSkpdOzYEb/fz8CBAykvL4/UVG/IqFGjePHFF4OfvV5vyPjBgwcpKSkhKyuLdevWhXt6/5cjR45QU1PDzJkzmT59Onv27AmO2Zyz5vbv38/x48fJzMwM2W5b3lJSUli9enXw88GDB3n44YcBGD58ON9//33I/q2dj9GmZWzFxcXcd999AFy+fJl27dqF7N/acRttWsZ24MABvvvuO7Kzs8nLy8NxnJD9bclby7iarF69mmnTptG1a9eQ7TblTOynesSOda051SP25E31yBW2rG1urUVA9ci1xGQjwnEcEhMTg5+9Xi8NDQ3BsaZLYAASEhKuOuijVUJCAomJiTiOw7x588jJyQkZHzNmDAUFBWzatImKigq+/fbbCM30xrVv355Zs2axYcMGCgsLeemll1yRs+bWrVvH3Llzr9puW95GjhyJz3flri9jDB6PB/h3bv7++++Q/Vs7H6NNy9iaFo2ffvqJzZs3M2PGjJD9Wztuo03L2B588EEWLFjAli1b6NGjB2vWrAnZ35a8tYwL4Ny5c+zatYuJEydetb9NORP7qR6xY11rTvWIPXlTPXKFLWubW2sRUD1yLTHZiEhMTCQQCAQ/NzY2Bg+MlmOBQCBkUYl2f/zxB9OnT2fChAmMGzcuuN0Yw9NPP03nzp3x+/2kp6dz6NChCM70xvTq1Yvx48fj8Xjo1asXnTp14uzZs4D9OQO4cOECv/76K0OGDAnZbnvegJD7LwOBQPBe0yatnY82+Pzzz1m8eDElJSXB+2abtHbcRrsRI0bQr1+/4L9bHnc2523Hjh2MHTv2ql9pwe6ciX1Uj9i3rqkesTNvoHrExrXNzbUIqB6JyUZEWloaZWVlAOzZs4e+ffsGx1JTU6msrKS6upq6ujrKy8sZMGBApKZ6Q6qqqpg5cyYvv/wykyZNChlzHIexY8cSCAQwxrB79+7giW2Dbdu2sWLFCgDOnDmD4zh06dIFsDtnTX788UeGDh161Xbb8wZw//33s3v3bgDKysoYNGhQyHhr52O0+/TTT9m8eTOlpaX06NHjqvHWjttoN2vWLPbt2wfArl27eOCBB0LGbc7brl27GD58+DXHbM6Z2Ef1iH3rmuoRO/MGqkdsXNvcXIuA6hF7WkZtaMSIEezcuZOpU6dijKGoqIjPPvuMixcvkpmZyaJFi5g1axbGGDIyMujWrVukp3xd3n77bS5cuMDatWtZu3YtAJMnT6ampobMzExyc3OZPn06fr+fRx55hPT09AjP+PpNmjSJV155haysLDweD0VFRWzfvt36nDX57bff6N69e/Bz8+PR5rwBLFy4kPz8fIqLi+nduzcjR44EYMGCBeTk5FzzfLTB5cuXWbZsGXfccQcvvPACAIMHD2bevHnB2K513NrSqS8oKGDJkiXEx8eTnJzMkiVLAPvzBv8+31oWam7ImdhH9Yh965rqETvzBqpHbFzb3FyLgOoRjzHGRHoSIiIiIiIiIhIbYvLWDBERERERERGJDDUiRERERERERCRs1IgQERERERERkbBRI0JEREREREREwkaNCBEREREREREJGzUiROSmeeqppzhx4kSkpyEiIiIxTPWISPRRI0JEREREREREwsYX6QmISHSor69n8eLFVFZW0tjYSE5ODoWFhQwaNIhffvmFjh07UlxcTHx8PHl5eZw6dYrLly/zzDPPMHr0aPbu3cuyZcswxtCtWzdWrlwJwJo1a6iqqqKmpobi4mISEhLIycnBGEN9fT2FhYXcc889EY5eREREooHqEZHYoEaEiADw4YcfkpSURFFREefPn2fatGlcunSJcePGMXjwYN544w22bt1KfHw8SUlJvPnmmziOw8SJExkyZAj5+fmsWrWK1NRUtmzZErwEMj09nQkTJrB69Wp27NhBnz596NChA2+99RbHjx/HcZwIRy4iIiLRQvWISGxQI0JEADh27BgVFRXs27cPgIaGBnw+H4MHDwYgLS2NsrIyvF4vQ4cOBSAxMZHU1FROnTrFuXPnSE1NBSA7Ozv4vf369QMgOTmZqqoqhg8fzsmTJ3nuuefw+XzMmTMnnGGKiIhIFFM9IhIb9IwIEQGgd+/ejBkzhtLSUtavX8+oUaOoq6vjyJEjAFRUVHD33XeTmppKeXk5AI7jcOzYMbp3707Xrl05efIkACUlJXz11VfX/H92795N165d2bhxI3PmzKG4uDgs8YmIiEj0Uz0iEht0RYSIADB16lRee+01pk2bhuM4PPnkk8TFxbF+/Xp+//137rzzTnJzcwHIz88nKyuL2tpann/+eW6//XYKCwvJy8sjLi6OLl26MGPGDN59992r/p97772X3NxcNm3aRFxcHHPnzg13qCIiIhKlVI+IxAaPMcZEehIiEp0effRRtm/fTrt27SI9FREREYlRqkdE3Ee3ZoiIiIiIiIhI2OiKCBEREREREREJG10RISIiIiIiIiJho0aEiIiIiIiIiISNGhEiIiIiIiIiEjZqRIiIiIiIiIhI2KgRISIiIiIiIiJho0aEiIiIiIiIiITNvwDGpoegORto8wAAAABJRU5ErkJggg==\n",
      "text/plain": [
       "<Figure size 1296x576 with 2 Axes>"
      ]
     },
     "metadata": {},
     "output_type": "display_data"
=======
      "Epoch 1/30\n",
      "110/111 [============================>.] - ETA: 1s - loss: 0.5138 - acc: 0.7308\n",
      "Epoch 00001: val_loss improved from inf to 0.17052, saving model to ../models/mnm/prajna.checkpoint\n",
      "WARNING:tensorflow:From /Users/brtonnies/anaconda3/envs/AI/lib/python3.6/site-packages/tensorflow_core/python/ops/resource_variable_ops.py:1781: calling BaseResourceVariable.__init__ (from tensorflow.python.ops.resource_variable_ops) with constraint is deprecated and will be removed in a future version.\n",
      "Instructions for updating:\n",
      "If using Keras pass *_constraint arguments to layers.\n",
      "INFO:tensorflow:Assets written to: ../models/mnm/prajna.checkpoint/assets\n",
      "111/111 [==============================] - 150s 1s/step - loss: 0.5125 - acc: 0.7314 - val_loss: 0.1705 - val_acc: 0.9460\n",
      "Epoch 2/30\n",
      "110/111 [============================>.] - ETA: 1s - loss: 0.3290 - acc: 0.8791\n",
      "Epoch 00002: val_loss improved from 0.17052 to 0.14654, saving model to ../models/mnm/prajna.checkpoint\n",
      "INFO:tensorflow:Assets written to: ../models/mnm/prajna.checkpoint/assets\n",
      "111/111 [==============================] - 153s 1s/step - loss: 0.3285 - acc: 0.8793 - val_loss: 0.1465 - val_acc: 0.9676\n",
      "Epoch 3/30\n",
      "110/111 [============================>.] - ETA: 1s - loss: 0.2702 - acc: 0.8965\n",
      "Epoch 00003: val_loss improved from 0.14654 to 0.10415, saving model to ../models/mnm/prajna.checkpoint\n",
      "INFO:tensorflow:Assets written to: ../models/mnm/prajna.checkpoint/assets\n",
      "111/111 [==============================] - 156s 1s/step - loss: 0.2691 - acc: 0.8975 - val_loss: 0.1041 - val_acc: 0.9604\n",
      "Epoch 4/30\n",
      "110/111 [============================>.] - ETA: 1s - loss: 0.3083 - acc: 0.8846\n",
      "Epoch 00004: val_loss did not improve from 0.10415\n",
      "111/111 [==============================] - 162s 1s/step - loss: 0.3063 - acc: 0.8857 - val_loss: 0.1212 - val_acc: 0.9568\n",
      "Epoch 5/30\n",
      "110/111 [============================>.] - ETA: 1s - loss: 0.2256 - acc: 0.9130\n",
      "Epoch 00005: val_loss improved from 0.10415 to 0.07910, saving model to ../models/mnm/prajna.checkpoint\n",
      "INFO:tensorflow:Assets written to: ../models/mnm/prajna.checkpoint/assets\n",
      "111/111 [==============================] - 146s 1s/step - loss: 0.2253 - acc: 0.9129 - val_loss: 0.0791 - val_acc: 0.9676\n",
      "Epoch 6/30\n",
      "110/111 [============================>.] - ETA: 1s - loss: 0.1867 - acc: 0.9396\n",
      "Epoch 00006: val_loss improved from 0.07910 to 0.06472, saving model to ../models/mnm/prajna.checkpoint\n",
      "INFO:tensorflow:Assets written to: ../models/mnm/prajna.checkpoint/assets\n",
      "111/111 [==============================] - 123s 1s/step - loss: 0.1859 - acc: 0.9401 - val_loss: 0.0647 - val_acc: 0.9748\n",
      "Epoch 7/30\n",
      "110/111 [============================>.] - ETA: 0s - loss: 0.1740 - acc: 0.9277\n",
      "Epoch 00007: val_loss did not improve from 0.06472\n",
      "111/111 [==============================] - 87s 786ms/step - loss: 0.1735 - acc: 0.9283 - val_loss: 0.0730 - val_acc: 0.9748\n",
      "Epoch 8/30\n",
      "110/111 [============================>.] - ETA: 0s - loss: 0.1800 - acc: 0.9295\n",
      "Epoch 00008: val_loss improved from 0.06472 to 0.05068, saving model to ../models/mnm/prajna.checkpoint\n",
      "INFO:tensorflow:Assets written to: ../models/mnm/prajna.checkpoint/assets\n",
      "111/111 [==============================] - 71s 641ms/step - loss: 0.1791 - acc: 0.9301 - val_loss: 0.0507 - val_acc: 0.9856\n",
      "Epoch 9/30\n",
      "110/111 [============================>.] - ETA: 0s - loss: 0.1407 - acc: 0.9451\n",
      "Epoch 00009: val_loss did not improve from 0.05068\n",
      "111/111 [==============================] - 71s 638ms/step - loss: 0.1445 - acc: 0.9446 - val_loss: 0.0519 - val_acc: 0.9820\n",
      "Epoch 10/30\n",
      "110/111 [============================>.] - ETA: 0s - loss: 0.2340 - acc: 0.8974\n",
      "Epoch 00010: val_loss improved from 0.05068 to 0.04113, saving model to ../models/mnm/prajna.checkpoint\n",
      "INFO:tensorflow:Assets written to: ../models/mnm/prajna.checkpoint/assets\n",
      "111/111 [==============================] - 93s 836ms/step - loss: 0.2335 - acc: 0.8975 - val_loss: 0.0411 - val_acc: 0.9856\n",
      "Epoch 11/30\n",
      "110/111 [============================>.] - ETA: 0s - loss: 0.1609 - acc: 0.9405\n",
      "Epoch 00011: val_loss did not improve from 0.04113\n",
      "111/111 [==============================] - 97s 877ms/step - loss: 0.1600 - acc: 0.9410 - val_loss: 0.0550 - val_acc: 0.9856\n",
      "Epoch 12/30\n",
      "110/111 [============================>.] - ETA: 0s - loss: 0.1669 - acc: 0.9432\n",
      "Epoch 00012: val_loss did not improve from 0.04113\n",
      "111/111 [==============================] - 102s 918ms/step - loss: 0.1655 - acc: 0.9437 - val_loss: 0.0608 - val_acc: 0.9712\n",
      "Epoch 13/30\n",
      "110/111 [============================>.] - ETA: 0s - loss: 0.1287 - acc: 0.9478\n",
      "Epoch 00013: val_loss improved from 0.04113 to 0.03838, saving model to ../models/mnm/prajna.checkpoint\n",
      "INFO:tensorflow:Assets written to: ../models/mnm/prajna.checkpoint/assets\n",
      "111/111 [==============================] - 105s 944ms/step - loss: 0.1277 - acc: 0.9483 - val_loss: 0.0384 - val_acc: 0.9892\n",
      "Epoch 14/30\n",
      "110/111 [============================>.] - ETA: 0s - loss: 0.1226 - acc: 0.9606\n",
      "Epoch 00014: val_loss did not improve from 0.03838\n",
      "111/111 [==============================] - 111s 1s/step - loss: 0.1217 - acc: 0.9610 - val_loss: 0.0549 - val_acc: 0.9820\n",
      "Epoch 15/30\n",
      "110/111 [============================>.] - ETA: 0s - loss: 0.1020 - acc: 0.9643\n",
      "Epoch 00015: val_loss did not improve from 0.03838\n",
      "111/111 [==============================] - 113s 1s/step - loss: 0.1022 - acc: 0.9637 - val_loss: 0.2200 - val_acc: 0.9317\n",
      "Epoch 16/30\n",
      "110/111 [============================>.] - ETA: 0s - loss: 0.0893 - acc: 0.9625\n",
      "Epoch 00016: val_loss did not improve from 0.03838\n",
      "111/111 [==============================] - 107s 967ms/step - loss: 0.0888 - acc: 0.9628 - val_loss: 0.0709 - val_acc: 0.9712\n",
      "Epoch 17/30\n",
      "110/111 [============================>.] - ETA: 0s - loss: 0.1600 - acc: 0.9487\n",
      "Epoch 00017: val_loss did not improve from 0.03838\n",
      "111/111 [==============================] - 108s 971ms/step - loss: 0.1591 - acc: 0.9492 - val_loss: 0.0494 - val_acc: 0.9748\n",
      "Epoch 18/30\n",
      "110/111 [============================>.] - ETA: 0s - loss: 0.1358 - acc: 0.9505\n",
      "Epoch 00018: val_loss improved from 0.03838 to 0.02869, saving model to ../models/mnm/prajna.checkpoint\n",
      "INFO:tensorflow:Assets written to: ../models/mnm/prajna.checkpoint/assets\n",
      "111/111 [==============================] - 112s 1s/step - loss: 0.1348 - acc: 0.9510 - val_loss: 0.0287 - val_acc: 1.0000\n",
      "Epoch 19/30\n",
      "110/111 [============================>.] - ETA: 0s - loss: 0.0832 - acc: 0.9716\n",
      "Epoch 00019: val_loss improved from 0.02869 to 0.01847, saving model to ../models/mnm/prajna.checkpoint\n",
      "INFO:tensorflow:Assets written to: ../models/mnm/prajna.checkpoint/assets\n",
      "111/111 [==============================] - 102s 917ms/step - loss: 0.0827 - acc: 0.9719 - val_loss: 0.0185 - val_acc: 0.9928\n",
      "Epoch 20/30\n",
      "110/111 [============================>.] - ETA: 0s - loss: 0.0885 - acc: 0.9725\n",
      "Epoch 00020: val_loss did not improve from 0.01847\n",
      "111/111 [==============================] - 91s 822ms/step - loss: 0.0880 - acc: 0.9728 - val_loss: 0.0191 - val_acc: 1.0000\n",
      "Epoch 21/30\n",
      "110/111 [============================>.] - ETA: 0s - loss: 0.0770 - acc: 0.9780\n",
      "Epoch 00021: val_loss improved from 0.01847 to 0.00489, saving model to ../models/mnm/prajna.checkpoint\n",
      "INFO:tensorflow:Assets written to: ../models/mnm/prajna.checkpoint/assets\n",
      "111/111 [==============================] - 83s 749ms/step - loss: 0.0767 - acc: 0.9782 - val_loss: 0.0049 - val_acc: 1.0000\n",
      "Epoch 22/30\n",
      "110/111 [============================>.] - ETA: 0s - loss: 0.0886 - acc: 0.9679\n",
      "Epoch 00022: val_loss did not improve from 0.00489\n",
      "111/111 [==============================] - 96s 860ms/step - loss: 0.0889 - acc: 0.9673 - val_loss: 0.0179 - val_acc: 1.0000\n",
      "Epoch 23/30\n",
      "110/111 [============================>.] - ETA: 0s - loss: 0.1008 - acc: 0.9652\n",
      "Epoch 00023: val_loss did not improve from 0.00489\n",
      "111/111 [==============================] - 103s 927ms/step - loss: 0.1000 - acc: 0.9655 - val_loss: 0.0229 - val_acc: 0.9892\n",
      "Epoch 24/30\n",
      "110/111 [============================>.] - ETA: 0s - loss: 0.0682 - acc: 0.9771\n",
      "Epoch 00024: val_loss did not improve from 0.00489\n",
      "111/111 [==============================] - 99s 891ms/step - loss: 0.0685 - acc: 0.9773 - val_loss: 0.0429 - val_acc: 0.9748\n",
      "Epoch 25/30\n"
     ]
    },
    {
     "name": "stdout",
     "output_type": "stream",
     "text": [
      "110/111 [============================>.] - ETA: 0s - loss: 0.1759 - acc: 0.9359\n",
      "Epoch 00025: val_loss did not improve from 0.00489\n",
      "111/111 [==============================] - 96s 865ms/step - loss: 0.1757 - acc: 0.9356 - val_loss: 0.0091 - val_acc: 1.0000\n",
      "Epoch 26/30\n",
      "110/111 [============================>.] - ETA: 0s - loss: 0.0941 - acc: 0.9588\n",
      "Epoch 00026: val_loss did not improve from 0.00489\n",
      "111/111 [==============================] - 98s 880ms/step - loss: 0.0976 - acc: 0.9583 - val_loss: 0.0959 - val_acc: 0.9604\n",
      "Epoch 27/30\n",
      "110/111 [============================>.] - ETA: 0s - loss: 0.0981 - acc: 0.9625\n",
      "Epoch 00027: val_loss did not improve from 0.00489\n",
      "111/111 [==============================] - 98s 881ms/step - loss: 0.0979 - acc: 0.9628 - val_loss: 0.0487 - val_acc: 0.9748\n",
      "Epoch 28/30\n",
      "110/111 [============================>.] - ETA: 0s - loss: 0.0758 - acc: 0.9734\n",
      "Epoch 00028: val_loss did not improve from 0.00489\n",
      "111/111 [==============================] - 96s 864ms/step - loss: 0.0753 - acc: 0.9737 - val_loss: 0.0149 - val_acc: 0.9964\n",
      "Epoch 29/30\n",
      "110/111 [============================>.] - ETA: 0s - loss: 0.0697 - acc: 0.9780\n",
      "Epoch 00029: val_loss improved from 0.00489 to 0.00484, saving model to ../models/mnm/prajna.checkpoint\n",
      "INFO:tensorflow:Assets written to: ../models/mnm/prajna.checkpoint/assets\n",
      "111/111 [==============================] - 100s 899ms/step - loss: 0.0693 - acc: 0.9782 - val_loss: 0.0048 - val_acc: 1.0000\n",
      "Epoch 30/30\n",
      "110/111 [============================>.] - ETA: 0s - loss: 0.0919 - acc: 0.9670\n",
      "Epoch 00030: val_loss did not improve from 0.00484\n",
      "111/111 [==============================] - 98s 881ms/step - loss: 0.0913 - acc: 0.9673 - val_loss: 0.0483 - val_acc: 0.9712\n"
     ]
>>>>>>> 93a8d083bac81946b6531b5cabf0820191bd57a0
    }
   ],
   "source": [
    "history = model.fit_generator(train_generator,\n",
<<<<<<< HEAD
    "                              epochs=20,\n",
=======
    "                              epochs=30,\n",
>>>>>>> 93a8d083bac81946b6531b5cabf0820191bd57a0
    "                              validation_data=validation_generator,\n",
    "                              callbacks=[checkpoint])"
   ]
  },
  {
   "cell_type": "markdown",
   "metadata": {},
   "source": [
    "# How Did We Do?\n",
    "\n",
    "To answer that, we have to answer a few other questions:\n",
    "1. What do the training/validation results look like?\n",
    "2. How well does our model predict a completely different dataset?\n",
    "  + For this, we'll use the training set from Kaggle so we can also check our accuracy\n",
    "3. How well does our model predict in a different setting?\n",
    "  + We'll use a live WebCam feed or video file and have our model predict in real time (or close to it -- framerate is spotty)"
   ]
  },
  {
   "cell_type": "markdown",
   "metadata": {},
   "source": [
    "## Predicting Another Dataset"
   ]
  },
  {
   "cell_type": "code",
   "execution_count": 13,
   "metadata": {
    "ExecuteTime": {
     "end_time": "2020-11-16T04:24:59.985746Z",
     "start_time": "2020-11-16T04:24:59.547023Z"
    }
   },
   "outputs": [
    {
     "data": {
      "image/png": "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\n",
      "text/plain": [
       "<Figure size 1296x576 with 2 Axes>"
      ]
     },
     "metadata": {},
     "output_type": "display_data"
    }
   ],
   "source": [
    "def plot_accuracy_loss(history):\n",
    "    \"\"\"\n",
    "        Plot the accuracy and the loss during the training of the nn.\n",
    "    \"\"\"\n",
    "    fig = plt.figure(figsize=(18,8))\n",
    "\n",
    "    # Plot accuracy\n",
    "    plt.subplot(221)\n",
    "    plt.plot(history.history['acc'],'bo--', label = \"acc\")\n",
    "    plt.plot(history.history['val_acc'], 'ro--', label = \"val_acc\")\n",
    "    plt.title(\"train_acc vs val_acc\")\n",
    "    plt.ylabel(\"accuracy\")\n",
    "    plt.xlabel(\"epochs\")\n",
    "    plt.legend()\n",
    "\n",
    "    # Plot loss function\n",
    "    plt.subplot(222)\n",
    "    plt.plot(history.history['loss'],'bo--', label = \"loss\")\n",
    "    plt.plot(history.history['val_loss'], 'ro--', label = \"val_loss\")\n",
    "    plt.title(\"train_loss vs val_loss\")\n",
    "    plt.ylabel(\"loss\")\n",
    "    plt.xlabel(\"epochs\")\n",
    "\n",
    "    plt.legend()\n",
    "    plt.show()\n",
    "    \n",
    "plot_accuracy_loss(history)\n",
    "# history.history\n",
    "# model.history"
   ]
  },
  {
   "cell_type": "code",
   "execution_count": 9,
   "metadata": {
    "ExecuteTime": {
     "end_time": "2020-11-16T04:24:38.334908Z",
     "start_time": "2020-11-16T04:24:38.332003Z"
    }
   },
   "outputs": [],
   "source": [
    "# labels_dict={ 0:'No Mask', 1:'Mask' }\n",
    "# color_dict={ 0: (0,0,255), 1: (0,255,0) }\n",
    "\n",
    "# name = test_images[0]\n",
    "\n",
    "# # fetch the image from the remote repository\n",
    "# url = os.path.join(KAGGLE_IMAGES_DIR, \"{}?raw=true\".format(name))\n",
    "# resp = urllib.request.urlopen(url)\n",
    "# image = np.asarray(bytearray(resp.read()), dtype=\"uint8\")\n",
    "# image = cv2.imdecode(image, cv2.IMREAD_GRAYSCALE)\n",
    "\n",
    "\n",
    "# # image = cv2.cvtColor(img, cv2.COLOR_BGR2GRAY)\n",
    "\n",
    "# #     print(image[0, 0])\n",
    "\n",
    "# # locate the image within the dataframe so we can find bounding boxes\n",
    "# # NOTE: bounding boxes were pre-detected in this dataset and stored in the dataframe CSV\n",
    "# to_test = df[df['name'] == name]\n",
    "# #     print(to_test)\n",
    "\n",
    "\n",
    "# # print([i for i in list(faces) if len(i) > 4])\n",
    "# for i in range(len(to_test)):\n",
    "#     im = df.iloc[i]\n",
    "# #     print(im['x'])\n",
    "\n",
    "#     face_region = image[im['y']:im['y']+im['h'], im['x']:im['x']+im['w']]\n",
    "# #     face_region = np.asarray(face_region)\n",
    "#     resized = cv2.resize(face_region, (450, 450))\n",
    "#     normalized = resized/255.0\n",
    "#     reshaped = np.reshape(normalized, (-1, 150, 150, 3))\n",
    "#     reshaped = np.vstack([reshaped])\n",
    "#     pred = model.predict(reshaped)\n",
    "#     print(pred)\n",
    "        \n",
    "# plt.imshow(image, cmap='gray')"
   ]
  },
  {
   "cell_type": "code",
   "execution_count": 10,
   "metadata": {
    "ExecuteTime": {
     "end_time": "2020-11-16T04:24:38.850212Z",
     "start_time": "2020-11-16T04:24:38.848385Z"
    }
   },
   "outputs": [],
   "source": [
    "# cv2_image = img_as_ubyte(image[:, ::-1])\n",
    "# gray = cv2.cvtColor(cv2_image, cv2.IMREAD_GRAYSCALE)\n",
    "# plt.imshow(gray)\n",
    "\n",
    "# a = [69, 126, 294, 392]\n",
    "# x, y, w, h = a\n",
    "# len(a)\n"
   ]
  },
  {
   "cell_type": "code",
   "execution_count": 11,
   "metadata": {
    "ExecuteTime": {
     "end_time": "2020-11-16T04:24:39.463143Z",
     "start_time": "2020-11-16T04:24:39.460877Z"
    }
   },
   "outputs": [],
   "source": [
    "# len(to_test)"
   ]
  },
  {
   "cell_type": "code",
   "execution_count": 12,
   "metadata": {
    "ExecuteTime": {
     "end_time": "2020-11-16T04:24:40.128862Z",
     "start_time": "2020-11-16T04:24:40.125597Z"
    }
   },
   "outputs": [],
   "source": [
    "# labels_dict={ 0:'No Mask', 1:'Mask' }\n",
    "# color_dict={ 0: 'magenta', 1: 'cyan' }\n",
    "\n",
    "# # name = test_images[0]\n",
    "# total = len(test_images)\n",
    "# counter = 1\n",
    "\n",
    "# for name in test_images:\n",
    "\n",
    "#     # fetch the image from the remote repository\n",
    "#     url = os.path.join(KAGGLE_IMAGES_DIR, \"{}?raw=true\".format(name))\n",
    "#     resp = urllib.request.urlopen(url)\n",
    "#     image = np.asarray(bytearray(resp.read()), dtype=\"uint8\")\n",
    "#     image = cv2.imdecode(image, cv2.IMREAD_GRAYSCALE)\n",
    "\n",
    "\n",
    "#     # locate the image within the dataframe so we can find bounding boxes\n",
    "#     # NOTE: bounding boxes were pre-detected in this dataset and stored in the dataframe CSV\n",
    "#     to_test = df[df['name'] == name]\n",
    "#     #     print(to_test)\n",
    "\n",
    "\n",
    "# #     fig, ax = plt.subplots(1)\n",
    "# #     ax.imshow(image, cmap='gray')\n",
    "\n",
    "#     preds = list()\n",
    "#     # print([i for i in list(faces) if len(i) > 4])\n",
    "#     for i in range(len(to_test)):\n",
    "#         im = df.iloc[i]\n",
    "\n",
    "#         face_region = image[im['y']:im['y']+im['h'], im['x']:im['x']+im['w']]\n",
    "#         # print(face_region.size)\n",
    "#         if face_region != [] and face_region.size > 0:\n",
    "#             resized = cv2.resize(face_region, (450, 450))\n",
    "#             normalized = resized/255.0\n",
    "#             reshaped = np.reshape(normalized, (-1, 150, 150, 3))\n",
    "#             reshaped = np.vstack([reshaped])\n",
    "#             pred = model.predict(reshaped)\n",
    "#             preds.append(pred)\n",
    "\n",
    "#             label = np.argmax(pred, axis=1)[0]\n",
    "#             df.loc[i, 'pred'] = int(label)\n",
    "            \n",
    "#         print(\"Analyzing {}/{}\".format(counter, total))\n",
    "#         counter += 1\n",
    "\n",
    "# #         box = (im['x'], im['y'], im['w'], im['h'])\n",
    "# #         rect = patches.Rectangle(\n",
    "# #             (box[0], box[1]), \n",
    "# #             box[2]-box[0], \n",
    "# #             box[3]-box[1],\n",
    "# #             linewidth=2,\n",
    "# #             edgecolor=color_dict[label],\n",
    "# #             facecolor='none'\n",
    "# #         )\n",
    "# #         ax.add_patch(rect)\n",
    "# #         ax.label = \"Detecting Face Masks\""
   ]
  },
  {
   "cell_type": "markdown",
   "metadata": {},
   "source": [
    "## Using Our Model With Video Feed\n",
    "\n",
    "+ We have two available facial detection algorithms: \n",
    "  1. Haar Cascade - faster detection, but only tuned for full, frontal views of faces.\n",
    "  2. MTCNN - slower detection, but returns extra features and can detect faces from a variety of angles -- not only the front.\n"
   ]
  },
  {
   "cell_type": "code",
   "execution_count": null,
   "metadata": {
    "ExecuteTime": {
     "end_time": "2020-11-14T03:07:01.970708Z",
     "start_time": "2020-11-14T03:07:01.429120Z"
    }
   },
   "outputs": [],
   "source": [
    "# use haar cascade to detect faces (frontal)\n",
    "\n",
    "\n",
    "# if os.path.exists(checkpoint_path):\n",
    "#     model.load_weights(os.path.join(checkpoint_path, 'variables/variables'))\n",
    "    \n",
    "# alternatively, we can load the whole model from the checkpoint state\n",
    "# if os.path.exists(checkpoint_path):\n",
    "#     model = load_model(checkpoint_path)\n",
    "HC_FRONTAL_FACE = os.path.join(HC_DATA_DIR, \n",
    "                               'haarcascade_frontalface_default.xml')\n",
    "classifier = cv2.CascadeClassifier(HC_FRONTAL_FACE)\n",
    "\n",
    "\n",
    "# use MTCNN to detect faces\n",
    "classifier = MTCNN()\n",
    "\n",
    "\n",
    "labels_dict={ 0:'No Mask', 1:'Mask' }\n",
    "color_dict={ 0: (0,0,255), 1: (0,255,0) }\n",
    "\n",
    "size = 4\n",
    "\n",
    "# open webcam feed\n",
    "# cap = cv2.VideoCapture(0)\n",
    "\n",
    "# alternatively, open feed from a file\n",
    "cap = cv2.VideoCapture(0)\n",
    "\n",
    "# EVEN from a mobile device (UNTESTED)\n",
    "# cap = cv.VideoCapture(1)\n",
    "\n",
    "while cap.isOpened():\n",
    "    ret, frame = cap.read()\n",
    "    if frame is not None:\n",
    "        # frame = cv2.flip(frame, 1, 1) # flip so view looks more natural live (?)\n",
    "        \n",
    "\n",
    "        # detection is a little faster on smaller images -- so let's make it small\n",
    "        small = cv2.resize(frame, (frame.shape[1] // size, frame.shape[0] // size))\n",
    "\n",
    "#         detect faces with haar cascades\n",
    "#         faces = classifier.detectMultiScale(small)\n",
    "        \n",
    "        # detect faces with MTCNN\n",
    "        faces = classifier.detect_faces(small)\n",
    "\n",
    "        for f in faces:\n",
    "            # reverse the scale-down of the frame for bounding box (haar)\n",
    "#             (x, y, w, h) = [v * size for v in f] \n",
    "            keypoints = None\n",
    "            \n",
    "            # reverse the scale-down of the frame for bounding box (MTCNN)\n",
    "            (x, y, w, h) = [v * size for v in f['box']]\n",
    "            # print(f['keypoints'])\n",
    "            keypoints = f['keypoints']\n",
    "                \n",
    "        \n",
    "            face = frame[y:y+h, x:x+w]\n",
    "            resized = cv2.resize(face, (150,150))\n",
    "            normalized = resized/255.0\n",
    "            reshaped = np.reshape(normalized,(1,150,150,3))\n",
    "            reshaped = np.vstack([reshaped])\n",
    "            result = model.predict(reshaped)\n",
    "#             print(result)\n",
    "\n",
    "            label = np.argmax(result, axis=1)[0]\n",
    "#             print(\"PREDICTION: {}\".format(labels_dict[label]))\n",
    "            cv2.rectangle(frame, (x,y), (x+w,y+h), color_dict[label], 2)\n",
    "            cv2.rectangle(frame, (x,y-40), (x+w,y), color_dict[label], -1)\n",
    "            cv2.putText(\n",
    "                frame, \n",
    "                labels_dict[label], \n",
    "                (x, y-10), \n",
    "                cv2.FONT_HERSHEY_SIMPLEX,\n",
    "                0.8,\n",
    "                (255,255,255),\n",
    "                2\n",
    "            )\n",
    "            \n",
    "            # extra fun when using MTCNN :)\n",
    "            if keypoints is not None:\n",
    "                cv2.circle(\n",
    "                    frame, \n",
    "                    (tuple([k * size for k in keypoints['left_eye']])), \n",
    "                    2, (255,0,255), 2\n",
    "                )\n",
    "                cv2.circle(\n",
    "                    frame, \n",
    "                    (tuple([k * size for k in keypoints['right_eye']])), \n",
    "                    2, (255,0,255), 2\n",
    "                )\n",
    "                cv2.circle(\n",
    "                    frame, \n",
    "                    (tuple([k * size for k in keypoints['nose']])), \n",
    "                    2, (255,0,255), 2\n",
    "                )\n",
    "                cv2.circle(\n",
    "                    frame, \n",
    "                    (tuple([k * size for k in keypoints['mouth_left']])), \n",
    "                    2, (255,0,255), 2\n",
    "                )\n",
    "                cv2.circle(\n",
    "                    frame, \n",
    "                    (tuple([k * size for k in keypoints['mouth_right']])), \n",
    "                    2, (255,0,255), 2)\n",
    "            # end of extra fun with MTCNN\n",
    "\n",
    "        cv2.imshow(\"*LIVE DETECTION ACTIVE* (PRAJNA)\", frame)\n",
    "        key = cv2.waitKey(10)\n",
    "\n",
    "        if key == 27: # if Esc key pressed -- end feed\n",
    "            break\n",
    "            \n",
    "    else:\n",
    "        break\n",
    "        \n",
    "# stop video\n",
    "cap.release()\n",
    "\n",
    "# close windows\n",
    "cv2.destroyAllWindows()"
   ]
  },
  {
   "cell_type": "code",
<<<<<<< HEAD
   "execution_count": 17,
=======
   "execution_count": null,
>>>>>>> 93a8d083bac81946b6531b5cabf0820191bd57a0
   "metadata": {
    "ExecuteTime": {
     "end_time": "2020-11-14T01:32:50.497371Z",
     "start_time": "2020-11-14T01:04:16.530Z"
    }
   },
   "outputs": [],
   "source": [
    "cap.release()\n",
    "cv2.destroyAllWindows()"
   ]
  },
  {
   "cell_type": "code",
   "execution_count": null,
   "metadata": {},
   "outputs": [],
   "source": []
  }
 ],
 "metadata": {
  "kernelspec": {
   "display_name": "Python 3",
   "language": "python",
   "name": "python3"
  },
  "language_info": {
   "codemirror_mode": {
    "name": "ipython",
    "version": 3
   },
   "file_extension": ".py",
   "mimetype": "text/x-python",
   "name": "python",
   "nbconvert_exporter": "python",
   "pygments_lexer": "ipython3",
   "version": "3.6.10"
  },
  "latex_envs": {
   "LaTeX_envs_menu_present": true,
   "autoclose": false,
   "autocomplete": true,
   "bibliofile": "biblio.bib",
   "cite_by": "apalike",
   "current_citInitial": 1,
   "eqLabelWithNumbers": true,
   "eqNumInitial": 1,
   "hotkeys": {
    "equation": "Ctrl-E",
    "itemize": "Ctrl-I"
   },
   "labels_anchors": false,
   "latex_user_defs": false,
   "report_style_numbering": false,
   "user_envs_cfg": false
  },
  "varInspector": {
   "cols": {
    "lenName": 16,
    "lenType": 16,
    "lenVar": 40
   },
   "kernels_config": {
    "python": {
     "delete_cmd_postfix": "",
     "delete_cmd_prefix": "del ",
     "library": "var_list.py",
     "varRefreshCmd": "print(var_dic_list())"
    },
    "r": {
     "delete_cmd_postfix": ") ",
     "delete_cmd_prefix": "rm(",
     "library": "var_list.r",
     "varRefreshCmd": "cat(var_dic_list()) "
    }
   },
   "types_to_exclude": [
    "module",
    "function",
    "builtin_function_or_method",
    "instance",
    "_Feature"
   ],
   "window_display": false
  }
 },
 "nbformat": 4,
 "nbformat_minor": 4
}
