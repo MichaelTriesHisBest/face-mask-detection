{
 "cells": [
  {
   "cell_type": "markdown",
   "metadata": {},
   "source": [
    "# LEGv8 Helpers and References"
   ]
  },
  {
   "cell_type": "code",
   "execution_count": 1,
   "metadata": {
    "ExecuteTime": {
     "end_time": "2020-11-02T17:34:16.606624Z",
     "start_time": "2020-11-02T17:34:16.219072Z"
    }
   },
   "outputs": [],
   "source": [
    "import os\n",
    "import pandas as pd"
   ]
  },
  {
   "cell_type": "code",
   "execution_count": 140,
   "metadata": {
    "ExecuteTime": {
     "end_time": "2020-11-02T21:31:43.194070Z",
     "start_time": "2020-11-02T21:31:43.169526Z"
    }
   },
   "outputs": [],
   "source": [
    "orig_dir = !pwd\n",
    "path_ref = \"/Users/brtonnies/Desktop/legv8-instructions.csv\""
   ]
  },
  {
   "cell_type": "code",
   "execution_count": 141,
   "metadata": {
    "ExecuteTime": {
     "end_time": "2020-11-02T21:31:43.747614Z",
     "start_time": "2020-11-02T21:31:43.729593Z"
    }
   },
   "outputs": [
    {
     "data": {
      "text/html": [
       "<div>\n",
       "<style scoped>\n",
       "    .dataframe tbody tr th:only-of-type {\n",
       "        vertical-align: middle;\n",
       "    }\n",
       "\n",
       "    .dataframe tbody tr th {\n",
       "        vertical-align: top;\n",
       "    }\n",
       "\n",
       "    .dataframe thead th {\n",
       "        text-align: right;\n",
       "    }\n",
       "</style>\n",
       "<table border=\"1\" class=\"dataframe\">\n",
       "  <thead>\n",
       "    <tr style=\"text-align: right;\">\n",
       "      <th></th>\n",
       "      <th>instruction</th>\n",
       "      <th>opcode</th>\n",
       "      <th>opcode_size</th>\n",
       "      <th>opcode_bit_range</th>\n",
       "      <th>format</th>\n",
       "    </tr>\n",
       "  </thead>\n",
       "  <tbody>\n",
       "    <tr>\n",
       "      <th>0</th>\n",
       "      <td>B</td>\n",
       "      <td>101</td>\n",
       "      <td>6</td>\n",
       "      <td>160-191</td>\n",
       "      <td>B</td>\n",
       "    </tr>\n",
       "    <tr>\n",
       "      <th>1</th>\n",
       "      <td>STURB</td>\n",
       "      <td>111000000</td>\n",
       "      <td>11</td>\n",
       "      <td>448</td>\n",
       "      <td>D</td>\n",
       "    </tr>\n",
       "    <tr>\n",
       "      <th>2</th>\n",
       "      <td>LDURB</td>\n",
       "      <td>111000010</td>\n",
       "      <td>11</td>\n",
       "      <td>450</td>\n",
       "      <td>D</td>\n",
       "    </tr>\n",
       "    <tr>\n",
       "      <th>3</th>\n",
       "      <td>B.cond</td>\n",
       "      <td>1010100</td>\n",
       "      <td>8</td>\n",
       "      <td>672-679</td>\n",
       "      <td>CB</td>\n",
       "    </tr>\n",
       "    <tr>\n",
       "      <th>4</th>\n",
       "      <td>ORRI</td>\n",
       "      <td>1011001000</td>\n",
       "      <td>10</td>\n",
       "      <td>712-713</td>\n",
       "      <td>I</td>\n",
       "    </tr>\n",
       "    <tr>\n",
       "      <th>5</th>\n",
       "      <td>EORI</td>\n",
       "      <td>1101001000</td>\n",
       "      <td>10</td>\n",
       "      <td>840-841</td>\n",
       "      <td>I</td>\n",
       "    </tr>\n",
       "    <tr>\n",
       "      <th>6</th>\n",
       "      <td>STURH</td>\n",
       "      <td>1111000000</td>\n",
       "      <td>11</td>\n",
       "      <td>960</td>\n",
       "      <td>D</td>\n",
       "    </tr>\n",
       "    <tr>\n",
       "      <th>7</th>\n",
       "      <td>LDURH</td>\n",
       "      <td>1111000010</td>\n",
       "      <td>11</td>\n",
       "      <td>962</td>\n",
       "      <td>D</td>\n",
       "    </tr>\n",
       "    <tr>\n",
       "      <th>8</th>\n",
       "      <td>AND</td>\n",
       "      <td>10001010000</td>\n",
       "      <td>11</td>\n",
       "      <td>1104</td>\n",
       "      <td>R</td>\n",
       "    </tr>\n",
       "    <tr>\n",
       "      <th>9</th>\n",
       "      <td>ADD</td>\n",
       "      <td>10001011000</td>\n",
       "      <td>11</td>\n",
       "      <td>1112</td>\n",
       "      <td>R</td>\n",
       "    </tr>\n",
       "    <tr>\n",
       "      <th>10</th>\n",
       "      <td>ADDI</td>\n",
       "      <td>1001000100</td>\n",
       "      <td>10</td>\n",
       "      <td>1160-1161</td>\n",
       "      <td>I</td>\n",
       "    </tr>\n",
       "    <tr>\n",
       "      <th>11</th>\n",
       "      <td>ANDI</td>\n",
       "      <td>1001001000</td>\n",
       "      <td>10</td>\n",
       "      <td>1168-1169</td>\n",
       "      <td>I</td>\n",
       "    </tr>\n",
       "    <tr>\n",
       "      <th>12</th>\n",
       "      <td>BL</td>\n",
       "      <td>100101</td>\n",
       "      <td>6</td>\n",
       "      <td>1184-1215</td>\n",
       "      <td>B</td>\n",
       "    </tr>\n",
       "    <tr>\n",
       "      <th>13</th>\n",
       "      <td>ORR</td>\n",
       "      <td>10101010000</td>\n",
       "      <td>11</td>\n",
       "      <td>1360</td>\n",
       "      <td>R</td>\n",
       "    </tr>\n",
       "    <tr>\n",
       "      <th>14</th>\n",
       "      <td>ADDS</td>\n",
       "      <td>10101011000</td>\n",
       "      <td>11</td>\n",
       "      <td>1368</td>\n",
       "      <td>R</td>\n",
       "    </tr>\n",
       "    <tr>\n",
       "      <th>15</th>\n",
       "      <td>ADDIS</td>\n",
       "      <td>1011000100</td>\n",
       "      <td>10</td>\n",
       "      <td>1416-1417</td>\n",
       "      <td>I</td>\n",
       "    </tr>\n",
       "    <tr>\n",
       "      <th>16</th>\n",
       "      <td>CBZ</td>\n",
       "      <td>10110100</td>\n",
       "      <td>8</td>\n",
       "      <td>1440-1447</td>\n",
       "      <td>CB</td>\n",
       "    </tr>\n",
       "    <tr>\n",
       "      <th>17</th>\n",
       "      <td>CBNZ</td>\n",
       "      <td>10110101</td>\n",
       "      <td>8</td>\n",
       "      <td>14481455</td>\n",
       "      <td>CB</td>\n",
       "    </tr>\n",
       "    <tr>\n",
       "      <th>18</th>\n",
       "      <td>STURW</td>\n",
       "      <td>10111000000</td>\n",
       "      <td>11</td>\n",
       "      <td>1472</td>\n",
       "      <td>D</td>\n",
       "    </tr>\n",
       "    <tr>\n",
       "      <th>19</th>\n",
       "      <td>LDURSW</td>\n",
       "      <td>10111000100</td>\n",
       "      <td>11</td>\n",
       "      <td>1476</td>\n",
       "      <td>D</td>\n",
       "    </tr>\n",
       "    <tr>\n",
       "      <th>20</th>\n",
       "      <td>STXR</td>\n",
       "      <td>11001000000</td>\n",
       "      <td>11</td>\n",
       "      <td>1600</td>\n",
       "      <td>D</td>\n",
       "    </tr>\n",
       "    <tr>\n",
       "      <th>21</th>\n",
       "      <td>LDXR</td>\n",
       "      <td>11001000010</td>\n",
       "      <td>11</td>\n",
       "      <td>1602</td>\n",
       "      <td>D</td>\n",
       "    </tr>\n",
       "    <tr>\n",
       "      <th>22</th>\n",
       "      <td>EOR</td>\n",
       "      <td>11101010000</td>\n",
       "      <td>11</td>\n",
       "      <td>1616</td>\n",
       "      <td>R</td>\n",
       "    </tr>\n",
       "    <tr>\n",
       "      <th>23</th>\n",
       "      <td>SUB</td>\n",
       "      <td>11001011000</td>\n",
       "      <td>11</td>\n",
       "      <td>1624</td>\n",
       "      <td>R</td>\n",
       "    </tr>\n",
       "    <tr>\n",
       "      <th>24</th>\n",
       "      <td>SUBI</td>\n",
       "      <td>1101000100</td>\n",
       "      <td>10</td>\n",
       "      <td>16721673</td>\n",
       "      <td>I</td>\n",
       "    </tr>\n",
       "    <tr>\n",
       "      <th>25</th>\n",
       "      <td>MOVZ</td>\n",
       "      <td>110100101</td>\n",
       "      <td>9</td>\n",
       "      <td>16841687</td>\n",
       "      <td>IM</td>\n",
       "    </tr>\n",
       "    <tr>\n",
       "      <th>26</th>\n",
       "      <td>LSR</td>\n",
       "      <td>11010011010</td>\n",
       "      <td>11</td>\n",
       "      <td>1690</td>\n",
       "      <td>R</td>\n",
       "    </tr>\n",
       "    <tr>\n",
       "      <th>27</th>\n",
       "      <td>LSL</td>\n",
       "      <td>11010011011</td>\n",
       "      <td>11</td>\n",
       "      <td>1691</td>\n",
       "      <td>R</td>\n",
       "    </tr>\n",
       "    <tr>\n",
       "      <th>28</th>\n",
       "      <td>BR</td>\n",
       "      <td>11010110000</td>\n",
       "      <td>11</td>\n",
       "      <td>1712</td>\n",
       "      <td>R</td>\n",
       "    </tr>\n",
       "    <tr>\n",
       "      <th>29</th>\n",
       "      <td>ANDS</td>\n",
       "      <td>11101010000</td>\n",
       "      <td>11</td>\n",
       "      <td>1872</td>\n",
       "      <td>R</td>\n",
       "    </tr>\n",
       "    <tr>\n",
       "      <th>30</th>\n",
       "      <td>SUBS</td>\n",
       "      <td>11101011000</td>\n",
       "      <td>11</td>\n",
       "      <td>1880</td>\n",
       "      <td>R</td>\n",
       "    </tr>\n",
       "    <tr>\n",
       "      <th>31</th>\n",
       "      <td>SUBIS</td>\n",
       "      <td>1111000100</td>\n",
       "      <td>10</td>\n",
       "      <td>1928-1929</td>\n",
       "      <td>I</td>\n",
       "    </tr>\n",
       "    <tr>\n",
       "      <th>32</th>\n",
       "      <td>ANDIS</td>\n",
       "      <td>1111001000</td>\n",
       "      <td>10</td>\n",
       "      <td>1936-1937</td>\n",
       "      <td>I</td>\n",
       "    </tr>\n",
       "    <tr>\n",
       "      <th>33</th>\n",
       "      <td>MOVK</td>\n",
       "      <td>111100101</td>\n",
       "      <td>9</td>\n",
       "      <td>1940-1943</td>\n",
       "      <td>IM</td>\n",
       "    </tr>\n",
       "    <tr>\n",
       "      <th>34</th>\n",
       "      <td>STUR</td>\n",
       "      <td>11111000000</td>\n",
       "      <td>11</td>\n",
       "      <td>1984</td>\n",
       "      <td>D</td>\n",
       "    </tr>\n",
       "    <tr>\n",
       "      <th>35</th>\n",
       "      <td>LDUR</td>\n",
       "      <td>11111000010</td>\n",
       "      <td>11</td>\n",
       "      <td>1986</td>\n",
       "      <td>D</td>\n",
       "    </tr>\n",
       "  </tbody>\n",
       "</table>\n",
       "</div>"
      ],
      "text/plain": [
       "   instruction       opcode  opcode_size opcode_bit_range format\n",
       "0            B          101            6          160-191      B\n",
       "1        STURB    111000000           11              448      D\n",
       "2        LDURB    111000010           11              450      D\n",
       "3       B.cond      1010100            8          672-679     CB\n",
       "4         ORRI   1011001000           10          712-713      I\n",
       "5         EORI   1101001000           10          840-841      I\n",
       "6        STURH   1111000000           11              960      D\n",
       "7        LDURH   1111000010           11              962      D\n",
       "8          AND  10001010000           11             1104      R\n",
       "9          ADD  10001011000           11             1112      R\n",
       "10        ADDI   1001000100           10        1160-1161      I\n",
       "11        ANDI   1001001000           10        1168-1169      I\n",
       "12          BL       100101            6        1184-1215      B\n",
       "13         ORR  10101010000           11             1360      R\n",
       "14        ADDS  10101011000           11             1368      R\n",
       "15       ADDIS   1011000100           10        1416-1417      I\n",
       "16         CBZ     10110100            8        1440-1447     CB\n",
       "17        CBNZ     10110101            8         14481455     CB\n",
       "18       STURW  10111000000           11             1472      D\n",
       "19      LDURSW  10111000100           11             1476      D\n",
       "20        STXR  11001000000           11             1600      D\n",
       "21        LDXR  11001000010           11             1602      D\n",
       "22         EOR  11101010000           11             1616      R\n",
       "23         SUB  11001011000           11             1624      R\n",
       "24        SUBI   1101000100           10         16721673      I\n",
       "25        MOVZ    110100101            9         16841687     IM\n",
       "26         LSR  11010011010           11             1690      R\n",
       "27         LSL  11010011011           11             1691      R\n",
       "28          BR  11010110000           11             1712      R\n",
       "29        ANDS  11101010000           11             1872      R\n",
       "30        SUBS  11101011000           11             1880      R\n",
       "31       SUBIS   1111000100           10        1928-1929      I\n",
       "32       ANDIS   1111001000           10        1936-1937      I\n",
       "33        MOVK    111100101            9        1940-1943     IM\n",
       "34        STUR  11111000000           11             1984      D\n",
       "35        LDUR  11111000010           11             1986      D"
      ]
     },
     "execution_count": 141,
     "metadata": {},
     "output_type": "execute_result"
    }
   ],
   "source": [
    "df = pd.read_csv(path_ref, index_col=False)\n",
    "df"
   ]
  },
  {
   "cell_type": "markdown",
   "metadata": {},
   "source": [
    "## Using the Dataframe (`df`) and `formats` Objects\n",
    "\n",
    "+ The `formats` object defined in the next sell is just a dictionary that holds the lengths of different fields for each of the main LEGv8 instruction formats"
   ]
  },
  {
   "cell_type": "code",
   "execution_count": 142,
   "metadata": {
    "ExecuteTime": {
     "end_time": "2020-11-02T21:31:44.761129Z",
     "start_time": "2020-11-02T21:31:44.752304Z"
    }
   },
   "outputs": [
    {
     "data": {
      "text/plain": [
       "dict_keys(['R', 'D', 'I', 'B', 'CB', 'IW'])"
      ]
     },
     "execution_count": 142,
     "metadata": {},
     "output_type": "execute_result"
    }
   ],
   "source": [
    "formats = {\n",
    "    'R': {\n",
    "        'opcode': [0, 11],\n",
    "        'Rm': [11, 16],# 5,\n",
    "        'shamt': [16, 22],# 6,\n",
    "        'Rn': [22, 27], # 5,\n",
    "        'Rd': [27, 32], # 5\n",
    "    }, \n",
    "    'D': {\n",
    "        'opcode': [0, 11],\n",
    "        'dt_address': [11, 20], # 9 bits\n",
    "        'op': [20, 22], # 2 bits\n",
    "        'Rn': [22, 27], # 5 bits\n",
    "        'Rt': [27, 32] # 5 bits\n",
    "    },\n",
    "    'I': {\n",
    "        'opcode': [0, 10],\n",
    "        'alu_immediate': [10, 22], # 12 bits\n",
    "        'Rn': [22, 27], # 5 bits\n",
    "        'Rd': [27, 32] # 5 bits\n",
    "    },\n",
    "    'B': {\n",
    "        'opcode': [0, 6],\n",
    "        'br_address': [6, 32] # 26 bits\n",
    "    },\n",
    "    'CB': {\n",
    "        'opcode': [0, 8],\n",
    "        'cond_br_address': [8, 27], # 19 bits\n",
    "        'Rt': [27, 32] # 5 bits\n",
    "    },\n",
    "    'IW': {\n",
    "        'opcode': [0, 11],\n",
    "        'mov_immediate': [11, 27], # 16 bits\n",
    "        'Rd': [27, 32] # 5 bits\n",
    "    }\n",
    "}\n",
    "\n",
    "formats.keys()"
   ]
  },
  {
   "cell_type": "code",
   "execution_count": 143,
   "metadata": {
    "ExecuteTime": {
     "end_time": "2020-11-02T21:31:45.332805Z",
     "start_time": "2020-11-02T21:31:45.327039Z"
    }
   },
   "outputs": [],
   "source": [
    "def hex2bin(hexstr):\n",
    "    return str(bin(int(hexstr, 16)))[2:]\n",
    "\n",
    "def bin2hex(binstr):\n",
    "    return hex(int(binstr, 2))\n",
    "\n",
    "def dec2bin(n):\n",
    "    return str(bin(n))[2:]\n",
    "\n",
    "def bin2dec(binstr):\n",
    "    return int(binstr, 2)\n",
    "\n",
    "def sign_extend(binstr, arch=32):\n",
    "    res = binstr\n",
    "    diff = arch - len(binstr)\n",
    "    ext = binstr[0]\n",
    "    \n",
    "    for i in range(diff):\n",
    "        res = ext + res\n",
    "        \n",
    "    return res\n",
    "\n",
    "def left_shift(binstr, shamt=2):\n",
    "    l = len(binstr)\n",
    "    return binstr + '00'"
   ]
  },
  {
   "cell_type": "markdown",
   "metadata": {},
   "source": [
    "## Given the Hex Instruction: 0xf8014062 (32-bit)\n",
    "\n",
    "+ `0xf8014062` --> `1111 1000 0000 0001 0100 0000 0110 0010` in binary\n",
    "\n",
    "Let's identify which instruction it is and what the values of its fields are!"
   ]
  },
  {
   "cell_type": "code",
   "execution_count": 183,
   "metadata": {
    "ExecuteTime": {
     "end_time": "2020-11-02T23:44:32.953557Z",
     "start_time": "2020-11-02T23:44:32.948916Z"
    }
   },
   "outputs": [
    {
     "data": {
      "text/plain": [
       "'11001011000010110000001110011011'"
      ]
     },
     "execution_count": 183,
     "metadata": {},
     "output_type": "execute_result"
    }
   ],
   "source": [
    "instruction = pd.DataFrame()\n",
    "hex_inst = 'CB0B039B'\n",
    "bin_inst = hex2bin(hex_inst) # str(bin(int(hex_inst, 16)))[2:]\n",
    "# inst = '11111000000000010100000001100010'\n",
    "\n",
    "bin2hex(bin_inst)\n",
    "# sign_extend('000010100')\n",
    "bin_inst"
   ]
  },
  {
   "cell_type": "code",
   "execution_count": 178,
   "metadata": {
    "ExecuteTime": {
     "end_time": "2020-11-02T23:40:21.917618Z",
     "start_time": "2020-11-02T23:40:21.902195Z"
    }
   },
   "outputs": [
    {
     "data": {
      "text/plain": [
       "{'instruction': 'SUB',\n",
       " 'opcode': 11001011000,\n",
       " 'opcode_size': 11,\n",
       " 'opcode_bit_range': '1624',\n",
       " 'format': 'R'}"
      ]
     },
     "execution_count": 178,
     "metadata": {},
     "output_type": "execute_result"
    }
   ],
   "source": [
    "# determine the instruction type\n",
    "inst_type = None\n",
    "for i in range(len(df)):\n",
    "    f = dict(df.iloc[i])\n",
    "    if bin_inst[0:f['opcode_size']] == str(f['opcode']):\n",
    "        inst_type = f\n",
    "\n",
    "instruction = inst_type\n",
    "instruction"
   ]
  },
  {
   "cell_type": "code",
   "execution_count": 179,
   "metadata": {
    "ExecuteTime": {
     "end_time": "2020-11-02T23:40:22.314601Z",
     "start_time": "2020-11-02T23:40:22.309582Z"
    }
   },
   "outputs": [],
   "source": [
    "# determine the fields of the instruction and make a nice little pandas series out of it\n",
    "f = formats[instruction['format']]\n",
    "fields = list(f.keys())\n",
    "\n",
    "for key in [j for j in f.keys() if j != 'opcode']:\n",
    "    pos = f.get(key)\n",
    "    instruction[key] = bin_inst[pos[0]:pos[1]]\n",
    "\n",
    "fields.append('instruction')\n",
    "inst_frame = pd.Series(data=instruction)"
   ]
  },
  {
   "cell_type": "markdown",
   "metadata": {},
   "source": [
    "## The Instruction:\n",
    "\n",
    "Well, we have the basic pieces now.  Let's see what we've got:"
   ]
  },
  {
   "cell_type": "code",
   "execution_count": 180,
   "metadata": {
    "ExecuteTime": {
     "end_time": "2020-11-02T23:40:23.193909Z",
     "start_time": "2020-11-02T23:40:23.189472Z"
    }
   },
   "outputs": [
    {
     "data": {
      "text/plain": [
       "instruction                 SUB\n",
       "opcode              11001011000\n",
       "opcode_size                  11\n",
       "opcode_bit_range           1624\n",
       "format                        R\n",
       "Rm                        01011\n",
       "shamt                    000000\n",
       "Rn                        11100\n",
       "Rd                        11011\n",
       "dtype: object"
      ]
     },
     "execution_count": 180,
     "metadata": {},
     "output_type": "execute_result"
    }
   ],
   "source": [
    "inst_frame"
   ]
  },
  {
   "cell_type": "markdown",
   "metadata": {},
   "source": [
    "# Now What?\n",
    "\n",
    "The 3 Instruction Classes:\n",
    "+ R-Type\n",
    "+ Load/Store\n",
    "+ Condition Branch\n",
    "\n",
    "The ALU Control Signal:\n",
    "+ The 26th bit of the LEGv8 instruction (5th bit with zero-based left to right indexing) is 0 for data transfer instructions and 1 for conditional branch instructions"
   ]
  },
  {
   "cell_type": "code",
   "execution_count": 181,
   "metadata": {
    "ExecuteTime": {
     "end_time": "2020-11-02T23:40:24.896772Z",
     "start_time": "2020-11-02T23:40:24.875575Z"
    }
   },
   "outputs": [],
   "source": [
    "path_ref = \"/Users/brtonnies/Desktop/legv8-instructions.csv\"\n",
    "\n",
    "class Instruction:\n",
    "    def __init__(self, instr=None):\n",
    "        self.format_data = pd.read_csv(path_ref, index_col=False)\n",
    "        self.formats = {\n",
    "            'R': {\n",
    "                'opcode': [0, 11],\n",
    "                'Rm': [11, 16],# 5,\n",
    "                'shamt': [16, 22],# 6,\n",
    "                'Rn': [22, 27], # 5,\n",
    "                'Rd': [27, 32], # 5\n",
    "            }, \n",
    "            'D': {\n",
    "                'opcode': [0, 11],\n",
    "                'dt_address': [11, 20], # 9 bits\n",
    "                'op': [20, 22], # 2 bits\n",
    "                'Rn': [22, 27], # 5 bits\n",
    "                'Rt': [27, 32] # 5 bits\n",
    "            },\n",
    "            'I': {\n",
    "                'opcode': [0, 10],\n",
    "                'alu_immediate': [10, 22], # 12 bits\n",
    "                'Rn': [22, 27], # 5 bits\n",
    "                'Rd': [27, 32] # 5 bits\n",
    "            },\n",
    "            'B': {\n",
    "                'opcode': [0, 6],\n",
    "                'br_address': [6, 32] # 26 bits\n",
    "            },\n",
    "            'CB': {\n",
    "                'opcode': [0, 8],\n",
    "                'cond_br_address': [8, 27], # 19 bits\n",
    "                'Rt': [27, 32] # 5 bits\n",
    "            },\n",
    "            'IW': {\n",
    "                'opcode': [0, 11],\n",
    "                'mov_immediate': [11, 27], # 16 bits\n",
    "                'Rd': [27, 32] # 5 bits\n",
    "            }\n",
    "        }\n",
    "        \n",
    "        if instr is not None:\n",
    "            self.instr = instr\n",
    "            self.instruction_base = self.get_base(instr)\n",
    "            \n",
    "            if self.instruction_base == 16:\n",
    "                self.hex_instruction = instr\n",
    "                self.binary_instruction = self.hex2bin(instr)\n",
    "            elif self.instruction_base == 2:\n",
    "                self.hex_instruction = self.bin2hex(instr)\n",
    "                self.binary_instruction = instr\n",
    "            elif self.instruction_base == 10:\n",
    "                self.binary_instruction = self.dec2bin(instr)\n",
    "                self.hex_instruction = self.bin2hex(self.binary_instruction)\n",
    "            \n",
    "            self.instruction_type = None\n",
    "            for i in range(len(self.format_data)):\n",
    "                f = dict(self.format_data.iloc[i])\n",
    "                if bin_inst[0:f['opcode_size']] == str(f['opcode']):\n",
    "                    self.instruction = f\n",
    "            \n",
    "            f = self.formats[self.instruction['format']]\n",
    "            fields = list(f.keys())\n",
    "\n",
    "            for key in [j for j in f.keys() if j != 'opcode']:\n",
    "                pos = f.get(key)\n",
    "                self.instruction[key] = self.binary_instruction[pos[0]:pos[1]]\n",
    "\n",
    "            fields.append('instruction')\n",
    "            self.instruction_frame = pd.Series(data=instruction)\n",
    "            \n",
    "    def print_frame(self):\n",
    "        print(self.instruction_frame)\n",
    "    \n",
    "    def get_base(self, n):\n",
    "        if type(n) == str:\n",
    "            if len([c for c in n if c not in ['1','0']]) > 0:\n",
    "                return 16\n",
    "            elif len([c for c in n if c in ['1','0']]) == len(n):\n",
    "                return 2\n",
    "            else:\n",
    "                raise(\"Invalid Instruction Format: {} is not in a recognized base (hex/binary/decimal)\".format(n))\n",
    "        else:\n",
    "            return 10\n",
    "\n",
    "    def hex2bin(self, hexstr):\n",
    "        return str(bin(int(hexstr, 16)))[2:]\n",
    "\n",
    "    def bin2hex(self, binstr):\n",
    "        return hex(int(binstr, 2))\n",
    "\n",
    "    def dec2bin(self, n):\n",
    "        return str(bin(n))[2:]\n",
    "\n",
    "    def bin2dec(self, binstr):\n",
    "        return int(binstr, 2)\n",
    "\n",
    "    def sign_extend(self, binstr, arch=32):\n",
    "        res = binstr\n",
    "        diff = arch - len(binstr)\n",
    "        ext = binstr[0]\n",
    "\n",
    "        for i in range(diff):\n",
    "            res = ext + res\n",
    "\n",
    "        return res\n",
    "\n",
    "    def left_shift(self, binstr, shamt=2):\n",
    "        l = len(binstr)\n",
    "        return binstr + '00'\n"
   ]
  },
  {
   "cell_type": "code",
   "execution_count": 182,
   "metadata": {
    "ExecuteTime": {
     "end_time": "2020-11-02T23:40:25.712359Z",
     "start_time": "2020-11-02T23:40:25.692488Z"
    }
   },
   "outputs": [
    {
     "name": "stdout",
     "output_type": "stream",
     "text": [
      "instruction                 SUB\n",
      "opcode              11001011000\n",
      "opcode_size                  11\n",
      "opcode_bit_range           1624\n",
      "format                        R\n",
      "Rm                        01011\n",
      "shamt                    000000\n",
      "Rn                        11100\n",
      "Rd                        11011\n",
      "dtype: object\n"
     ]
    }
   ],
   "source": [
    "ins = Instruction('0xCB0B039B')\n",
    "ins.print_frame()"
   ]
  },
  {
   "cell_type": "code",
   "execution_count": 168,
   "metadata": {
    "ExecuteTime": {
     "end_time": "2020-11-02T22:56:29.989686Z",
     "start_time": "2020-11-02T22:56:29.985987Z"
    }
   },
   "outputs": [
    {
     "data": {
      "text/plain": [
       "355"
      ]
     },
     "execution_count": 168,
     "metadata": {},
     "output_type": "execute_result"
    }
   ],
   "source": [
    "a = '10011100'\n",
    "b = '11000111'\n",
    "\n",
    "bin2dec(a)+ bin2dec(b)"
   ]
  },
  {
   "cell_type": "code",
   "execution_count": 169,
   "metadata": {
    "ExecuteTime": {
     "end_time": "2020-11-02T22:56:38.890771Z",
     "start_time": "2020-11-02T22:56:38.887278Z"
    }
   },
   "outputs": [
    {
     "data": {
      "text/plain": [
       "'101100011'"
      ]
     },
     "execution_count": 169,
     "metadata": {},
     "output_type": "execute_result"
    }
   ],
   "source": [
    "dec2bin(355)"
   ]
  },
  {
   "cell_type": "code",
   "execution_count": 170,
   "metadata": {
    "ExecuteTime": {
     "end_time": "2020-11-02T23:13:20.465834Z",
     "start_time": "2020-11-02T23:13:20.462214Z"
    }
   },
   "outputs": [
    {
     "data": {
      "text/plain": [
       "2139209823000986"
      ]
     },
     "execution_count": 170,
     "metadata": {},
     "output_type": "execute_result"
    }
   ],
   "source": [
    "bin2dec('0111100110011001100110011001100110011001100110011010')"
   ]
  },
  {
   "cell_type": "code",
   "execution_count": 174,
   "metadata": {
    "ExecuteTime": {
     "end_time": "2020-11-02T23:19:17.645753Z",
     "start_time": "2020-11-02T23:19:17.640608Z"
    }
   },
   "outputs": [
    {
     "name": "stdout",
     "output_type": "stream",
     "text": [
      "2139209823000986\n",
      "4503599627370496\n"
     ]
    },
    {
     "data": {
      "text/plain": [
       "0.4750000000000001"
      ]
     },
     "execution_count": 174,
     "metadata": {},
     "output_type": "execute_result"
    }
   ],
   "source": [
    "f = '0111100110011001100110011001100110011001100110011010'\n",
    "len(f)\n",
    "print(bin2dec(f))\n",
    "print(2**len(f))\n",
    "bin2dec(f) / 2** len(f)"
   ]
  },
  {
   "cell_type": "code",
   "execution_count": 184,
   "metadata": {
    "ExecuteTime": {
     "end_time": "2020-11-03T00:22:59.880831Z",
     "start_time": "2020-11-03T00:22:59.875754Z"
    }
   },
   "outputs": [
    {
     "data": {
      "text/plain": [
       "'0xc13a0000'"
      ]
     },
     "execution_count": 184,
     "metadata": {},
     "output_type": "execute_result"
    }
   ],
   "source": [
    "bin2hex('11000001001110100000000000000000')"
   ]
  },
  {
   "cell_type": "code",
   "execution_count": null,
   "metadata": {},
   "outputs": [],
   "source": []
  }
 ],
 "metadata": {
  "kernelspec": {
   "display_name": "Python 3",
   "language": "python",
   "name": "python3"
  },
  "language_info": {
   "codemirror_mode": {
    "name": "ipython",
    "version": 3
   },
   "file_extension": ".py",
   "mimetype": "text/x-python",
   "name": "python",
   "nbconvert_exporter": "python",
   "pygments_lexer": "ipython3",
   "version": "3.6.10"
  },
  "latex_envs": {
   "LaTeX_envs_menu_present": true,
   "autoclose": false,
   "autocomplete": true,
   "bibliofile": "biblio.bib",
   "cite_by": "apalike",
   "current_citInitial": 1,
   "eqLabelWithNumbers": true,
   "eqNumInitial": 1,
   "hotkeys": {
    "equation": "Ctrl-E",
    "itemize": "Ctrl-I"
   },
   "labels_anchors": false,
   "latex_user_defs": false,
   "report_style_numbering": false,
   "user_envs_cfg": false
  },
  "varInspector": {
   "cols": {
    "lenName": 16,
    "lenType": 16,
    "lenVar": 40
   },
   "kernels_config": {
    "python": {
     "delete_cmd_postfix": "",
     "delete_cmd_prefix": "del ",
     "library": "var_list.py",
     "varRefreshCmd": "print(var_dic_list())"
    },
    "r": {
     "delete_cmd_postfix": ") ",
     "delete_cmd_prefix": "rm(",
     "library": "var_list.r",
     "varRefreshCmd": "cat(var_dic_list()) "
    }
   },
   "types_to_exclude": [
    "module",
    "function",
    "builtin_function_or_method",
    "instance",
    "_Feature"
   ],
   "window_display": false
  }
 },
 "nbformat": 4,
 "nbformat_minor": 4
}
