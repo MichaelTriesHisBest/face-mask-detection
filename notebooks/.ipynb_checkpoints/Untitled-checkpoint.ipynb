{
 "cells": [
  {
   "cell_type": "code",
   "execution_count": 1,
   "metadata": {
    "ExecuteTime": {
     "end_time": "2020-11-11T01:14:11.440784Z",
     "start_time": "2020-11-11T01:14:07.097577Z"
    },
    "pycharm": {
     "name": "#%%\n"
    }
   },
   "outputs": [
    {
     "name": "stderr",
     "output_type": "stream",
     "text": [
      "Using TensorFlow backend.\n"
     ]
    },
    {
     "name": "stdout",
     "output_type": "stream",
     "text": [
      "Populating the interactive namespace from numpy and matplotlib\n"
     ]
    }
   ],
   "source": [
    "import cv2\n",
    "import os\n",
    "import pandas as pd\n",
    "from mtcnn.mtcnn import MTCNN\n",
    "from tensorflow.keras.preprocessing.image import img_to_array\n",
    "from tensorflow.keras.models import load_model\n",
    "from tensorflow.keras.applications.mobilenet_v2 import preprocess_input\n",
    "import numpy as np\n",
    "\n",
    "%pylab inline \n",
    "from IPython.display import clear_output\n",
    "import time\n",
    "import PIL.Image\n",
    "from io import BytesIO\n",
    "import IPython.display\n",
    "from mtcnn.mtcnn import MTCNN\n",
    "import keras"
   ]
  },
  {
   "cell_type": "code",
   "execution_count": 2,
   "metadata": {
    "ExecuteTime": {
     "end_time": "2020-11-11T01:14:11.460928Z",
     "start_time": "2020-11-11T01:14:11.442641Z"
    },
    "pycharm": {
     "name": "#%%\n"
    }
   },
   "outputs": [],
   "source": [
    "NOTEBOOK_DIR = !pwd\n",
    "NOTEBOOK_DIR = NOTEBOOK_DIR[0]\n",
    "ROOT_DIR = os.path.abspath(os.path.join(NOTEBOOK_DIR, os.pardir))\n",
    "DATA_DIR = os.path.join(ROOT_DIR, 'data')\n",
    "\n",
    "MNM_MODEL_DIR = os.path.join(ROOT_DIR, 'models/keras_sequential_model')"
   ]
  },
  {
   "cell_type": "code",
   "execution_count": 3,
   "metadata": {
    "ExecuteTime": {
     "end_time": "2020-11-11T01:14:11.468385Z",
     "start_time": "2020-11-11T01:14:11.464257Z"
    },
    "pycharm": {
     "name": "#%%\n"
    }
   },
   "outputs": [],
   "source": [
    "#Use 'jpeg' instead of 'png' (~5 times faster)\n",
    "def array_to_image(a, fmt='jpeg'):\n",
    "    #Create binary stream object\n",
    "    f = BytesIO()\n",
    "\n",
    "    #Convert array to binary stream object\n",
    "    PIL.Image.fromarray(a).save(f, fmt)\n",
    "\n",
    "    return IPython.display.Image(data=f.getvalue())\n",
    "\n",
    "def get_frame(cam):\n",
    "    # Capture frame-by-frame\n",
    "    ret, frame = cam.read()\n",
    "\n",
    "    #flip image for natural viewing\n",
    "    frame = cv2.flip(frame, 1)\n",
    "\n",
    "    return frame"
   ]
  },
  {
   "cell_type": "code",
   "execution_count": 4,
   "metadata": {
    "ExecuteTime": {
     "end_time": "2020-11-11T01:14:11.525596Z",
     "start_time": "2020-11-11T01:14:11.471060Z"
    },
    "pycharm": {
     "name": "#%%\n"
    },
    "scrolled": true
   },
   "outputs": [
    {
     "data": {
      "text/plain": [
       "array(['face_no_mask', 'face_with_mask'], dtype=object)"
      ]
     },
     "execution_count": 4,
     "metadata": {},
     "output_type": "execute_result"
    }
   ],
   "source": [
    "train_df = pd.read_csv(os.path.join(DATA_DIR, 'img_data/kaggle_training.csv'), index_col=False)\n",
    "train_df.rename(\n",
    "    columns={'x1': 'x', 'x2': 'y', 'y1': 'w', 'y2': 'h'},\n",
    "    inplace=True\n",
    ")\n",
    "train_df.sort_values('name', axis = 0, inplace = True)\n",
    "features = [\n",
    "    'face_with_mask', \n",
    "    'face_no_mask', \n",
    "]\n",
    "train_df = train_df[train_df['classname'].isin(features)]\n",
    "train_df['classname'].unique()"
   ]
  },
  {
   "cell_type": "code",
   "execution_count": 5,
   "metadata": {
    "ExecuteTime": {
     "end_time": "2020-11-11T01:14:12.323313Z",
     "start_time": "2020-11-11T01:14:11.527481Z"
    }
   },
   "outputs": [
    {
     "data": {
      "text/plain": [
       "array([[0., 1.],\n",
       "       [1., 0.]], dtype=float32)"
      ]
     },
     "execution_count": 5,
     "metadata": {},
     "output_type": "execute_result"
    }
   ],
   "source": [
    "from sklearn.preprocessing import LabelEncoder\n",
    "from keras.utils import to_categorical\n",
    "\n",
    "labeler = LabelEncoder()\n",
    "detector = MTCNN()\n",
    "\n",
    "y = list(set(train_df['classname']))\n",
    "\n",
    "y = labeler.fit_transform(y)\n",
    "\n",
    "y = to_categorical(y)\n",
    "y"
   ]
  },
  {
   "cell_type": "code",
   "execution_count": null,
   "metadata": {
    "ExecuteTime": {
     "start_time": "2020-11-11T01:14:07.104Z"
    },
    "pycharm": {
     "name": "#%%\n"
    }
   },
   "outputs": [
    {
     "name": "stdout",
     "output_type": "stream",
     "text": [
      "FRAME NO.: 58\n",
      "CLASSNAME ARGMAX: [1, 1, 1, 1]\n",
      "INVERSE TRANSFORM: ['face_with_mask' 'face_with_mask' 'face_with_mask' 'face_with_mask']\n",
      "\n",
      "                  image       classname\n",
      "0   [2909, 196, 19, 24]  face_with_mask\n",
      "1     [557, 63, 70, 86]  face_with_mask\n",
      "2  [2174, 37, 120, 142]  face_with_mask\n",
      "3     [858, 54, 45, 62]  face_with_mask\n",
      "(1752, 3574, 3)\n"
     ]
    }
   ],
   "source": [
    "model = keras.models.load_model(\"../models/example_model\")\n",
    "detector = MTCNN()\n",
    "\n",
    "CYAN = (0, 255, 255)\n",
    "GREEN = (0, 255, 0)\n",
    "MAGENTA = (255, 0, 255)\n",
    "\n",
    "cap = cv2.VideoCapture(\"/Users/brtonnies/Desktop/Screen Recording 2020-11-04 at 5.55.09 PM.mov\")\n",
    "rval, frame = cap.read()\n",
    "\n",
    "session_data = list()\n",
    "count = 1\n",
    "while cap.isOpened(): \n",
    "    #Capture frame-by-frame\n",
    "#     ret, frame = cap.read()\n",
    "#     frame = get_frame(cap)\n",
    "\n",
    "    if frame is not None:\n",
    "        frame = cv2.cvtColor(frame, cv2.COLOR_BGR2RGB)\n",
    "#         image = array_to_image(frame)\n",
    "\n",
    "        #Use MTCNN to detect faces\n",
    "        faces = detector.detect_faces(frame)\n",
    "        if faces != []:\n",
    "            \n",
    "            data = list()\n",
    "            results = list()\n",
    "            frame_df = pd.DataFrame()\n",
    "            for face in faces:\n",
    "#                 data.append([count, face['box']])\n",
    "                bounding_box = face['box']\n",
    "                keypoints = face['keypoints']\n",
    "                x, y, w, h = bounding_box\n",
    "                img = frame[y:y+h,x:x+w]\n",
    "\n",
    "                new_img = cv2.resize(img, (50, 50))\n",
    "                new_img = new_img.reshape(-1, 50, 50, 1)\n",
    "                prediction = model.predict(new_img)\n",
    "#                 print(prediction)\n",
    "#                 print(\"PREDICTION: {}\".format(labeler.inverse_transform(prediction)))\n",
    "                data.append([count, bounding_box, prediction])\n",
    "                \n",
    "                cv2.circle(frame,(keypoints['left_eye']), 2, CYAN, 2)\n",
    "                cv2.circle(frame,(keypoints['right_eye']), 2, CYAN, 2)\n",
    "                cv2.circle(frame,(keypoints['nose']), 2, CYAN, 2)\n",
    "                cv2.circle(frame,(keypoints['mouth_left']), 2, CYAN, 2)\n",
    "                cv2.circle(frame,(keypoints['mouth_right']), 2, CYAN, 2)\n",
    "                \n",
    "#             print(data)\n",
    "            results += [i for i in data if len(i) == 1]\n",
    "            results += [[j for j in i] for i in data if len(i) > 1]\n",
    "\n",
    "#             print(results)\n",
    "            image = []\n",
    "            classname = []\n",
    "            for k, i, j in results:\n",
    "                cn = np.argmax(j)\n",
    "                classname.append(cn if cn < 2 else 0)\n",
    "                image.append(i)\n",
    "            \n",
    "            \n",
    "            \n",
    "#             if count >= 16:\n",
    "#                 print(\"FRAME NO.: {}\\nCLASSNAME ARGMAX: {}\\n\".format(\n",
    "#                     count, classname\n",
    "#                 ))\n",
    "            else:\n",
    "                print(\"FRAME NO.: {}\\nCLASSNAME ARGMAX: {}\\nINVERSE TRANSFORM: {}\\n\".format(\n",
    "                    count, classname, labeler.inverse_transform(classname)\n",
    "                ))\n",
    "                frame_df['image'] = image\n",
    "                frame_df['classname'] = classname\n",
    "                frame_df['classname'] = labeler.inverse_transform(frame_df['classname'])\n",
    "                print(frame_df)\n",
    "\n",
    "                for i in range(len(frame_df)):\n",
    "                    x, y, w, h = frame_df.iloc[i]['image']\n",
    "                    cname = str(frame_df.iloc[i]['classname'])\n",
    "                    cv2.rectangle(frame,\n",
    "                              (x, y),\n",
    "                              (x+w, y + h),\n",
    "                              GREEN if cname == 'face_with_mask' else MAGENTA,\n",
    "                              2)\n",
    "\n",
    "                session_data.append(results)\n",
    "\n",
    "\n",
    "        #display resulting frame\n",
    "        frame = cv2.cvtColor(frame, cv2.COLOR_BGR2RGB)\n",
    "        cv2.imshow('frame', frame)\n",
    "#         plt.imshow(frame)\n",
    "#         print(frame.shape)\n",
    "        \n",
    "\n",
    "    ret, frame = cap.read()\n",
    "    clear_output(wait=True)\n",
    "    count += 1\n",
    "    if cv2.waitKey(1) &0xFF == ord('q'):\n",
    "        break\n",
    "#When everything's done, release capture\n",
    "cap.release()\n",
    "cv2.destroyAllWindows()\n",
    "\n",
    "# exception at frame 16-17"
   ]
  },
  {
   "cell_type": "code",
   "execution_count": null,
   "metadata": {
    "ExecuteTime": {
     "start_time": "2020-11-11T01:14:07.106Z"
    },
    "pycharm": {
     "name": "#%%\n"
    }
   },
   "outputs": [],
   "source": [
    "cap.release()\n",
    "cv2.destroyAllWindows()"
   ]
  },
  {
   "cell_type": "code",
   "execution_count": null,
   "metadata": {},
   "outputs": [],
   "source": []
  }
 ],
 "metadata": {
  "kernelspec": {
   "display_name": "Python 3",
   "language": "python",
   "name": "python3"
  },
  "language_info": {
   "codemirror_mode": {
    "name": "ipython",
    "version": 3
   },
   "file_extension": ".py",
   "mimetype": "text/x-python",
   "name": "python",
   "nbconvert_exporter": "python",
   "pygments_lexer": "ipython3",
   "version": "3.6.10"
  },
  "latex_envs": {
   "LaTeX_envs_menu_present": true,
   "autoclose": false,
   "autocomplete": true,
   "bibliofile": "biblio.bib",
   "cite_by": "apalike",
   "current_citInitial": 1,
   "eqLabelWithNumbers": true,
   "eqNumInitial": 1,
   "hotkeys": {
    "equation": "Ctrl-E",
    "itemize": "Ctrl-I"
   },
   "labels_anchors": false,
   "latex_user_defs": false,
   "report_style_numbering": false,
   "user_envs_cfg": false
  },
  "varInspector": {
   "cols": {
    "lenName": 16,
    "lenType": 16,
    "lenVar": 40
   },
   "kernels_config": {
    "python": {
     "delete_cmd_postfix": "",
     "delete_cmd_prefix": "del ",
     "library": "var_list.py",
     "varRefreshCmd": "print(var_dic_list())"
    },
    "r": {
     "delete_cmd_postfix": ") ",
     "delete_cmd_prefix": "rm(",
     "library": "var_list.r",
     "varRefreshCmd": "cat(var_dic_list()) "
    }
   },
   "types_to_exclude": [
    "module",
    "function",
    "builtin_function_or_method",
    "instance",
    "_Feature"
   ],
   "window_display": false
  }
 },
 "nbformat": 4,
 "nbformat_minor": 4
}
