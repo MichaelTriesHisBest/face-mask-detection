{
 "cells": [
  {
   "cell_type": "code",
   "execution_count": 38,
   "metadata": {
    "ExecuteTime": {
     "end_time": "2020-11-10T14:52:41.952970Z",
     "start_time": "2020-11-10T14:52:41.939355Z"
    },
    "code_folding": []
   },
   "outputs": [],
   "source": [
    "# our nice list of imports is in here\n",
    "#i hate this, but the notebook won't recognize our custom modules w/o it\n",
    "import sys\n",
    "sys.path.append(\"..\")\n",
    "import lib\n",
    "from lib import utils\n",
    "\n",
    "import numpy as np\n",
    "import pandas as pd\n",
    "import os\n",
    "import urllib\n",
    "import matplotlib.pyplot as plt\n",
    "import cv2\n",
    "import matplotlib.patches as patches\n",
    "import tensorflow as tf\n",
    "import keras\n",
    "from keras.utils import to_categorical\n",
    "from keras.layers import Flatten, Dense, Conv2D, MaxPooling2D, Dropout\n",
    "from keras.models import Sequential        # keras is only compatible with python 3.6 or lower\n",
    "import sklearn\n",
    "from sklearn.preprocessing import LabelEncoder\n",
    "from mtcnn.mtcnn import MTCNN\n",
    "import seaborn as sns\n",
    "%matplotlib inline\n",
    "sns.set_style(\"darkgrid\")"
   ]
  },
  {
   "cell_type": "markdown",
   "metadata": {},
   "source": [
    "# Face Mask Detection\n",
    "\n",
    "\n",
    "### Brief Overview\n",
    "\n",
    "Simply put, our goal is to create a neural network that will (1) identify face masks or lack thereof on a human face, and (2) determine whether that facemask is correctly worn.\n",
    "\n",
    "\n",
    "Luckily for us, Kaggle had a contest earlier this year related to (1) -- so a dataset was readily available, and it has proven to be quite effective at training a mask/no-mask neural net with our testing images. (Kaggle)\n",
    "\n",
    "\n",
    "However, the dataset is extremely lacking when it comes to incorrect mask usage.  We did locate an additional dataset that consists only of faces with correctly worn masks and incorrectly worn masks. (CMFD/IMFD)\n",
    "\n",
    "### Data\n",
    "\n",
    "1. Training Data - We have training data from both datasets.  The images in each set have been pre-processed with relevant data written to CSV files to ease the process load.\n",
    "  + Kaggle Dataset -- \n",
    "2. Testing Data - Our testing data consists of \n",
    "\n",
    "\n",
    "### Models\n",
    "\n",
    "To that end, we need a few different models:\n",
    "1. One to predict whether there's a mask on a face or no mask\n",
    "  + For this, we will use the Kaggle Dataset, and focus on the two largest features available in it: whether there is a face mask or not.\n",
    "  + Potentially, we could add the data from the CMFD/IMFD dataset as representations of masks for the training set, since we'll be determining whether they're correct or incorrectly worn in the next stage.  The only concern there is a dataset that's very, very heavy on masks vs. no masks\n",
    "2. One to predict whether, given a mask is on a face, it is worn correctly\n",
    "  + For this, we will use the CMFD/IMFD dataset.  There are only two features to this dataset: correctly worn and incorrectly worn face masks.\n",
    "\n",
    "\n"
   ]
  },
  {
   "cell_type": "code",
   "execution_count": 39,
   "metadata": {
    "ExecuteTime": {
     "end_time": "2020-11-10T14:52:43.581804Z",
     "start_time": "2020-11-10T14:52:43.550210Z"
    }
   },
   "outputs": [],
   "source": [
    "# define directory paths for easier navigation\n",
    "NOTEBOOK_DIR = !pwd\n",
    "NOTEBOOK_DIR = NOTEBOOK_DIR[0]\n",
    "ROOT_DIR = os.path.abspath(os.path.join(NOTEBOOK_DIR, os.pardir))\n",
    "DATA_DIR = os.path.join(ROOT_DIR, 'data')\n",
    "\n",
    "KAGGLE_IMAGES_DIR = os.path.join(DATA_DIR, 'images')\n",
    "CMFD_IMAGES_DIR = os.path.join(KAGGLE_IMAGES_DIR, 'CMFD/images')\n",
    "IMFD_IMAGES_DIR = os.path.join(KAGGLE_IMAGES_DIR, 'IMFD/images')"
   ]
  },
  {
   "cell_type": "markdown",
   "metadata": {
    "pycharm": {
     "name": "#%%\n"
    }
   },
   "source": [
    "# Mask vs. No Mask"
   ]
  },
  {
   "cell_type": "code",
   "execution_count": 40,
   "metadata": {
    "ExecuteTime": {
     "end_time": "2020-11-10T14:52:45.861668Z",
     "start_time": "2020-11-10T14:52:45.798897Z"
    }
   },
   "outputs": [
    {
     "data": {
      "text/html": [
       "<div>\n",
       "<style scoped>\n",
       "    .dataframe tbody tr th:only-of-type {\n",
       "        vertical-align: middle;\n",
       "    }\n",
       "\n",
       "    .dataframe tbody tr th {\n",
       "        vertical-align: top;\n",
       "    }\n",
       "\n",
       "    .dataframe thead th {\n",
       "        text-align: right;\n",
       "    }\n",
       "</style>\n",
       "<table border=\"1\" class=\"dataframe\">\n",
       "  <thead>\n",
       "    <tr style=\"text-align: right;\">\n",
       "      <th></th>\n",
       "      <th>name</th>\n",
       "      <th>x</th>\n",
       "      <th>y</th>\n",
       "      <th>w</th>\n",
       "      <th>h</th>\n",
       "      <th>classname</th>\n",
       "    </tr>\n",
       "  </thead>\n",
       "  <tbody>\n",
       "    <tr>\n",
       "      <th>13381</th>\n",
       "      <td>1801.jpg</td>\n",
       "      <td>451</td>\n",
       "      <td>186</td>\n",
       "      <td>895</td>\n",
       "      <td>697</td>\n",
       "      <td>face_no_mask</td>\n",
       "    </tr>\n",
       "    <tr>\n",
       "      <th>3464</th>\n",
       "      <td>1802.jpg</td>\n",
       "      <td>160</td>\n",
       "      <td>151</td>\n",
       "      <td>268</td>\n",
       "      <td>265</td>\n",
       "      <td>mask_surgical</td>\n",
       "    </tr>\n",
       "    <tr>\n",
       "      <th>3463</th>\n",
       "      <td>1802.jpg</td>\n",
       "      <td>110</td>\n",
       "      <td>71</td>\n",
       "      <td>273</td>\n",
       "      <td>272</td>\n",
       "      <td>face_with_mask</td>\n",
       "    </tr>\n",
       "    <tr>\n",
       "      <th>14836</th>\n",
       "      <td>1803.jpg</td>\n",
       "      <td>147</td>\n",
       "      <td>200</td>\n",
       "      <td>288</td>\n",
       "      <td>320</td>\n",
       "      <td>mask_surgical</td>\n",
       "    </tr>\n",
       "    <tr>\n",
       "      <th>14835</th>\n",
       "      <td>1803.jpg</td>\n",
       "      <td>126</td>\n",
       "      <td>75</td>\n",
       "      <td>303</td>\n",
       "      <td>333</td>\n",
       "      <td>face_with_mask</td>\n",
       "    </tr>\n",
       "    <tr>\n",
       "      <th>...</th>\n",
       "      <td>...</td>\n",
       "      <td>...</td>\n",
       "      <td>...</td>\n",
       "      <td>...</td>\n",
       "      <td>...</td>\n",
       "      <td>...</td>\n",
       "    </tr>\n",
       "    <tr>\n",
       "      <th>13555</th>\n",
       "      <td>6433.png</td>\n",
       "      <td>669</td>\n",
       "      <td>205</td>\n",
       "      <td>774</td>\n",
       "      <td>282</td>\n",
       "      <td>mask_surgical</td>\n",
       "    </tr>\n",
       "    <tr>\n",
       "      <th>9508</th>\n",
       "      <td>6434.jpg</td>\n",
       "      <td>315</td>\n",
       "      <td>82</td>\n",
       "      <td>775</td>\n",
       "      <td>783</td>\n",
       "      <td>face_with_mask</td>\n",
       "    </tr>\n",
       "    <tr>\n",
       "      <th>9507</th>\n",
       "      <td>6434.jpg</td>\n",
       "      <td>343</td>\n",
       "      <td>448</td>\n",
       "      <td>756</td>\n",
       "      <td>774</td>\n",
       "      <td>mask_colorful</td>\n",
       "    </tr>\n",
       "    <tr>\n",
       "      <th>9434</th>\n",
       "      <td>6435.jpg</td>\n",
       "      <td>198</td>\n",
       "      <td>86</td>\n",
       "      <td>292</td>\n",
       "      <td>149</td>\n",
       "      <td>mask_surgical</td>\n",
       "    </tr>\n",
       "    <tr>\n",
       "      <th>9433</th>\n",
       "      <td>6435.jpg</td>\n",
       "      <td>140</td>\n",
       "      <td>1</td>\n",
       "      <td>293</td>\n",
       "      <td>148</td>\n",
       "      <td>face_with_mask_incorrect</td>\n",
       "    </tr>\n",
       "  </tbody>\n",
       "</table>\n",
       "<p>15412 rows × 6 columns</p>\n",
       "</div>"
      ],
      "text/plain": [
       "           name    x    y    w    h                 classname\n",
       "13381  1801.jpg  451  186  895  697              face_no_mask\n",
       "3464   1802.jpg  160  151  268  265             mask_surgical\n",
       "3463   1802.jpg  110   71  273  272            face_with_mask\n",
       "14836  1803.jpg  147  200  288  320             mask_surgical\n",
       "14835  1803.jpg  126   75  303  333            face_with_mask\n",
       "...         ...  ...  ...  ...  ...                       ...\n",
       "13555  6433.png  669  205  774  282             mask_surgical\n",
       "9508   6434.jpg  315   82  775  783            face_with_mask\n",
       "9507   6434.jpg  343  448  756  774             mask_colorful\n",
       "9434   6435.jpg  198   86  292  149             mask_surgical\n",
       "9433   6435.jpg  140    1  293  148  face_with_mask_incorrect\n",
       "\n",
       "[15412 rows x 6 columns]"
      ]
     },
     "execution_count": 40,
     "metadata": {},
     "output_type": "execute_result"
    }
   ],
   "source": [
    "# load the training data\n",
    "df_train = pd.read_csv(os.path.join(DATA_DIR, 'train.csv'))\n",
    "df_train.rename(\n",
    "    columns={'x1': 'x', 'x2': 'y', 'y1': 'w', 'y2': 'h'},\n",
    "    inplace=True\n",
    ")\n",
    "df_train.sort_values('name', axis = 0, inplace = True)\n",
    "df_train"
   ]
  },
  {
   "cell_type": "code",
   "execution_count": 41,
   "metadata": {
    "ExecuteTime": {
     "end_time": "2020-11-10T14:52:47.577273Z",
     "start_time": "2020-11-10T14:52:47.532401Z"
    }
   },
   "outputs": [
    {
     "data": {
      "text/html": [
       "<div>\n",
       "<style scoped>\n",
       "    .dataframe tbody tr th:only-of-type {\n",
       "        vertical-align: middle;\n",
       "    }\n",
       "\n",
       "    .dataframe tbody tr th {\n",
       "        vertical-align: top;\n",
       "    }\n",
       "\n",
       "    .dataframe thead th {\n",
       "        text-align: right;\n",
       "    }\n",
       "</style>\n",
       "<table border=\"1\" class=\"dataframe\">\n",
       "  <thead>\n",
       "    <tr style=\"text-align: right;\">\n",
       "      <th></th>\n",
       "      <th>name</th>\n",
       "      <th>x</th>\n",
       "      <th>y</th>\n",
       "      <th>w</th>\n",
       "      <th>h</th>\n",
       "      <th>classname</th>\n",
       "    </tr>\n",
       "  </thead>\n",
       "  <tbody>\n",
       "    <tr>\n",
       "      <th>0</th>\n",
       "      <td>0001.jpg</td>\n",
       "      <td>441</td>\n",
       "      <td>108</td>\n",
       "      <td>341</td>\n",
       "      <td>416</td>\n",
       "      <td>NaN</td>\n",
       "    </tr>\n",
       "    <tr>\n",
       "      <th>1</th>\n",
       "      <td>0003.jpg</td>\n",
       "      <td>1292</td>\n",
       "      <td>218</td>\n",
       "      <td>865</td>\n",
       "      <td>1088</td>\n",
       "      <td>NaN</td>\n",
       "    </tr>\n",
       "    <tr>\n",
       "      <th>2</th>\n",
       "      <td>0004.jpg</td>\n",
       "      <td>630</td>\n",
       "      <td>176</td>\n",
       "      <td>212</td>\n",
       "      <td>266</td>\n",
       "      <td>NaN</td>\n",
       "    </tr>\n",
       "    <tr>\n",
       "      <th>3</th>\n",
       "      <td>0006.jpg</td>\n",
       "      <td>441</td>\n",
       "      <td>668</td>\n",
       "      <td>57</td>\n",
       "      <td>70</td>\n",
       "      <td>NaN</td>\n",
       "    </tr>\n",
       "    <tr>\n",
       "      <th>4</th>\n",
       "      <td>0007.jpg</td>\n",
       "      <td>922</td>\n",
       "      <td>565</td>\n",
       "      <td>102</td>\n",
       "      <td>121</td>\n",
       "      <td>NaN</td>\n",
       "    </tr>\n",
       "    <tr>\n",
       "      <th>...</th>\n",
       "      <td>...</td>\n",
       "      <td>...</td>\n",
       "      <td>...</td>\n",
       "      <td>...</td>\n",
       "      <td>...</td>\n",
       "      <td>...</td>\n",
       "    </tr>\n",
       "    <tr>\n",
       "      <th>3161</th>\n",
       "      <td>1796.jpg</td>\n",
       "      <td>469</td>\n",
       "      <td>223</td>\n",
       "      <td>186</td>\n",
       "      <td>229</td>\n",
       "      <td>NaN</td>\n",
       "    </tr>\n",
       "    <tr>\n",
       "      <th>3159</th>\n",
       "      <td>1796.jpg</td>\n",
       "      <td>933</td>\n",
       "      <td>207</td>\n",
       "      <td>232</td>\n",
       "      <td>298</td>\n",
       "      <td>NaN</td>\n",
       "    </tr>\n",
       "    <tr>\n",
       "      <th>3162</th>\n",
       "      <td>1797.jpg</td>\n",
       "      <td>738</td>\n",
       "      <td>235</td>\n",
       "      <td>483</td>\n",
       "      <td>638</td>\n",
       "      <td>NaN</td>\n",
       "    </tr>\n",
       "    <tr>\n",
       "      <th>3163</th>\n",
       "      <td>1799.jpg</td>\n",
       "      <td>757</td>\n",
       "      <td>296</td>\n",
       "      <td>75</td>\n",
       "      <td>86</td>\n",
       "      <td>NaN</td>\n",
       "    </tr>\n",
       "    <tr>\n",
       "      <th>3164</th>\n",
       "      <td>1800.jpg</td>\n",
       "      <td>956</td>\n",
       "      <td>460</td>\n",
       "      <td>246</td>\n",
       "      <td>326</td>\n",
       "      <td>NaN</td>\n",
       "    </tr>\n",
       "  </tbody>\n",
       "</table>\n",
       "<p>3165 rows × 6 columns</p>\n",
       "</div>"
      ],
      "text/plain": [
       "          name     x    y    w     h  classname\n",
       "0     0001.jpg   441  108  341   416        NaN\n",
       "1     0003.jpg  1292  218  865  1088        NaN\n",
       "2     0004.jpg   630  176  212   266        NaN\n",
       "3     0006.jpg   441  668   57    70        NaN\n",
       "4     0007.jpg   922  565  102   121        NaN\n",
       "...        ...   ...  ...  ...   ...        ...\n",
       "3161  1796.jpg   469  223  186   229        NaN\n",
       "3159  1796.jpg   933  207  232   298        NaN\n",
       "3162  1797.jpg   738  235  483   638        NaN\n",
       "3163  1799.jpg   757  296   75    86        NaN\n",
       "3164  1800.jpg   956  460  246   326        NaN\n",
       "\n",
       "[3165 rows x 6 columns]"
      ]
     },
     "execution_count": 41,
     "metadata": {},
     "output_type": "execute_result"
    }
   ],
   "source": [
    "# load the testing data -- if it exists\n",
    "if os.path.exists(os.path.join(DATA_DIR, 'img_data/kaggle_testing.csv')):\n",
    "\n",
    "    df_test = pd.read_csv(\n",
    "        os.path.join(DATA_DIR, 'img_data/kaggle_testing.csv'),\n",
    "        index_col=0\n",
    "    )\n",
    "    df_test.rename(\n",
    "        columns={'x1': 'x', 'x2': 'y', 'y1': 'w', 'y2': 'h'},\n",
    "        inplace=True\n",
    "    )\n",
    "    df_test.sort_values('name', axis = 0, inplace = True)\n",
    "else:\n",
    "    df_test = None\n",
    "\n",
    "df_test"
   ]
  },
  {
   "cell_type": "code",
   "execution_count": 42,
   "metadata": {
    "ExecuteTime": {
     "end_time": "2020-11-10T14:52:48.953435Z",
     "start_time": "2020-11-10T14:52:48.709642Z"
    }
   },
   "outputs": [
    {
     "data": {
      "text/plain": [
       "<matplotlib.axes._subplots.AxesSubplot at 0x7fbabc1e6f60>"
      ]
     },
     "execution_count": 42,
     "metadata": {},
     "output_type": "execute_result"
    },
    {
     "data": {
      "image/png": "[encoded data removed]",
      "text/plain": [
       "<Figure size 1008x576 with 1 Axes>"
      ]
     },
     "metadata": {},
     "output_type": "display_data"
    }
   ],
   "source": [
    "# classes = df_train['classname'].unique()    # uncomment this line and print(classes) \n",
    "                                              # to get a full list of features/classnames\n",
    "\n",
    "# specify which classnames we want to look at\n",
    "features = [\n",
    "    'face_with_mask', \n",
    "    'face_no_mask', \n",
    "#     'mask_colorful', \n",
    "#     'face_with_mask_incorrect',\n",
    "]\n",
    "\n",
    "### Visualizing Class Distribution\n",
    "plt.figure(figsize=(14,8))\n",
    "plt.title('Class Distribution', fontsize= 20)\n",
    "\n",
    "sns.countplot(x = \"classname\", data = df_train[df_train[\"classname\"].isin(features)])"
   ]
  },
  {
   "cell_type": "markdown",
   "metadata": {},
   "source": [
    "## Model Preparations\n",
    "\n",
    "+ We keep pre-compiled versions of our different models on hand (again, to reduce process/load times)\n",
    "+ Unless the training data changes, we default to using those existing models"
   ]
  },
  {
   "cell_type": "code",
   "execution_count": 44,
   "metadata": {
    "ExecuteTime": {
     "end_time": "2020-11-10T14:53:21.410524Z",
     "start_time": "2020-11-10T14:53:21.383787Z"
    }
   },
   "outputs": [
    {
     "ename": "AttributeError",
     "evalue": "module 'lib.utils' has no attribute 'get_image'",
     "output_type": "error",
     "traceback": [
      "\u001b[0;31m---------------------------------------------------------------------------\u001b[0m",
      "\u001b[0;31mAttributeError\u001b[0m                            Traceback (most recent call last)",
      "\u001b[0;32m<ipython-input-44-652dc79b96a2>\u001b[0m in \u001b[0;36m<module>\u001b[0;34m\u001b[0m\n\u001b[1;32m      1\u001b[0m \u001b[0;31m# the training\u001b[0m\u001b[0;34m\u001b[0m\u001b[0;34m\u001b[0m\u001b[0;34m\u001b[0m\u001b[0m\n\u001b[0;32m----> 2\u001b[0;31m \u001b[0mimage\u001b[0m \u001b[0;34m=\u001b[0m \u001b[0mutils\u001b[0m\u001b[0;34m.\u001b[0m\u001b[0mget_image\u001b[0m\u001b[0;34m(\u001b[0m\u001b[0;34m'0001.jpg'\u001b[0m\u001b[0;34m,\u001b[0m \u001b[0moptions\u001b[0m\u001b[0;34m=\u001b[0m\u001b[0;34m{\u001b[0m\u001b[0;34m'format'\u001b[0m\u001b[0;34m:\u001b[0m \u001b[0;34m'jpg'\u001b[0m\u001b[0;34m}\u001b[0m\u001b[0;34m)\u001b[0m\u001b[0;34m\u001b[0m\u001b[0;34m\u001b[0m\u001b[0m\n\u001b[0m",
      "\u001b[0;31mAttributeError\u001b[0m: module 'lib.utils' has no attribute 'get_image'"
     ]
    }
   ],
   "source": [
    "# the training \n",
    "image = utils.get_image('0001.jpg', options={'format': 'jpg'})"
   ]
  },
  {
   "cell_type": "code",
   "execution_count": null,
   "metadata": {},
   "outputs": [],
   "source": []
  }
 ],
 "metadata": {
  "kernelspec": {
   "display_name": "Python 3",
   "language": "python",
   "name": "python3"
  },
  "language_info": {
   "codemirror_mode": {
    "name": "ipython",
    "version": 3
   },
   "file_extension": ".py",
   "mimetype": "text/x-python",
   "name": "python",
   "nbconvert_exporter": "python",
   "pygments_lexer": "ipython3",
   "version": "3.6.10"
  },
  "latex_envs": {
   "LaTeX_envs_menu_present": true,
   "autoclose": false,
   "autocomplete": true,
   "bibliofile": "biblio.bib",
   "cite_by": "apalike",
   "current_citInitial": 1,
   "eqLabelWithNumbers": true,
   "eqNumInitial": 1,
   "hotkeys": {
    "equation": "Ctrl-E",
    "itemize": "Ctrl-I"
   },
   "labels_anchors": false,
   "latex_user_defs": false,
   "report_style_numbering": false,
   "user_envs_cfg": false
  },
  "varInspector": {
   "cols": {
    "lenName": 16,
    "lenType": 16,
    "lenVar": 40
   },
   "kernels_config": {
    "python": {
     "delete_cmd_postfix": "",
     "delete_cmd_prefix": "del ",
     "library": "var_list.py",
     "varRefreshCmd": "print(var_dic_list())"
    },
    "r": {
     "delete_cmd_postfix": ") ",
     "delete_cmd_prefix": "rm(",
     "library": "var_list.r",
     "varRefreshCmd": "cat(var_dic_list()) "
    }
   },
   "types_to_exclude": [
    "module",
    "function",
    "builtin_function_or_method",
    "instance",
    "_Feature"
   ],
   "window_display": false
  }
 },
 "nbformat": 4,
 "nbformat_minor": 4
}
