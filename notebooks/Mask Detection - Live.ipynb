{
 "cells": [
  {
   "cell_type": "code",
   "execution_count": 11,
   "metadata": {
    "ExecuteTime": {
     "end_time": "2020-11-16T06:33:50.054366Z",
     "start_time": "2020-11-16T06:33:50.050352Z"
    },
    "code_folding": []
   },
   "outputs": [],
   "source": [
    "# our nice list of imports is in here\n",
    "#i hate this, but the notebook won't recognize our custom modules w/o it\n",
    "import sys\n",
    "sys.path.append(\"..\")\n",
    "import lib\n",
    "from lib import utils\n",
    "\n",
    "import os\n",
    "import cv2\n",
    "import urllib\n",
    "import random\n",
    "import numpy as np\n",
    "import matplotlib.pyplot as plt\n",
    "import matplotlib.patches as patches\n",
    "\n",
    "import tensorflow as tf\n",
    "from tensorflow.keras.models import load_model\n",
    "\n",
    "\n",
    "from mtcnn.mtcnn import MTCNN"
   ]
  },
  {
   "cell_type": "code",
   "execution_count": null,
   "metadata": {
    "ExecuteTime": {
     "end_time": "2020-11-16T06:25:03.301369Z",
     "start_time": "2020-11-16T06:25:03.258797Z"
    }
   },
   "outputs": [],
   "source": []
  },
  {
   "cell_type": "markdown",
   "metadata": {},
   "source": [
    "## Loading the Model"
   ]
  },
  {
   "cell_type": "code",
   "execution_count": 12,
   "metadata": {
    "ExecuteTime": {
     "end_time": "2020-11-16T06:33:51.827539Z",
     "start_time": "2020-11-16T06:33:51.401641Z"
    }
   },
   "outputs": [],
   "source": [
    "model = load_model('../models/kaggle_relu_softmax_1e41e5')"
   ]
  },
  {
   "cell_type": "code",
   "execution_count": null,
   "metadata": {
    "ExecuteTime": {
     "end_time": "2020-11-16T05:55:24.713645Z",
     "start_time": "2020-11-16T05:55:24.709370Z"
    }
   },
   "outputs": [],
   "source": []
  },
  {
   "cell_type": "code",
   "execution_count": 13,
   "metadata": {
    "ExecuteTime": {
     "end_time": "2020-11-16T06:33:52.700498Z",
     "start_time": "2020-11-16T06:33:52.696498Z"
    }
   },
   "outputs": [
    {
     "data": {
      "text/plain": [
       "['mnm',\n",
       " 'keras_all_features_sequential_model',\n",
       " '.DS_Store',\n",
       " 'kaggle_relu_softmax_1e41e5',\n",
       " 'keras_half_features_sequential_model',\n",
       " 'keras_8_feature_incorrect_mask_sequential_model',\n",
       " '.ipynb_checkpoints',\n",
       " '.mask_recog_ver2.h5.icloud',\n",
       " 'image_model',\n",
       " 'keras_sequential_model',\n",
       " 'keras_mask_or_no_mask_model']"
      ]
     },
     "execution_count": 13,
     "metadata": {},
     "output_type": "execute_result"
    }
   ],
   "source": [
    "\n",
    "\n",
    "os.listdir('../models')"
   ]
  },
  {
   "cell_type": "code",
   "execution_count": null,
   "metadata": {
    "ExecuteTime": {
     "end_time": "2020-11-16T05:55:24.730960Z",
     "start_time": "2020-11-16T05:55:24.723806Z"
    }
   },
   "outputs": [],
   "source": []
  },
  {
   "cell_type": "markdown",
   "metadata": {},
   "source": [
    "## Using Our Model With Video Feed\n",
    "\n",
    "+ We have two available facial detection algorithms: \n",
    "  1. Haar Cascade - faster detection, but only tuned for full, frontal views of faces.\n",
    "  2. MTCNN - slower detection, but returns extra features and can detect faces from a variety of angles -- not only the front.\n"
   ]
  },
  {
   "cell_type": "code",
   "execution_count": null,
   "metadata": {
    "ExecuteTime": {
     "start_time": "2020-11-16T06:55:06.643Z"
    }
   },
   "outputs": [
    {
     "name": "stdout",
     "output_type": "stream",
     "text": [
      "[[2.6909966e-04 9.9973089e-01]\n",
      " [9.9999273e-01 7.2571152e-06]\n",
      " [2.4421411e-03 9.9755788e-01]]\n",
      "[[4.4549835e-01 5.5450165e-01]\n",
      " [1.0000000e+00 6.9950085e-10]\n",
      " [5.7673180e-01 4.2326817e-01]]\n",
      "[[1.0000000e+00 1.3490080e-08]\n",
      " [1.0000000e+00 3.9938324e-13]\n",
      " [2.0862722e-01 7.9137278e-01]]\n",
      "[[4.8134057e-03 9.9518663e-01]\n",
      " [9.9999917e-01 8.5046486e-07]\n",
      " [1.6787127e-02 9.8321289e-01]]\n",
      "[[4.5141816e-01 5.4858184e-01]\n",
      " [1.0000000e+00 1.5545090e-12]\n",
      " [9.3955433e-01 6.0445685e-02]]\n",
      "[[9.9998951e-01 1.0480813e-05]\n",
      " [1.0000000e+00 1.0343813e-12]\n",
      " [9.4841862e-01 5.1581439e-02]]\n",
      "[[1.0000000e+00 1.8243689e-08]\n",
      " [1.0000000e+00 1.5559951e-12]\n",
      " [6.5340802e-02 9.3465918e-01]]\n"
     ]
    }
   ],
   "source": [
    "# use haar cascade to detect faces (frontal)\n",
    "# HC_FRONTAL_FACE = os.path.join(HC_DATA_DIR, \n",
    "#                                'haarcascade_frontalface_default.xml')\n",
    "# classifier = cv2.CascadeClassifier(HC_FRONTAL_FACE)\n",
    "\n",
    "\n",
    "# use MTCNN to detect faces\n",
    "classifier = MTCNN()\n",
    "\n",
    "\n",
    "labels_dict={ 0:'No Mask', 1:'Mask' }\n",
    "color_dict={ 0: (0,0,255), 1: (0,255,0) }\n",
    "\n",
    "size = 4\n",
    "\n",
    "# open webcam feed\n",
    "# cap = cv2.VideoCapture(0)\n",
    "\n",
    "# alternatively, open feed from a file\n",
    "cap = cv2.VideoCapture('../memask-beard.mov')\n",
    "\n",
    "# EVEN from a mobile device (UNTESTED)\n",
    "# cap = cv.VideoCapture(1)\n",
    "\n",
    "while cap.isOpened():\n",
    "    ret, frame = cap.read()\n",
    "    if frame is not None:\n",
    "        # frame = cv2.flip(frame, 1, 1) # flip so view looks more natural live (?)\n",
    "        \n",
    "\n",
    "        # detection is a little faster on smaller images -- so let's make it small\n",
    "        small = cv2.resize(frame, (frame.shape[1] // size, frame.shape[0] // size))\n",
    "\n",
    "        # detect faces with haar cascades\n",
    "        # faces = classifier.detectMultiScale(small)\n",
    "        \n",
    "        # detect faces with MTCNN\n",
    "        faces = classifier.detect_faces(small)\n",
    "\n",
    "        for f in faces:\n",
    "            # reverse the scale-down of the frame for bounding box (haar)\n",
    "#             (x, y, w, h) = [v * size for vstack in f] \n",
    "#             keypoints = None\n",
    "            \n",
    "            # reverse the scale-down of the frame for bounding box (MTCNN)\n",
    "            (x, y, w, h) = [v * size for v in f['box']]\n",
    "            # print(f['keypoints'])\n",
    "            keypoints = f['keypoints']\n",
    "                \n",
    "        \n",
    "            face = frame[y:y+h, x:x+w]\n",
    "            resized = cv2.resize(face, (50,50))\n",
    "            normalized = resized/255.0\n",
    "            reshaped = np.reshape(normalized,(-1,50,50,1))\n",
    "            reshaped = np.vstack([reshaped])\n",
    "            result = model.predict(reshaped)\n",
    "            print(result)\n",
    "\n",
    "            label = np.argmax(result, axis=1)[0]\n",
    "#             print(\"PREDICTION: {}\".format(labels_dict[label]))\n",
    "            cv2.rectangle(frame, (x,y), (x+w,y+h), color_dict[label], 2)\n",
    "            cv2.rectangle(frame, (x,y-40), (x+w,y), color_dict[label], -1)\n",
    "            cv2.putText(\n",
    "                frame, \n",
    "                labels_dict[label], \n",
    "                (x, y-10), \n",
    "                cv2.FONT_HERSHEY_SIMPLEX,\n",
    "                0.8,\n",
    "                (255,255,255),\n",
    "                2\n",
    "            )\n",
    "            \n",
    "            # extra fun when using MTCNN :)\n",
    "            if keypoints is not None:\n",
    "                cv2.circle(\n",
    "                    frame, \n",
    "                    (tuple([k * size for k in keypoints['left_eye']])), \n",
    "                    2, (255,0,255), 2\n",
    "                )\n",
    "                cv2.circle(\n",
    "                    frame, \n",
    "                    (tuple([k * size for k in keypoints['right_eye']])), \n",
    "                    2, (255,0,255), 2\n",
    "                )\n",
    "                cv2.circle(\n",
    "                    frame, \n",
    "                    (tuple([k * size for k in keypoints['nose']])), \n",
    "                    2, (255,0,255), 2\n",
    "                )\n",
    "                cv2.circle(\n",
    "                    frame, \n",
    "                    (tuple([k * size for k in keypoints['mouth_left']])), \n",
    "                    2, (255,0,255), 2\n",
    "                )\n",
    "                cv2.circle(\n",
    "                    frame, \n",
    "                    (tuple([k * size for k in keypoints['mouth_right']])), \n",
    "                    2, (255,0,255), 2)\n",
    "            # end of extra fun with MTCNN\n",
    "\n",
    "        cv2.imshow('LIVE DETECTION ACTIVE', frame)\n",
    "        key = cv2.waitKey(10)\n",
    "\n",
    "        if key == 27: # if Esc key pressed -- end feed\n",
    "            break\n",
    "        \n",
    "#         clear_output(wait=True)\n",
    "    else:\n",
    "        break\n",
    "        \n",
    "# stop video\n",
    "cap.release()\n",
    "\n",
    "# close windows\n",
    "cv2.destroyAllWindows()"
   ]
  },
  {
   "cell_type": "code",
   "execution_count": 6,
   "metadata": {
    "ExecuteTime": {
     "end_time": "2020-11-16T06:27:35.375181Z",
     "start_time": "2020-11-16T06:27:35.371211Z"
    }
   },
   "outputs": [],
   "source": [
    "cap.release()\n",
    "cv2.destroyAllWindows()"
   ]
  },
  {
   "cell_type": "code",
   "execution_count": null,
   "metadata": {},
   "outputs": [],
   "source": []
  }
 ],
 "metadata": {
  "kernelspec": {
   "display_name": "Python 3",
   "language": "python",
   "name": "python3"
  },
  "language_info": {
   "codemirror_mode": {
    "name": "ipython",
    "version": 3
   },
   "file_extension": ".py",
   "mimetype": "text/x-python",
   "name": "python",
   "nbconvert_exporter": "python",
   "pygments_lexer": "ipython3",
   "version": "3.6.10"
  },
  "latex_envs": {
   "LaTeX_envs_menu_present": true,
   "autoclose": false,
   "autocomplete": true,
   "bibliofile": "biblio.bib",
   "cite_by": "apalike",
   "current_citInitial": 1,
   "eqLabelWithNumbers": true,
   "eqNumInitial": 1,
   "hotkeys": {
    "equation": "Ctrl-E",
    "itemize": "Ctrl-I"
   },
   "labels_anchors": false,
   "latex_user_defs": false,
   "report_style_numbering": false,
   "user_envs_cfg": false
  },
  "varInspector": {
   "cols": {
    "lenName": 16,
    "lenType": 16,
    "lenVar": 40
   },
   "kernels_config": {
    "python": {
     "delete_cmd_postfix": "",
     "delete_cmd_prefix": "del ",
     "library": "var_list.py",
     "varRefreshCmd": "print(var_dic_list())"
    },
    "r": {
     "delete_cmd_postfix": ") ",
     "delete_cmd_prefix": "rm(",
     "library": "var_list.r",
     "varRefreshCmd": "cat(var_dic_list()) "
    }
   },
   "position": {
    "height": "563.736px",
    "left": "1135.07px",
    "right": "20px",
    "top": "77.9858px",
    "width": "442.983px"
   },
   "types_to_exclude": [
    "module",
    "function",
    "builtin_function_or_method",
    "instance",
    "_Feature"
   ],
   "window_display": false
  }
 },
 "nbformat": 4,
 "nbformat_minor": 4
}
