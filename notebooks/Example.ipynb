{
 "cells": [
  {
   "cell_type": "markdown",
   "metadata": {},
   "source": [
    "# Face Mask Detection\n",
    "\n",
    "\n",
    "\n",
    "Here I am going to detect whether a person is wearing mask or not. I am focussing on only two classes that are 'face_with_mask' and face_no_mask'.\n",
    "\n",
    "### Source Page\n",
    "+ [Kaggle Source](https://www.kaggle.com/ayushimishra2809/face-mask-detection)\n",
    "\n",
    "\n",
    "### Setup\n",
    "\n",
    "1. Create a new [Anaconda](https://www.anaconda.com/products/individual) environment with Python 3.6 (not 3.7 or 3.8), keras, and tensorflow:\n",
    "``` sh\n",
    "> conda create -n <your_env_name> python=3.6 anaconda tensorflow keras\n",
    "```\n",
    "2. Install other missing packages:\n",
    "``` sh\n",
    "> conda install -c anaconda xlrd xlwt scikit-learn seaborn\n",
    "> conda install mtcnn ipyparallel\n",
    "> pip install python-opencv\n",
    "```\n",
    "3. That's all for now!"
   ]
  },
  {
   "cell_type": "markdown",
   "metadata": {},
   "source": [
    "## Importing Libraries"
   ]
  },
  {
   "cell_type": "code",
   "execution_count": 1,
   "metadata": {
    "ExecuteTime": {
     "end_time": "2020-10-30T21:09:45.967148Z",
     "start_time": "2020-10-30T21:09:45.961191Z"
    },
    "_cell_guid": "b1076dfc-b9ad-4769-8c92-a6c4dae69d19",
    "_uuid": "8f2839f25d086af736a60e9eeb907d3b93b6e0e5"
   },
   "outputs": [
    {
     "name": "stderr",
     "output_type": "stream",
     "text": [
      "ERROR:root:Internal Python error in the inspect module.\n",
      "Below is the traceback from this internal error.\n",
      "\n",
      "WARNING:tensorflow:From /Users/brtonnies/anaconda3/envs/AI/lib/python3.6/site-packages/tensorflow_core/python/ops/distributions/distribution.py:265: ReparameterizationType.__init__ (from tensorflow.python.ops.distributions.distribution) is deprecated and will be removed after 2019-01-01.\n",
      "Instructions for updating:\n",
      "The TensorFlow Distributions library has moved to TensorFlow Probability (https://github.com/tensorflow/probability). You should update all references to use `tfp.distributions` instead of `tf.distributions`.\n",
      "WARNING:tensorflow:From /Users/brtonnies/anaconda3/envs/AI/lib/python3.6/site-packages/tensorflow_core/python/ops/distributions/bernoulli.py:169: RegisterKL.__init__ (from tensorflow.python.ops.distributions.kullback_leibler) is deprecated and will be removed after 2019-01-01.\n",
      "Instructions for updating:\n",
      "The TensorFlow Distributions library has moved to TensorFlow Probability (https://github.com/tensorflow/probability). You should update all references to use `tfp.distributions` instead of `tf.distributions`.\n"
     ]
    },
    {
     "name": "stdout",
     "output_type": "stream",
     "text": [
      "Traceback (most recent call last):\n",
      "  File \"/Users/brtonnies/anaconda3/envs/AI/lib/python3.6/site-packages/IPython/core/interactiveshell.py\", line 3343, in run_code\n",
      "    exec(code_obj, self.user_global_ns, self.user_ns)\n",
      "  File \"<ipython-input-1-8126c71bfe97>\", line 8, in <module>\n",
      "    import tensorflow as tf                    # TensorFlow installed with 'pip'\n",
      "  File \"/Users/brtonnies/anaconda3/envs/AI/lib/python3.6/site-packages/tensorflow/__init__.py\", line 98, in <module>\n",
      "    from tensorflow_core import *\n",
      "  File \"/Users/brtonnies/anaconda3/envs/AI/lib/python3.6/site-packages/tensorflow_core/__init__.py\", line 40, in <module>\n",
      "    from tensorflow.python.tools import module_util as _module_util\n",
      "  File \"<frozen importlib._bootstrap>\", line 971, in _find_and_load\n",
      "  File \"<frozen importlib._bootstrap>\", line 947, in _find_and_load_unlocked\n",
      "  File \"/Users/brtonnies/anaconda3/envs/AI/lib/python3.6/site-packages/tensorflow/__init__.py\", line 50, in __getattr__\n",
      "    module = self._load()\n",
      "  File \"/Users/brtonnies/anaconda3/envs/AI/lib/python3.6/site-packages/tensorflow/__init__.py\", line 44, in _load\n",
      "    module = _importlib.import_module(self.__name__)\n",
      "  File \"/Users/brtonnies/anaconda3/envs/AI/lib/python3.6/importlib/__init__.py\", line 126, in import_module\n",
      "    return _bootstrap._gcd_import(name[level:], package, level)\n",
      "  File \"/Users/brtonnies/anaconda3/envs/AI/lib/python3.6/site-packages/tensorflow_core/python/__init__.py\", line 58, in <module>\n",
      "    from tensorflow.core.protobuf.config_pb2 import *\n",
      "  File \"<frozen importlib._bootstrap>\", line 971, in _find_and_load\n",
      "  File \"<frozen importlib._bootstrap>\", line 955, in _find_and_load_unlocked\n",
      "  File \"<frozen importlib._bootstrap>\", line 665, in _load_unlocked\n",
      "  File \"<frozen importlib._bootstrap_external>\", line 674, in exec_module\n",
      "  File \"<frozen importlib._bootstrap_external>\", line 779, in get_code\n",
      "  File \"<frozen importlib._bootstrap_external>\", line 487, in _compile_bytecode\n",
      "KeyboardInterrupt\n",
      "\n",
      "During handling of the above exception, another exception occurred:\n",
      "\n",
      "Traceback (most recent call last):\n",
      "  File \"/Users/brtonnies/anaconda3/envs/AI/lib/python3.6/site-packages/IPython/core/interactiveshell.py\", line 2044, in showtraceback\n",
      "    stb = value._render_traceback_()\n",
      "AttributeError: 'KeyboardInterrupt' object has no attribute '_render_traceback_'\n",
      "\n",
      "During handling of the above exception, another exception occurred:\n",
      "\n",
      "Traceback (most recent call last):\n",
      "  File \"/Users/brtonnies/anaconda3/envs/AI/lib/python3.6/site-packages/IPython/core/ultratb.py\", line 1169, in get_records\n",
      "    return _fixed_getinnerframes(etb, number_of_lines_of_context, tb_offset)\n",
      "  File \"/Users/brtonnies/anaconda3/envs/AI/lib/python3.6/site-packages/IPython/core/ultratb.py\", line 316, in wrapped\n",
      "    return f(*args, **kwargs)\n",
      "  File \"/Users/brtonnies/anaconda3/envs/AI/lib/python3.6/site-packages/IPython/core/ultratb.py\", line 350, in _fixed_getinnerframes\n",
      "    records = fix_frame_records_filenames(inspect.getinnerframes(etb, context))\n",
      "  File \"/Users/brtonnies/anaconda3/envs/AI/lib/python3.6/inspect.py\", line 1490, in getinnerframes\n",
      "    frameinfo = (tb.tb_frame,) + getframeinfo(tb, context)\n",
      "  File \"/Users/brtonnies/anaconda3/envs/AI/lib/python3.6/inspect.py\", line 1448, in getframeinfo\n",
      "    filename = getsourcefile(frame) or getfile(frame)\n",
      "  File \"/Users/brtonnies/anaconda3/envs/AI/lib/python3.6/inspect.py\", line 696, in getsourcefile\n",
      "    if getattr(getmodule(object, filename), '__loader__', None) is not None:\n",
      "  File \"/Users/brtonnies/anaconda3/envs/AI/lib/python3.6/inspect.py\", line 733, in getmodule\n",
      "    if ismodule(module) and hasattr(module, '__file__'):\n",
      "  File \"/Users/brtonnies/anaconda3/envs/AI/lib/python3.6/site-packages/tensorflow/__init__.py\", line 50, in __getattr__\n",
      "    module = self._load()\n",
      "  File \"/Users/brtonnies/anaconda3/envs/AI/lib/python3.6/site-packages/tensorflow/__init__.py\", line 44, in _load\n",
      "    module = _importlib.import_module(self.__name__)\n",
      "  File \"/Users/brtonnies/anaconda3/envs/AI/lib/python3.6/importlib/__init__.py\", line 126, in import_module\n",
      "    return _bootstrap._gcd_import(name[level:], package, level)\n",
      "  File \"<frozen importlib._bootstrap>\", line 994, in _gcd_import\n",
      "  File \"<frozen importlib._bootstrap>\", line 971, in _find_and_load\n",
      "  File \"<frozen importlib._bootstrap>\", line 941, in _find_and_load_unlocked\n",
      "  File \"<frozen importlib._bootstrap>\", line 219, in _call_with_frames_removed\n",
      "  File \"<frozen importlib._bootstrap>\", line 994, in _gcd_import\n",
      "  File \"<frozen importlib._bootstrap>\", line 971, in _find_and_load\n",
      "  File \"<frozen importlib._bootstrap>\", line 955, in _find_and_load_unlocked\n",
      "  File \"<frozen importlib._bootstrap>\", line 665, in _load_unlocked\n",
      "  File \"<frozen importlib._bootstrap_external>\", line 678, in exec_module\n",
      "  File \"<frozen importlib._bootstrap>\", line 219, in _call_with_frames_removed\n",
      "  File \"/Users/brtonnies/anaconda3/envs/AI/lib/python3.6/site-packages/tensorflow_core/__init__.py\", line 42, in <module>\n",
      "    from . _api.v2 import audio\n",
      "  File \"/Users/brtonnies/anaconda3/envs/AI/lib/python3.6/site-packages/tensorflow_core/_api/v2/audio/__init__.py\", line 10, in <module>\n",
      "    from tensorflow.python.ops.gen_audio_ops import decode_wav\n",
      "  File \"/Users/brtonnies/anaconda3/envs/AI/lib/python3.6/site-packages/tensorflow_core/python/ops/gen_audio_ops.py\", line 11, in <module>\n",
      "    from tensorflow.python.eager import context as _context\n",
      "  File \"/Users/brtonnies/anaconda3/envs/AI/lib/python3.6/site-packages/tensorflow_core/python/eager/context.py\", line 32, in <module>\n",
      "    from tensorflow.python import tf2\n",
      "  File \"<frozen importlib._bootstrap>\", line 1020, in _handle_fromlist\n",
      "  File \"/Users/brtonnies/anaconda3/envs/AI/lib/python3.6/site-packages/tensorflow/__init__.py\", line 50, in __getattr__\n",
      "    module = self._load()\n",
      "  File \"/Users/brtonnies/anaconda3/envs/AI/lib/python3.6/site-packages/tensorflow/__init__.py\", line 44, in _load\n",
      "    module = _importlib.import_module(self.__name__)\n",
      "  File \"/Users/brtonnies/anaconda3/envs/AI/lib/python3.6/importlib/__init__.py\", line 126, in import_module\n",
      "    return _bootstrap._gcd_import(name[level:], package, level)\n",
      "  File \"/Users/brtonnies/anaconda3/envs/AI/lib/python3.6/site-packages/tensorflow_core/python/__init__.py\", line 83, in <module>\n",
      "    from tensorflow.python import keras\n",
      "  File \"/Users/brtonnies/anaconda3/envs/AI/lib/python3.6/site-packages/tensorflow_core/python/keras/__init__.py\", line 26, in <module>\n",
      "    from tensorflow.python.keras import activations\n",
      "  File \"/Users/brtonnies/anaconda3/envs/AI/lib/python3.6/site-packages/tensorflow_core/python/keras/__init__.py\", line 26, in <module>\n",
      "    from tensorflow.python.keras import activations\n",
      "  File \"/Users/brtonnies/anaconda3/envs/AI/lib/python3.6/site-packages/tensorflow_core/python/keras/activations.py\", line 23, in <module>\n",
      "    from tensorflow.python.keras.utils.generic_utils import deserialize_keras_object\n",
      "  File \"/Users/brtonnies/anaconda3/envs/AI/lib/python3.6/site-packages/tensorflow_core/python/keras/utils/__init__.py\", line 38, in <module>\n",
      "    from tensorflow.python.keras.utils.multi_gpu_utils import multi_gpu_model\n",
      "  File \"/Users/brtonnies/anaconda3/envs/AI/lib/python3.6/site-packages/tensorflow_core/python/keras/utils/multi_gpu_utils.py\", line 22, in <module>\n",
      "    from tensorflow.python.keras.engine.training import Model\n",
      "  File \"/Users/brtonnies/anaconda3/envs/AI/lib/python3.6/site-packages/tensorflow_core/python/keras/engine/__init__.py\", line 24, in <module>\n",
      "    from tensorflow.python.keras.engine.input_layer import Input\n",
      "  File \"/Users/brtonnies/anaconda3/envs/AI/lib/python3.6/site-packages/tensorflow_core/python/keras/engine/input_layer.py\", line 25, in <module>\n",
      "    from tensorflow.python.keras.distribute import distributed_training_utils\n",
      "  File \"/Users/brtonnies/anaconda3/envs/AI/lib/python3.6/site-packages/tensorflow_core/python/keras/distribute/distributed_training_utils.py\", line 38, in <module>\n",
      "    from tensorflow.python.keras import callbacks\n",
      "  File \"/Users/brtonnies/anaconda3/envs/AI/lib/python3.6/site-packages/tensorflow_core/python/keras/callbacks.py\", line 53, in <module>\n",
      "    import requests\n",
      "  File \"/Users/brtonnies/anaconda3/envs/AI/lib/python3.6/site-packages/requests/__init__.py\", line 43, in <module>\n",
      "    import urllib3\n",
      "  File \"/Users/brtonnies/anaconda3/envs/AI/lib/python3.6/site-packages/urllib3/__init__.py\", line 7, in <module>\n",
      "    from .connectionpool import HTTPConnectionPool, HTTPSConnectionPool, connection_from_url\n",
      "  File \"/Users/brtonnies/anaconda3/envs/AI/lib/python3.6/site-packages/urllib3/connectionpool.py\", line 29, in <module>\n",
      "    from .connection import (\n",
      "  File \"/Users/brtonnies/anaconda3/envs/AI/lib/python3.6/site-packages/urllib3/connection.py\", line 41, in <module>\n",
      "    from .util.ssl_ import (\n",
      "  File \"/Users/brtonnies/anaconda3/envs/AI/lib/python3.6/site-packages/urllib3/util/__init__.py\", line 7, in <module>\n",
      "    from .ssl_ import (\n",
      "  File \"/Users/brtonnies/anaconda3/envs/AI/lib/python3.6/site-packages/urllib3/util/ssl_.py\", line 10, in <module>\n",
      "    from .url import IPV4_RE, BRACELESS_IPV6_ADDRZ_RE\n",
      "  File \"/Users/brtonnies/anaconda3/envs/AI/lib/python3.6/site-packages/urllib3/util/url.py\", line 71, in <module>\n",
      "    SUBAUTHORITY_RE = re.compile(SUBAUTHORITY_PAT, re.UNICODE | re.DOTALL)\n",
      "  File \"/Users/brtonnies/anaconda3/envs/AI/lib/python3.6/re.py\", line 233, in compile\n",
      "    return _compile(pattern, flags)\n",
      "  File \"/Users/brtonnies/anaconda3/envs/AI/lib/python3.6/re.py\", line 301, in _compile\n",
      "    p = sre_compile.compile(pattern, flags)\n",
      "  File \"/Users/brtonnies/anaconda3/envs/AI/lib/python3.6/sre_compile.py\", line 562, in compile\n",
      "    p = sre_parse.parse(p, flags)\n",
      "  File \"/Users/brtonnies/anaconda3/envs/AI/lib/python3.6/sre_parse.py\", line 855, in parse\n",
      "    p = _parse_sub(source, pattern, flags & SRE_FLAG_VERBOSE, 0)\n",
      "  File \"/Users/brtonnies/anaconda3/envs/AI/lib/python3.6/sre_parse.py\", line 416, in _parse_sub\n",
      "    not nested and not items))\n",
      "  File \"/Users/brtonnies/anaconda3/envs/AI/lib/python3.6/sre_parse.py\", line 765, in _parse\n",
      "    p = _parse_sub(source, state, sub_verbose, nested + 1)\n",
      "  File \"/Users/brtonnies/anaconda3/envs/AI/lib/python3.6/sre_parse.py\", line 416, in _parse_sub\n",
      "    not nested and not items))\n",
      "  File \"/Users/brtonnies/anaconda3/envs/AI/lib/python3.6/sre_parse.py\", line 765, in _parse\n",
      "    p = _parse_sub(source, state, sub_verbose, nested + 1)\n",
      "  File \"/Users/brtonnies/anaconda3/envs/AI/lib/python3.6/sre_parse.py\", line 416, in _parse_sub\n",
      "    not nested and not items))\n",
      "  File \"/Users/brtonnies/anaconda3/envs/AI/lib/python3.6/sre_parse.py\", line 765, in _parse\n",
      "    p = _parse_sub(source, state, sub_verbose, nested + 1)\n",
      "  File \"/Users/brtonnies/anaconda3/envs/AI/lib/python3.6/sre_parse.py\", line 416, in _parse_sub\n",
      "    not nested and not items))\n",
      "  File \"/Users/brtonnies/anaconda3/envs/AI/lib/python3.6/sre_parse.py\", line 501, in _parse\n",
      "    if this[0] == \"\\\\\":\n",
      "KeyboardInterrupt\n",
      "WARNING:tensorflow:From /Users/brtonnies/anaconda3/envs/AI/lib/python3.6/site-packages/tensorflow_core/python/ops/distributions/distribution.py:265: ReparameterizationType.__init__ (from tensorflow.python.ops.distributions.distribution) is deprecated and will be removed after 2019-01-01.\n",
      "Instructions for updating:\n",
      "The TensorFlow Distributions library has moved to TensorFlow Probability (https://github.com/tensorflow/probability). You should update all references to use `tfp.distributions` instead of `tf.distributions`.\n",
      "WARNING:tensorflow:From /Users/brtonnies/anaconda3/envs/AI/lib/python3.6/site-packages/tensorflow_core/python/ops/distributions/bernoulli.py:169: RegisterKL.__init__ (from tensorflow.python.ops.distributions.kullback_leibler) is deprecated and will be removed after 2019-01-01.\n",
      "Instructions for updating:\n",
      "The TensorFlow Distributions library has moved to TensorFlow Probability (https://github.com/tensorflow/probability). You should update all references to use `tfp.distributions` instead of `tf.distributions`.\n"
     ]
    },
    {
     "ename": "TypeError",
     "evalue": "object of type 'NoneType' has no len()",
     "output_type": "error",
     "traceback": [
      "\u001B[0;31m---------------------------------------------------------------------------\u001B[0m",
      "\u001B[0;31mKeyboardInterrupt\u001B[0m                         Traceback (most recent call last)",
      "    \u001B[0;31m[... skipping hidden 1 frame]\u001B[0m\n",
      "\u001B[0;32m<ipython-input-1-8126c71bfe97>\u001B[0m in \u001B[0;36m<module>\u001B[0;34m\u001B[0m\n\u001B[1;32m      7\u001B[0m \u001B[0;32mimport\u001B[0m \u001B[0mmatplotlib\u001B[0m\u001B[0;34m.\u001B[0m\u001B[0mpatches\u001B[0m \u001B[0;32mas\u001B[0m \u001B[0mpatches\u001B[0m\u001B[0;34m\u001B[0m\u001B[0;34m\u001B[0m\u001B[0m\n\u001B[0;32m----> 8\u001B[0;31m \u001B[0;32mimport\u001B[0m \u001B[0mtensorflow\u001B[0m \u001B[0;32mas\u001B[0m \u001B[0mtf\u001B[0m                    \u001B[0;31m# TensorFlow installed with 'pip'\u001B[0m\u001B[0;34m\u001B[0m\u001B[0;34m\u001B[0m\u001B[0m\n\u001B[0m\u001B[1;32m      9\u001B[0m \u001B[0;32mimport\u001B[0m \u001B[0mkeras\u001B[0m\u001B[0;34m\u001B[0m\u001B[0;34m\u001B[0m\u001B[0m\n",
      "\u001B[0;32m~/anaconda3/envs/AI/lib/python3.6/site-packages/tensorflow/__init__.py\u001B[0m in \u001B[0;36m<module>\u001B[0;34m\u001B[0m\n\u001B[1;32m     97\u001B[0m \u001B[0;31m# We still need all the names that are toplevel on tensorflow_core\u001B[0m\u001B[0;34m\u001B[0m\u001B[0;34m\u001B[0m\u001B[0;34m\u001B[0m\u001B[0m\n\u001B[0;32m---> 98\u001B[0;31m \u001B[0;32mfrom\u001B[0m \u001B[0mtensorflow_core\u001B[0m \u001B[0;32mimport\u001B[0m \u001B[0;34m*\u001B[0m\u001B[0;34m\u001B[0m\u001B[0;34m\u001B[0m\u001B[0m\n\u001B[0m\u001B[1;32m     99\u001B[0m \u001B[0;34m\u001B[0m\u001B[0m\n",
      "\u001B[0;32m~/anaconda3/envs/AI/lib/python3.6/site-packages/tensorflow_core/__init__.py\u001B[0m in \u001B[0;36m<module>\u001B[0;34m\u001B[0m\n\u001B[1;32m     39\u001B[0m \u001B[0;34m\u001B[0m\u001B[0m\n\u001B[0;32m---> 40\u001B[0;31m \u001B[0;32mfrom\u001B[0m \u001B[0mtensorflow\u001B[0m\u001B[0;34m.\u001B[0m\u001B[0mpython\u001B[0m\u001B[0;34m.\u001B[0m\u001B[0mtools\u001B[0m \u001B[0;32mimport\u001B[0m \u001B[0mmodule_util\u001B[0m \u001B[0;32mas\u001B[0m \u001B[0m_module_util\u001B[0m\u001B[0;34m\u001B[0m\u001B[0;34m\u001B[0m\u001B[0m\n\u001B[0m\u001B[1;32m     41\u001B[0m \u001B[0;34m\u001B[0m\u001B[0m\n",
      "\u001B[0;32m~/anaconda3/envs/AI/lib/python3.6/importlib/_bootstrap.py\u001B[0m in \u001B[0;36m_find_and_load\u001B[0;34m(name, import_)\u001B[0m\n",
      "\u001B[0;32m~/anaconda3/envs/AI/lib/python3.6/importlib/_bootstrap.py\u001B[0m in \u001B[0;36m_find_and_load_unlocked\u001B[0;34m(name, import_)\u001B[0m\n",
      "\u001B[0;32m~/anaconda3/envs/AI/lib/python3.6/site-packages/tensorflow/__init__.py\u001B[0m in \u001B[0;36m__getattr__\u001B[0;34m(self, item)\u001B[0m\n\u001B[1;32m     49\u001B[0m   \u001B[0;32mdef\u001B[0m \u001B[0m__getattr__\u001B[0m\u001B[0;34m(\u001B[0m\u001B[0mself\u001B[0m\u001B[0;34m,\u001B[0m \u001B[0mitem\u001B[0m\u001B[0;34m)\u001B[0m\u001B[0;34m:\u001B[0m\u001B[0;34m\u001B[0m\u001B[0;34m\u001B[0m\u001B[0m\n\u001B[0;32m---> 50\u001B[0;31m     \u001B[0mmodule\u001B[0m \u001B[0;34m=\u001B[0m \u001B[0mself\u001B[0m\u001B[0;34m.\u001B[0m\u001B[0m_load\u001B[0m\u001B[0;34m(\u001B[0m\u001B[0;34m)\u001B[0m\u001B[0;34m\u001B[0m\u001B[0;34m\u001B[0m\u001B[0m\n\u001B[0m\u001B[1;32m     51\u001B[0m     \u001B[0;32mreturn\u001B[0m \u001B[0mgetattr\u001B[0m\u001B[0;34m(\u001B[0m\u001B[0mmodule\u001B[0m\u001B[0;34m,\u001B[0m \u001B[0mitem\u001B[0m\u001B[0;34m)\u001B[0m\u001B[0;34m\u001B[0m\u001B[0;34m\u001B[0m\u001B[0m\n",
      "\u001B[0;32m~/anaconda3/envs/AI/lib/python3.6/site-packages/tensorflow/__init__.py\u001B[0m in \u001B[0;36m_load\u001B[0;34m(self)\u001B[0m\n\u001B[1;32m     43\u001B[0m     \u001B[0;34m\"\"\"Import the target module and insert it into the parent's namespace.\"\"\"\u001B[0m\u001B[0;34m\u001B[0m\u001B[0;34m\u001B[0m\u001B[0m\n\u001B[0;32m---> 44\u001B[0;31m     \u001B[0mmodule\u001B[0m \u001B[0;34m=\u001B[0m \u001B[0m_importlib\u001B[0m\u001B[0;34m.\u001B[0m\u001B[0mimport_module\u001B[0m\u001B[0;34m(\u001B[0m\u001B[0mself\u001B[0m\u001B[0;34m.\u001B[0m\u001B[0m__name__\u001B[0m\u001B[0;34m)\u001B[0m\u001B[0;34m\u001B[0m\u001B[0;34m\u001B[0m\u001B[0m\n\u001B[0m\u001B[1;32m     45\u001B[0m     \u001B[0mself\u001B[0m\u001B[0;34m.\u001B[0m\u001B[0m_parent_module_globals\u001B[0m\u001B[0;34m[\u001B[0m\u001B[0mself\u001B[0m\u001B[0;34m.\u001B[0m\u001B[0m_local_name\u001B[0m\u001B[0;34m]\u001B[0m \u001B[0;34m=\u001B[0m \u001B[0mmodule\u001B[0m\u001B[0;34m\u001B[0m\u001B[0;34m\u001B[0m\u001B[0m\n",
      "\u001B[0;32m~/anaconda3/envs/AI/lib/python3.6/importlib/__init__.py\u001B[0m in \u001B[0;36mimport_module\u001B[0;34m(name, package)\u001B[0m\n\u001B[1;32m    125\u001B[0m             \u001B[0mlevel\u001B[0m \u001B[0;34m+=\u001B[0m \u001B[0;36m1\u001B[0m\u001B[0;34m\u001B[0m\u001B[0;34m\u001B[0m\u001B[0m\n\u001B[0;32m--> 126\u001B[0;31m     \u001B[0;32mreturn\u001B[0m \u001B[0m_bootstrap\u001B[0m\u001B[0;34m.\u001B[0m\u001B[0m_gcd_import\u001B[0m\u001B[0;34m(\u001B[0m\u001B[0mname\u001B[0m\u001B[0;34m[\u001B[0m\u001B[0mlevel\u001B[0m\u001B[0;34m:\u001B[0m\u001B[0;34m]\u001B[0m\u001B[0;34m,\u001B[0m \u001B[0mpackage\u001B[0m\u001B[0;34m,\u001B[0m \u001B[0mlevel\u001B[0m\u001B[0;34m)\u001B[0m\u001B[0;34m\u001B[0m\u001B[0;34m\u001B[0m\u001B[0m\n\u001B[0m\u001B[1;32m    127\u001B[0m \u001B[0;34m\u001B[0m\u001B[0m\n",
      "\u001B[0;32m~/anaconda3/envs/AI/lib/python3.6/site-packages/tensorflow_core/python/__init__.py\u001B[0m in \u001B[0;36m<module>\u001B[0;34m\u001B[0m\n\u001B[1;32m     57\u001B[0m \u001B[0;32mfrom\u001B[0m \u001B[0mtensorflow\u001B[0m\u001B[0;34m.\u001B[0m\u001B[0mcore\u001B[0m\u001B[0;34m.\u001B[0m\u001B[0mprotobuf\u001B[0m\u001B[0;34m.\u001B[0m\u001B[0mmeta_graph_pb2\u001B[0m \u001B[0;32mimport\u001B[0m \u001B[0mMetaGraphDef\u001B[0m\u001B[0;34m\u001B[0m\u001B[0;34m\u001B[0m\u001B[0m\n\u001B[0;32m---> 58\u001B[0;31m \u001B[0;32mfrom\u001B[0m \u001B[0mtensorflow\u001B[0m\u001B[0;34m.\u001B[0m\u001B[0mcore\u001B[0m\u001B[0;34m.\u001B[0m\u001B[0mprotobuf\u001B[0m\u001B[0;34m.\u001B[0m\u001B[0mconfig_pb2\u001B[0m \u001B[0;32mimport\u001B[0m \u001B[0;34m*\u001B[0m\u001B[0;34m\u001B[0m\u001B[0;34m\u001B[0m\u001B[0m\n\u001B[0m\u001B[1;32m     59\u001B[0m \u001B[0;32mfrom\u001B[0m \u001B[0mtensorflow\u001B[0m\u001B[0;34m.\u001B[0m\u001B[0mcore\u001B[0m\u001B[0;34m.\u001B[0m\u001B[0mprotobuf\u001B[0m\u001B[0;34m.\u001B[0m\u001B[0mtensorflow_server_pb2\u001B[0m \u001B[0;32mimport\u001B[0m \u001B[0;34m*\u001B[0m\u001B[0;34m\u001B[0m\u001B[0;34m\u001B[0m\u001B[0m\n",
      "\u001B[0;32m~/anaconda3/envs/AI/lib/python3.6/importlib/_bootstrap.py\u001B[0m in \u001B[0;36m_find_and_load\u001B[0;34m(name, import_)\u001B[0m\n",
      "\u001B[0;32m~/anaconda3/envs/AI/lib/python3.6/importlib/_bootstrap.py\u001B[0m in \u001B[0;36m_find_and_load_unlocked\u001B[0;34m(name, import_)\u001B[0m\n",
      "\u001B[0;32m~/anaconda3/envs/AI/lib/python3.6/importlib/_bootstrap.py\u001B[0m in \u001B[0;36m_load_unlocked\u001B[0;34m(spec)\u001B[0m\n",
      "\u001B[0;32m~/anaconda3/envs/AI/lib/python3.6/importlib/_bootstrap_external.py\u001B[0m in \u001B[0;36mexec_module\u001B[0;34m(self, module)\u001B[0m\n",
      "\u001B[0;32m~/anaconda3/envs/AI/lib/python3.6/importlib/_bootstrap_external.py\u001B[0m in \u001B[0;36mget_code\u001B[0;34m(self, fullname)\u001B[0m\n",
      "\u001B[0;32m~/anaconda3/envs/AI/lib/python3.6/importlib/_bootstrap_external.py\u001B[0m in \u001B[0;36m_compile_bytecode\u001B[0;34m(data, name, bytecode_path, source_path)\u001B[0m\n",
      "\u001B[0;31mKeyboardInterrupt\u001B[0m: ",
      "\nDuring handling of the above exception, another exception occurred:\n",
      "\u001B[0;31mAttributeError\u001B[0m                            Traceback (most recent call last)",
      "\u001B[0;32m~/anaconda3/envs/AI/lib/python3.6/site-packages/IPython/core/interactiveshell.py\u001B[0m in \u001B[0;36mshowtraceback\u001B[0;34m(self, exc_tuple, filename, tb_offset, exception_only, running_compiled_code)\u001B[0m\n\u001B[1;32m   2043\u001B[0m                         \u001B[0;31m# in the engines. This should return a list of strings.\u001B[0m\u001B[0;34m\u001B[0m\u001B[0;34m\u001B[0m\u001B[0;34m\u001B[0m\u001B[0m\n\u001B[0;32m-> 2044\u001B[0;31m                         \u001B[0mstb\u001B[0m \u001B[0;34m=\u001B[0m \u001B[0mvalue\u001B[0m\u001B[0;34m.\u001B[0m\u001B[0m_render_traceback_\u001B[0m\u001B[0;34m(\u001B[0m\u001B[0;34m)\u001B[0m\u001B[0;34m\u001B[0m\u001B[0;34m\u001B[0m\u001B[0m\n\u001B[0m\u001B[1;32m   2045\u001B[0m                     \u001B[0;32mexcept\u001B[0m \u001B[0mException\u001B[0m\u001B[0;34m:\u001B[0m\u001B[0;34m\u001B[0m\u001B[0;34m\u001B[0m\u001B[0m\n",
      "\u001B[0;31mAttributeError\u001B[0m: 'KeyboardInterrupt' object has no attribute '_render_traceback_'",
      "\nDuring handling of the above exception, another exception occurred:\n",
      "\u001B[0;31mTypeError\u001B[0m                                 Traceback (most recent call last)",
      "    \u001B[0;31m[... skipping hidden 1 frame]\u001B[0m\n",
      "\u001B[0;32m~/anaconda3/envs/AI/lib/python3.6/site-packages/IPython/core/interactiveshell.py\u001B[0m in \u001B[0;36mshowtraceback\u001B[0;34m(self, exc_tuple, filename, tb_offset, exception_only, running_compiled_code)\u001B[0m\n\u001B[1;32m   2045\u001B[0m                     \u001B[0;32mexcept\u001B[0m \u001B[0mException\u001B[0m\u001B[0;34m:\u001B[0m\u001B[0;34m\u001B[0m\u001B[0;34m\u001B[0m\u001B[0m\n\u001B[1;32m   2046\u001B[0m                         stb = self.InteractiveTB.structured_traceback(etype,\n\u001B[0;32m-> 2047\u001B[0;31m                                             value, tb, tb_offset=tb_offset)\n\u001B[0m\u001B[1;32m   2048\u001B[0m \u001B[0;34m\u001B[0m\u001B[0m\n\u001B[1;32m   2049\u001B[0m                     \u001B[0mself\u001B[0m\u001B[0;34m.\u001B[0m\u001B[0m_showtraceback\u001B[0m\u001B[0;34m(\u001B[0m\u001B[0metype\u001B[0m\u001B[0;34m,\u001B[0m \u001B[0mvalue\u001B[0m\u001B[0;34m,\u001B[0m \u001B[0mstb\u001B[0m\u001B[0;34m)\u001B[0m\u001B[0;34m\u001B[0m\u001B[0;34m\u001B[0m\u001B[0m\n",
      "\u001B[0;32m~/anaconda3/envs/AI/lib/python3.6/site-packages/IPython/core/ultratb.py\u001B[0m in \u001B[0;36mstructured_traceback\u001B[0;34m(self, etype, value, tb, tb_offset, number_of_lines_of_context)\u001B[0m\n\u001B[1;32m   1434\u001B[0m             \u001B[0mself\u001B[0m\u001B[0;34m.\u001B[0m\u001B[0mtb\u001B[0m \u001B[0;34m=\u001B[0m \u001B[0mtb\u001B[0m\u001B[0;34m\u001B[0m\u001B[0;34m\u001B[0m\u001B[0m\n\u001B[1;32m   1435\u001B[0m         return FormattedTB.structured_traceback(\n\u001B[0;32m-> 1436\u001B[0;31m             self, etype, value, tb, tb_offset, number_of_lines_of_context)\n\u001B[0m\u001B[1;32m   1437\u001B[0m \u001B[0;34m\u001B[0m\u001B[0m\n\u001B[1;32m   1438\u001B[0m \u001B[0;34m\u001B[0m\u001B[0m\n",
      "\u001B[0;32m~/anaconda3/envs/AI/lib/python3.6/site-packages/IPython/core/ultratb.py\u001B[0m in \u001B[0;36mstructured_traceback\u001B[0;34m(self, etype, value, tb, tb_offset, number_of_lines_of_context)\u001B[0m\n\u001B[1;32m   1334\u001B[0m             \u001B[0;31m# Verbose modes need a full traceback\u001B[0m\u001B[0;34m\u001B[0m\u001B[0;34m\u001B[0m\u001B[0;34m\u001B[0m\u001B[0m\n\u001B[1;32m   1335\u001B[0m             return VerboseTB.structured_traceback(\n\u001B[0;32m-> 1336\u001B[0;31m                 \u001B[0mself\u001B[0m\u001B[0;34m,\u001B[0m \u001B[0metype\u001B[0m\u001B[0;34m,\u001B[0m \u001B[0mvalue\u001B[0m\u001B[0;34m,\u001B[0m \u001B[0mtb\u001B[0m\u001B[0;34m,\u001B[0m \u001B[0mtb_offset\u001B[0m\u001B[0;34m,\u001B[0m \u001B[0mnumber_of_lines_of_context\u001B[0m\u001B[0;34m\u001B[0m\u001B[0;34m\u001B[0m\u001B[0m\n\u001B[0m\u001B[1;32m   1337\u001B[0m             )\n\u001B[1;32m   1338\u001B[0m         \u001B[0;32melif\u001B[0m \u001B[0mmode\u001B[0m \u001B[0;34m==\u001B[0m \u001B[0;34m'Minimal'\u001B[0m\u001B[0;34m:\u001B[0m\u001B[0;34m\u001B[0m\u001B[0;34m\u001B[0m\u001B[0m\n",
      "\u001B[0;32m~/anaconda3/envs/AI/lib/python3.6/site-packages/IPython/core/ultratb.py\u001B[0m in \u001B[0;36mstructured_traceback\u001B[0;34m(self, etype, evalue, etb, tb_offset, number_of_lines_of_context)\u001B[0m\n\u001B[1;32m   1191\u001B[0m \u001B[0;34m\u001B[0m\u001B[0m\n\u001B[1;32m   1192\u001B[0m         formatted_exception = self.format_exception_as_a_whole(etype, evalue, etb, number_of_lines_of_context,\n\u001B[0;32m-> 1193\u001B[0;31m                                                                tb_offset)\n\u001B[0m\u001B[1;32m   1194\u001B[0m \u001B[0;34m\u001B[0m\u001B[0m\n\u001B[1;32m   1195\u001B[0m         \u001B[0mcolors\u001B[0m \u001B[0;34m=\u001B[0m \u001B[0mself\u001B[0m\u001B[0;34m.\u001B[0m\u001B[0mColors\u001B[0m  \u001B[0;31m# just a shorthand + quicker name lookup\u001B[0m\u001B[0;34m\u001B[0m\u001B[0;34m\u001B[0m\u001B[0m\n",
      "\u001B[0;32m~/anaconda3/envs/AI/lib/python3.6/site-packages/IPython/core/ultratb.py\u001B[0m in \u001B[0;36mformat_exception_as_a_whole\u001B[0;34m(self, etype, evalue, etb, number_of_lines_of_context, tb_offset)\u001B[0m\n\u001B[1;32m   1148\u001B[0m \u001B[0;34m\u001B[0m\u001B[0m\n\u001B[1;32m   1149\u001B[0m \u001B[0;34m\u001B[0m\u001B[0m\n\u001B[0;32m-> 1150\u001B[0;31m         \u001B[0mlast_unique\u001B[0m\u001B[0;34m,\u001B[0m \u001B[0mrecursion_repeat\u001B[0m \u001B[0;34m=\u001B[0m \u001B[0mfind_recursion\u001B[0m\u001B[0;34m(\u001B[0m\u001B[0morig_etype\u001B[0m\u001B[0;34m,\u001B[0m \u001B[0mevalue\u001B[0m\u001B[0;34m,\u001B[0m \u001B[0mrecords\u001B[0m\u001B[0;34m)\u001B[0m\u001B[0;34m\u001B[0m\u001B[0;34m\u001B[0m\u001B[0m\n\u001B[0m\u001B[1;32m   1151\u001B[0m \u001B[0;34m\u001B[0m\u001B[0m\n\u001B[1;32m   1152\u001B[0m         \u001B[0mframes\u001B[0m \u001B[0;34m=\u001B[0m \u001B[0mself\u001B[0m\u001B[0;34m.\u001B[0m\u001B[0mformat_records\u001B[0m\u001B[0;34m(\u001B[0m\u001B[0mrecords\u001B[0m\u001B[0;34m,\u001B[0m \u001B[0mlast_unique\u001B[0m\u001B[0;34m,\u001B[0m \u001B[0mrecursion_repeat\u001B[0m\u001B[0;34m)\u001B[0m\u001B[0;34m\u001B[0m\u001B[0;34m\u001B[0m\u001B[0m\n",
      "\u001B[0;32m~/anaconda3/envs/AI/lib/python3.6/site-packages/IPython/core/ultratb.py\u001B[0m in \u001B[0;36mfind_recursion\u001B[0;34m(etype, value, records)\u001B[0m\n\u001B[1;32m    449\u001B[0m     \u001B[0;31m# first frame (from in to out) that looks different.\u001B[0m\u001B[0;34m\u001B[0m\u001B[0;34m\u001B[0m\u001B[0;34m\u001B[0m\u001B[0m\n\u001B[1;32m    450\u001B[0m     \u001B[0;32mif\u001B[0m \u001B[0;32mnot\u001B[0m \u001B[0mis_recursion_error\u001B[0m\u001B[0;34m(\u001B[0m\u001B[0metype\u001B[0m\u001B[0;34m,\u001B[0m \u001B[0mvalue\u001B[0m\u001B[0;34m,\u001B[0m \u001B[0mrecords\u001B[0m\u001B[0;34m)\u001B[0m\u001B[0;34m:\u001B[0m\u001B[0;34m\u001B[0m\u001B[0;34m\u001B[0m\u001B[0m\n\u001B[0;32m--> 451\u001B[0;31m         \u001B[0;32mreturn\u001B[0m \u001B[0mlen\u001B[0m\u001B[0;34m(\u001B[0m\u001B[0mrecords\u001B[0m\u001B[0;34m)\u001B[0m\u001B[0;34m,\u001B[0m \u001B[0;36m0\u001B[0m\u001B[0;34m\u001B[0m\u001B[0;34m\u001B[0m\u001B[0m\n\u001B[0m\u001B[1;32m    452\u001B[0m \u001B[0;34m\u001B[0m\u001B[0m\n\u001B[1;32m    453\u001B[0m     \u001B[0;31m# Select filename, lineno, func_name to track frames with\u001B[0m\u001B[0;34m\u001B[0m\u001B[0;34m\u001B[0m\u001B[0;34m\u001B[0m\u001B[0m\n",
      "\u001B[0;31mTypeError\u001B[0m: object of type 'NoneType' has no len()"
     ]
    }
   ],
   "source": [
    "import numpy as np \n",
    "import pandas as pd \n",
    "import os\n",
    "import urllib\n",
    "import matplotlib.pyplot as plt\n",
    "import cv2                                 # opencv-python installed with 'pip'\n",
    "import matplotlib.patches as patches\n",
    "import tensorflow as tf                    # TensorFlow installed with 'pip'\n",
    "import keras\n",
    "from keras.layers import Flatten, Dense, Conv2D, MaxPooling2D, Dropout\n",
    "from keras.models import Sequential        # keras is only compatible with python 3.6 or lower\n",
    "import sklearn\n",
    "from sklearn.preprocessing import LabelEncoder\n",
    "from mtcnn.mtcnn import MTCNN"
   ]
  },
  {
   "cell_type": "code",
   "execution_count": null,
   "metadata": {
    "ExecuteTime": {
     "end_time": "2020-10-30T21:09:45.971733Z",
     "start_time": "2020-10-30T21:09:45.969532Z"
    }
   },
   "outputs": [],
   "source": [
    "# pip install mtcnn"
   ]
  },
  {
   "cell_type": "code",
   "execution_count": null,
   "metadata": {
    "ExecuteTime": {
     "end_time": "2020-10-30T21:09:45.976532Z",
     "start_time": "2020-10-30T21:09:45.973862Z"
    }
   },
   "outputs": [],
   "source": [
    "# from mtcnn.mtcnn import MTCNN"
   ]
  },
  {
   "cell_type": "markdown",
   "metadata": {},
   "source": [
    "# Loading datasets\n",
    "\n",
    "+ [Correctly Masked Faces](https://esigelec-my.sharepoint.com/:f:/g/personal/cabani_esigelec_fr/Ev3GdnQSyzxPjyzU5ElHqagBlkRCaKnnCI85iX-d1L4OHA?e=G7uaYV)\n",
    "\n",
    "+ [Incorrectly Masked Faces](https://esigelec-my.sharepoint.com/:f:/g/personal/cabani_esigelec_fr/EirjS8ew7-5LnO8I56Uk63wBKebwSlukFBFBaO8N25wn3g?e=Ho1jHG)\n",
    "\n",
    "+ [Face Mask Detection Dataset (Kaggle)](https://www.kaggle.com/wobotintelligence/face-mask-detection-dataset)"
   ]
  },
  {
   "cell_type": "code",
   "execution_count": null,
   "metadata": {
    "ExecuteTime": {
     "end_time": "2020-10-30T21:09:46.047588Z",
     "start_time": "2020-10-30T21:09:45.978445Z"
    },
    "_cell_guid": "79c7e3d0-c299-4dcb-8224-4455121ee9b0",
    "_uuid": "d629ff2d2480ee46fbb7e2d37f6b5fab8052498a"
   },
   "outputs": [],
   "source": [
    "# images=os.path.join(\"/kaggle/input/face-mask-detection-dataset/Medical mask/Medical mask/Medical Mask/images\")\n",
    "# annotations=os.path.join(\"/kaggle/input/face-mask-detection-dataset/Medical mask/Medical mask/Medical Mask/annotations\")\n",
    "# train=pd.read_csv(os.path.join(\"/kaggle/input/face-mask-detection-dataset/train.csv\"))\n",
    "# submission=pd.read_csv(os.path.join(\"/kaggle/input/face-mask-detection-dataset/submission.csv\"))\n",
    "notebook_dir = !pwd\n",
    "notebook_dir = notebook_dir[0]\n",
    "root_dir = os.path.abspath(os.path.join(notebook_dir, os.pardir))\n",
    "data_dir = os.path.join(root_dir, 'data')\n",
    "images_dir = os.path.join(data_dir, 'images')\n",
    "annotations_dir = os.path.join(data_dir, 'annotations')\n",
    "\n",
    "\n",
    "train = pd.read_csv(os.path.join(data_dir, 'train.csv'))\n",
    "submission = pd.read_csv(os.path.join(data_dir, 'submission.csv'))"
   ]
  },
  {
   "cell_type": "code",
   "execution_count": null,
   "metadata": {
    "ExecuteTime": {
     "end_time": "2020-10-30T21:09:46.062015Z",
     "start_time": "2020-10-30T21:09:46.049594Z"
    }
   },
   "outputs": [],
   "source": [
    "print(len(train))\n",
    "train"
   ]
  },
  {
   "cell_type": "code",
   "execution_count": null,
   "metadata": {
    "ExecuteTime": {
     "end_time": "2020-10-30T21:09:46.073351Z",
     "start_time": "2020-10-30T21:09:46.064538Z"
    }
   },
   "outputs": [],
   "source": [
    "print(len(submission))\n",
    "submission.head()"
   ]
  },
  {
   "cell_type": "code",
   "execution_count": null,
   "metadata": {
    "ExecuteTime": {
     "end_time": "2020-10-30T21:09:46.086773Z",
     "start_time": "2020-10-30T21:09:46.075317Z"
    }
   },
   "outputs": [],
   "source": [
    "NUM_IMAGES = len(os.listdir(images_dir))"
   ]
  },
  {
   "cell_type": "markdown",
   "metadata": {},
   "source": [
    "## We have 6024 images.  There's an extra file in the directory we'll ignore"
   ]
  },
  {
   "cell_type": "code",
   "execution_count": null,
   "metadata": {
    "ExecuteTime": {
     "end_time": "2020-10-30T21:09:46.108028Z",
     "start_time": "2020-10-30T21:09:46.088389Z"
    }
   },
   "outputs": [],
   "source": [
    "image_formats = ['jpg', 'jpeg', 'png']\n",
    "a = os.listdir(images_dir)\n",
    "a = [img for img in a if img.split(\".\")[-1] in image_formats]\n",
    "b = os.listdir(annotations_dir)\n",
    "a.sort()\n",
    "b.sort()"
   ]
  },
  {
   "cell_type": "code",
   "execution_count": null,
   "metadata": {
    "ExecuteTime": {
     "end_time": "2020-10-30T21:09:46.111613Z",
     "start_time": "2020-10-30T21:09:46.109256Z"
    }
   },
   "outputs": [],
   "source": [
    "print(len(b),len(a))"
   ]
  },
  {
   "cell_type": "markdown",
   "metadata": {},
   "source": [
    "## The Original Source Used a Supervised Learning Model"
   ]
  },
  {
   "cell_type": "code",
   "execution_count": null,
   "metadata": {
    "ExecuteTime": {
     "end_time": "2020-10-30T21:09:46.115353Z",
     "start_time": "2020-10-30T21:09:46.113167Z"
    },
    "pycharm": {
     "name": "#%%\n"
    }
   },
   "outputs": [],
   "source": [
    "train_images=a[1698:]\n",
    "test_images=a[:1698]\n"
   ]
  },
  {
   "cell_type": "markdown",
   "metadata": {
    "pycharm": {
     "name": "#%% md\n"
    }
   },
   "source": [
    "Just to prove there's at least one image"
   ]
  },
  {
   "cell_type": "code",
   "execution_count": null,
   "metadata": {
    "ExecuteTime": {
     "end_time": "2020-10-30T21:09:46.444035Z",
     "start_time": "2020-10-30T21:09:46.116668Z"
    },
    "pycharm": {
     "name": "#%%\n"
    }
   },
   "outputs": [],
   "source": [
    "img=plt.imread(os.path.join(images_dir, test_images[0]))\n",
    "plt.imshow(img)\n",
    "plt.show()"
   ]
  },
  {
   "cell_type": "code",
   "execution_count": null,
   "metadata": {
    "ExecuteTime": {
     "end_time": "2020-10-30T21:09:46.676270Z",
     "start_time": "2020-10-30T21:09:46.446233Z"
    }
   },
   "outputs": [],
   "source": [
    "img=plt.imread(os.path.join(images_dir, train_images[1]))\n",
    "plt.imshow(img)\n",
    "plt.show()"
   ]
  },
  {
   "cell_type": "code",
   "execution_count": null,
   "metadata": {
    "ExecuteTime": {
     "end_time": "2020-10-30T21:09:46.688744Z",
     "start_time": "2020-10-30T21:09:46.677810Z"
    }
   },
   "outputs": [],
   "source": [
    "options=['face_with_mask','face_no_mask']\n",
    "train= train[train['classname'].isin(options)]\n",
    "train.sort_values('name',axis=0,inplace=True)"
   ]
  },
  {
   "cell_type": "code",
   "execution_count": null,
   "metadata": {
    "ExecuteTime": {
     "end_time": "2020-10-30T21:09:50.526108Z",
     "start_time": "2020-10-30T21:09:46.692664Z"
    }
   },
   "outputs": [],
   "source": [
    "bbox=[]\n",
    "for i in range(len(train)):\n",
    "    arr=[]\n",
    "    for j in train.iloc[i][[\"x1\",'x2','y1','y2']]:\n",
    "        arr.append(j)\n",
    "    bbox.append(arr)\n",
    "train[\"bbox\"]=bbox  \n",
    "\n",
    "def get_boxes(id):\n",
    "    boxes=[]\n",
    "    for i in train[train[\"name\"]==str(id)][\"bbox\"]:\n",
    "        boxes.append(i)\n",
    "    return boxes\n",
    "\n",
    "print(get_boxes(train_images[3]))\n",
    "image=train_images[3]\n",
    "\n",
    "img=plt.imread(os.path.join(images_dir,image))\n",
    "\n",
    "fig,ax = plt.subplots(1)\n",
    "ax.imshow(img)\n",
    "boxes=get_boxes(image)\n",
    "for box in boxes:\n",
    "    rect = patches.Rectangle((box[0],box[1]),box[2]-box[0],box[3]-box[1],linewidth=2,edgecolor='r',facecolor='none')\n",
    "    ax.add_patch(rect)\n",
    "plt.show()"
   ]
  },
  {
   "cell_type": "code",
   "execution_count": null,
   "metadata": {
    "ExecuteTime": {
     "end_time": "2020-10-30T21:09:50.736384Z",
     "start_time": "2020-10-30T21:09:50.528995Z"
    }
   },
   "outputs": [],
   "source": [
    "image=train_images[5]\n",
    "\n",
    "img=plt.imread(os.path.join(images_dir,image))\n",
    "\n",
    "fig,ax = plt.subplots(1)\n",
    "ax.imshow(img)\n",
    "boxes=get_boxes(image)\n",
    "for box in boxes:\n",
    "    rect = patches.Rectangle((box[0],box[1]),box[2]-box[0],box[3]-box[1],linewidth=2,edgecolor='r',facecolor='none')\n",
    "    ax.add_patch(rect)\n",
    "plt.show()"
   ]
  },
  {
   "cell_type": "code",
   "execution_count": null,
   "metadata": {
    "ExecuteTime": {
     "end_time": "2020-10-30T21:09:50.854629Z",
     "start_time": "2020-10-30T21:09:50.738069Z"
    }
   },
   "outputs": [],
   "source": [
    "plt.bar(['face_with_mask','face_no_mask'],train.classname.value_counts())"
   ]
  },
  {
   "cell_type": "markdown",
   "metadata": {
    "pycharm": {
     "name": "#%% md\n"
    }
   },
   "source": [
    "# Creating training data"
   ]
  },
  {
   "cell_type": "code",
   "execution_count": null,
   "metadata": {
    "ExecuteTime": {
     "end_time": "2020-10-30T21:10:46.991623Z",
     "start_time": "2020-10-30T21:09:50.856773Z"
    },
    "pycharm": {
     "name": "#%%\n"
    }
   },
   "outputs": [],
   "source": [
    "img_size=50\n",
    "data=[]\n",
    "path='../data/images/'\n",
    "def create_data():\n",
    "    for i in range(len(train)):\n",
    "        arr=[]\n",
    "        for j in train.iloc[i]:\n",
    "               arr.append(j)\n",
    "        img_array = cv2.imread(os.path.join(images_dir, arr[0]), cv2.IMREAD_GRAYSCALE)\n",
    "        crop_image = img_array[arr[2]:arr[4], arr[1]:arr[3]]\n",
    "        new_img_array=cv2.resize(crop_image, (img_size, img_size))\n",
    "        data.append([new_img_array, arr[5]])\n",
    "        \n",
    "        pct = i/len(train) * 100\n",
    "        if pct % 5 == 0:\n",
    "            print(\"Creating Training Data -- {}%\".format(pct))\n",
    "            \n",
    "create_data()\n",
    "\n",
    "len(train)"
   ]
  },
  {
   "cell_type": "code",
   "execution_count": null,
   "metadata": {
    "ExecuteTime": {
     "end_time": "2020-10-30T21:10:47.181036Z",
     "start_time": "2020-10-30T21:10:46.993282Z"
    }
   },
   "outputs": [],
   "source": [
    "data[0][0]\n",
    "plt.imshow(data[0][0])"
   ]
  },
  {
   "cell_type": "code",
   "execution_count": null,
   "metadata": {
    "ExecuteTime": {
     "end_time": "2020-10-30T21:10:47.192389Z",
     "start_time": "2020-10-30T21:10:47.184716Z"
    }
   },
   "outputs": [],
   "source": [
    "len(data)"
   ]
  },
  {
   "cell_type": "code",
   "execution_count": null,
   "metadata": {
    "ExecuteTime": {
     "end_time": "2020-10-30T21:10:47.211970Z",
     "start_time": "2020-10-30T21:10:47.194615Z"
    }
   },
   "outputs": [],
   "source": [
    "x=[]\n",
    "y=[]\n",
    "for features, labels in data:\n",
    "    x.append(features)\n",
    "    y.append(labels)\n",
    "\n",
    "# print(y)\n",
    "lbl=LabelEncoder()\n",
    "y=lbl.fit_transform(y)\n",
    "y.shape"
   ]
  },
  {
   "cell_type": "code",
   "execution_count": null,
   "metadata": {
    "ExecuteTime": {
     "end_time": "2020-10-30T21:10:47.467623Z",
     "start_time": "2020-10-30T21:10:47.214513Z"
    }
   },
   "outputs": [],
   "source": [
    "x=np.array(x).reshape(-1,50,50,1)\n",
    "x=tf.keras.utils.normalize(x,axis=1)\n",
    "from keras.utils import to_categorical\n",
    "y = to_categorical(y)\n",
    "y"
   ]
  },
  {
   "cell_type": "markdown",
   "metadata": {
    "pycharm": {
     "name": "#%% md\n"
    }
   },
   "source": [
    "# Model Fitting"
   ]
  },
  {
   "cell_type": "code",
   "execution_count": null,
   "metadata": {
    "ExecuteTime": {
     "end_time": "2020-10-30T21:10:47.878406Z",
     "start_time": "2020-10-30T21:10:47.469886Z"
    },
    "pycharm": {
     "name": "#%%\n"
    }
   },
   "outputs": [],
   "source": [
    "from keras.layers import LSTM\n",
    "model=Sequential()\n",
    "model.add(Conv2D(100,(3,3), input_shape=x.shape[1:], activation='relu', strides=2))\n",
    "model.add(MaxPooling2D(pool_size=(2,2)))\n",
    "model.add(Conv2D(64,(3,3), activation='relu'))\n",
    "model.add(MaxPooling2D(pool_size=(2,2)))\n",
    "model.add(Flatten())\n",
    "model.add(Dense(50, activation='relu'))\n",
    "model.add(Dropout(0.2))\n",
    "\n",
    "model.add(Dense(2, activation='softmax'))\n"
   ]
  },
  {
   "cell_type": "code",
   "execution_count": null,
   "metadata": {
    "ExecuteTime": {
     "end_time": "2020-10-30T21:10:49.699692Z",
     "start_time": "2020-10-30T21:10:47.880574Z"
    }
   },
   "outputs": [],
   "source": [
    "# if no previously compiled model, then compile a new one\n",
    "\n",
    "# does a previously compiled model exist?\n",
    "if os.path.exists(\"../models/example_model\"):\n",
    "    model = keras.models.load_model(\"../models/example_model\")\n",
    "else:\n",
    "    #  WARNING: THIS TAKES TIME -- USE THE COMPILED MODEL IF POSSIBLE\n",
    "    opt = keras.optimizers.Adam(learning_rate=1e-3, epsilon=1e-5)\n",
    "    model.compile(optimizer=opt, loss='categorical_crossentropy', metrics=['accuracy'])\n",
    "    model.fit(x, y, epochs=30, batch_size=5)\n",
    "    model.save(\"../models/example_model\")"
   ]
  },
  {
   "cell_type": "code",
   "execution_count": null,
   "metadata": {
    "ExecuteTime": {
     "end_time": "2020-10-30T21:10:49.708471Z",
     "start_time": "2020-10-30T21:10:49.701587Z"
    }
   },
   "outputs": [],
   "source": [
    "def get_face_bounds(img):\n",
    "    detector = MTCNN()\n",
    "    image = plt.imread(os.path.join(images_dir, img))\n",
    "    faces = detector.detect_faces(image)\n",
    "    print(faces)\n",
    "    bounds = []\n",
    "    for (x, y, w, h) in [face['box'] for  face in faces]:\n",
    "        bounding_box = cv2.rectangle(image, (x, y), (x+w, y+h), (0, 255, 0), 5)\n",
    "        plt.imshow(bounding_box)\n",
    "        bounds.append(bounding_box)\n",
    "\n",
    "    return bounds"
   ]
  },
  {
   "cell_type": "code",
   "execution_count": null,
   "metadata": {
    "ExecuteTime": {
     "end_time": "2020-10-30T21:10:52.641527Z",
     "start_time": "2020-10-30T21:10:49.710232Z"
    },
    "pycharm": {
     "name": "#%%\n"
    }
   },
   "outputs": [],
   "source": [
    "image = test_images[0]\n",
    "bounding_boxes =  get_face_bounds(image)"
   ]
  },
  {
   "cell_type": "code",
   "execution_count": null,
   "metadata": {
    "ExecuteTime": {
     "end_time": "2020-10-30T21:10:55.055712Z",
     "start_time": "2020-10-30T21:10:52.643484Z"
    }
   },
   "outputs": [],
   "source": [
    "image = test_images[60]\n",
    "bounding_boxes += get_face_bounds(image)"
   ]
  },
  {
   "cell_type": "code",
   "execution_count": null,
   "metadata": {
    "ExecuteTime": {
     "end_time": "2020-10-30T21:10:57.810221Z",
     "start_time": "2020-10-30T21:10:55.057803Z"
    }
   },
   "outputs": [],
   "source": [
    "image = test_images[3]\n",
    "bounding_boxes += get_face_bounds(image)"
   ]
  },
  {
   "cell_type": "code",
   "execution_count": null,
   "metadata": {
    "ExecuteTime": {
     "start_time": "2020-10-30T21:09:46.023Z"
    }
   },
   "outputs": [],
   "source": [
    "detector=MTCNN()\n",
    "test_df=[]\n",
    "for image in test_images:\n",
    "    img=plt.imread(os.path.join(images_dir, image))\n",
    "    faces=detector.detect_faces(img)\n",
    "    \n",
    "    test=[]\n",
    "    for face in faces:\n",
    "        bounding_box=face['box']\n",
    "        test.append([image,bounding_box])\n",
    "    test_df.append(test)\n",
    "    \n",
    "test=[]\n",
    "for i in test_df:\n",
    "    if len(i)>0:\n",
    "        if len(i)==1:\n",
    "            test.append(i[0])\n",
    "        else:\n",
    "            for j in i:\n",
    "                test.append(j)"
   ]
  },
  {
   "cell_type": "code",
   "execution_count": null,
   "metadata": {
    "ExecuteTime": {
     "start_time": "2020-10-30T21:09:46.025Z"
    },
    "pycharm": {
     "name": "#%%\n"
    }
   },
   "outputs": [],
   "source": [
    "sub = []\n",
    "rest_image = []\n",
    "for i in test:\n",
    "    sub.append(i[0])\n",
    "for image in test_images:\n",
    "    if image not in sub:\n",
    "        rest_image.append(image) \n",
    "\n",
    "\n",
    "detector=MTCNN()\n",
    "test_df_ = []\n",
    "for image in rest_image:\n",
    "    img = cv2.imread(os.path.join(images_dir,image))\n",
    "    faces = detector.detect_faces(img)\n",
    "    test_ = []\n",
    "    for face in faces:\n",
    "        bounding_box = face['box']\n",
    "        test_.append([image, bounding_box])\n",
    "    test_df_.append(test_) \n",
    "for i in test_df_:\n",
    "    if len(i) > 0:\n",
    "        if len(i) == 1:\n",
    "            test.append(i[0])\n",
    "        else:\n",
    "            for j in i:\n",
    "                test.append(j)      "
   ]
  },
  {
   "cell_type": "code",
   "execution_count": null,
   "metadata": {
    "ExecuteTime": {
     "start_time": "2020-10-30T21:09:46.026Z"
    },
    "pycharm": {
     "name": "#%%\n"
    }
   },
   "outputs": [],
   "source": [
    "sub = []\n",
    "rest_image = []\n",
    "for i in test:\n",
    "    sub.append(i[0])\n",
    "for image in test_images:\n",
    "    if image not in sub:\n",
    "        rest_image.append(image) \n",
    "\n",
    "\n",
    "detector=MTCNN()\n",
    "test_df_ = []\n",
    "for image in rest_image:\n",
    "    img = cv2.imread(os.path.join(images_dir,image))\n",
    "    faces = detector.detect_faces(img)\n",
    "    test_ = []\n",
    "    for face in faces:\n",
    "        bounding_box = face['box']\n",
    "        test_.append([image, bounding_box])\n",
    "    test_df_.append(test_) \n",
    "for i in test_df_:\n",
    "    if len(i) > 0:\n",
    "        if len(i) == 1:\n",
    "            test.append(i[0])\n",
    "        else:\n",
    "            for j in i:\n",
    "                test.append(j)      "
   ]
  },
  {
   "cell_type": "code",
   "execution_count": null,
   "metadata": {
    "ExecuteTime": {
     "start_time": "2020-10-30T21:09:46.027Z"
    }
   },
   "outputs": [],
   "source": [
    "sub = []\n",
    "rest_image = []\n",
    "for i in test:\n",
    "    sub.append(i[0])\n",
    "for image in test_images:\n",
    "    if image not in sub:\n",
    "        rest_image.append(image) \n",
    "\n",
    "\n",
    "detector=MTCNN()\n",
    "test_df_ = []\n",
    "for image in rest_image:\n",
    "    img = cv2.imread(os.path.join(images_dir,image))\n",
    "    faces = detector.detect_faces(img)\n",
    "    test_ = []\n",
    "    for face in faces:\n",
    "        bounding_box = face['box']\n",
    "        test_.append([image, bounding_box])\n",
    "    test_df_.append(test_) \n",
    "for i in test_df_:\n",
    "    if len(i) > 0:\n",
    "        if len(i) == 1:\n",
    "            test.append(i[0])\n",
    "        else:\n",
    "            for j in i:\n",
    "                test.append(j)      "
   ]
  },
  {
   "cell_type": "code",
   "execution_count": null,
   "metadata": {
    "ExecuteTime": {
     "start_time": "2020-10-30T21:09:46.028Z"
    },
    "pycharm": {
     "name": "#%%\n"
    }
   },
   "outputs": [],
   "source": [
    "sub = []\n",
    "rest_image = []\n",
    "for i in test:\n",
    "    sub.append(i[0])\n",
    "for image in test_images:\n",
    "    if image not in sub:\n",
    "        rest_image.append(image) \n",
    "\n",
    "\n",
    "detector=MTCNN()\n",
    "test_df_ = []\n",
    "for image in rest_image:\n",
    "    img = cv2.imread(os.path.join(images_dir,image))\n",
    "    faces = detector.detect_faces(img)\n",
    "    test_ = []\n",
    "    for face in faces:\n",
    "        bounding_box = face['box']\n",
    "        test_.append([image, bounding_box])\n",
    "    test_df_.append(test_) \n",
    "for i in test_df_:\n",
    "    if len(i) > 0:\n",
    "        if len(i) == 1:\n",
    "            test.append(i[0])\n",
    "        else:\n",
    "            for j in i:\n",
    "                test.append(j)      "
   ]
  },
  {
   "cell_type": "code",
   "execution_count": null,
   "metadata": {
    "ExecuteTime": {
     "start_time": "2020-10-30T21:09:46.030Z"
    }
   },
   "outputs": [],
   "source": [
    "negative = []\n",
    "for i in test:\n",
    "    for j in i[1]:\n",
    "        if j < 0:\n",
    "            negative.append(i)\n",
    "    "
   ]
  },
  {
   "cell_type": "code",
   "execution_count": null,
   "metadata": {
    "ExecuteTime": {
     "start_time": "2020-10-30T21:09:46.032Z"
    }
   },
   "outputs": [],
   "source": [
    "test_data=[]\n",
    "def create_test_data():\n",
    "            for j in test:\n",
    "                if j not in negative:\n",
    "                    img = cv2.imread(os.path.join(images_dir, j[0]), cv2.IMREAD_GRAYSCALE)\n",
    "                    img = img[j[1][1]:j[1][1]+j[1][3],j[1][0]:j[1][0]+j[1][2]]\n",
    "                    new_img = cv2.resize(img,(50,50))\n",
    "                    new_img = new_img.reshape(-1,50,50,1)\n",
    "                    predict = model.predict(new_img)\n",
    "                    test_data.append([j, predict])\n",
    "\n",
    "create_test_data()      "
   ]
  },
  {
   "cell_type": "code",
   "execution_count": null,
   "metadata": {
    "ExecuteTime": {
     "start_time": "2020-10-30T21:09:46.033Z"
    },
    "pycharm": {
     "name": "#%%\n"
    }
   },
   "outputs": [],
   "source": [
    "image = []\n",
    "classname = []\n",
    "for i, j in test_data:\n",
    "    classname.append(np.argmax(j))\n",
    "    image.append(i)\n",
    "df=pd.DataFrame(columns=['image', 'classname'])\n",
    "df['image'] = image\n",
    "df['classname'] = classname\n",
    "df['classname'] = lbl.inverse_transform(df['classname'])\n",
    "image = []\n",
    "x1 = []\n",
    "x2 = []\n",
    "y1 = []\n",
    "y2 = []\n",
    "for i in df['image']:\n",
    "    image.append(i[0])\n",
    "    x1.append(i[1][0])\n",
    "    x2.append(i[1][1])\n",
    "    y1.append(i[1][2])\n",
    "    y2.append(i[1][3])\n",
    "df['name'] = image\n",
    "df['x1'] = x1\n",
    "df['x2'] = x2\n",
    "df['y1'] = y1\n",
    "df['y2'] = y2    \n",
    "df.drop(['image'],axis=1,inplace=True)"
   ]
  },
  {
   "cell_type": "code",
   "execution_count": null,
   "metadata": {
    "ExecuteTime": {
     "start_time": "2020-10-30T21:09:46.035Z"
    },
    "pycharm": {
     "name": "#%%\n"
    }
   },
   "outputs": [],
   "source": [
    "df.sort_values('name', axis=0, inplace=True, ascending=False)\n",
    "# df.to_csv('submission_1.csv')\n",
    "df"
   ]
  },
  {
   "cell_type": "code",
   "execution_count": null,
   "metadata": {
    "pycharm": {
     "name": "#%%\n"
    }
   },
   "outputs": [],
   "source": []
  },
  {
   "cell_type": "code",
   "execution_count": null,
   "metadata": {},
   "outputs": [],
   "source": []
  },
  {
   "cell_type": "code",
   "execution_count": null,
   "metadata": {
    "ExecuteTime": {
     "start_time": "2020-10-30T21:09:46.040Z"
    }
   },
   "outputs": [],
   "source": [
    "df.sort_values('name', axis=0, inplace=True, ascending=False)\n",
    "# df.to_csv('submission_1.csv')\n",
    "df"
   ]
  },
  {
   "cell_type": "code",
   "execution_count": null,
   "metadata": {},
   "outputs": [],
   "source": []
  },
  {
   "cell_type": "code",
   "execution_count": null,
   "metadata": {},
   "outputs": [],
   "source": []
  }
 ],
 "metadata": {
  "kernelspec": {
   "display_name": "Python 3",
   "language": "python",
   "name": "python3"
  },
  "language_info": {
   "codemirror_mode": {
    "name": "ipython",
    "version": 3
   },
   "file_extension": ".py",
   "mimetype": "text/x-python",
   "name": "python",
   "nbconvert_exporter": "python",
   "pygments_lexer": "ipython3",
   "version": "3.6.10"
  },
  "latex_envs": {
   "LaTeX_envs_menu_present": true,
   "autoclose": false,
   "autocomplete": true,
   "bibliofile": "biblio.bib",
   "cite_by": "apalike",
   "current_citInitial": 1,
   "eqLabelWithNumbers": true,
   "eqNumInitial": 1,
   "hotkeys": {
    "equation": "Ctrl-E",
    "itemize": "Ctrl-I"
   },
   "labels_anchors": false,
   "latex_user_defs": false,
   "report_style_numbering": false,
   "user_envs_cfg": false
  },
  "varInspector": {
   "cols": {
    "lenName": 16,
    "lenType": 16,
    "lenVar": 40
   },
   "kernels_config": {
    "python": {
     "delete_cmd_postfix": "",
     "delete_cmd_prefix": "del ",
     "library": "var_list.py",
     "varRefreshCmd": "print(var_dic_list())"
    },
    "r": {
     "delete_cmd_postfix": ") ",
     "delete_cmd_prefix": "rm(",
     "library": "var_list.r",
     "varRefreshCmd": "cat(var_dic_list()) "
    }
   },
   "types_to_exclude": [
    "module",
    "function",
    "builtin_function_or_method",
    "instance",
    "_Feature"
   ],
   "window_display": false
  }
 },
 "nbformat": 4,
 "nbformat_minor": 4
}