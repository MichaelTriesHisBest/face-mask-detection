{
 "cells": [
  {
   "cell_type": "markdown",
   "metadata": {},
   "source": [
    "# Detecting Face Masks in Images (Keras)\n",
    "\n",
    "#### Basic steps:\n",
    "1. Given images, detect facial regions and features (find faces)\n",
    "2. Create train/test data with facial regions as inputs\n",
    "3. Using supervised model with training images, predict whether there is a mask in the facial region\n",
    "\n",
    "#### Environment Setup\n",
    "\n",
    "1. Use/create a new [Anaconda](https://www.anaconda.com/products/individual) environment with Python 3.6 (not 3.7 or 3.8), keras, and tensorflow:\n",
    "``` sh\n",
    "$ conda create -n <your_env_name> python=3.6 anaconda tensorflow keras\n",
    "```\n",
    "2. Install dependencies:\n",
    "``` sh\n",
    "$ conda install -c anaconda xlrd xlwt scikit-learn seaborn\n",
    "$ conda install mtcnn ipyparallel\n",
    "$ pip install python-opencv\n",
    "```"
   ]
  },
  {
   "cell_type": "code",
   "execution_count": 66,
   "metadata": {
    "ExecuteTime": {
     "end_time": "2020-11-10T03:20:55.003044Z",
     "start_time": "2020-11-10T03:20:54.983267Z"
    },
    "pycharm": {
     "name": "#%%\n"
    }
   },
   "outputs": [],
   "source": [
    "# i hate this, but the notebook won't recognize our custom modules w/o it\n",
    "import sys\n",
    "sys.path.append(\"..\")\n",
    "import lib\n",
    "from lib import utils\n",
    "\n",
    "import numpy as np\n",
    "import pandas as pd\n",
    "import os\n",
    "import urllib\n",
    "import matplotlib.pyplot as plt\n",
    "import cv2\n",
    "import matplotlib.patches as patches\n",
    "import tensorflow as tf\n",
    "import keras\n",
    "from keras.utils import to_categorical\n",
    "from keras.layers import Flatten, Dense, Conv2D, MaxPooling2D, Dropout\n",
    "from keras.models import Sequential        # keras is only compatible with python 3.6 or lower\n",
    "import sklearn\n",
    "from sklearn.preprocessing import LabelEncoder\n",
    "from mtcnn.mtcnn import MTCNN\n",
    "import seaborn as sns\n",
    "%matplotlib inline\n",
    "sns.set_style(\"darkgrid\")\n"
   ]
  },
  {
   "cell_type": "markdown",
   "metadata": {
    "pycharm": {
     "name": "#%% md\n"
    }
   },
   "source": [
    "## Grab/Process Image Data\n",
    "\n",
    "1. For our purposes as of the time of writing this, there should be a prepared dataframe for images not in our training set located in the data directory: `data/img_data/unclassified.csv`\n",
    "  + The prepared data frame is made up of rows containing the image filename, the coordinates of one face's bounding box, and an empty column 'classname' where the classification results would otherwise be.\n",
    "2. Currently, we're using the training set from Kaggle's medical masks dataset.\n",
    "  + This data is similarly prepared already, but it has it's classname column filled (mask/no mask/colorful mask)\n",
    "  + Ideally, we could get some additional images for the training set containing masks that are not strictly 'medical' looking (anything that effectively covers the nose and mouth: bandanas, etc)\n"
   ]
  },
  {
   "cell_type": "code",
   "execution_count": 67,
   "metadata": {
    "ExecuteTime": {
     "end_time": "2020-11-10T03:20:55.046307Z",
     "start_time": "2020-11-10T03:20:55.007024Z"
    },
    "pycharm": {
     "name": "#%%\n"
    }
   },
   "outputs": [
    {
     "data": {
      "text/plain": [
       "'jpg'"
      ]
     },
     "execution_count": 67,
     "metadata": {},
     "output_type": "execute_result"
    }
   ],
   "source": [
    "# GITHUB IMAGE LOCATIONS/HELPERS (maybe we can save some local space)\n",
    "IMAGES_DIR_GIT = \"https://github.com/brtonnies/face-mask-detection/blob/main/data/images\"\n",
    "CMFD_DIR_GIT = \"https://github.com/brtonnies/face-mask-detection/blob/main/data/images/CMFD/images\"\n",
    "IMFD_DIR_GIT = \"https://github.com/brtonnies/face-mask-detection/blob/main/data/images/IMFD/images\"\n",
    "\n",
    "# define directory paths for easier navigation\n",
    "NOTEBOOK_DIR = !pwd\n",
    "NOTEBOOK_DIR = NOTEBOOK_DIR[0]\n",
    "ROOT_DIR = os.path.abspath(os.path.join(NOTEBOOK_DIR, os.pardir))\n",
    "DATA_DIR = os.path.join(ROOT_DIR, 'data')\n",
    "IMAGES_DIR = os.path.join(DATA_DIR, 'images')\n",
    "ANNOTATIONS_DIR = os.path.join(DATA_DIR, 'annotations')\n",
    "SUB_IMAGES_DIR = os.path.join(IMAGES_DIR, 'sub')\n",
    "\n",
    "'0001.jpg'.split(\".\")[-1]"
   ]
  },
  {
   "cell_type": "code",
   "execution_count": 68,
   "metadata": {
    "ExecuteTime": {
     "end_time": "2020-11-10T03:20:55.052760Z",
     "start_time": "2020-11-10T03:20:55.049930Z"
    }
   },
   "outputs": [],
   "source": [
    "#https://github.com/brtonnies/face-mask-detection/blob/main/data/images/0001.jpg?raw=true\n",
    "# name = '0001.jpg'\n",
    "# options = {\n",
    "#     'lib': 'plt',\n",
    "#     'format': name.split(\".\")[-1]\n",
    "# }\n",
    "\n",
    "# img = utils.get_kaggle_img(name, options)\n",
    "\n",
    "\n",
    "# plt.imshow(img)\n",
    "# plt.show()\n",
    "# options"
   ]
  },
  {
   "cell_type": "code",
   "execution_count": 69,
   "metadata": {
    "ExecuteTime": {
     "end_time": "2020-11-10T03:20:55.115207Z",
     "start_time": "2020-11-10T03:20:55.055750Z"
    }
   },
   "outputs": [
    {
     "data": {
      "text/html": [
       "<div>\n",
       "<style scoped>\n",
       "    .dataframe tbody tr th:only-of-type {\n",
       "        vertical-align: middle;\n",
       "    }\n",
       "\n",
       "    .dataframe tbody tr th {\n",
       "        vertical-align: top;\n",
       "    }\n",
       "\n",
       "    .dataframe thead th {\n",
       "        text-align: right;\n",
       "    }\n",
       "</style>\n",
       "<table border=\"1\" class=\"dataframe\">\n",
       "  <thead>\n",
       "    <tr style=\"text-align: right;\">\n",
       "      <th></th>\n",
       "      <th>name</th>\n",
       "      <th>x</th>\n",
       "      <th>y</th>\n",
       "      <th>w</th>\n",
       "      <th>h</th>\n",
       "      <th>classname</th>\n",
       "    </tr>\n",
       "  </thead>\n",
       "  <tbody>\n",
       "    <tr>\n",
       "      <th>13381</th>\n",
       "      <td>1801.jpg</td>\n",
       "      <td>451</td>\n",
       "      <td>186</td>\n",
       "      <td>895</td>\n",
       "      <td>697</td>\n",
       "      <td>face_no_mask</td>\n",
       "    </tr>\n",
       "    <tr>\n",
       "      <th>3464</th>\n",
       "      <td>1802.jpg</td>\n",
       "      <td>160</td>\n",
       "      <td>151</td>\n",
       "      <td>268</td>\n",
       "      <td>265</td>\n",
       "      <td>mask_surgical</td>\n",
       "    </tr>\n",
       "    <tr>\n",
       "      <th>3463</th>\n",
       "      <td>1802.jpg</td>\n",
       "      <td>110</td>\n",
       "      <td>71</td>\n",
       "      <td>273</td>\n",
       "      <td>272</td>\n",
       "      <td>face_with_mask</td>\n",
       "    </tr>\n",
       "    <tr>\n",
       "      <th>14836</th>\n",
       "      <td>1803.jpg</td>\n",
       "      <td>147</td>\n",
       "      <td>200</td>\n",
       "      <td>288</td>\n",
       "      <td>320</td>\n",
       "      <td>mask_surgical</td>\n",
       "    </tr>\n",
       "    <tr>\n",
       "      <th>14835</th>\n",
       "      <td>1803.jpg</td>\n",
       "      <td>126</td>\n",
       "      <td>75</td>\n",
       "      <td>303</td>\n",
       "      <td>333</td>\n",
       "      <td>face_with_mask</td>\n",
       "    </tr>\n",
       "    <tr>\n",
       "      <th>...</th>\n",
       "      <td>...</td>\n",
       "      <td>...</td>\n",
       "      <td>...</td>\n",
       "      <td>...</td>\n",
       "      <td>...</td>\n",
       "      <td>...</td>\n",
       "    </tr>\n",
       "    <tr>\n",
       "      <th>13555</th>\n",
       "      <td>6433.png</td>\n",
       "      <td>669</td>\n",
       "      <td>205</td>\n",
       "      <td>774</td>\n",
       "      <td>282</td>\n",
       "      <td>mask_surgical</td>\n",
       "    </tr>\n",
       "    <tr>\n",
       "      <th>9508</th>\n",
       "      <td>6434.jpg</td>\n",
       "      <td>315</td>\n",
       "      <td>82</td>\n",
       "      <td>775</td>\n",
       "      <td>783</td>\n",
       "      <td>face_with_mask</td>\n",
       "    </tr>\n",
       "    <tr>\n",
       "      <th>9507</th>\n",
       "      <td>6434.jpg</td>\n",
       "      <td>343</td>\n",
       "      <td>448</td>\n",
       "      <td>756</td>\n",
       "      <td>774</td>\n",
       "      <td>mask_colorful</td>\n",
       "    </tr>\n",
       "    <tr>\n",
       "      <th>9434</th>\n",
       "      <td>6435.jpg</td>\n",
       "      <td>198</td>\n",
       "      <td>86</td>\n",
       "      <td>292</td>\n",
       "      <td>149</td>\n",
       "      <td>mask_surgical</td>\n",
       "    </tr>\n",
       "    <tr>\n",
       "      <th>9433</th>\n",
       "      <td>6435.jpg</td>\n",
       "      <td>140</td>\n",
       "      <td>1</td>\n",
       "      <td>293</td>\n",
       "      <td>148</td>\n",
       "      <td>face_with_mask_incorrect</td>\n",
       "    </tr>\n",
       "  </tbody>\n",
       "</table>\n",
       "<p>15412 rows × 6 columns</p>\n",
       "</div>"
      ],
      "text/plain": [
       "           name    x    y    w    h                 classname\n",
       "13381  1801.jpg  451  186  895  697              face_no_mask\n",
       "3464   1802.jpg  160  151  268  265             mask_surgical\n",
       "3463   1802.jpg  110   71  273  272            face_with_mask\n",
       "14836  1803.jpg  147  200  288  320             mask_surgical\n",
       "14835  1803.jpg  126   75  303  333            face_with_mask\n",
       "...         ...  ...  ...  ...  ...                       ...\n",
       "13555  6433.png  669  205  774  282             mask_surgical\n",
       "9508   6434.jpg  315   82  775  783            face_with_mask\n",
       "9507   6434.jpg  343  448  756  774             mask_colorful\n",
       "9434   6435.jpg  198   86  292  149             mask_surgical\n",
       "9433   6435.jpg  140    1  293  148  face_with_mask_incorrect\n",
       "\n",
       "[15412 rows x 6 columns]"
      ]
     },
     "execution_count": 69,
     "metadata": {},
     "output_type": "execute_result"
    }
   ],
   "source": [
    "# load Kaggle training data\n",
    "df_train = pd.read_csv(os.path.join(DATA_DIR, 'train.csv'))\n",
    "df_train.rename(\n",
    "    columns={'x1': 'x', 'x2': 'y', 'y1': 'w', 'y2': 'h'},\n",
    "    inplace=True\n",
    ")\n",
    "df_train.sort_values('name', axis = 0, inplace = True)\n",
    "df_train"
   ]
  },
  {
   "cell_type": "code",
   "execution_count": 70,
   "metadata": {
    "ExecuteTime": {
     "end_time": "2020-11-10T03:20:55.123411Z",
     "start_time": "2020-11-10T03:20:55.117612Z"
    },
    "pycharm": {
     "name": "#%%\n"
    }
   },
   "outputs": [],
   "source": [
    "# load testing data\n",
    "if os.path.exists(os.path.join(DATA_DIR, 'img_data/not_classified.csv')):\n",
    "\n",
    "    df_test = pd.read_csv(\n",
    "        os.path.join(DATA_DIR, 'img_data/not_classified.csv'),\n",
    "        index_col=0\n",
    "    )\n",
    "    df_test.rename(\n",
    "        columns={'x1': 'x', 'x2': 'y', 'y1': 'w', 'y2': 'h'},\n",
    "        inplace=True\n",
    "    )\n",
    "    df_test.sort_values('name', axis = 0, inplace = True)\n",
    "else:\n",
    "    df_test = None\n",
    "\n",
    "df_test"
   ]
  },
  {
   "cell_type": "code",
   "execution_count": 71,
   "metadata": {
    "ExecuteTime": {
     "end_time": "2020-11-10T03:20:55.370319Z",
     "start_time": "2020-11-10T03:20:55.125569Z"
    }
   },
   "outputs": [
    {
     "data": {
      "text/plain": [
       "array(['face_no_mask', 'mask_surgical', 'face_with_mask', 'hat',\n",
       "       'eyeglasses', 'face_other_covering', 'face_with_mask_incorrect',\n",
       "       'mask_colorful', 'sunglasses', 'helmet', 'scarf_bandana',\n",
       "       'hair_net', 'face_shield', 'goggles', 'hijab_niqab', 'turban',\n",
       "       'balaclava_ski_mask', 'gas_mask', 'hood', 'other'], dtype=object)"
      ]
     },
     "execution_count": 71,
     "metadata": {},
     "output_type": "execute_result"
    },
    {
     "data": {
      "image/png": "[encoded data removed]",
      "text/plain": [
       "<Figure size 1008x576 with 1 Axes>"
      ]
     },
     "metadata": {},
     "output_type": "display_data"
    }
   ],
   "source": [
    "classes = df_train['classname'].unique()\n",
    "_classes = np.insert(classes, 0, \"background\", axis=0)        # adding a background class for Faster R-CNN\n",
    "class_to_int = {_classes[i] : i for i in range(len(_classes))}\n",
    "int_to_class = {i : _classes[i] for i in range(len(_classes))}\n",
    "\n",
    "# specify which classnames we want to look at\n",
    "options = [\n",
    "    'face_with_mask', \n",
    "    'face_no_mask', \n",
    "    # 'mask_colorful',\n",
    "    # 'face_with_mask_incorrect',\n",
    "]\n",
    "\n",
    "### Visualizing Class Distribution\n",
    "plt.figure(figsize=(14,8))\n",
    "plt.title('Class Distribution', fontsize= 20)\n",
    "\n",
    "sns.countplot(x = \"classname\", data = df_train[df_train[\"classname\"].isin(options)])\n",
    "classes"
   ]
  },
  {
   "cell_type": "code",
   "execution_count": 72,
   "metadata": {
    "ExecuteTime": {
     "end_time": "2020-11-10T03:20:55.385287Z",
     "start_time": "2020-11-10T03:20:55.372170Z"
    },
    "pycharm": {
     "name": "#%%\n"
    }
   },
   "outputs": [
    {
     "name": "stderr",
     "output_type": "stream",
     "text": [
      "/Users/brtonnies/anaconda3/envs/AI/lib/python3.6/site-packages/ipykernel_launcher.py:2: SettingWithCopyWarning: \n",
      "A value is trying to be set on a copy of a slice from a DataFrame\n",
      "\n",
      "See the caveats in the documentation: https://pandas.pydata.org/pandas-docs/stable/user_guide/indexing.html#returning-a-view-versus-a-copy\n",
      "  \n"
     ]
    }
   ],
   "source": [
    "train = df_train[df_train['classname'].isin(options)]\n",
    "train.sort_values('name', axis=0, inplace=True)"
   ]
  },
  {
   "cell_type": "markdown",
   "metadata": {
    "pycharm": {
     "name": "#%% md\n"
    }
   },
   "source": [
    "## Up Next:\n",
    "\n",
    "1. We'll need to be able to look at each facial region within an image\n",
    "2. We'll also need to keep the data somewhere\n",
    "3. We also need to define and train a keras model before we can make any predictions \n",
    "\n",
    "## We know where our faces are... let's get our training data ready for the model"
   ]
  },
  {
   "cell_type": "code",
   "execution_count": 73,
   "metadata": {
    "ExecuteTime": {
     "end_time": "2020-11-10T03:22:07.211187Z",
     "start_time": "2020-11-10T03:20:55.389522Z"
    },
    "pycharm": {
     "name": "#%%\n"
    }
   },
   "outputs": [
    {
     "data": {
      "text/plain": [
       "5749"
      ]
     },
     "execution_count": 73,
     "metadata": {},
     "output_type": "execute_result"
    }
   ],
   "source": [
    "# train_images = df_train['name'].unique()\n",
    "data = list()\n",
    "# for image in train_images:\n",
    "for i in range(len(train)):\n",
    "    # name, x, y, w, h, classname = list(df_train[df_train['name'] == image].values[0])\n",
    "    name, x, y, w, h, classname = list(train.iloc[i])\n",
    "    # print(name, x, y, w, h, classname)\n",
    "    \n",
    "    og_img = cv2.imread(os.path.join(IMAGES_DIR, name), cv2.IMREAD_GRAYSCALE)\n",
    "    cropped = og_img[y:h, x:w]\n",
    "    if len(cropped) > 0:\n",
    "        new_img = cv2.resize(cropped, (50, 50)) # resize img to 50x50\n",
    "        data.append([new_img, classname])\n",
    "    \n",
    "\n",
    "len(data)"
   ]
  },
  {
   "cell_type": "code",
   "execution_count": 74,
   "metadata": {
    "ExecuteTime": {
     "end_time": "2020-11-10T03:22:07.513275Z",
     "start_time": "2020-11-10T03:22:07.214688Z"
    },
    "pycharm": {
     "name": "#%%\n"
    }
   },
   "outputs": [
    {
     "data": {
      "text/plain": [
       "<matplotlib.image.AxesImage at 0x7fef899492b0>"
      ]
     },
     "execution_count": 74,
     "metadata": {},
     "output_type": "execute_result"
    },
    {
     "data": {
      "image/png": "[encoded data removed]",
      "text/plain": [
       "<Figure size 432x288 with 1 Axes>"
      ]
     },
     "metadata": {},
     "output_type": "display_data"
    }
   ],
   "source": [
    "plt.imshow(data[0][0])"
   ]
  },
  {
   "cell_type": "markdown",
   "metadata": {
    "pycharm": {
     "name": "#%% md\n"
    }
   },
   "source": [
    "## A Few More Steps:\n",
    "1. Split training data into features and labels\n",
    "2. Convert labels to categorical values and reshape features\n",
    "3. Define/train a model on the training set"
   ]
  },
  {
   "cell_type": "code",
   "execution_count": 75,
   "metadata": {
    "ExecuteTime": {
     "end_time": "2020-11-10T03:22:07.523615Z",
     "start_time": "2020-11-10T03:22:07.515453Z"
    },
    "pycharm": {
     "name": "#%%\n"
    }
   },
   "outputs": [],
   "source": [
    "# split into labels/features\n",
    "x=[]\n",
    "y=[]\n",
    "for features, labels in data:\n",
    "    x.append(features)\n",
    "    y.append(labels)\n",
    "\n",
    "# convert labels to categorical values\n",
    "labeler = LabelEncoder()\n",
    "y = labeler.fit_transform(y)"
   ]
  },
  {
   "cell_type": "code",
   "execution_count": 76,
   "metadata": {
    "ExecuteTime": {
     "end_time": "2020-11-10T03:22:07.737556Z",
     "start_time": "2020-11-10T03:22:07.526086Z"
    },
    "pycharm": {
     "name": "#%%\n"
    }
   },
   "outputs": [
    {
     "data": {
      "text/plain": [
       "(5749, 2)"
      ]
     },
     "execution_count": 76,
     "metadata": {},
     "output_type": "execute_result"
    }
   ],
   "source": [
    "# reshape features\n",
    "x = np.array(x).reshape(-1, 50, 50, 1)\n",
    "x = tf.keras.utils.normalize(x, axis=1)\n",
    "y = to_categorical(y)\n",
    "\n",
    "y.shape"
   ]
  },
  {
   "cell_type": "markdown",
   "metadata": {
    "pycharm": {
     "name": "#%% md\n"
    }
   },
   "source": [
    "## Model Creation/Fitting\n",
    "\n",
    "1. Keras models can be created, compiled, trained, and then *saved* to a file and/or loaded from one.\n",
    "2. If there isn't a model file available, we have to create it.\n",
    "  + This takes awhile, so if there is an already trained/fit model, we're gonna use it\n",
    "\n",
    "### Model Choice: Keras Sequential Model\n"
   ]
  },
  {
   "cell_type": "code",
   "execution_count": 77,
   "metadata": {
    "ExecuteTime": {
     "end_time": "2020-11-10T03:38:53.422875Z",
     "start_time": "2020-11-10T03:22:07.739832Z"
    },
    "pycharm": {
     "is_executing": true,
     "name": "#%%\n"
    }
   },
   "outputs": [
    {
     "name": "stdout",
     "output_type": "stream",
     "text": [
      "Epoch 1/30\n",
      "5749/5749 [==============================] - 37s 6ms/step - loss: 0.5728 - accuracy: 0.7269\n",
      "Epoch 2/30\n",
      "5749/5749 [==============================] - 36s 6ms/step - loss: 0.4676 - accuracy: 0.7735\n",
      "Epoch 3/30\n",
      "5749/5749 [==============================] - 34s 6ms/step - loss: 0.4176 - accuracy: 0.8067\n",
      "Epoch 4/30\n",
      "5749/5749 [==============================] - 34s 6ms/step - loss: 0.3843 - accuracy: 0.8288\n",
      "Epoch 5/30\n",
      "5749/5749 [==============================] - 34s 6ms/step - loss: 0.3573 - accuracy: 0.8398\n",
      "Epoch 6/30\n",
      "5749/5749 [==============================] - 35s 6ms/step - loss: 0.3272 - accuracy: 0.8600\n",
      "Epoch 7/30\n",
      "5749/5749 [==============================] - 35s 6ms/step - loss: 0.3009 - accuracy: 0.8666\n",
      "Epoch 8/30\n",
      "5749/5749 [==============================] - 35s 6ms/step - loss: 0.2829 - accuracy: 0.8763\n",
      "Epoch 9/30\n",
      "5749/5749 [==============================] - 35s 6ms/step - loss: 0.2709 - accuracy: 0.8869\n",
      "Epoch 10/30\n",
      "5749/5749 [==============================] - 36s 6ms/step - loss: 0.2497 - accuracy: 0.8918\n",
      "Epoch 11/30\n",
      "5749/5749 [==============================] - 35s 6ms/step - loss: 0.2318 - accuracy: 0.9007\n",
      "Epoch 12/30\n",
      "5749/5749 [==============================] - 34s 6ms/step - loss: 0.2175 - accuracy: 0.9073\n",
      "Epoch 13/30\n",
      "5749/5749 [==============================] - 32s 6ms/step - loss: 0.1993 - accuracy: 0.9189\n",
      "Epoch 14/30\n",
      "5749/5749 [==============================] - 32s 6ms/step - loss: 0.1888 - accuracy: 0.9222\n",
      "Epoch 15/30\n",
      "5749/5749 [==============================] - 32s 6ms/step - loss: 0.1699 - accuracy: 0.9297\n",
      "Epoch 16/30\n",
      "5749/5749 [==============================] - 33s 6ms/step - loss: 0.1596 - accuracy: 0.9334\n",
      "Epoch 17/30\n",
      "5749/5749 [==============================] - 33s 6ms/step - loss: 0.1497 - accuracy: 0.9370\n",
      "Epoch 18/30\n",
      "5749/5749 [==============================] - 33s 6ms/step - loss: 0.1487 - accuracy: 0.9383\n",
      "Epoch 19/30\n",
      "5749/5749 [==============================] - 33s 6ms/step - loss: 0.1271 - accuracy: 0.9490\n",
      "Epoch 20/30\n",
      "5749/5749 [==============================] - 32s 6ms/step - loss: 0.1263 - accuracy: 0.9496\n",
      "Epoch 21/30\n",
      "5749/5749 [==============================] - 33s 6ms/step - loss: 0.1172 - accuracy: 0.9544\n",
      "Epoch 22/30\n",
      "5749/5749 [==============================] - 32s 6ms/step - loss: 0.1090 - accuracy: 0.9560\n",
      "Epoch 23/30\n",
      "5749/5749 [==============================] - 31s 5ms/step - loss: 0.0973 - accuracy: 0.9624\n",
      "Epoch 24/30\n",
      "5749/5749 [==============================] - 31s 5ms/step - loss: 0.0854 - accuracy: 0.9682\n",
      "Epoch 25/30\n",
      "5749/5749 [==============================] - 31s 5ms/step - loss: 0.0864 - accuracy: 0.9657\n",
      "Epoch 26/30\n",
      "5749/5749 [==============================] - 32s 6ms/step - loss: 0.0836 - accuracy: 0.9675\n",
      "Epoch 27/30\n",
      "5749/5749 [==============================] - 32s 6ms/step - loss: 0.0823 - accuracy: 0.9666\n",
      "Epoch 28/30\n",
      "5749/5749 [==============================] - 34s 6ms/step - loss: 0.0709 - accuracy: 0.9750\n",
      "Epoch 29/30\n",
      "5749/5749 [==============================] - 33s 6ms/step - loss: 0.0779 - accuracy: 0.9690\n",
      "Epoch 30/30\n",
      "5749/5749 [==============================] - 32s 6ms/step - loss: 0.0695 - accuracy: 0.9722\n"
     ]
    }
   ],
   "source": [
    "model_path = \"../models/keras_sequential_model\"\n",
    "if os.path.exists(model_path):\n",
    "    model = keras.models.load_model(model_path)\n",
    "\n",
    "else:\n",
    "    batch_size = 5\n",
    "    epochs = 30\n",
    "    learning_rate = 1e-3\n",
    "    epsilon = 1e-5\n",
    "\n",
    "    model = Sequential()\n",
    "    model.add(Conv2D(100, (3, 3), input_shape=x.shape[1:], activation='relu', strides=2))\n",
    "    model.add(MaxPooling2D(pool_size=(2, 2)))\n",
    "    model.add(Conv2D(64, (3, 3), activation='relu'))\n",
    "    model.add(MaxPooling2D(pool_size=(2, 2)))\n",
    "    model.add(Flatten())\n",
    "    model.add(Dense(50, activation='relu'))\n",
    "    model.add(Dropout(0.2))\n",
    "    model.add(Dense(2, activation='softmax'))\n",
    "\n",
    "    opt = keras.optimizers.Adam(learning_rate=learning_rate, epsilon=epsilon)\n",
    "    model.compile(optimizer=opt, loss='categorical_crossentropy', metrics=['accuracy'])\n",
    "    model.fit(x, y, epochs=epochs, batch_size=batch_size)\n",
    "    model.save(model_path)"
   ]
  },
  {
   "cell_type": "code",
   "execution_count": 78,
   "metadata": {
    "ExecuteTime": {
     "end_time": "2020-11-10T03:38:53.429676Z",
     "start_time": "2020-11-10T03:38:53.424731Z"
    },
    "pycharm": {
     "name": "#%%\n"
    }
   },
   "outputs": [],
   "source": [
    "def get_faces(img):\n",
    "    detector = MTCNN()\n",
    "    image = plt.imread(os.path.join(IMAGES_DIR, img))\n",
    "    return detector.detect_faces(image)\n",
    "\n",
    "def face_bounds(face):\n",
    "    return face['box']"
   ]
  },
  {
   "cell_type": "markdown",
   "metadata": {
    "pycharm": {
     "name": "#%% md\n"
    }
   },
   "source": [
    "# Let's Predict?"
   ]
  },
  {
   "cell_type": "code",
   "execution_count": null,
   "metadata": {
    "ExecuteTime": {
     "end_time": "2020-10-30T21:12:17.681231Z",
     "start_time": "2020-10-30T21:12:17.385Z"
    },
    "pycharm": {
     "name": "#%%\n"
    }
   },
   "outputs": [],
   "source": []
  },
  {
   "cell_type": "code",
   "execution_count": null,
   "metadata": {
    "pycharm": {
     "name": "#%%\n"
    }
   },
   "outputs": [],
   "source": []
  }
 ],
 "metadata": {
  "kernelspec": {
   "display_name": "Python 3",
   "language": "python",
   "name": "python3"
  },
  "language_info": {
   "codemirror_mode": {
    "name": "ipython",
    "version": 3
   },
   "file_extension": ".py",
   "mimetype": "text/x-python",
   "name": "python",
   "nbconvert_exporter": "python",
   "pygments_lexer": "ipython3",
   "version": "3.6.10"
  },
  "latex_envs": {
   "LaTeX_envs_menu_present": true,
   "autoclose": false,
   "autocomplete": true,
   "bibliofile": "biblio.bib",
   "cite_by": "apalike",
   "current_citInitial": 1,
   "eqLabelWithNumbers": true,
   "eqNumInitial": 1,
   "hotkeys": {
    "equation": "Ctrl-E",
    "itemize": "Ctrl-I"
   },
   "labels_anchors": false,
   "latex_user_defs": false,
   "report_style_numbering": false,
   "user_envs_cfg": false
  },
  "varInspector": {
   "cols": {
    "lenName": 16,
    "lenType": 16,
    "lenVar": 40
   },
   "kernels_config": {
    "python": {
     "delete_cmd_postfix": "",
     "delete_cmd_prefix": "del ",
     "library": "var_list.py",
     "varRefreshCmd": "print(var_dic_list())"
    },
    "r": {
     "delete_cmd_postfix": ") ",
     "delete_cmd_prefix": "rm(",
     "library": "var_list.r",
     "varRefreshCmd": "cat(var_dic_list()) "
    }
   },
   "types_to_exclude": [
    "module",
    "function",
    "builtin_function_or_method",
    "instance",
    "_Feature"
   ],
   "window_display": false
  }
 },
 "nbformat": 4,
 "nbformat_minor": 1
}