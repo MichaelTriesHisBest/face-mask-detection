{
 "cells": [
  {
   "cell_type": "markdown",
   "metadata": {},
   "source": [
    "# Detecting Face Masks in Images (Keras)\n",
    "\n",
    "#### Basic steps:\n",
    "1. Given images, detect facial regions and features (find faces)\n",
    "2. Create train/test data with facial regions as inputs\n",
    "3. Using supervised model with training images, predict whether there is a mask in the facial region\n",
    "\n",
    "#### Environment Setup\n",
    "\n",
    "1. Use/create a new [Anaconda](https://www.anaconda.com/products/individual) environment with Python 3.6 (not 3.7 or 3.8), keras, and tensorflow:\n",
    "``` sh\n",
    "$ conda create -n <your_env_name> python=3.6 anaconda tensorflow keras\n",
    "```\n",
    "2. Install dependencies:\n",
    "``` sh\n",
    "$ conda install -c anaconda xlrd xlwt scikit-learn seaborn\n",
    "$ conda install mtcnn ipyparallel\n",
    "$ pip install python-opencv\n",
    "```"
   ]
  },
  {
   "cell_type": "code",
   "execution_count": 43,
   "metadata": {
    "ExecuteTime": {
     "end_time": "2020-10-30T21:42:14.307285Z",
     "start_time": "2020-10-30T21:42:14.297312Z"
    },
    "pycharm": {
     "name": "#%%\n"
    }
   },
   "outputs": [],
   "source": [
    "import numpy as np\n",
    "import pandas as pd\n",
    "import os\n",
    "import urllib\n",
    "import matplotlib.pyplot as plt\n",
    "import cv2\n",
    "import matplotlib.patches as patches\n",
    "import tensorflow as tf\n",
    "import keras\n",
    "from keras.utils import to_categorical\n",
    "from keras.layers import Flatten, Dense, Conv2D, MaxPooling2D, Dropout\n",
    "from keras.models import Sequential        # keras is only compatible with python 3.6 or lower\n",
    "import sklearn\n",
    "from sklearn.preprocessing import LabelEncoder\n",
    "from mtcnn.mtcnn import MTCNN\n",
    "import seaborn as sns\n",
    "%matplotlib inline\n",
    "sns.set_style(\"darkgrid\")"
   ]
  },
  {
   "cell_type": "markdown",
   "metadata": {
    "pycharm": {
     "name": "#%% md\n"
    }
   },
   "source": [
    "## Grab/Process Image Data\n",
    "\n",
    "1. For our purposes as of the time of writing this, there should be a prepared dataframe for images not in our training set located in the data directory: `data/img_data/unclassified.csv`\n",
    "  + The prepared data frame is made up of rows containing the image filename, the coordinates of one face's bounding box, and an empty column 'classname' where the classification results would otherwise be.\n",
    "2. Currently, we're using the training set from Kaggle's medical masks dataset.\n",
    "  + This data is similarly prepared already, but it has it's classname column filled (mask/no mask/colorful mask)\n",
    "  + Ideally, we could get some additional images for the training set containing masks that are not strictly 'medical' looking (anything that effectively covers the nose and mouth: bandanas, etc)\n"
   ]
  },
  {
   "cell_type": "code",
   "execution_count": 36,
   "metadata": {
    "ExecuteTime": {
     "end_time": "2020-10-30T21:35:18.238298Z",
     "start_time": "2020-10-30T21:35:18.151898Z"
    },
    "pycharm": {
     "name": "#%%\n"
    }
   },
   "outputs": [
    {
     "data": {
      "text/html": [
       "<div>\n",
       "<style scoped>\n",
       "    .dataframe tbody tr th:only-of-type {\n",
       "        vertical-align: middle;\n",
       "    }\n",
       "\n",
       "    .dataframe tbody tr th {\n",
       "        vertical-align: top;\n",
       "    }\n",
       "\n",
       "    .dataframe thead th {\n",
       "        text-align: right;\n",
       "    }\n",
       "</style>\n",
       "<table border=\"1\" class=\"dataframe\">\n",
       "  <thead>\n",
       "    <tr style=\"text-align: right;\">\n",
       "      <th></th>\n",
       "      <th>name</th>\n",
       "      <th>x</th>\n",
       "      <th>y</th>\n",
       "      <th>w</th>\n",
       "      <th>h</th>\n",
       "      <th>classname</th>\n",
       "    </tr>\n",
       "  </thead>\n",
       "  <tbody>\n",
       "    <tr>\n",
       "      <th>13381</th>\n",
       "      <td>1801.jpg</td>\n",
       "      <td>451</td>\n",
       "      <td>186</td>\n",
       "      <td>895</td>\n",
       "      <td>697</td>\n",
       "      <td>face_no_mask</td>\n",
       "    </tr>\n",
       "    <tr>\n",
       "      <th>3464</th>\n",
       "      <td>1802.jpg</td>\n",
       "      <td>160</td>\n",
       "      <td>151</td>\n",
       "      <td>268</td>\n",
       "      <td>265</td>\n",
       "      <td>mask_surgical</td>\n",
       "    </tr>\n",
       "    <tr>\n",
       "      <th>3463</th>\n",
       "      <td>1802.jpg</td>\n",
       "      <td>110</td>\n",
       "      <td>71</td>\n",
       "      <td>273</td>\n",
       "      <td>272</td>\n",
       "      <td>face_with_mask</td>\n",
       "    </tr>\n",
       "    <tr>\n",
       "      <th>14836</th>\n",
       "      <td>1803.jpg</td>\n",
       "      <td>147</td>\n",
       "      <td>200</td>\n",
       "      <td>288</td>\n",
       "      <td>320</td>\n",
       "      <td>mask_surgical</td>\n",
       "    </tr>\n",
       "    <tr>\n",
       "      <th>14835</th>\n",
       "      <td>1803.jpg</td>\n",
       "      <td>126</td>\n",
       "      <td>75</td>\n",
       "      <td>303</td>\n",
       "      <td>333</td>\n",
       "      <td>face_with_mask</td>\n",
       "    </tr>\n",
       "    <tr>\n",
       "      <th>...</th>\n",
       "      <td>...</td>\n",
       "      <td>...</td>\n",
       "      <td>...</td>\n",
       "      <td>...</td>\n",
       "      <td>...</td>\n",
       "      <td>...</td>\n",
       "    </tr>\n",
       "    <tr>\n",
       "      <th>13555</th>\n",
       "      <td>6433.png</td>\n",
       "      <td>669</td>\n",
       "      <td>205</td>\n",
       "      <td>774</td>\n",
       "      <td>282</td>\n",
       "      <td>mask_surgical</td>\n",
       "    </tr>\n",
       "    <tr>\n",
       "      <th>9508</th>\n",
       "      <td>6434.jpg</td>\n",
       "      <td>315</td>\n",
       "      <td>82</td>\n",
       "      <td>775</td>\n",
       "      <td>783</td>\n",
       "      <td>face_with_mask</td>\n",
       "    </tr>\n",
       "    <tr>\n",
       "      <th>9507</th>\n",
       "      <td>6434.jpg</td>\n",
       "      <td>343</td>\n",
       "      <td>448</td>\n",
       "      <td>756</td>\n",
       "      <td>774</td>\n",
       "      <td>mask_colorful</td>\n",
       "    </tr>\n",
       "    <tr>\n",
       "      <th>9434</th>\n",
       "      <td>6435.jpg</td>\n",
       "      <td>198</td>\n",
       "      <td>86</td>\n",
       "      <td>292</td>\n",
       "      <td>149</td>\n",
       "      <td>mask_surgical</td>\n",
       "    </tr>\n",
       "    <tr>\n",
       "      <th>9433</th>\n",
       "      <td>6435.jpg</td>\n",
       "      <td>140</td>\n",
       "      <td>1</td>\n",
       "      <td>293</td>\n",
       "      <td>148</td>\n",
       "      <td>face_with_mask_incorrect</td>\n",
       "    </tr>\n",
       "  </tbody>\n",
       "</table>\n",
       "<p>15412 rows × 6 columns</p>\n",
       "</div>"
      ],
      "text/plain": [
       "           name    x    y    w    h                 classname\n",
       "13381  1801.jpg  451  186  895  697              face_no_mask\n",
       "3464   1802.jpg  160  151  268  265             mask_surgical\n",
       "3463   1802.jpg  110   71  273  272            face_with_mask\n",
       "14836  1803.jpg  147  200  288  320             mask_surgical\n",
       "14835  1803.jpg  126   75  303  333            face_with_mask\n",
       "...         ...  ...  ...  ...  ...                       ...\n",
       "13555  6433.png  669  205  774  282             mask_surgical\n",
       "9508   6434.jpg  315   82  775  783            face_with_mask\n",
       "9507   6434.jpg  343  448  756  774             mask_colorful\n",
       "9434   6435.jpg  198   86  292  149             mask_surgical\n",
       "9433   6435.jpg  140    1  293  148  face_with_mask_incorrect\n",
       "\n",
       "[15412 rows x 6 columns]"
      ]
     },
     "execution_count": 36,
     "metadata": {},
     "output_type": "execute_result"
    }
   ],
   "source": [
    "# define directory paths for easier navigation\n",
    "NOTEBOOK_DIR = !pwd\n",
    "NOTEBOOK_DIR = NOTEBOOK_DIR[0]\n",
    "ROOT_DIR = os.path.abspath(os.path.join(NOTEBOOK_DIR, os.pardir))\n",
    "DATA_DIR = os.path.join(ROOT_DIR, 'data')\n",
    "IMAGES_DIR = os.path.join(DATA_DIR, 'images')\n",
    "ANNOTATIONS_DIR = os.path.join(DATA_DIR, 'annotations')\n",
    "SUB_IMAGES_DIR = os.path.join(IMAGES_DIR, 'sub')\n",
    "\n",
    "# load training data\n",
    "df_train = pd.read_csv(os.path.join(DATA_DIR, 'train.csv'))\n",
    "df_train.rename(\n",
    "    columns={'x1': 'x', 'x2': 'y', 'y1': 'w', 'y2': 'h'},\n",
    "    inplace=True\n",
    ")\n",
    "df_train.sort_values('name', axis = 0, inplace = True)\n",
    "df_train"
   ]
  },
  {
   "cell_type": "code",
   "execution_count": 37,
   "metadata": {
    "ExecuteTime": {
     "end_time": "2020-10-30T21:35:19.048810Z",
     "start_time": "2020-10-30T21:35:19.028779Z"
    },
    "pycharm": {
     "name": "#%%\n"
    }
   },
   "outputs": [
    {
     "data": {
      "text/html": [
       "<div>\n",
       "<style scoped>\n",
       "    .dataframe tbody tr th:only-of-type {\n",
       "        vertical-align: middle;\n",
       "    }\n",
       "\n",
       "    .dataframe tbody tr th {\n",
       "        vertical-align: top;\n",
       "    }\n",
       "\n",
       "    .dataframe thead th {\n",
       "        text-align: right;\n",
       "    }\n",
       "</style>\n",
       "<table border=\"1\" class=\"dataframe\">\n",
       "  <thead>\n",
       "    <tr style=\"text-align: right;\">\n",
       "      <th></th>\n",
       "      <th>name</th>\n",
       "      <th>x</th>\n",
       "      <th>y</th>\n",
       "      <th>w</th>\n",
       "      <th>h</th>\n",
       "      <th>classname</th>\n",
       "    </tr>\n",
       "  </thead>\n",
       "  <tbody>\n",
       "    <tr>\n",
       "      <th>0</th>\n",
       "      <td>0001.jpg</td>\n",
       "      <td>441</td>\n",
       "      <td>108</td>\n",
       "      <td>341</td>\n",
       "      <td>416</td>\n",
       "      <td>NaN</td>\n",
       "    </tr>\n",
       "    <tr>\n",
       "      <th>1</th>\n",
       "      <td>0003.jpg</td>\n",
       "      <td>1292</td>\n",
       "      <td>218</td>\n",
       "      <td>865</td>\n",
       "      <td>1088</td>\n",
       "      <td>NaN</td>\n",
       "    </tr>\n",
       "    <tr>\n",
       "      <th>2</th>\n",
       "      <td>0004.jpg</td>\n",
       "      <td>630</td>\n",
       "      <td>176</td>\n",
       "      <td>212</td>\n",
       "      <td>266</td>\n",
       "      <td>NaN</td>\n",
       "    </tr>\n",
       "    <tr>\n",
       "      <th>3</th>\n",
       "      <td>0006.jpg</td>\n",
       "      <td>441</td>\n",
       "      <td>668</td>\n",
       "      <td>57</td>\n",
       "      <td>70</td>\n",
       "      <td>NaN</td>\n",
       "    </tr>\n",
       "    <tr>\n",
       "      <th>4</th>\n",
       "      <td>0007.jpg</td>\n",
       "      <td>922</td>\n",
       "      <td>565</td>\n",
       "      <td>102</td>\n",
       "      <td>121</td>\n",
       "      <td>NaN</td>\n",
       "    </tr>\n",
       "    <tr>\n",
       "      <th>...</th>\n",
       "      <td>...</td>\n",
       "      <td>...</td>\n",
       "      <td>...</td>\n",
       "      <td>...</td>\n",
       "      <td>...</td>\n",
       "      <td>...</td>\n",
       "    </tr>\n",
       "    <tr>\n",
       "      <th>3161</th>\n",
       "      <td>1796.jpg</td>\n",
       "      <td>469</td>\n",
       "      <td>223</td>\n",
       "      <td>186</td>\n",
       "      <td>229</td>\n",
       "      <td>NaN</td>\n",
       "    </tr>\n",
       "    <tr>\n",
       "      <th>3159</th>\n",
       "      <td>1796.jpg</td>\n",
       "      <td>933</td>\n",
       "      <td>207</td>\n",
       "      <td>232</td>\n",
       "      <td>298</td>\n",
       "      <td>NaN</td>\n",
       "    </tr>\n",
       "    <tr>\n",
       "      <th>3162</th>\n",
       "      <td>1797.jpg</td>\n",
       "      <td>738</td>\n",
       "      <td>235</td>\n",
       "      <td>483</td>\n",
       "      <td>638</td>\n",
       "      <td>NaN</td>\n",
       "    </tr>\n",
       "    <tr>\n",
       "      <th>3163</th>\n",
       "      <td>1799.jpg</td>\n",
       "      <td>757</td>\n",
       "      <td>296</td>\n",
       "      <td>75</td>\n",
       "      <td>86</td>\n",
       "      <td>NaN</td>\n",
       "    </tr>\n",
       "    <tr>\n",
       "      <th>3164</th>\n",
       "      <td>1800.jpg</td>\n",
       "      <td>956</td>\n",
       "      <td>460</td>\n",
       "      <td>246</td>\n",
       "      <td>326</td>\n",
       "      <td>NaN</td>\n",
       "    </tr>\n",
       "  </tbody>\n",
       "</table>\n",
       "<p>3165 rows × 6 columns</p>\n",
       "</div>"
      ],
      "text/plain": [
       "          name     x    y    w     h  classname\n",
       "0     0001.jpg   441  108  341   416        NaN\n",
       "1     0003.jpg  1292  218  865  1088        NaN\n",
       "2     0004.jpg   630  176  212   266        NaN\n",
       "3     0006.jpg   441  668   57    70        NaN\n",
       "4     0007.jpg   922  565  102   121        NaN\n",
       "...        ...   ...  ...  ...   ...        ...\n",
       "3161  1796.jpg   469  223  186   229        NaN\n",
       "3159  1796.jpg   933  207  232   298        NaN\n",
       "3162  1797.jpg   738  235  483   638        NaN\n",
       "3163  1799.jpg   757  296   75    86        NaN\n",
       "3164  1800.jpg   956  460  246   326        NaN\n",
       "\n",
       "[3165 rows x 6 columns]"
      ]
     },
     "execution_count": 37,
     "metadata": {},
     "output_type": "execute_result"
    }
   ],
   "source": [
    "# load testing data\n",
    "df_test = pd.read_csv(\n",
    "    os.path.join(DATA_DIR, 'img_data/not_classified.csv'),\n",
    "    index_col=0\n",
    ")\n",
    "df_test.rename(\n",
    "    columns={'x1': 'x', 'x2': 'y', 'y1': 'w', 'y2': 'h'},\n",
    "    inplace=True\n",
    ")\n",
    "df_test.sort_values('name', axis = 0, inplace = True)\n",
    "df_test"
   ]
  },
  {
   "cell_type": "code",
   "execution_count": 38,
   "metadata": {
    "ExecuteTime": {
     "end_time": "2020-10-30T21:35:20.357572Z",
     "start_time": "2020-10-30T21:35:20.067158Z"
    }
   },
   "outputs": [
    {
     "data": {
      "text/plain": [
       "<matplotlib.axes._subplots.AxesSubplot at 0x7fd16d3c8278>"
      ]
     },
     "execution_count": 38,
     "metadata": {},
     "output_type": "execute_result"
    },
    {
     "data": {
      "image/png": "[encoded data removed]",
      "text/plain": [
       "<Figure size 1008x576 with 1 Axes>"
      ]
     },
     "metadata": {
      "needs_background": "light"
     },
     "output_type": "display_data"
    }
   ],
   "source": [
    "### Visualizing Class Distribution\n",
    "classes = df_train['classname'].unique()\n",
    "\n",
    "plt.figure(figsize=(14,8))\n",
    "plt.title('Class Distribution', fontsize= 20)\n",
    "\n",
    "sns.countplot(x = \"classname\", data = df_train)"
   ]
  },
  {
   "cell_type": "code",
   "execution_count": 39,
   "metadata": {
    "ExecuteTime": {
     "end_time": "2020-10-30T21:35:21.449075Z",
     "start_time": "2020-10-30T21:35:21.433776Z"
    },
    "pycharm": {
     "name": "#%%\n"
    }
   },
   "outputs": [],
   "source": [
    "classes = df_train['classname'].unique()\n",
    "_classes = np.insert(classes, 0, \"background\", axis=0)        # adding a background class for Faster R-CNN\n",
    "class_to_int = {_classes[i] : i for i in range(len(_classes))}\n",
    "int_to_class = {i : _classes[i] for i in range(len(_classes))}\n",
    "\n",
    "# specify which classnames we want to look at\n",
    "options = ['face_with_mask', 'face_no_mask']\n",
    "train = df_train[df_train['classname'].isin(classes)]\n",
    "train.sort_values('name', axis=0, inplace=True)"
   ]
  },
  {
   "cell_type": "markdown",
   "metadata": {
    "pycharm": {
     "name": "#%% md\n"
    }
   },
   "source": [
    "## Up Next:\n",
    "\n",
    "1. We'll need to be able to look at each facial region within an image\n",
    "2. We'll also need to keep the data somewhere\n",
    "3. We also need to define and train a keras model before we can make any predictions \n",
    "\n",
    "## We know where our faces are... let's get our training data ready for the model"
   ]
  },
  {
   "cell_type": "code",
   "execution_count": 42,
   "metadata": {
    "ExecuteTime": {
     "end_time": "2020-10-30T21:42:08.665232Z",
     "start_time": "2020-10-30T21:39:00.040903Z"
    },
    "pycharm": {
     "name": "#%%\n"
    }
   },
   "outputs": [
    {
     "data": {
      "text/plain": [
       "15411"
      ]
     },
     "execution_count": 42,
     "metadata": {},
     "output_type": "execute_result"
    }
   ],
   "source": [
    "# train_images = df_train['name'].unique()\n",
    "data = list()\n",
    "# for image in train_images:\n",
    "for i in range(len(train)):\n",
    "    # name, x, y, w, h, classname = list(df_train[df_train['name'] == image].values[0])\n",
    "    name, x, y, w, h, classname = list(train.iloc[i])\n",
    "    # print(name, x, y, w, h, classname)\n",
    "    og_img = cv2.imread(os.path.join(IMAGES_DIR, name), cv2.IMREAD_GRAYSCALE)\n",
    "    cropped = og_img[y:h, x:w]\n",
    "    if len(cropped) > 0:\n",
    "        new_img = cv2.resize(cropped, (50, 50)) # resize img to 50x50\n",
    "        data.append([new_img, classname])\n",
    "    \n",
    "\n",
    "len(data)"
   ]
  },
  {
   "cell_type": "code",
   "execution_count": 44,
   "metadata": {
    "ExecuteTime": {
     "end_time": "2020-10-30T21:42:21.044368Z",
     "start_time": "2020-10-30T21:42:20.771127Z"
    },
    "pycharm": {
     "name": "#%%\n"
    }
   },
   "outputs": [
    {
     "data": {
      "text/plain": [
       "<matplotlib.image.AxesImage at 0x7fd16d3eb438>"
      ]
     },
     "execution_count": 44,
     "metadata": {},
     "output_type": "execute_result"
    },
    {
     "data": {
      "image/png": "[encoded data removed]",
      "text/plain": [
       "<Figure size 432x288 with 1 Axes>"
      ]
     },
     "metadata": {},
     "output_type": "display_data"
    }
   ],
   "source": [
    "plt.imshow(data[0][0])"
   ]
  },
  {
   "cell_type": "markdown",
   "metadata": {
    "pycharm": {
     "name": "#%% md\n"
    }
   },
   "source": [
    "## A Few More Steps:\n",
    "1. Split training data into features and labels\n",
    "2. Convert labels to categorical values and reshape features\n",
    "3. Define/train a model on the training set"
   ]
  },
  {
   "cell_type": "code",
   "execution_count": 45,
   "metadata": {
    "ExecuteTime": {
     "end_time": "2020-10-30T21:42:36.973931Z",
     "start_time": "2020-10-30T21:42:36.956683Z"
    },
    "pycharm": {
     "name": "#%%\n"
    }
   },
   "outputs": [],
   "source": [
    "# split into labels/features\n",
    "x=[]\n",
    "y=[]\n",
    "for features, labels in data:\n",
    "    x.append(features)\n",
    "    y.append(labels)\n",
    "\n",
    "# convert labels to categorical values\n",
    "labeler = LabelEncoder()\n",
    "y = labeler.fit_transform(y)"
   ]
  },
  {
   "cell_type": "code",
   "execution_count": 46,
   "metadata": {
    "ExecuteTime": {
     "end_time": "2020-10-30T21:42:50.219085Z",
     "start_time": "2020-10-30T21:42:49.331459Z"
    },
    "pycharm": {
     "name": "#%%\n"
    }
   },
   "outputs": [
    {
     "data": {
      "text/plain": [
       "(15411, 20)"
      ]
     },
     "execution_count": 46,
     "metadata": {},
     "output_type": "execute_result"
    }
   ],
   "source": [
    "# reshape features\n",
    "x = np.array(x).reshape(-1, 50, 50, 1)\n",
    "x = tf.keras.utils.normalize(x, axis=1)\n",
    "y = to_categorical(y)\n",
    "\n",
    "y.shape"
   ]
  },
  {
   "cell_type": "markdown",
   "metadata": {
    "pycharm": {
     "name": "#%% md\n"
    }
   },
   "source": [
    "## Model Creation/Fitting\n",
    "\n",
    "1. Keras models can be created, compiled, trained, and then *saved* to a file and/or loaded from one.\n",
    "2. If there isn't a model file available, we have to create it.\n",
    "  + This takes awhile, so if there is an already trained/fit model, we're gonna use it\n",
    "\n",
    "### Model Choice: Keras Sequential Model\n"
   ]
  },
  {
   "cell_type": "code",
   "execution_count": null,
   "metadata": {
    "ExecuteTime": {
     "start_time": "2020-10-30T21:44:12.760Z"
    },
    "pycharm": {
     "name": "#%%\n"
    }
   },
   "outputs": [
    {
     "name": "stdout",
     "output_type": "stream",
     "text": [
      "Epoch 1/30\n",
      "15411/15411 [==============================] - 115s 7ms/step - loss: 1.9251 - accuracy: 0.4143\n",
      "Epoch 2/30\n",
      "15411/15411 [==============================] - 94s 6ms/step - loss: 1.6455 - accuracy: 0.4983\n",
      "Epoch 3/30\n",
      "15411/15411 [==============================] - 96s 6ms/step - loss: 1.5051 - accuracy: 0.5377\n",
      "Epoch 4/30\n",
      "15411/15411 [==============================] - 94s 6ms/step - loss: 1.4185 - accuracy: 0.5583\n",
      "Epoch 5/30\n",
      "15411/15411 [==============================] - 89s 6ms/step - loss: 1.3587 - accuracy: 0.5772\n",
      "Epoch 6/30\n",
      "15411/15411 [==============================] - 84s 5ms/step - loss: 1.3083 - accuracy: 0.5865\n",
      "Epoch 7/30\n",
      "15411/15411 [==============================] - 82s 5ms/step - loss: 1.2744 - accuracy: 0.5995\n",
      "Epoch 8/30\n",
      "15411/15411 [==============================] - 88s 6ms/step - loss: 1.2349 - accuracy: 0.6066\n",
      "Epoch 9/30\n",
      "15411/15411 [==============================] - 84s 5ms/step - loss: 1.1993 - accuracy: 0.6136\n",
      "Epoch 10/30\n",
      "15411/15411 [==============================] - 86s 6ms/step - loss: 1.1734 - accuracy: 0.6216\n",
      "Epoch 11/30\n",
      "15411/15411 [==============================] - 85s 6ms/step - loss: 1.1473 - accuracy: 0.6300\n",
      "Epoch 12/30\n",
      "15411/15411 [==============================] - 84s 5ms/step - loss: 1.1244 - accuracy: 0.6311\n",
      "Epoch 13/30\n",
      "15411/15411 [==============================] - 85s 6ms/step - loss: 1.1007 - accuracy: 0.6391\n",
      "Epoch 14/30\n",
      "15411/15411 [==============================] - 84s 5ms/step - loss: 1.0728 - accuracy: 0.6475\n",
      "Epoch 15/30\n",
      "15411/15411 [==============================] - 84s 5ms/step - loss: 1.0505 - accuracy: 0.6530\n",
      "Epoch 16/30\n",
      "15411/15411 [==============================] - 86s 6ms/step - loss: 1.0275 - accuracy: 0.6624\n",
      "Epoch 17/30\n",
      "15411/15411 [==============================] - 83s 5ms/step - loss: 0.9991 - accuracy: 0.6715\n",
      "Epoch 18/30\n",
      "15411/15411 [==============================] - 87s 6ms/step - loss: 0.9849 - accuracy: 0.6706\n",
      "Epoch 19/30\n",
      "15411/15411 [==============================] - 84s 5ms/step - loss: 0.9613 - accuracy: 0.6813\n",
      "Epoch 20/30\n",
      "15411/15411 [==============================] - 84s 5ms/step - loss: 0.9494 - accuracy: 0.6813\n",
      "Epoch 21/30\n",
      "15411/15411 [==============================] - 86s 6ms/step - loss: 0.9377 - accuracy: 0.6818\n",
      "Epoch 22/30\n",
      " 2245/15411 [===>..........................] - ETA: 1:13 - loss: 0.8606 - accuracy: 0.7069"
     ]
    }
   ],
   "source": [
    "model_path = \"../models/keras_sequential_model\"\n",
    "if os.path.exists(model_path):\n",
    "    model = keras.models.load_model(model_path)\n",
    "\n",
    "else:\n",
    "    batch_size = 5\n",
    "    epochs = 10\n",
    "    learning_rate = 1e-2\n",
    "    epsilon = 1e-1\n",
    "\n",
    "    model = Sequential()\n",
    "    model.add(Conv2D(100, (3, 3), input_shape=x.shape[1:], activation='relu', strides=2))\n",
    "    model.add(MaxPooling2D(pool_size=(2, 2)))\n",
    "    model.add(Conv2D(64, (3, 3), activation='relu'))\n",
    "    model.add(MaxPooling2D(pool_size=(2, 2)))\n",
    "    model.add(Flatten())\n",
    "    model.add(Dense(50, activation='relu'))\n",
    "    model.add(Dropout(0.2))\n",
    "    model.add(Dense(20, activation='softmax'))\n",
    "\n",
    "    opt = keras.optimizers.Adam(learning_rate=learning_rate, epsilon=epsilon)\n",
    "    model.compile(optimizer=opt, loss='categorical_crossentropy', metrics=['accuracy'])\n",
    "    model.fit(x, y, epochs=epochs, batch_size=batch_size)\n",
    "    model.save(model_path)"
   ]
  },
  {
   "cell_type": "code",
   "execution_count": 1,
   "metadata": {
    "ExecuteTime": {
     "end_time": "2020-10-30T21:12:17.680118Z",
     "start_time": "2020-10-30T21:12:17.384Z"
    },
    "pycharm": {
     "name": "#%%\n"
    }
   },
   "outputs": [],
   "source": [
    "def get_faces(img):\n",
    "    detector = MTCNN()\n",
    "    image = plt.imread(os.path.join(IMAGES_DIR, img))\n",
    "    return detector.detect_faces(image)\n",
    "\n",
    "def face_bounds(face):\n",
    "    return face['box']"
   ]
  },
  {
   "cell_type": "code",
   "execution_count": null,
   "metadata": {
    "pycharm": {
     "name": "#%%\n"
    }
   },
   "outputs": [],
   "source": []
  },
  {
   "cell_type": "code",
   "execution_count": null,
   "metadata": {
    "ExecuteTime": {
     "end_time": "2020-10-30T21:12:17.681231Z",
     "start_time": "2020-10-30T21:12:17.385Z"
    },
    "pycharm": {
     "name": "#%%\n"
    }
   },
   "outputs": [],
   "source": []
  },
  {
   "cell_type": "code",
   "execution_count": null,
   "metadata": {
    "pycharm": {
     "name": "#%%\n"
    }
   },
   "outputs": [],
   "source": []
  }
 ],
 "metadata": {
  "kernelspec": {
   "display_name": "Python 3",
   "language": "python",
   "name": "python3"
  },
  "language_info": {
   "codemirror_mode": {
    "name": "ipython",
    "version": 3
   },
   "file_extension": ".py",
   "mimetype": "text/x-python",
   "name": "python",
   "nbconvert_exporter": "python",
   "pygments_lexer": "ipython3",
   "version": "3.6.10"
  },
  "latex_envs": {
   "LaTeX_envs_menu_present": true,
   "autoclose": false,
   "autocomplete": true,
   "bibliofile": "biblio.bib",
   "cite_by": "apalike",
   "current_citInitial": 1,
   "eqLabelWithNumbers": true,
   "eqNumInitial": 1,
   "hotkeys": {
    "equation": "Ctrl-E",
    "itemize": "Ctrl-I"
   },
   "labels_anchors": false,
   "latex_user_defs": false,
   "report_style_numbering": false,
   "user_envs_cfg": false
  },
  "varInspector": {
   "cols": {
    "lenName": 16,
    "lenType": 16,
    "lenVar": 40
   },
   "kernels_config": {
    "python": {
     "delete_cmd_postfix": "",
     "delete_cmd_prefix": "del ",
     "library": "var_list.py",
     "varRefreshCmd": "print(var_dic_list())"
    },
    "r": {
     "delete_cmd_postfix": ") ",
     "delete_cmd_prefix": "rm(",
     "library": "var_list.r",
     "varRefreshCmd": "cat(var_dic_list()) "
    }
   },
   "types_to_exclude": [
    "module",
    "function",
    "builtin_function_or_method",
    "instance",
    "_Feature"
   ],
   "window_display": false
  }
 },
 "nbformat": 4,
 "nbformat_minor": 1
}