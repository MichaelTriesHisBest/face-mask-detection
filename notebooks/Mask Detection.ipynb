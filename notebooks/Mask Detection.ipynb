{
 "cells": [
  {
   "cell_type": "code",
   "execution_count": 8,
   "metadata": {
    "ExecuteTime": {
     "end_time": "2020-11-14T01:04:21.552270Z",
     "start_time": "2020-11-14T01:04:16.453213Z"
    },
    "code_folding": []
   },
   "outputs": [],
   "source": [
    "# our nice list of imports is in here\n",
    "#i hate this, but the notebook won't recognize our custom modules w/o it\n",
    "import sys\n",
    "sys.path.append(\"..\")\n",
    "import lib\n",
    "from lib import utils\n",
    "\n",
    "import numpy as np\n",
    "import pandas as pd\n",
    "import os\n",
    "import urllib\n",
    "import random\n",
    "from shutil import copyfile\n",
    "import matplotlib.pyplot as plt\n",
    "import cv2\n",
    "import matplotlib.patches as patches\n",
    "\n",
    "import tensorflow as tf\n",
    "import keras\n",
    "from tensorflow.keras.applications import MobileNetV2\n",
    "from keras.utils import to_categorical\n",
    "from keras.layers import Flatten, Dense, Conv2D, MaxPooling2D, Dropout\n",
    "from keras.models import Sequential        # keras is only compatible with python 3.6 or lower\n",
    "from tensorflow.keras.preprocessing.image import ImageDataGenerator, array_to_img, img_to_array, load_img\n",
    "from tensorflow.keras.callbacks import TensorBoard, ModelCheckpoint\n",
    "from tensorflow.keras.models import load_model\n",
    "from tensorflow.keras.applications.mobilenet_v2 import preprocess_input\n",
    "from tensorflow.keras.layers import AveragePooling2D\n",
    "\n",
    "from tensorflow.keras import layers\n",
    "# from tensorflow.keras.layers.experimental import preprocessing\n",
    "\n",
    "\n",
    "from skimage import io, data\n",
    "from skimage.util import img_as_ubyte\n",
    "from skimage.transform import rescale\n",
    "\n",
    "import sklearn\n",
    "from sklearn.preprocessing import LabelEncoder\n",
    "\n",
    "from mtcnn.mtcnn import MTCNN\n",
    "\n",
    "from IPython.display import clear_output\n",
    "\n",
    "import seaborn as sns\n",
    "%matplotlib inline\n",
    "sns.set_style(\"darkgrid\")"
   ]
  },
  {
   "cell_type": "markdown",
   "metadata": {},
   "source": [
    "# Face Mask Detection\n",
    "\n",
    "\n",
    "### Brief Overview\n",
    "\n",
    "Simply put, our goal is to create a neural network that will (1) identify face masks or lack thereof on a human face, and (2) determine whether that facemask is correctly worn.\n",
    "\n",
    "\n",
    "Luckily for us, Kaggle had a contest earlier this year related to (1) -- so a dataset was readily available, and it has proven to be quite effective at training a mask/no-mask neural net with our testing images. (Kaggle)\n",
    "\n",
    "\n",
    "However, the dataset is extremely lacking when it comes to incorrect mask usage.  We did locate an additional dataset that consists only of faces with correctly worn masks and incorrectly worn masks. (CMFD/IMFD)\n",
    "\n",
    "### Data\n",
    "\n",
    "1. Training Data - We have training data from both datasets.  The images in each set have been pre-processed with relevant data written to CSV files to ease the process load.\n",
    "  + Kaggle Dataset -- \n",
    "2. Testing Data - Our testing data consists of \n",
    "\n",
    "\n",
    "### Models\n",
    "\n",
    "To that end, we need a few different models:\n",
    "1. One to predict whether there's a mask on a face or no mask\n",
    "  + For this, we will use the Kaggle Dataset, and focus on the two largest features available in it: whether there is a face mask or not.\n",
    "  + Potentially, we could add the data from the CMFD/IMFD dataset as representations of masks for the training set, since we'll be determining whether they're correct or incorrectly worn in the next stage.  The only concern there is a dataset that's very, very heavy on masks vs. no masks\n",
    "2. One to predict whether, given a mask is on a face, it is worn correctly\n",
    "  + For this, we will use the CMFD/IMFD dataset.  There are only two features to this dataset: correctly worn and incorrectly worn face masks.\n",
    "\n",
    "\n"
   ]
  },
  {
   "cell_type": "code",
   "execution_count": 5,
   "metadata": {
    "ExecuteTime": {
     "end_time": "2020-11-14T01:04:21.579948Z",
     "start_time": "2020-11-14T01:04:21.554245Z"
    }
   },
   "outputs": [],
   "source": [
    "# define directory paths for easier navigation\n",
    "NOTEBOOK_DIR = !pwd\n",
    "NOTEBOOK_DIR = NOTEBOOK_DIR[0]\n",
    "ROOT_DIR = os.path.abspath(os.path.join(NOTEBOOK_DIR, os.pardir))\n",
    "DATA_DIR = os.path.join(ROOT_DIR, 'data')\n",
    "IMAGES_DIR = os.path.join(DATA_DIR, 'images')\n",
    "IMG_DATA_DIR = os.path.join(DATA_DIR, 'img_data')\n",
    "KAGGLE_DIR = os.path.join(IMAGES_DIR, 'kaggle')\n",
    "HC_DATA_DIR = os.path.join(DATA_DIR, 'haar_cascades')\n",
    "\n",
    "# MNM_TRIAL_DIR = os.path.join(IMAGES_DIR, 'mnm_trial')\n",
    "# MNM_TRAINING = os.path.join(MNM_TRIAL_DIR, 'training')\n",
    "# MNM_TESTING = os.path.join(MNM_TRIAL_DIR, 'testing')\n",
    "\n",
    "PRAJNA_SRC_DIR = os.path.join(DATA_DIR, 'prajna-dataset')\n",
    "PMASK_SRC = os.path.join(PRAJNA_SRC_DIR, 'mask')\n",
    "PNOMASK_SRC = os.path.join(PRAJNA_SRC_DIR, 'nomask')\n",
    "\n",
    "PTRAINING_DIR = os.path.join(PRAJNA_SRC_DIR, 'dest/train')\n",
    "PTESTING_DIR = os.path.join(PRAJNA_SRC_DIR, 'dest/test')\n",
    "PVAL_DIR = os.path.join(PRAJNA_SRC_DIR, 'dest/val')\n",
    "\n",
    "PTRAINING_MASK = os.path.join(PRAJNA_SRC_DIR, 'dest/train/mask')\n",
    "PTESTING_MASK = os.path.join(PRAJNA_SRC_DIR, 'dest/test/mask')\n",
    "PVAL_MASK = os.path.join(PRAJNA_SRC_DIR, 'dest/val/mask')\n",
    "\n",
    "PTRAINING_NOMASK = os.path.join(PRAJNA_SRC_DIR, 'dest/train/nomask')\n",
    "PTESTING_NOMASK = os.path.join(PRAJNA_SRC_DIR, 'dest/test/nomask')\n",
    "PVAL_NOMASK = os.path.join(PRAJNA_SRC_DIR, 'dest/val/nomask')\n",
    "\n",
    "\n",
    "\n",
    "# MASK_SRC_DIR=os.path.join(MNM_TRIAL_DIR, 'mask')\n",
    "# TRAINING_MASK=os.path.join(MNM_TRAINING, 'mask')\n",
    "# TESTING_MASK=os.path.join(MNM_TESTING, 'mask')\n",
    "\n",
    "# NOMASK_SRC_DIR=os.path.join(MNM_TRIAL_DIR, 'nomask')\n",
    "# TRAINING_NOMASK=os.path.join(MNM_TRAINING, 'nomask')\n",
    "# TESTING_NOMASK=os.path.join(MNM_TESTING, 'nomask')\n",
    "\n",
    "KAGGLE_IMAGES_DIR = \"https://github.com/brtonnies/face-mask-detection/blob/data-branch/data/images\"\n",
    "# CMFD_IMAGES_DIR = \"https://github.com/brtonnies/face-mask-detection/blob/data-branch/data/images/CMFD/images\"\n",
    "# IMFD_IMAGES_DIR = \"https://github.com/brtonnies/face-mask-detection/blob/data-branch/data/images/IMFD/images\""
   ]
  },
  {
   "cell_type": "markdown",
   "metadata": {
    "pycharm": {
     "name": "#%%\n"
    }
   },
   "source": [
    "# Mask vs. No Mask (MNM)"
   ]
  },
  {
   "cell_type": "code",
   "execution_count": null,
   "metadata": {
    "ExecuteTime": {
     "end_time": "2020-11-12T20:23:06.319969Z",
     "start_time": "2020-11-12T20:23:06.317684Z"
    }
   },
   "outputs": [],
   "source": []
  },
  {
   "cell_type": "code",
   "execution_count": null,
   "metadata": {
    "ExecuteTime": {
     "end_time": "2020-11-12T20:23:06.660624Z",
     "start_time": "2020-11-12T20:23:06.658847Z"
    }
   },
   "outputs": [],
   "source": []
  },
  {
   "cell_type": "code",
   "execution_count": null,
   "metadata": {},
   "outputs": [],
   "source": []
  },
  {
   "cell_type": "markdown",
   "metadata": {},
   "source": [
    "## Model Preparations\n",
    "\n",
    "+ We keep pre-compiled versions of our different models on hand (again, to reduce process/load times)\n",
    "+ Unless the training data changes, we default to using those existing models"
   ]
  },
  {
   "cell_type": "markdown",
   "metadata": {
    "ExecuteTime": {
     "end_time": "2020-11-12T20:23:08.127649Z",
     "start_time": "2020-11-12T20:23:08.125432Z"
    }
   },
   "source": [
    "1. First model used ONLY Prajna Dataset (97% acc)\n",
    "2. Second model is training now, with additional 'no mask' images from Kaggle\n",
    "3. Third will have additional 'mask' images from kaggle\n",
    "\n",
    "**DON'T FORGET TO REVERT IMAGES TO BEST MODEL VERSION**"
   ]
  },
  {
   "cell_type": "code",
   "execution_count": null,
   "metadata": {
    "ExecuteTime": {
     "end_time": "2020-11-12T20:23:08.590623Z",
     "start_time": "2020-11-12T20:23:08.588383Z"
    }
   },
   "outputs": [],
   "source": []
  },
  {
   "cell_type": "code",
   "execution_count": null,
   "metadata": {
    "ExecuteTime": {
     "end_time": "2020-11-12T20:23:09.142895Z",
     "start_time": "2020-11-12T20:23:09.141052Z"
    }
   },
   "outputs": [],
   "source": []
  },
  {
   "cell_type": "code",
   "execution_count": 6,
   "metadata": {
    "ExecuteTime": {
     "end_time": "2020-11-14T01:04:22.103956Z",
     "start_time": "2020-11-14T01:04:21.582854Z"
    }
   },
   "outputs": [],
   "source": [
    "def split_data(src, train, test, split_size):\n",
    "    dataset = []\n",
    "    \n",
    "    for unitData in os.listdir(src):\n",
    "        data = os.path.join(src, unitData)\n",
    "        if(os.path.getsize(data) > 0 and os.path.isfile(data)):\n",
    "            dataset.append(unitData)\n",
    "        else:\n",
    "            print('Skipped ' + unitData)\n",
    "            print('Invalid file i.e zero size')\n",
    "    \n",
    "    train_set_length = int(len(dataset) * split_size)\n",
    "    test_set_length = int(len(dataset) - train_set_length)\n",
    "    shuffled_set = random.sample(dataset, len(dataset))\n",
    "    train_set = dataset[0:train_set_length]\n",
    "    test_set = dataset[-test_set_length:]\n",
    "       \n",
    "    for unitData in train_set:\n",
    "        temp_train_set = os.path.join(src, unitData)\n",
    "        final_train_set = os.path.join(train, unitData)\n",
    "        \n",
    "        copyfile(temp_train_set, final_train_set)\n",
    "    \n",
    "    for unitData in test_set:\n",
    "        temp_test_set = os.path.join(src, unitData)\n",
    "        final_test_set = os.path.join(test, unitData)\n",
    "        copyfile(temp_test_set, final_test_set)\n",
    "\n",
    "        \n",
    "split_size = 0.8\n",
    "split_data(PMASK_SRC, PTRAINING_MASK, PTESTING_MASK, split_size)\n",
    "split_data(PNOMASK_SRC, PTRAINING_NOMASK, PTESTING_NOMASK, split_size)\n"
   ]
  },
  {
   "cell_type": "code",
   "execution_count": null,
   "metadata": {
    "ExecuteTime": {
     "end_time": "2020-11-12T20:23:11.386097Z",
     "start_time": "2020-11-12T20:23:11.384123Z"
    }
   },
   "outputs": [],
   "source": []
  },
  {
   "cell_type": "code",
   "execution_count": null,
   "metadata": {
    "ExecuteTime": {
     "end_time": "2020-11-12T20:23:11.807979Z",
     "start_time": "2020-11-12T20:23:11.805661Z"
    }
   },
   "outputs": [],
   "source": []
  },
  {
   "cell_type": "markdown",
   "metadata": {
    "ExecuteTime": {
     "start_time": "2020-11-11T19:57:01.408Z"
    }
   },
   "source": [
    "## Keras Sequential Model\n",
    "\n",
    "#### Building the Model\n",
    "In this proposed method, the Face Mask detection model is built using the Sequential API of the keras library. This allows us to create the new layers for our model step by step. The various layers used for our CNN model is described below.\n",
    "\n",
    "1. The first layer is Conv2D with **100 kernels** of size $3\\times3$. \n",
    "  + The activation function is ‘ReLu’.  \n",
    "  + The input size is set to $150\\times 150 \\times 3$ for all the images to be trained and tested\n",
    "\n",
    "2. MaxPooling2D is used for the second layer with pool size of $2 \\times 2$.\n",
    "\n",
    "3. The next layer is another Conv2D layer \n",
    "  + Has its own 100 kernels of the same size: $3\\times3$ \n",
    "  + Activation function is ‘ReLu’. \n",
    "  + The layer is followed by another MaxPooling2D layer with pool size $2 \\times 2$.\n",
    "\n",
    "4. Then the Flatten() layer to flatten *all* the layers into a single dimension.\n",
    "\n",
    "5. **NEW:** After the Flatten layer, we added dropout (0.5) layer to prevent the model from overfitting -- which was killing us in early trials.\n",
    "\n",
    "6. Then we used the Dense layer \n",
    "  + 50 'units' \n",
    "  + Activation function: ‘ReLu’.\n",
    "\n",
    "7. The last layer of our model will be another Dense Layer, with only two units and activation function ‘Softmax’. The softmax function outputs a vector representing the probability distributions of each of the input units. Here, two input units are used. The softmax function will output a vector with two probability distribution values: is there a mask on this face or not?"
   ]
  },
  {
   "cell_type": "code",
   "execution_count": 11,
   "metadata": {
    "ExecuteTime": {
     "end_time": "2020-11-14T01:04:22.327145Z",
     "start_time": "2020-11-14T01:04:22.106331Z"
    }
   },
   "outputs": [],
   "source": [
    "from keras.models import Sequential\n",
    "from keras.layers import Conv2D, MaxPooling2D\n",
    "from keras.layers import Activation, Dropout, Flatten, Dense\n",
    "\n",
    "\n",
    "kernel_size = (3, 3)\n",
    "image_shape = (150, 150, 3)\n",
    "\n",
    "layer = tf.keras.layers.LeakyReLU(alpha=0.1)\n",
    "\n",
    "model = tf.keras.models.Sequential([\n",
    "    tf.keras.layers.Conv2D(100, kernel_size, activation= layer, input_shape=image_shape, strides=2),\n",
    "    tf.keras.layers.MaxPooling2D(2,2),\n",
    "    \n",
    "#     tf.keras.layers.Conv2D(32, (3,3), activation='tanh'),\n",
    "#     tf.keras.layers.MaxPooling2D(2,2),\n",
    "    \n",
    "    tf.keras.layers.Conv2D(100, kernel_size, activation= layer),\n",
    "    tf.keras.layers.MaxPooling2D(2,2),\n",
    "    \n",
    "    tf.keras.layers.Flatten(),\n",
    "    tf.keras.layers.Dropout(0.5),   # previously we were way overfitting, so we added dropout\n",
    "    tf.keras.layers.Dense(50, activation= layer),\n",
    "    tf.keras.layers.Dense(2, activation='softmax'),\n",
    "])\n",
    "\n",
    "opt = tf.keras.optimizers.Adam(learning_rate=3e-4, epsilon=1e-5)\n",
    "model.compile(optimizer=opt, loss='binary_crossentropy', metrics=['acc'])"
   ]
  },
  {
   "cell_type": "code",
   "execution_count": null,
   "metadata": {},
   "outputs": [],
   "source": []
  },
  {
   "cell_type": "code",
   "execution_count": 12,
   "metadata": {
    "ExecuteTime": {
     "end_time": "2020-11-14T01:04:22.555004Z",
     "start_time": "2020-11-14T01:04:22.329596Z"
    }
   },
   "outputs": [
    {
     "name": "stdout",
     "output_type": "stream",
     "text": [
      "Found 1102 images belonging to 2 classes.\n",
      "Found 278 images belonging to 2 classes.\n"
     ]
    }
   ],
   "source": [
    "train_datagen = ImageDataGenerator(rescale=1.0/255,\n",
    "                                   rotation_range=40,\n",
    "                                   width_shift_range=0.2,\n",
    "                                   height_shift_range=0.2,\n",
    "                                   shear_range=0.2,\n",
    "                                   zoom_range=0.2,\n",
    "                                   horizontal_flip=True,\n",
    "                                   fill_mode='nearest')\n",
    "\n",
    "train_generator = train_datagen.flow_from_directory(PTRAINING_DIR, \n",
    "                                                    batch_size=10, \n",
    "                                                    target_size=(150, 150))\n",
    "\n",
    "validation_datagen = ImageDataGenerator(rescale=1.0/255)\n",
    "\n",
    "validation_generator = validation_datagen.flow_from_directory(PTESTING_DIR, \n",
    "                                                              batch_size=10, \n",
    "                                                              target_size=(150, 150))\n",
    "\n",
    "# (1) train the all data extended model\n",
    "# (2) re-train prajna, prajna-kaggle-mask to save new checkpoints (and load them :D)\n",
    "# (3) also try and do one model where only new masks are added to the set\n",
    "\n",
    "model_path = '../models/mnm/prajna'\n",
    "checkpoint_path = '../models/mnm/prajna_softmax_leakyRELUalpha.01.checkpoint'\n",
    "\n",
    "# model_path = '../models/mnm/prajna-kaggle-nomask-extend'\n",
    "# checkpoint_path = '../models/mnm/prajna-kaggle-nomask-extend-{epoch:03d}.model'\n",
    "# model_path = '../models/mnm/prajna-kaggle-mask-extend'\n",
    "# checkpoint_path = '../models/mnm/prajna-kaggle-mask-extend-{epoch:03d}.model'\n",
    "# model_path = '../models/mnm/prajna-kaggle-all-extend'\n",
    "# checkpoint_path = '../models/mnm/prajna-kaggle-all-extend-{epoch:03d}.model'\n",
    "\n",
    "\n",
    "# NOTE: here's something cool - we can use checkpoints\n",
    "#       to save/load the weights from previous model training\n",
    "# if os.path.exists(checkpoint_path):\n",
    "#     model.load_weights(os.path.join(checkpoint_path, 'variables/variables'))\n",
    "    \n",
    "# alternatively, we can load the whole model from the checkpoint state\n",
    "# if os.path.exist(checkpoint_path):\n",
    "#     model = load_model(checkpoint_path_path)\n",
    "\n",
    "checkpoint = ModelCheckpoint(\n",
    "    checkpoint_path, \n",
    "    monitor = 'val_loss', \n",
    "    verbose = 1, \n",
    "    save_best_only = True,\n",
    "    mode = 'auto'\n",
    ")\n"
   ]
  },
  {
   "cell_type": "code",
   "execution_count": 13,
   "metadata": {
    "ExecuteTime": {
     "end_time": "2020-11-14T01:32:03.807421Z",
     "start_time": "2020-11-14T01:04:22.556791Z"
    }
   },
   "outputs": [
    {
     "name": "stdout",
     "output_type": "stream",
     "text": [
      "Epoch 1/30\n",
      "110/111 [============================>.] - ETA: 1s - loss: 0.5691 - acc: 0.7015\n",
      "Epoch 00001: val_loss improved from inf to 0.19818, saving model to ../models/mnm/prajna_softmax_leakyRELUalpha.01.checkpoint\n",
      "WARNING:tensorflow:From /Users/kellymcgaw/opt/anaconda3/envs/mm/lib/python3.6/site-packages/tensorflow_core/python/ops/resource_variable_ops.py:1781: calling BaseResourceVariable.__init__ (from tensorflow.python.ops.resource_variable_ops) with constraint is deprecated and will be removed in a future version.\n",
      "Instructions for updating:\n",
      "If using Keras pass *_constraint arguments to layers.\n",
      "INFO:tensorflow:Assets written to: ../models/mnm/prajna_softmax_leakyRELUalpha.01.checkpoint/assets\n",
      "111/111 [==============================] - 150s 1s/step - loss: 0.5699 - acc: 0.7015 - val_loss: 0.1982 - val_acc: 0.9424\n",
      "Epoch 2/30\n",
      "110/111 [============================>.] - ETA: 1s - loss: 0.3657 - acc: 0.8382\n",
      "Epoch 00002: val_loss improved from 0.19818 to 0.16373, saving model to ../models/mnm/prajna_softmax_leakyRELUalpha.01.checkpoint\n",
      "INFO:tensorflow:Assets written to: ../models/mnm/prajna_softmax_leakyRELUalpha.01.checkpoint/assets\n",
      "111/111 [==============================] - 162s 1s/step - loss: 0.3632 - acc: 0.8385 - val_loss: 0.1637 - val_acc: 0.9424\n",
      "Epoch 3/30\n",
      "110/111 [============================>.] - ETA: 1s - loss: 0.2855 - acc: 0.8810\n",
      "Epoch 00003: val_loss improved from 0.16373 to 0.10811, saving model to ../models/mnm/prajna_softmax_leakyRELUalpha.01.checkpoint\n",
      "INFO:tensorflow:Assets written to: ../models/mnm/prajna_softmax_leakyRELUalpha.01.checkpoint/assets\n",
      "111/111 [==============================] - 135s 1s/step - loss: 0.2837 - acc: 0.8820 - val_loss: 0.1081 - val_acc: 0.9568\n",
      "Epoch 4/30\n",
      "110/111 [============================>.] - ETA: 1s - loss: 0.2441 - acc: 0.9057\n",
      "Epoch 00004: val_loss improved from 0.10811 to 0.10305, saving model to ../models/mnm/prajna_softmax_leakyRELUalpha.01.checkpoint\n",
      "INFO:tensorflow:Assets written to: ../models/mnm/prajna_softmax_leakyRELUalpha.01.checkpoint/assets\n",
      "111/111 [==============================] - 125s 1s/step - loss: 0.2452 - acc: 0.9047 - val_loss: 0.1031 - val_acc: 0.9676\n",
      "Epoch 5/30\n",
      "110/111 [============================>.] - ETA: 1s - loss: 0.2341 - acc: 0.9139\n",
      "Epoch 00005: val_loss improved from 0.10305 to 0.08675, saving model to ../models/mnm/prajna_softmax_leakyRELUalpha.01.checkpoint\n",
      "INFO:tensorflow:Assets written to: ../models/mnm/prajna_softmax_leakyRELUalpha.01.checkpoint/assets\n",
      "111/111 [==============================] - 134s 1s/step - loss: 0.2340 - acc: 0.9129 - val_loss: 0.0867 - val_acc: 0.9604\n",
      "Epoch 6/30\n",
      "110/111 [============================>.] - ETA: 1s - loss: 0.1853 - acc: 0.9277\n",
      "Epoch 00006: val_loss improved from 0.08675 to 0.08057, saving model to ../models/mnm/prajna_softmax_leakyRELUalpha.01.checkpoint\n",
      "INFO:tensorflow:Assets written to: ../models/mnm/prajna_softmax_leakyRELUalpha.01.checkpoint/assets\n",
      "111/111 [==============================] - 136s 1s/step - loss: 0.1845 - acc: 0.9283 - val_loss: 0.0806 - val_acc: 0.9748\n",
      "Epoch 7/30\n",
      "110/111 [============================>.] - ETA: 1s - loss: 0.1899 - acc: 0.9286\n",
      "Epoch 00007: val_loss improved from 0.08057 to 0.06473, saving model to ../models/mnm/prajna_softmax_leakyRELUalpha.01.checkpoint\n",
      "INFO:tensorflow:Assets written to: ../models/mnm/prajna_softmax_leakyRELUalpha.01.checkpoint/assets\n",
      "111/111 [==============================] - 147s 1s/step - loss: 0.1894 - acc: 0.9292 - val_loss: 0.0647 - val_acc: 0.9784\n",
      "Epoch 8/30\n",
      "110/111 [============================>.] - ETA: 1s - loss: 0.1650 - acc: 0.9432\n",
      "Epoch 00008: val_loss did not improve from 0.06473\n",
      "111/111 [==============================] - 141s 1s/step - loss: 0.1643 - acc: 0.9437 - val_loss: 0.1017 - val_acc: 0.9568\n",
      "Epoch 9/30\n",
      "110/111 [============================>.] - ETA: 1s - loss: 0.1632 - acc: 0.9441\n",
      "Epoch 00009: val_loss did not improve from 0.06473\n",
      "111/111 [==============================] - 136s 1s/step - loss: 0.1621 - acc: 0.9446 - val_loss: 0.0718 - val_acc: 0.9820\n",
      "Epoch 10/30\n",
      "110/111 [============================>.] - ETA: 1s - loss: 0.1305 - acc: 0.9533\n",
      "Epoch 00010: val_loss improved from 0.06473 to 0.05614, saving model to ../models/mnm/prajna_softmax_leakyRELUalpha.01.checkpoint\n",
      "INFO:tensorflow:Assets written to: ../models/mnm/prajna_softmax_leakyRELUalpha.01.checkpoint/assets\n",
      "111/111 [==============================] - 152s 1s/step - loss: 0.1319 - acc: 0.9528 - val_loss: 0.0561 - val_acc: 0.9784\n",
      "Epoch 11/30\n",
      "110/111 [============================>.] - ETA: 1s - loss: 0.1618 - acc: 0.9451\n",
      "Epoch 00011: val_loss did not improve from 0.05614\n",
      "111/111 [==============================] - 156s 1s/step - loss: 0.1611 - acc: 0.9456 - val_loss: 0.0712 - val_acc: 0.9784\n",
      "Epoch 12/30\n",
      "110/111 [============================>.] - ETA: 1s - loss: 0.1422 - acc: 0.9515\n",
      "Epoch 00012: val_loss improved from 0.05614 to 0.05328, saving model to ../models/mnm/prajna_softmax_leakyRELUalpha.01.checkpoint\n",
      "INFO:tensorflow:Assets written to: ../models/mnm/prajna_softmax_leakyRELUalpha.01.checkpoint/assets\n",
      "111/111 [==============================] - 161s 1s/step - loss: 0.1428 - acc: 0.9510 - val_loss: 0.0533 - val_acc: 0.9892\n",
      "Epoch 13/30\n",
      "110/111 [============================>.] - ETA: 1s - loss: 0.2372 - acc: 0.9139\n",
      "Epoch 00013: val_loss did not improve from 0.05328\n",
      "111/111 [==============================] - 146s 1s/step - loss: 0.2368 - acc: 0.9138 - val_loss: 0.1046 - val_acc: 0.9820\n",
      "Epoch 14/30\n",
      "110/111 [============================>.] - ETA: 1s - loss: 0.1265 - acc: 0.9515\n",
      "Epoch 00014: val_loss did not improve from 0.05328\n",
      "111/111 [==============================] - 137s 1s/step - loss: 0.1269 - acc: 0.9510 - val_loss: 0.0619 - val_acc: 0.9820\n",
      "Epoch 15/30\n",
      "110/111 [============================>.] - ETA: 1s - loss: 0.1356 - acc: 0.9505\n",
      "Epoch 00015: val_loss did not improve from 0.05328\n",
      "111/111 [==============================] - 135s 1s/step - loss: 0.1374 - acc: 0.9501 - val_loss: 0.0707 - val_acc: 0.9748\n",
      "Epoch 16/30\n",
      "110/111 [============================>.] - ETA: 1s - loss: 0.1383 - acc: 0.9460\n",
      "Epoch 00016: val_loss did not improve from 0.05328\n",
      "111/111 [==============================] - 141s 1s/step - loss: 0.1371 - acc: 0.9465 - val_loss: 0.0817 - val_acc: 0.9712\n",
      "Epoch 17/30\n",
      "110/111 [============================>.] - ETA: 1s - loss: 0.1364 - acc: 0.9570\n",
      "Epoch 00017: val_loss did not improve from 0.05328\n",
      "111/111 [==============================] - 142s 1s/step - loss: 0.1361 - acc: 0.9564 - val_loss: 0.0697 - val_acc: 0.9820\n",
      "Epoch 18/30\n",
      "110/111 [============================>.] - ETA: 1s - loss: 0.0841 - acc: 0.9698\n",
      "Epoch 00018: val_loss improved from 0.05328 to 0.04651, saving model to ../models/mnm/prajna_softmax_leakyRELUalpha.01.checkpoint\n",
      "INFO:tensorflow:Assets written to: ../models/mnm/prajna_softmax_leakyRELUalpha.01.checkpoint/assets\n",
      "111/111 [==============================] - 147s 1s/step - loss: 0.0834 - acc: 0.9701 - val_loss: 0.0465 - val_acc: 0.9856\n",
      "Epoch 19/30\n",
      "110/111 [============================>.] - ETA: 1s - loss: 0.1192 - acc: 0.9643\n",
      "Epoch 00019: val_loss did not improve from 0.04651\n",
      "111/111 [==============================] - 128s 1s/step - loss: 0.1182 - acc: 0.9646 - val_loss: 0.0802 - val_acc: 0.9676\n",
      "Epoch 20/30\n",
      "110/111 [============================>.] - ETA: 1s - loss: 0.0886 - acc: 0.9615\n",
      "Epoch 00020: val_loss improved from 0.04651 to 0.04548, saving model to ../models/mnm/prajna_softmax_leakyRELUalpha.01.checkpoint\n",
      "INFO:tensorflow:Assets written to: ../models/mnm/prajna_softmax_leakyRELUalpha.01.checkpoint/assets\n",
      "111/111 [==============================] - 141s 1s/step - loss: 0.0883 - acc: 0.9619 - val_loss: 0.0455 - val_acc: 0.9856\n",
      "Epoch 21/30\n",
      "110/111 [============================>.] - ETA: 1s - loss: 0.1119 - acc: 0.9542\n",
      "Epoch 00021: val_loss improved from 0.04548 to 0.04526, saving model to ../models/mnm/prajna_softmax_leakyRELUalpha.01.checkpoint\n",
      "INFO:tensorflow:Assets written to: ../models/mnm/prajna_softmax_leakyRELUalpha.01.checkpoint/assets\n",
      "111/111 [==============================] - 138s 1s/step - loss: 0.1115 - acc: 0.9546 - val_loss: 0.0453 - val_acc: 0.9892\n",
      "Epoch 22/30\n",
      "110/111 [============================>.] - ETA: 1s - loss: 0.1279 - acc: 0.9570\n",
      "Epoch 00022: val_loss did not improve from 0.04526\n",
      "111/111 [==============================] - 147s 1s/step - loss: 0.1269 - acc: 0.9574 - val_loss: 0.0543 - val_acc: 0.9784\n"
     ]
    },
    {
     "name": "stdout",
     "output_type": "stream",
     "text": [
      "Epoch 23/30\n",
      "110/111 [============================>.] - ETA: 1s - loss: 0.0812 - acc: 0.9707\n",
      "Epoch 00023: val_loss improved from 0.04526 to 0.04504, saving model to ../models/mnm/prajna_softmax_leakyRELUalpha.01.checkpoint\n",
      "INFO:tensorflow:Assets written to: ../models/mnm/prajna_softmax_leakyRELUalpha.01.checkpoint/assets\n",
      "111/111 [==============================] - 144s 1s/step - loss: 0.0823 - acc: 0.9691 - val_loss: 0.0450 - val_acc: 0.9856\n",
      "Epoch 24/30\n",
      "110/111 [============================>.] - ETA: 1s - loss: 0.1018 - acc: 0.9679\n",
      "Epoch 00024: val_loss did not improve from 0.04504\n",
      "111/111 [==============================] - 135s 1s/step - loss: 0.1041 - acc: 0.9655 - val_loss: 0.0749 - val_acc: 0.9748\n",
      "Epoch 25/30\n",
      "110/111 [============================>.] - ETA: 1s - loss: 0.0919 - acc: 0.9634\n",
      "Epoch 00025: val_loss improved from 0.04504 to 0.04181, saving model to ../models/mnm/prajna_softmax_leakyRELUalpha.01.checkpoint\n",
      "INFO:tensorflow:Assets written to: ../models/mnm/prajna_softmax_leakyRELUalpha.01.checkpoint/assets\n",
      "111/111 [==============================] - 139s 1s/step - loss: 0.0912 - acc: 0.9637 - val_loss: 0.0418 - val_acc: 0.9856\n",
      "Epoch 26/30\n",
      "110/111 [============================>.] - ETA: 1s - loss: 0.1130 - acc: 0.9606\n",
      "Epoch 00026: val_loss improved from 0.04181 to 0.02880, saving model to ../models/mnm/prajna_softmax_leakyRELUalpha.01.checkpoint\n",
      "INFO:tensorflow:Assets written to: ../models/mnm/prajna_softmax_leakyRELUalpha.01.checkpoint/assets\n",
      "111/111 [==============================] - 142s 1s/step - loss: 0.1125 - acc: 0.9610 - val_loss: 0.0288 - val_acc: 0.9928\n",
      "Epoch 27/30\n",
      "110/111 [============================>.] - ETA: 2s - loss: 0.0980 - acc: 0.9643\n",
      "Epoch 00027: val_loss did not improve from 0.02880\n",
      "111/111 [==============================] - 255s 2s/step - loss: 0.0972 - acc: 0.9646 - val_loss: 0.0741 - val_acc: 0.9784\n",
      "Epoch 28/30\n",
      "110/111 [============================>.] - ETA: 1s - loss: 0.0914 - acc: 0.9679\n",
      "Epoch 00028: val_loss improved from 0.02880 to 0.02493, saving model to ../models/mnm/prajna_softmax_leakyRELUalpha.01.checkpoint\n",
      "INFO:tensorflow:Assets written to: ../models/mnm/prajna_softmax_leakyRELUalpha.01.checkpoint/assets\n",
      "111/111 [==============================] - 136s 1s/step - loss: 0.0926 - acc: 0.9673 - val_loss: 0.0249 - val_acc: 0.9964\n",
      "Epoch 29/30\n",
      "110/111 [============================>.] - ETA: 1s - loss: 0.0924 - acc: 0.9652\n",
      "Epoch 00029: val_loss did not improve from 0.02493\n",
      "111/111 [==============================] - 145s 1s/step - loss: 0.0924 - acc: 0.9655 - val_loss: 0.0455 - val_acc: 0.9892\n",
      "Epoch 30/30\n",
      "110/111 [============================>.] - ETA: 1s - loss: 0.0780 - acc: 0.9771\n",
      "Epoch 00030: val_loss improved from 0.02493 to 0.02408, saving model to ../models/mnm/prajna_softmax_leakyRELUalpha.01.checkpoint\n",
      "INFO:tensorflow:Assets written to: ../models/mnm/prajna_softmax_leakyRELUalpha.01.checkpoint/assets\n",
      "111/111 [==============================] - 145s 1s/step - loss: 0.0775 - acc: 0.9773 - val_loss: 0.0241 - val_acc: 0.9892\n"
     ]
    },
    {
     "data": {
      "image/png": "[encoded data removed]",
      "text/plain": [
       "<Figure size 1296x576 with 2 Axes>"
      ]
     },
     "metadata": {},
     "output_type": "display_data"
    }
   ],
   "source": [
    "history = model.fit_generator(train_generator,\n",
    "                              epochs=30,\n",
    "                              validation_data=validation_generator,\n",
    "                              callbacks=[checkpoint])\n",
    "def plot_accuracy_loss(history):\n",
    "    \"\"\"\n",
    "        Plot the accuracy and the loss during the training of the nn.\n",
    "    \"\"\"\n",
    "    fig = plt.figure(figsize=(18,8))\n",
    "\n",
    "    # Plot accuracy\n",
    "    plt.subplot(221)\n",
    "    plt.plot(history.history['acc'],'bo--', label = \"acc\")\n",
    "    plt.plot(history.history['val_acc'], 'ro--', label = \"val_acc\")\n",
    "    plt.title(\"train_acc vs val_acc\")\n",
    "    plt.ylabel(\"accuracy\")\n",
    "    plt.xlabel(\"epochs\")\n",
    "    plt.legend()\n",
    "\n",
    "    # Plot loss function\n",
    "    plt.subplot(222)\n",
    "    plt.plot(history.history['loss'],'bo--', label = \"loss\")\n",
    "    plt.plot(history.history['val_loss'], 'ro--', label = \"val_loss\")\n",
    "    plt.title(\"train_loss vs val_loss\")\n",
    "    plt.ylabel(\"loss\")\n",
    "    plt.xlabel(\"epochs\")\n",
    "\n",
    "    plt.legend()\n",
    "    plt.show()\n",
    "    \n",
    "plot_accuracy_loss(history)"
   ]
  },
  {
   "cell_type": "markdown",
   "metadata": {},
   "source": [
    "# How Did We Do?\n",
    "\n",
    "To answer that, we have to answer a few other questions:\n",
    "1. What do the training/validation results look like?\n",
    "2. How well does our model predict a completely different dataset?\n",
    "  + For this, we'll use the training set from Kaggle so we can also check our accuracy\n",
    "3. How well does our model predict in a different setting?\n",
    "  + We'll use a live WebCam feed or video file and have our model predict in real time (or close to it -- framerate is spotty)"
   ]
  },
  {
   "cell_type": "markdown",
   "metadata": {},
   "source": [
    "## Predicting Another Dataset"
   ]
  },
  {
   "cell_type": "code",
   "execution_count": null,
   "metadata": {
    "ExecuteTime": {
     "end_time": "2020-11-14T03:52:48.085910Z",
     "start_time": "2020-11-14T03:52:48.019611Z"
    }
   },
   "outputs": [],
   "source": [
    "# let's see how well it predicts on another dataset\n",
    "df = pd.read_csv(os.path.join(IMG_DATA_DIR, 'kaggle_training.csv'), index_col=0)\n",
    "\n",
    "# the kaggle dataset actually had errors in its labeling -- on purpose\n",
    "df.rename(columns={'x1': 'x', 'x2': 'y', 'y1': 'w', 'y2': 'h'}, inplace=True)\n",
    "df.drop(['bbox'], axis=1, inplace=True)\n",
    "\n",
    "df['mask'] = np.where(df['classname'].isin(\n",
    "    ['face_with_mask', 'mask_surgical', 'mask_colorful']),\n",
    "    1, 0\n",
    ")\n",
    "                      \n",
    "test_images = list(df['name'].unique())\n",
    "df"
   ]
  },
  {
   "cell_type": "code",
   "execution_count": null,
   "metadata": {
    "ExecuteTime": {
     "end_time": "2020-11-14T17:22:06.654284Z",
     "start_time": "2020-11-14T17:22:04.564105Z"
    }
   },
   "outputs": [],
   "source": [
    "labels_dict={ 0:'No Mask', 1:'Mask' }\n",
    "color_dict={ 0: (0,0,255), 1: (0,255,0) }\n",
    "\n",
    "name = test_images[0]\n",
    "\n",
    "# fetch the image from the remote repository\n",
    "url = os.path.join(KAGGLE_IMAGES_DIR, \"{}?raw=true\".format(name))\n",
    "resp = urllib.request.urlopen(url)\n",
    "image = np.asarray(bytearray(resp.read()), dtype=\"uint8\")\n",
    "image = cv2.imdecode(image, cv2.IMREAD_GRAYSCALE)\n",
    "\n",
    "\n",
    "# image = cv2.cvtColor(img, cv2.COLOR_BGR2GRAY)\n",
    "\n",
    "#     print(image[0, 0])\n",
    "\n",
    "# locate the image within the dataframe so we can find bounding boxes\n",
    "# NOTE: bounding boxes were pre-detected in this dataset and stored in the dataframe CSV\n",
    "to_test = df[df['name'] == name]\n",
    "#     print(to_test)\n",
    "\n",
    "\n",
    "# print([i for i in list(faces) if len(i) > 4])\n",
    "for i in range(len(to_test)):\n",
    "    im = df.iloc[i]\n",
    "#     print(im['x'])\n",
    "\n",
    "    face_region = image[im['y']:im['y']+im['h'], im['x']:im['x']+im['w']]\n",
    "#     face_region = np.asarray(face_region)\n",
    "    resized = cv2.resize(face_region, (450, 450))\n",
    "    normalized = resized/255.0\n",
    "    reshaped = np.reshape(normalized, (-1, 150, 150, 3))\n",
    "    reshaped = np.vstack([reshaped])\n",
    "    pred = model.predict(reshaped)\n",
    "    print(pred)\n",
    "        \n",
    "plt.imshow(image, cmap='gray')"
   ]
  },
  {
   "cell_type": "code",
   "execution_count": null,
   "metadata": {
    "ExecuteTime": {
     "end_time": "2020-11-14T03:31:08.060942Z",
     "start_time": "2020-11-14T03:31:07.983804Z"
    }
   },
   "outputs": [],
   "source": [
    "cv2_image = img_as_ubyte(image[:, ::-1])\n",
    "gray = cv2.cvtColor(cv2_image, cv2.IMREAD_GRAYSCALE)\n",
    "plt.imshow(gray)\n",
    "\n",
    "a = [69, 126, 294, 392]\n",
    "x, y, w, h = a\n",
    "len(a)\n"
   ]
  },
  {
   "cell_type": "code",
   "execution_count": null,
   "metadata": {},
   "outputs": [],
   "source": [
    "len(to_test)"
   ]
  },
  {
   "cell_type": "code",
   "execution_count": 12,
   "metadata": {
    "ExecuteTime": {
     "end_time": "2020-11-14T03:23:11.287659Z",
     "start_time": "2020-11-14T03:22:34.014202Z"
    }
   },
   "outputs": [
    {
     "ename": "NameError",
     "evalue": "name 'test_images' is not defined",
     "output_type": "error",
     "traceback": [
      "\u001b[0;31m---------------------------------------------------------------------------\u001b[0m",
      "\u001b[0;31mNameError\u001b[0m                                 Traceback (most recent call last)",
      "\u001b[0;32m<ipython-input-12-e998150e2d37>\u001b[0m in \u001b[0;36m<module>\u001b[0;34m\u001b[0m\n\u001b[1;32m      3\u001b[0m \u001b[0;34m\u001b[0m\u001b[0m\n\u001b[1;32m      4\u001b[0m \u001b[0;31m# name = test_images[0]\u001b[0m\u001b[0;34m\u001b[0m\u001b[0;34m\u001b[0m\u001b[0;34m\u001b[0m\u001b[0m\n\u001b[0;32m----> 5\u001b[0;31m \u001b[0mtotal\u001b[0m \u001b[0;34m=\u001b[0m \u001b[0mlen\u001b[0m\u001b[0;34m(\u001b[0m\u001b[0mtest_images\u001b[0m\u001b[0;34m)\u001b[0m\u001b[0;34m\u001b[0m\u001b[0;34m\u001b[0m\u001b[0m\n\u001b[0m\u001b[1;32m      6\u001b[0m \u001b[0mcounter\u001b[0m \u001b[0;34m=\u001b[0m \u001b[0;36m1\u001b[0m\u001b[0;34m\u001b[0m\u001b[0;34m\u001b[0m\u001b[0m\n\u001b[1;32m      7\u001b[0m \u001b[0;34m\u001b[0m\u001b[0m\n",
      "\u001b[0;31mNameError\u001b[0m: name 'test_images' is not defined"
     ]
    }
   ],
   "source": [
    "labels_dict={ 0:'No Mask', 1:'Mask' }\n",
    "color_dict={ 0: 'magenta', 1: 'cyan' }\n",
    "\n",
    "# name = test_images[0]\n",
    "total = len(test_images)\n",
    "counter = 1\n",
    "\n",
    "for name in test_images:\n",
    "\n",
    "    # fetch the image from the remote repository\n",
    "    url = os.path.join(KAGGLE_IMAGES_DIR, \"{}?raw=true\".format(name))\n",
    "    resp = urllib.request.urlopen(url)\n",
    "    image = np.asarray(bytearray(resp.read()), dtype=\"uint8\")\n",
    "    image = cv2.imdecode(image, cv2.IMREAD_GRAYSCALE)\n",
    "\n",
    "\n",
    "    # locate the image within the dataframe so we can find bounding boxes\n",
    "    # NOTE: bounding boxes were pre-detected in this dataset and stored in the dataframe CSV\n",
    "    to_test = df[df['name'] == name]\n",
    "    #     print(to_test)\n",
    "\n",
    "\n",
    "#     fig, ax = plt.subplots(1)\n",
    "#     ax.imshow(image, cmap='gray')\n",
    "\n",
    "    preds = list()\n",
    "    # print([i for i in list(faces) if len(i) > 4])\n",
    "    for i in range(len(to_test)):\n",
    "        im = df.iloc[i]\n",
    "\n",
    "        face_region = image[im['y']:im['y']+im['h'], im['x']:im['x']+im['w']]\n",
    "        # print(face_region.size)\n",
    "        if face_region != [] and face_region.size > 0:\n",
    "            resized = cv2.resize(face_region, (450, 450))\n",
    "            normalized = resized/255.0\n",
    "            reshaped = np.reshape(normalized, (-1, 150, 150, 3))\n",
    "            reshaped = np.vstack([reshaped])\n",
    "            pred = model.predict(reshaped)\n",
    "            preds.append(pred)\n",
    "\n",
    "            label = np.argmax(pred, axis=1)[0]\n",
    "            df.loc[i, 'pred'] = int(label)\n",
    "            \n",
    "        print(\"Analyzing {}/{}\".format(counter, total))\n",
    "        counter += 1\n",
    "\n",
    "#         box = (im['x'], im['y'], im['w'], im['h'])\n",
    "#         rect = patches.Rectangle(\n",
    "#             (box[0], box[1]), \n",
    "#             box[2]-box[0], \n",
    "#             box[3]-box[1],\n",
    "#             linewidth=2,\n",
    "#             edgecolor=color_dict[label],\n",
    "#             facecolor='none'\n",
    "#         )\n",
    "#         ax.add_patch(rect)\n",
    "#         ax.label = \"Detecting Face Masks\""
   ]
  },
  {
   "cell_type": "markdown",
   "metadata": {},
   "source": [
    "## Using Our Model With Video Feed\n",
    "\n",
    "+ We have two available facial detection algorithms: \n",
    "  1. Haar Cascade - faster detection, but only tuned for full, frontal views of faces.\n",
    "  2. MTCNN - slower detection, but returns extra features and can detect faces from a variety of angles -- not only the front.\n"
   ]
  },
  {
   "cell_type": "code",
   "execution_count": null,
   "metadata": {
    "ExecuteTime": {
     "end_time": "2020-11-14T03:07:01.970708Z",
     "start_time": "2020-11-14T03:07:01.429120Z"
    }
   },
   "outputs": [],
   "source": [
    "# use haar cascade to detect faces (frontal)\n",
    "HC_FRONTAL_FACE = os.path.join(HC_DATA_DIR, \n",
    "                               'haarcascade_frontalface_default.xml')\n",
    "classifier = cv2.CascadeClassifier(HC_FRONTAL_FACE)\n",
    "\n",
    "\n",
    "# use MTCNN to detect faces\n",
    "classifier = MTCNN()\n",
    "\n",
    "\n",
    "labels_dict={ 0:'No Mask', 1:'Mask' }\n",
    "color_dict={ 0: (0,0,255), 1: (0,255,0) }\n",
    "\n",
    "size = 4\n",
    "\n",
    "# open webcam feed\n",
    "# cap = cv2.VideoCapture(0)\n",
    "\n",
    "# alternatively, open feed from a file\n",
    "cap = cv2.VideoCapture(0)\n",
    "\n",
    "# EVEN from a mobile device (UNTESTED)\n",
    "# cap = cv.VideoCapture(1)\n",
    "\n",
    "while cap.isOpened():\n",
    "    ret, frame = cap.read()\n",
    "    if frame is not None:\n",
    "        # frame = cv2.flip(frame, 1, 1) # flip so view looks more natural live (?)\n",
    "        \n",
    "\n",
    "        # detection is a little faster on smaller images -- so let's make it small\n",
    "        small = cv2.resize(frame, (frame.shape[1] // size, frame.shape[0] // size))\n",
    "\n",
    "#         detect faces with haar cascades\n",
    "#         faces = classifier.detectMultiScale(small)\n",
    "        \n",
    "        # detect faces with MTCNN\n",
    "        faces = classifier.detect_faces(small)\n",
    "\n",
    "        for f in faces:\n",
    "            # reverse the scale-down of the frame for bounding box (haar)\n",
    "#             (x, y, w, h) = [v * size for v in f] \n",
    "            keypoints = None\n",
    "            \n",
    "            # reverse the scale-down of the frame for bounding box (MTCNN)\n",
    "            (x, y, w, h) = [v * size for v in f['box']]\n",
    "            # print(f['keypoints'])\n",
    "            keypoints = f['keypoints']\n",
    "                \n",
    "        \n",
    "            face = frame[y:y+h, x:x+w]\n",
    "            resized = cv2.resize(face, (150,150))\n",
    "            normalized = resized/255.0\n",
    "            reshaped = np.reshape(normalized,(1,150,150,3))\n",
    "            reshaped = np.vstack([reshaped])\n",
    "            result = model.predict(reshaped)\n",
    "#             print(result)\n",
    "\n",
    "            label = np.argmax(result, axis=1)[0]\n",
    "#             print(\"PREDICTION: {}\".format(labels_dict[label]))\n",
    "            cv2.rectangle(frame, (x,y), (x+w,y+h), color_dict[label], 2)\n",
    "            cv2.rectangle(frame, (x,y-40), (x+w,y), color_dict[label], -1)\n",
    "            cv2.putText(\n",
    "                frame, \n",
    "                labels_dict[label], \n",
    "                (x, y-10), \n",
    "                cv2.FONT_HERSHEY_SIMPLEX,\n",
    "                0.8,\n",
    "                (255,255,255),\n",
    "                2\n",
    "            )\n",
    "            \n",
    "            # extra fun when using MTCNN :)\n",
    "            if keypoints is not None:\n",
    "                cv2.circle(\n",
    "                    frame, \n",
    "                    (tuple([k * size for k in keypoints['left_eye']])), \n",
    "                    2, (255,0,255), 2\n",
    "                )\n",
    "                cv2.circle(\n",
    "                    frame, \n",
    "                    (tuple([k * size for k in keypoints['right_eye']])), \n",
    "                    2, (255,0,255), 2\n",
    "                )\n",
    "                cv2.circle(\n",
    "                    frame, \n",
    "                    (tuple([k * size for k in keypoints['nose']])), \n",
    "                    2, (255,0,255), 2\n",
    "                )\n",
    "                cv2.circle(\n",
    "                    frame, \n",
    "                    (tuple([k * size for k in keypoints['mouth_left']])), \n",
    "                    2, (255,0,255), 2\n",
    "                )\n",
    "                cv2.circle(\n",
    "                    frame, \n",
    "                    (tuple([k * size for k in keypoints['mouth_right']])), \n",
    "                    2, (255,0,255), 2)\n",
    "            # end of extra fun with MTCNN\n",
    "\n",
    "        cv2.imshow('LIVE DETECTION ACTIVE', frame)\n",
    "        key = cv2.waitKey(10)\n",
    "\n",
    "        if key == 27: # if Esc key pressed -- end feed\n",
    "            break\n",
    "            \n",
    "    else:\n",
    "        break\n",
    "        \n",
    "# stop video\n",
    "cap.release()\n",
    "\n",
    "# close windows\n",
    "cv2.destroyAllWindows()"
   ]
  },
  {
   "cell_type": "code",
   "execution_count": 9,
   "metadata": {
    "ExecuteTime": {
     "end_time": "2020-11-14T01:32:50.497371Z",
     "start_time": "2020-11-14T01:04:16.530Z"
    }
   },
   "outputs": [],
   "source": [
    "cap.release()\n",
    "cv2.destroyAllWindows()"
   ]
  },
  {
   "cell_type": "code",
   "execution_count": null,
   "metadata": {},
   "outputs": [],
   "source": []
  }
 ],
 "metadata": {
  "kernelspec": {
   "display_name": "Python 3",
   "language": "python",
   "name": "python3"
  },
  "language_info": {
   "codemirror_mode": {
    "name": "ipython",
    "version": 3
   },
   "file_extension": ".py",
   "mimetype": "text/x-python",
   "name": "python",
   "nbconvert_exporter": "python",
   "pygments_lexer": "ipython3",
   "version": "3.6.10"
  },
  "latex_envs": {
   "LaTeX_envs_menu_present": true,
   "autoclose": false,
   "autocomplete": true,
   "bibliofile": "biblio.bib",
   "cite_by": "apalike",
   "current_citInitial": 1,
   "eqLabelWithNumbers": true,
   "eqNumInitial": 1,
   "hotkeys": {
    "equation": "Ctrl-E",
    "itemize": "Ctrl-I"
   },
   "labels_anchors": false,
   "latex_user_defs": false,
   "report_style_numbering": false,
   "user_envs_cfg": false
  },
  "varInspector": {
   "cols": {
    "lenName": 16,
    "lenType": 16,
    "lenVar": 40
   },
   "kernels_config": {
    "python": {
     "delete_cmd_postfix": "",
     "delete_cmd_prefix": "del ",
     "library": "var_list.py",
     "varRefreshCmd": "print(var_dic_list())"
    },
    "r": {
     "delete_cmd_postfix": ") ",
     "delete_cmd_prefix": "rm(",
     "library": "var_list.r",
     "varRefreshCmd": "cat(var_dic_list()) "
    }
   },
   "types_to_exclude": [
    "module",
    "function",
    "builtin_function_or_method",
    "instance",
    "_Feature"
   ],
   "window_display": false
  }
 },
 "nbformat": 4,
 "nbformat_minor": 4
}
